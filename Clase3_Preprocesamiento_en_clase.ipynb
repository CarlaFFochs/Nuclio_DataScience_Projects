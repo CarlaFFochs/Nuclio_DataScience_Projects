{
  "nbformat": 4,
  "nbformat_minor": 0,
  "metadata": {
    "language_info": {
      "codemirror_mode": {
        "name": "ipython",
        "version": 3
      },
      "file_extension": ".py",
      "mimetype": "text/x-python",
      "name": "python",
      "nbconvert_exporter": "python",
      "pygments_lexer": "ipython3",
      "version": "3.8.5-final"
    },
    "orig_nbformat": 2,
    "kernelspec": {
      "name": "python3",
      "display_name": "Python 3.8.5 64-bit ('anaconda3': virtualenv)",
      "metadata": {
        "interpreter": {
          "hash": "15ad3da4b4c61c3c846aae53763500b4377007d3fd583d900e0660560d786cf6"
        }
      }
    },
    "colab": {
      "name": "Clase3_Preprocesamiento_en_clase.ipynb",
      "provenance": [],
      "collapsed_sections": [],
      "include_colab_link": true
    }
  },
  "cells": [
    {
      "cell_type": "markdown",
      "metadata": {
        "id": "view-in-github",
        "colab_type": "text"
      },
      "source": [
        "<a href=\"https://colab.research.google.com/github/CarlaFFochs/Nuclio_DataScience_Projects/blob/main/Clase3_Preprocesamiento_en_clase.ipynb\" target=\"_parent\"><img src=\"https://colab.research.google.com/assets/colab-badge.svg\" alt=\"Open In Colab\"/></a>"
      ]
    },
    {
      "cell_type": "markdown",
      "metadata": {
        "id": "7scStA4iV0mo"
      },
      "source": [
        "## MASTER DATA SCIENCE: NUCLIO\n",
        "## CLASE 3: EDA + Visualización + Preprocesamiento"
      ]
    },
    {
      "cell_type": "code",
      "metadata": {
        "id": "QAPS-4FwV0mt",
        "colab": {
          "base_uri": "https://localhost:8080/",
          "height": 54
        },
        "outputId": "f761a36f-4013-4b0a-a9aa-c93532e96c2b"
      },
      "source": [
        "'''\n",
        "En este ejercicio vamos a analizar el dataset de un seguro médico, este dataset contiene características de una persona y el precio que se le aplica\n",
        "\n",
        "Vamos a realizar lo siguiente:\n",
        "\n",
        "EDA: Explorar los datos\n",
        "Data Cleaning: Limpiar los datos en blanco, así como detectar outliers y errores lógicos de información\n",
        "Visualization\n",
        "Pre-processing\n",
        "¡Vamos a ello!\n",
        "'''"
      ],
      "execution_count": 80,
      "outputs": [
        {
          "output_type": "execute_result",
          "data": {
            "text/plain": [
              "'\\nEn este ejercicio vamos a analizar el dataset de un seguro médico, este dataset contiene características de una persona y el precio que se le aplica\\n\\nVamos a realizar lo siguiente:\\n\\nEDA: Explorar los datos\\nData Cleaning: Limpiar los datos en blanco, así como detectar outliers y errores lógicos de información\\nVisualization\\nPre-processing\\n¡Vamos a ello!\\n'"
            ],
            "application/vnd.google.colaboratory.intrinsic+json": {
              "type": "string"
            }
          },
          "metadata": {},
          "execution_count": 80
        }
      ]
    },
    {
      "cell_type": "code",
      "metadata": {
        "id": "yh-TrnOYWJXx",
        "colab": {
          "base_uri": "https://localhost:8080/"
        },
        "outputId": "629fedc0-ea6a-4851-8cbd-6c3c50cdf5c0"
      },
      "source": [
        "from google.colab import drive\n",
        "drive.mount('/content/drive')"
      ],
      "execution_count": 81,
      "outputs": [
        {
          "output_type": "stream",
          "name": "stdout",
          "text": [
            "Drive already mounted at /content/drive; to attempt to forcibly remount, call drive.mount(\"/content/drive\", force_remount=True).\n"
          ]
        }
      ]
    },
    {
      "cell_type": "code",
      "metadata": {
        "id": "a7-whRJXV0mu"
      },
      "source": [
        "#importamos librería\n",
        "import pandas as pd \n",
        "import numpy as np\n",
        "import matplotlib.pyplot as plt\n",
        "import seaborn as sns\n",
        "import math\n",
        "from sklearn.preprocessing import LabelEncoder,MinMaxScaler"
      ],
      "execution_count": 82,
      "outputs": []
    },
    {
      "cell_type": "code",
      "metadata": {
        "id": "QXVCHg6VV0mv",
        "colab": {
          "base_uri": "https://localhost:8080/",
          "height": 36
        },
        "outputId": "bc2b822b-71ea-4a32-9415-5d5813d775ec"
      },
      "source": [
        "'''1. ESTRUCTURA DE DATOS '''"
      ],
      "execution_count": 83,
      "outputs": [
        {
          "output_type": "execute_result",
          "data": {
            "text/plain": [
              "'1. ESTRUCTURA DE DATOS '"
            ],
            "application/vnd.google.colaboratory.intrinsic+json": {
              "type": "string"
            }
          },
          "metadata": {},
          "execution_count": 83
        }
      ]
    },
    {
      "cell_type": "code",
      "metadata": {
        "id": "U79fI3j6V0mv"
      },
      "source": [
        "df_seguro= pd.read_csv(\"/content/drive/MyDrive/MASTER DATA SCIENCE/M3 - PREPROCESAMIENTO/Clase 3 - Preprocesamiento/Datasets/dataset_seguros_sin_nulos.csv\", sep=\";\")"
      ],
      "execution_count": 84,
      "outputs": []
    },
    {
      "cell_type": "code",
      "metadata": {
        "id": "m0fKpvN5V0mv",
        "colab": {
          "base_uri": "https://localhost:8080/"
        },
        "outputId": "2dd62947-7501-4268-9f42-66b0f3abb8dc"
      },
      "source": [
        "df_seguro.info()"
      ],
      "execution_count": 85,
      "outputs": [
        {
          "output_type": "stream",
          "name": "stdout",
          "text": [
            "<class 'pandas.core.frame.DataFrame'>\n",
            "RangeIndex: 1338 entries, 0 to 1337\n",
            "Data columns (total 9 columns):\n",
            " #   Column       Non-Null Count  Dtype  \n",
            "---  ------       --------------  -----  \n",
            " 0   EDAD         1338 non-null   int64  \n",
            " 1   SEXO         1338 non-null   object \n",
            " 2   IMC          1338 non-null   float64\n",
            " 3   PESO         1338 non-null   int64  \n",
            " 4   HIJOS        1338 non-null   int64  \n",
            " 5   TIENE_HIJOS  1338 non-null   int64  \n",
            " 6   FUMADOR      1338 non-null   object \n",
            " 7   CIUDAD       1338 non-null   object \n",
            " 8   PRECIO       1338 non-null   int64  \n",
            "dtypes: float64(1), int64(5), object(3)\n",
            "memory usage: 94.2+ KB\n"
          ]
        }
      ]
    },
    {
      "cell_type": "code",
      "metadata": {
        "colab": {
          "base_uri": "https://localhost:8080/",
          "height": 206
        },
        "id": "jj6rtJqsFb94",
        "outputId": "455155d7-6e0b-4e4b-bf36-72edb4437a6c"
      },
      "source": [
        "df_seguro.head() #tiene_hijos es un booleano"
      ],
      "execution_count": 86,
      "outputs": [
        {
          "output_type": "execute_result",
          "data": {
            "text/plain": [
              "   EDAD       SEXO     IMC  PESO  HIJOS  TIENE_HIJOS FUMADOR     CIUDAD  \\\n",
              "0    37  MASCULINO  29.830    80      2            1      NO  BARCELONA   \n",
              "1    25  MASCULINO  26.220    71      0            0      NO  BARCELONA   \n",
              "2    52   FEMENINO  30.780    83      1            1      NO  BARCELONA   \n",
              "3    23  MASCULINO  23.845    64      0            0      NO  BARCELONA   \n",
              "4    60   FEMENINO  36.005    97      0            0      NO  BARCELONA   \n",
              "\n",
              "   PRECIO  \n",
              "0     534  \n",
              "1     227  \n",
              "2     900  \n",
              "3     200  \n",
              "4    1102  "
            ],
            "text/html": [
              "\n",
              "  <div id=\"df-5000be34-33a6-4d3a-b54e-240364c5a0fe\">\n",
              "    <div class=\"colab-df-container\">\n",
              "      <div>\n",
              "<style scoped>\n",
              "    .dataframe tbody tr th:only-of-type {\n",
              "        vertical-align: middle;\n",
              "    }\n",
              "\n",
              "    .dataframe tbody tr th {\n",
              "        vertical-align: top;\n",
              "    }\n",
              "\n",
              "    .dataframe thead th {\n",
              "        text-align: right;\n",
              "    }\n",
              "</style>\n",
              "<table border=\"1\" class=\"dataframe\">\n",
              "  <thead>\n",
              "    <tr style=\"text-align: right;\">\n",
              "      <th></th>\n",
              "      <th>EDAD</th>\n",
              "      <th>SEXO</th>\n",
              "      <th>IMC</th>\n",
              "      <th>PESO</th>\n",
              "      <th>HIJOS</th>\n",
              "      <th>TIENE_HIJOS</th>\n",
              "      <th>FUMADOR</th>\n",
              "      <th>CIUDAD</th>\n",
              "      <th>PRECIO</th>\n",
              "    </tr>\n",
              "  </thead>\n",
              "  <tbody>\n",
              "    <tr>\n",
              "      <th>0</th>\n",
              "      <td>37</td>\n",
              "      <td>MASCULINO</td>\n",
              "      <td>29.830</td>\n",
              "      <td>80</td>\n",
              "      <td>2</td>\n",
              "      <td>1</td>\n",
              "      <td>NO</td>\n",
              "      <td>BARCELONA</td>\n",
              "      <td>534</td>\n",
              "    </tr>\n",
              "    <tr>\n",
              "      <th>1</th>\n",
              "      <td>25</td>\n",
              "      <td>MASCULINO</td>\n",
              "      <td>26.220</td>\n",
              "      <td>71</td>\n",
              "      <td>0</td>\n",
              "      <td>0</td>\n",
              "      <td>NO</td>\n",
              "      <td>BARCELONA</td>\n",
              "      <td>227</td>\n",
              "    </tr>\n",
              "    <tr>\n",
              "      <th>2</th>\n",
              "      <td>52</td>\n",
              "      <td>FEMENINO</td>\n",
              "      <td>30.780</td>\n",
              "      <td>83</td>\n",
              "      <td>1</td>\n",
              "      <td>1</td>\n",
              "      <td>NO</td>\n",
              "      <td>BARCELONA</td>\n",
              "      <td>900</td>\n",
              "    </tr>\n",
              "    <tr>\n",
              "      <th>3</th>\n",
              "      <td>23</td>\n",
              "      <td>MASCULINO</td>\n",
              "      <td>23.845</td>\n",
              "      <td>64</td>\n",
              "      <td>0</td>\n",
              "      <td>0</td>\n",
              "      <td>NO</td>\n",
              "      <td>BARCELONA</td>\n",
              "      <td>200</td>\n",
              "    </tr>\n",
              "    <tr>\n",
              "      <th>4</th>\n",
              "      <td>60</td>\n",
              "      <td>FEMENINO</td>\n",
              "      <td>36.005</td>\n",
              "      <td>97</td>\n",
              "      <td>0</td>\n",
              "      <td>0</td>\n",
              "      <td>NO</td>\n",
              "      <td>BARCELONA</td>\n",
              "      <td>1102</td>\n",
              "    </tr>\n",
              "  </tbody>\n",
              "</table>\n",
              "</div>\n",
              "      <button class=\"colab-df-convert\" onclick=\"convertToInteractive('df-5000be34-33a6-4d3a-b54e-240364c5a0fe')\"\n",
              "              title=\"Convert this dataframe to an interactive table.\"\n",
              "              style=\"display:none;\">\n",
              "        \n",
              "  <svg xmlns=\"http://www.w3.org/2000/svg\" height=\"24px\"viewBox=\"0 0 24 24\"\n",
              "       width=\"24px\">\n",
              "    <path d=\"M0 0h24v24H0V0z\" fill=\"none\"/>\n",
              "    <path d=\"M18.56 5.44l.94 2.06.94-2.06 2.06-.94-2.06-.94-.94-2.06-.94 2.06-2.06.94zm-11 1L8.5 8.5l.94-2.06 2.06-.94-2.06-.94L8.5 2.5l-.94 2.06-2.06.94zm10 10l.94 2.06.94-2.06 2.06-.94-2.06-.94-.94-2.06-.94 2.06-2.06.94z\"/><path d=\"M17.41 7.96l-1.37-1.37c-.4-.4-.92-.59-1.43-.59-.52 0-1.04.2-1.43.59L10.3 9.45l-7.72 7.72c-.78.78-.78 2.05 0 2.83L4 21.41c.39.39.9.59 1.41.59.51 0 1.02-.2 1.41-.59l7.78-7.78 2.81-2.81c.8-.78.8-2.07 0-2.86zM5.41 20L4 18.59l7.72-7.72 1.47 1.35L5.41 20z\"/>\n",
              "  </svg>\n",
              "      </button>\n",
              "      \n",
              "  <style>\n",
              "    .colab-df-container {\n",
              "      display:flex;\n",
              "      flex-wrap:wrap;\n",
              "      gap: 12px;\n",
              "    }\n",
              "\n",
              "    .colab-df-convert {\n",
              "      background-color: #E8F0FE;\n",
              "      border: none;\n",
              "      border-radius: 50%;\n",
              "      cursor: pointer;\n",
              "      display: none;\n",
              "      fill: #1967D2;\n",
              "      height: 32px;\n",
              "      padding: 0 0 0 0;\n",
              "      width: 32px;\n",
              "    }\n",
              "\n",
              "    .colab-df-convert:hover {\n",
              "      background-color: #E2EBFA;\n",
              "      box-shadow: 0px 1px 2px rgba(60, 64, 67, 0.3), 0px 1px 3px 1px rgba(60, 64, 67, 0.15);\n",
              "      fill: #174EA6;\n",
              "    }\n",
              "\n",
              "    [theme=dark] .colab-df-convert {\n",
              "      background-color: #3B4455;\n",
              "      fill: #D2E3FC;\n",
              "    }\n",
              "\n",
              "    [theme=dark] .colab-df-convert:hover {\n",
              "      background-color: #434B5C;\n",
              "      box-shadow: 0px 1px 3px 1px rgba(0, 0, 0, 0.15);\n",
              "      filter: drop-shadow(0px 1px 2px rgba(0, 0, 0, 0.3));\n",
              "      fill: #FFFFFF;\n",
              "    }\n",
              "  </style>\n",
              "\n",
              "      <script>\n",
              "        const buttonEl =\n",
              "          document.querySelector('#df-5000be34-33a6-4d3a-b54e-240364c5a0fe button.colab-df-convert');\n",
              "        buttonEl.style.display =\n",
              "          google.colab.kernel.accessAllowed ? 'block' : 'none';\n",
              "\n",
              "        async function convertToInteractive(key) {\n",
              "          const element = document.querySelector('#df-5000be34-33a6-4d3a-b54e-240364c5a0fe');\n",
              "          const dataTable =\n",
              "            await google.colab.kernel.invokeFunction('convertToInteractive',\n",
              "                                                     [key], {});\n",
              "          if (!dataTable) return;\n",
              "\n",
              "          const docLinkHtml = 'Like what you see? Visit the ' +\n",
              "            '<a target=\"_blank\" href=https://colab.research.google.com/notebooks/data_table.ipynb>data table notebook</a>'\n",
              "            + ' to learn more about interactive tables.';\n",
              "          element.innerHTML = '';\n",
              "          dataTable['output_type'] = 'display_data';\n",
              "          await google.colab.output.renderOutput(dataTable, element);\n",
              "          const docLink = document.createElement('div');\n",
              "          docLink.innerHTML = docLinkHtml;\n",
              "          element.appendChild(docLink);\n",
              "        }\n",
              "      </script>\n",
              "    </div>\n",
              "  </div>\n",
              "  "
            ]
          },
          "metadata": {},
          "execution_count": 86
        }
      ]
    },
    {
      "cell_type": "code",
      "metadata": {
        "colab": {
          "base_uri": "https://localhost:8080/",
          "height": 300
        },
        "id": "EqAh-zw1Fb5o",
        "outputId": "bf43666d-9dd3-48ac-82e1-ef4f2e73fef0"
      },
      "source": [
        "df_seguro.describe()"
      ],
      "execution_count": 87,
      "outputs": [
        {
          "output_type": "execute_result",
          "data": {
            "text/plain": [
              "              EDAD          IMC         PESO        HIJOS  TIENE_HIJOS  \\\n",
              "count  1338.000000  1338.000000  1338.000000  1338.000000  1338.000000   \n",
              "mean     39.207025    30.667231    82.444694     1.091928     0.568759   \n",
              "std      14.049960     6.095439    16.389299     1.206345     0.495435   \n",
              "min      18.000000    15.960000    43.000000     0.000000     0.000000   \n",
              "25%      27.000000    26.315000    71.000000     0.000000     0.000000   \n",
              "50%      39.000000    30.400000    82.000000     1.000000     1.000000   \n",
              "75%      51.000000    34.693750    93.000000     2.000000     1.000000   \n",
              "max      64.000000    53.130000   143.000000     5.000000     1.000000   \n",
              "\n",
              "            PRECIO  \n",
              "count  1338.000000  \n",
              "mean   1105.854260  \n",
              "std    1009.161649  \n",
              "min      93.000000  \n",
              "25%     395.250000  \n",
              "50%     781.500000  \n",
              "75%    1386.500000  \n",
              "max    5314.000000  "
            ],
            "text/html": [
              "\n",
              "  <div id=\"df-a844b669-0984-42db-bf1e-0372ebd57fe6\">\n",
              "    <div class=\"colab-df-container\">\n",
              "      <div>\n",
              "<style scoped>\n",
              "    .dataframe tbody tr th:only-of-type {\n",
              "        vertical-align: middle;\n",
              "    }\n",
              "\n",
              "    .dataframe tbody tr th {\n",
              "        vertical-align: top;\n",
              "    }\n",
              "\n",
              "    .dataframe thead th {\n",
              "        text-align: right;\n",
              "    }\n",
              "</style>\n",
              "<table border=\"1\" class=\"dataframe\">\n",
              "  <thead>\n",
              "    <tr style=\"text-align: right;\">\n",
              "      <th></th>\n",
              "      <th>EDAD</th>\n",
              "      <th>IMC</th>\n",
              "      <th>PESO</th>\n",
              "      <th>HIJOS</th>\n",
              "      <th>TIENE_HIJOS</th>\n",
              "      <th>PRECIO</th>\n",
              "    </tr>\n",
              "  </thead>\n",
              "  <tbody>\n",
              "    <tr>\n",
              "      <th>count</th>\n",
              "      <td>1338.000000</td>\n",
              "      <td>1338.000000</td>\n",
              "      <td>1338.000000</td>\n",
              "      <td>1338.000000</td>\n",
              "      <td>1338.000000</td>\n",
              "      <td>1338.000000</td>\n",
              "    </tr>\n",
              "    <tr>\n",
              "      <th>mean</th>\n",
              "      <td>39.207025</td>\n",
              "      <td>30.667231</td>\n",
              "      <td>82.444694</td>\n",
              "      <td>1.091928</td>\n",
              "      <td>0.568759</td>\n",
              "      <td>1105.854260</td>\n",
              "    </tr>\n",
              "    <tr>\n",
              "      <th>std</th>\n",
              "      <td>14.049960</td>\n",
              "      <td>6.095439</td>\n",
              "      <td>16.389299</td>\n",
              "      <td>1.206345</td>\n",
              "      <td>0.495435</td>\n",
              "      <td>1009.161649</td>\n",
              "    </tr>\n",
              "    <tr>\n",
              "      <th>min</th>\n",
              "      <td>18.000000</td>\n",
              "      <td>15.960000</td>\n",
              "      <td>43.000000</td>\n",
              "      <td>0.000000</td>\n",
              "      <td>0.000000</td>\n",
              "      <td>93.000000</td>\n",
              "    </tr>\n",
              "    <tr>\n",
              "      <th>25%</th>\n",
              "      <td>27.000000</td>\n",
              "      <td>26.315000</td>\n",
              "      <td>71.000000</td>\n",
              "      <td>0.000000</td>\n",
              "      <td>0.000000</td>\n",
              "      <td>395.250000</td>\n",
              "    </tr>\n",
              "    <tr>\n",
              "      <th>50%</th>\n",
              "      <td>39.000000</td>\n",
              "      <td>30.400000</td>\n",
              "      <td>82.000000</td>\n",
              "      <td>1.000000</td>\n",
              "      <td>1.000000</td>\n",
              "      <td>781.500000</td>\n",
              "    </tr>\n",
              "    <tr>\n",
              "      <th>75%</th>\n",
              "      <td>51.000000</td>\n",
              "      <td>34.693750</td>\n",
              "      <td>93.000000</td>\n",
              "      <td>2.000000</td>\n",
              "      <td>1.000000</td>\n",
              "      <td>1386.500000</td>\n",
              "    </tr>\n",
              "    <tr>\n",
              "      <th>max</th>\n",
              "      <td>64.000000</td>\n",
              "      <td>53.130000</td>\n",
              "      <td>143.000000</td>\n",
              "      <td>5.000000</td>\n",
              "      <td>1.000000</td>\n",
              "      <td>5314.000000</td>\n",
              "    </tr>\n",
              "  </tbody>\n",
              "</table>\n",
              "</div>\n",
              "      <button class=\"colab-df-convert\" onclick=\"convertToInteractive('df-a844b669-0984-42db-bf1e-0372ebd57fe6')\"\n",
              "              title=\"Convert this dataframe to an interactive table.\"\n",
              "              style=\"display:none;\">\n",
              "        \n",
              "  <svg xmlns=\"http://www.w3.org/2000/svg\" height=\"24px\"viewBox=\"0 0 24 24\"\n",
              "       width=\"24px\">\n",
              "    <path d=\"M0 0h24v24H0V0z\" fill=\"none\"/>\n",
              "    <path d=\"M18.56 5.44l.94 2.06.94-2.06 2.06-.94-2.06-.94-.94-2.06-.94 2.06-2.06.94zm-11 1L8.5 8.5l.94-2.06 2.06-.94-2.06-.94L8.5 2.5l-.94 2.06-2.06.94zm10 10l.94 2.06.94-2.06 2.06-.94-2.06-.94-.94-2.06-.94 2.06-2.06.94z\"/><path d=\"M17.41 7.96l-1.37-1.37c-.4-.4-.92-.59-1.43-.59-.52 0-1.04.2-1.43.59L10.3 9.45l-7.72 7.72c-.78.78-.78 2.05 0 2.83L4 21.41c.39.39.9.59 1.41.59.51 0 1.02-.2 1.41-.59l7.78-7.78 2.81-2.81c.8-.78.8-2.07 0-2.86zM5.41 20L4 18.59l7.72-7.72 1.47 1.35L5.41 20z\"/>\n",
              "  </svg>\n",
              "      </button>\n",
              "      \n",
              "  <style>\n",
              "    .colab-df-container {\n",
              "      display:flex;\n",
              "      flex-wrap:wrap;\n",
              "      gap: 12px;\n",
              "    }\n",
              "\n",
              "    .colab-df-convert {\n",
              "      background-color: #E8F0FE;\n",
              "      border: none;\n",
              "      border-radius: 50%;\n",
              "      cursor: pointer;\n",
              "      display: none;\n",
              "      fill: #1967D2;\n",
              "      height: 32px;\n",
              "      padding: 0 0 0 0;\n",
              "      width: 32px;\n",
              "    }\n",
              "\n",
              "    .colab-df-convert:hover {\n",
              "      background-color: #E2EBFA;\n",
              "      box-shadow: 0px 1px 2px rgba(60, 64, 67, 0.3), 0px 1px 3px 1px rgba(60, 64, 67, 0.15);\n",
              "      fill: #174EA6;\n",
              "    }\n",
              "\n",
              "    [theme=dark] .colab-df-convert {\n",
              "      background-color: #3B4455;\n",
              "      fill: #D2E3FC;\n",
              "    }\n",
              "\n",
              "    [theme=dark] .colab-df-convert:hover {\n",
              "      background-color: #434B5C;\n",
              "      box-shadow: 0px 1px 3px 1px rgba(0, 0, 0, 0.15);\n",
              "      filter: drop-shadow(0px 1px 2px rgba(0, 0, 0, 0.3));\n",
              "      fill: #FFFFFF;\n",
              "    }\n",
              "  </style>\n",
              "\n",
              "      <script>\n",
              "        const buttonEl =\n",
              "          document.querySelector('#df-a844b669-0984-42db-bf1e-0372ebd57fe6 button.colab-df-convert');\n",
              "        buttonEl.style.display =\n",
              "          google.colab.kernel.accessAllowed ? 'block' : 'none';\n",
              "\n",
              "        async function convertToInteractive(key) {\n",
              "          const element = document.querySelector('#df-a844b669-0984-42db-bf1e-0372ebd57fe6');\n",
              "          const dataTable =\n",
              "            await google.colab.kernel.invokeFunction('convertToInteractive',\n",
              "                                                     [key], {});\n",
              "          if (!dataTable) return;\n",
              "\n",
              "          const docLinkHtml = 'Like what you see? Visit the ' +\n",
              "            '<a target=\"_blank\" href=https://colab.research.google.com/notebooks/data_table.ipynb>data table notebook</a>'\n",
              "            + ' to learn more about interactive tables.';\n",
              "          element.innerHTML = '';\n",
              "          dataTable['output_type'] = 'display_data';\n",
              "          await google.colab.output.renderOutput(dataTable, element);\n",
              "          const docLink = document.createElement('div');\n",
              "          docLink.innerHTML = docLinkHtml;\n",
              "          element.appendChild(docLink);\n",
              "        }\n",
              "      </script>\n",
              "    </div>\n",
              "  </div>\n",
              "  "
            ]
          },
          "metadata": {},
          "execution_count": 87
        }
      ]
    },
    {
      "cell_type": "code",
      "metadata": {
        "id": "lbhN8aW_V0mw",
        "colab": {
          "base_uri": "https://localhost:8080/",
          "height": 36
        },
        "outputId": "3b8330c0-00e5-45a0-9b8d-ede9b4df9e28"
      },
      "source": [
        "'''2. DETECCION DE NULOS'''"
      ],
      "execution_count": 88,
      "outputs": [
        {
          "output_type": "execute_result",
          "data": {
            "text/plain": [
              "'2. DETECCION DE NULOS'"
            ],
            "application/vnd.google.colaboratory.intrinsic+json": {
              "type": "string"
            }
          },
          "metadata": {},
          "execution_count": 88
        }
      ]
    },
    {
      "cell_type": "code",
      "metadata": {
        "id": "NrHYcdl6V0mw",
        "colab": {
          "base_uri": "https://localhost:8080/"
        },
        "outputId": "20c90f29-0fd6-451b-9148-68af4465fbed"
      },
      "source": [
        "df_seguro.isnull().sum()"
      ],
      "execution_count": 89,
      "outputs": [
        {
          "output_type": "execute_result",
          "data": {
            "text/plain": [
              "EDAD           0\n",
              "SEXO           0\n",
              "IMC            0\n",
              "PESO           0\n",
              "HIJOS          0\n",
              "TIENE_HIJOS    0\n",
              "FUMADOR        0\n",
              "CIUDAD         0\n",
              "PRECIO         0\n",
              "dtype: int64"
            ]
          },
          "metadata": {},
          "execution_count": 89
        }
      ]
    },
    {
      "cell_type": "code",
      "metadata": {
        "id": "9omCJyNZV0mx",
        "colab": {
          "base_uri": "https://localhost:8080/",
          "height": 36
        },
        "outputId": "10c0cd5a-bda0-4a4d-e031-61fc5c51a6c0"
      },
      "source": [
        "'''3. VERIFICAMOS FILAS REPETIDAS'''"
      ],
      "execution_count": 90,
      "outputs": [
        {
          "output_type": "execute_result",
          "data": {
            "text/plain": [
              "'3. VERIFICAMOS FILAS REPETIDAS'"
            ],
            "application/vnd.google.colaboratory.intrinsic+json": {
              "type": "string"
            }
          },
          "metadata": {},
          "execution_count": 90
        }
      ]
    },
    {
      "cell_type": "code",
      "metadata": {
        "id": "YiSjl45OV0mx",
        "colab": {
          "base_uri": "https://localhost:8080/",
          "height": 112
        },
        "outputId": "13cd65dd-5188-483b-b9b6-53815e57238f"
      },
      "source": [
        "df_seguro[df_seguro.duplicated(keep=False)]"
      ],
      "execution_count": 91,
      "outputs": [
        {
          "output_type": "execute_result",
          "data": {
            "text/plain": [
              "     EDAD       SEXO    IMC  PESO  HIJOS  TIENE_HIJOS FUMADOR   CIUDAD  PRECIO\n",
              "378    19  MASCULINO  30.59    82      0            0      NO  SEVILLA     137\n",
              "459    19  MASCULINO  30.59    82      0            0      NO  SEVILLA     137"
            ],
            "text/html": [
              "\n",
              "  <div id=\"df-a05176b6-3eec-4342-b484-011fd04c0fa5\">\n",
              "    <div class=\"colab-df-container\">\n",
              "      <div>\n",
              "<style scoped>\n",
              "    .dataframe tbody tr th:only-of-type {\n",
              "        vertical-align: middle;\n",
              "    }\n",
              "\n",
              "    .dataframe tbody tr th {\n",
              "        vertical-align: top;\n",
              "    }\n",
              "\n",
              "    .dataframe thead th {\n",
              "        text-align: right;\n",
              "    }\n",
              "</style>\n",
              "<table border=\"1\" class=\"dataframe\">\n",
              "  <thead>\n",
              "    <tr style=\"text-align: right;\">\n",
              "      <th></th>\n",
              "      <th>EDAD</th>\n",
              "      <th>SEXO</th>\n",
              "      <th>IMC</th>\n",
              "      <th>PESO</th>\n",
              "      <th>HIJOS</th>\n",
              "      <th>TIENE_HIJOS</th>\n",
              "      <th>FUMADOR</th>\n",
              "      <th>CIUDAD</th>\n",
              "      <th>PRECIO</th>\n",
              "    </tr>\n",
              "  </thead>\n",
              "  <tbody>\n",
              "    <tr>\n",
              "      <th>378</th>\n",
              "      <td>19</td>\n",
              "      <td>MASCULINO</td>\n",
              "      <td>30.59</td>\n",
              "      <td>82</td>\n",
              "      <td>0</td>\n",
              "      <td>0</td>\n",
              "      <td>NO</td>\n",
              "      <td>SEVILLA</td>\n",
              "      <td>137</td>\n",
              "    </tr>\n",
              "    <tr>\n",
              "      <th>459</th>\n",
              "      <td>19</td>\n",
              "      <td>MASCULINO</td>\n",
              "      <td>30.59</td>\n",
              "      <td>82</td>\n",
              "      <td>0</td>\n",
              "      <td>0</td>\n",
              "      <td>NO</td>\n",
              "      <td>SEVILLA</td>\n",
              "      <td>137</td>\n",
              "    </tr>\n",
              "  </tbody>\n",
              "</table>\n",
              "</div>\n",
              "      <button class=\"colab-df-convert\" onclick=\"convertToInteractive('df-a05176b6-3eec-4342-b484-011fd04c0fa5')\"\n",
              "              title=\"Convert this dataframe to an interactive table.\"\n",
              "              style=\"display:none;\">\n",
              "        \n",
              "  <svg xmlns=\"http://www.w3.org/2000/svg\" height=\"24px\"viewBox=\"0 0 24 24\"\n",
              "       width=\"24px\">\n",
              "    <path d=\"M0 0h24v24H0V0z\" fill=\"none\"/>\n",
              "    <path d=\"M18.56 5.44l.94 2.06.94-2.06 2.06-.94-2.06-.94-.94-2.06-.94 2.06-2.06.94zm-11 1L8.5 8.5l.94-2.06 2.06-.94-2.06-.94L8.5 2.5l-.94 2.06-2.06.94zm10 10l.94 2.06.94-2.06 2.06-.94-2.06-.94-.94-2.06-.94 2.06-2.06.94z\"/><path d=\"M17.41 7.96l-1.37-1.37c-.4-.4-.92-.59-1.43-.59-.52 0-1.04.2-1.43.59L10.3 9.45l-7.72 7.72c-.78.78-.78 2.05 0 2.83L4 21.41c.39.39.9.59 1.41.59.51 0 1.02-.2 1.41-.59l7.78-7.78 2.81-2.81c.8-.78.8-2.07 0-2.86zM5.41 20L4 18.59l7.72-7.72 1.47 1.35L5.41 20z\"/>\n",
              "  </svg>\n",
              "      </button>\n",
              "      \n",
              "  <style>\n",
              "    .colab-df-container {\n",
              "      display:flex;\n",
              "      flex-wrap:wrap;\n",
              "      gap: 12px;\n",
              "    }\n",
              "\n",
              "    .colab-df-convert {\n",
              "      background-color: #E8F0FE;\n",
              "      border: none;\n",
              "      border-radius: 50%;\n",
              "      cursor: pointer;\n",
              "      display: none;\n",
              "      fill: #1967D2;\n",
              "      height: 32px;\n",
              "      padding: 0 0 0 0;\n",
              "      width: 32px;\n",
              "    }\n",
              "\n",
              "    .colab-df-convert:hover {\n",
              "      background-color: #E2EBFA;\n",
              "      box-shadow: 0px 1px 2px rgba(60, 64, 67, 0.3), 0px 1px 3px 1px rgba(60, 64, 67, 0.15);\n",
              "      fill: #174EA6;\n",
              "    }\n",
              "\n",
              "    [theme=dark] .colab-df-convert {\n",
              "      background-color: #3B4455;\n",
              "      fill: #D2E3FC;\n",
              "    }\n",
              "\n",
              "    [theme=dark] .colab-df-convert:hover {\n",
              "      background-color: #434B5C;\n",
              "      box-shadow: 0px 1px 3px 1px rgba(0, 0, 0, 0.15);\n",
              "      filter: drop-shadow(0px 1px 2px rgba(0, 0, 0, 0.3));\n",
              "      fill: #FFFFFF;\n",
              "    }\n",
              "  </style>\n",
              "\n",
              "      <script>\n",
              "        const buttonEl =\n",
              "          document.querySelector('#df-a05176b6-3eec-4342-b484-011fd04c0fa5 button.colab-df-convert');\n",
              "        buttonEl.style.display =\n",
              "          google.colab.kernel.accessAllowed ? 'block' : 'none';\n",
              "\n",
              "        async function convertToInteractive(key) {\n",
              "          const element = document.querySelector('#df-a05176b6-3eec-4342-b484-011fd04c0fa5');\n",
              "          const dataTable =\n",
              "            await google.colab.kernel.invokeFunction('convertToInteractive',\n",
              "                                                     [key], {});\n",
              "          if (!dataTable) return;\n",
              "\n",
              "          const docLinkHtml = 'Like what you see? Visit the ' +\n",
              "            '<a target=\"_blank\" href=https://colab.research.google.com/notebooks/data_table.ipynb>data table notebook</a>'\n",
              "            + ' to learn more about interactive tables.';\n",
              "          element.innerHTML = '';\n",
              "          dataTable['output_type'] = 'display_data';\n",
              "          await google.colab.output.renderOutput(dataTable, element);\n",
              "          const docLink = document.createElement('div');\n",
              "          docLink.innerHTML = docLinkHtml;\n",
              "          element.appendChild(docLink);\n",
              "        }\n",
              "      </script>\n",
              "    </div>\n",
              "  </div>\n",
              "  "
            ]
          },
          "metadata": {},
          "execution_count": 91
        }
      ]
    },
    {
      "cell_type": "code",
      "metadata": {
        "id": "iNEbPBh8V0mx"
      },
      "source": [
        "df_seguro_sin_duplicados= df_seguro.drop_duplicates().copy()"
      ],
      "execution_count": 92,
      "outputs": []
    },
    {
      "cell_type": "code",
      "metadata": {
        "id": "tGU7yPuBIhA8"
      },
      "source": [
        "df_seguro_sin_duplicados.reset_index(drop=True, inplace=True)"
      ],
      "execution_count": 93,
      "outputs": []
    },
    {
      "cell_type": "code",
      "metadata": {
        "id": "9tLvFQDdIgvS"
      },
      "source": [
        ""
      ],
      "execution_count": 93,
      "outputs": []
    },
    {
      "cell_type": "code",
      "metadata": {
        "id": "_uGlzfdWV0mx",
        "colab": {
          "base_uri": "https://localhost:8080/",
          "height": 36
        },
        "outputId": "b9e6ca18-5be3-4dc2-8a36-8e228a0da121"
      },
      "source": [
        "'''4. ANALISIS UNIVARIABLE'''"
      ],
      "execution_count": 94,
      "outputs": [
        {
          "output_type": "execute_result",
          "data": {
            "text/plain": [
              "'4. ANALISIS UNIVARIABLE'"
            ],
            "application/vnd.google.colaboratory.intrinsic+json": {
              "type": "string"
            }
          },
          "metadata": {},
          "execution_count": 94
        }
      ]
    },
    {
      "cell_type": "code",
      "metadata": {
        "id": "XrRYwUnLV0my",
        "colab": {
          "base_uri": "https://localhost:8080/"
        },
        "outputId": "8d4fc31e-312f-466e-d27c-7dd578b091bb"
      },
      "source": [
        "for i in df_seguro_sin_duplicados.columns:\n",
        "  print(\"\\n\", i, df_seguro_sin_duplicados[i].value_counts(), \"\\n\")"
      ],
      "execution_count": 95,
      "outputs": [
        {
          "output_type": "stream",
          "name": "stdout",
          "text": [
            "\n",
            " EDAD 18    69\n",
            "19    67\n",
            "45    29\n",
            "52    29\n",
            "51    29\n",
            "47    29\n",
            "48    29\n",
            "20    29\n",
            "46    29\n",
            "50    29\n",
            "27    28\n",
            "25    28\n",
            "26    28\n",
            "53    28\n",
            "49    28\n",
            "22    28\n",
            "54    28\n",
            "23    28\n",
            "21    28\n",
            "24    28\n",
            "28    28\n",
            "43    27\n",
            "44    27\n",
            "31    27\n",
            "42    27\n",
            "40    27\n",
            "30    27\n",
            "41    27\n",
            "29    27\n",
            "55    26\n",
            "33    26\n",
            "57    26\n",
            "32    26\n",
            "56    26\n",
            "34    26\n",
            "36    25\n",
            "59    25\n",
            "58    25\n",
            "38    25\n",
            "35    25\n",
            "39    25\n",
            "37    25\n",
            "61    23\n",
            "63    23\n",
            "62    23\n",
            "60    23\n",
            "64    22\n",
            "Name: EDAD, dtype: int64 \n",
            "\n",
            "\n",
            " SEXO MASCULINO    677\n",
            "FEMENINO     660\n",
            "Name: SEXO, dtype: int64 \n",
            "\n",
            "\n",
            " IMC 32.300    13\n",
            "28.310     9\n",
            "30.495     8\n",
            "30.875     8\n",
            "30.800     8\n",
            "          ..\n",
            "40.480     1\n",
            "26.070     1\n",
            "24.090     1\n",
            "28.380     1\n",
            "44.700     1\n",
            "Name: IMC, Length: 547, dtype: int64 \n",
            "\n",
            "\n",
            " PESO 80     46\n",
            "75     41\n",
            "83     35\n",
            "74     34\n",
            "78     34\n",
            "       ..\n",
            "132     1\n",
            "46      1\n",
            "43      1\n",
            "129     1\n",
            "123     1\n",
            "Name: PESO, Length: 89, dtype: int64 \n",
            "\n",
            "\n",
            " HIJOS 0    576\n",
            "1    322\n",
            "2    239\n",
            "3    157\n",
            "4     25\n",
            "5     18\n",
            "Name: HIJOS, dtype: int64 \n",
            "\n",
            "\n",
            " TIENE_HIJOS 1    761\n",
            "0    576\n",
            "Name: TIENE_HIJOS, dtype: int64 \n",
            "\n",
            "\n",
            " FUMADOR NO    1063\n",
            "SI     274\n",
            "Name: FUMADOR, dtype: int64 \n",
            "\n",
            "\n",
            " CIUDAD MADRID       364\n",
            "VALENCIA     325\n",
            "BARCELONA    324\n",
            "SEVILLA      324\n",
            "Name: CIUDAD, dtype: int64 \n",
            "\n",
            "\n",
            " PRECIO 136     11\n",
            "142      6\n",
            "717      5\n",
            "178      5\n",
            "135      5\n",
            "        ..\n",
            "3332     1\n",
            "766      1\n",
            "177      1\n",
            "531      1\n",
            "167      1\n",
            "Name: PRECIO, Length: 932, dtype: int64 \n",
            "\n"
          ]
        }
      ]
    },
    {
      "cell_type": "code",
      "metadata": {
        "id": "K4EiPHTCV0my",
        "colab": {
          "base_uri": "https://localhost:8080/"
        },
        "outputId": "c347e78d-fb6f-4e98-c887-daa1f967146a"
      },
      "source": [
        "for i in df_seguro_sin_duplicados.columns:\n",
        "  print(\"\\n\", i, df_seguro_sin_duplicados[i].unique(), \"\\n\")"
      ],
      "execution_count": 96,
      "outputs": [
        {
          "output_type": "stream",
          "name": "stdout",
          "text": [
            "\n",
            " EDAD [37 25 52 23 60 34 63 18 35 24 38 58 43 31 22 45 59 56 30 44 26 61 20 32\n",
            " 42 40 47 27 41 36 64 28 53 33 29 50 55 49 54 46 57 48 39 21 62 51 19] \n",
            "\n",
            "\n",
            " SEXO ['MASCULINO' 'FEMENINO'] \n",
            "\n",
            "\n",
            " IMC [29.83  26.22  30.78  23.845 36.005 31.92  23.085 26.315 36.67  26.6\n",
            " 37.05  38.665 35.625 31.825 27.36  28.5   39.805 26.885 38.285 19.95\n",
            " 25.46  30.115 32.205 28.595 23.75  31.35  28.785 26.505 22.04  22.42\n",
            " 32.49  37.145 23.37  25.175 28.215 18.905 15.96  33.155 41.895 39.33\n",
            " 28.88  27.74  41.23  33.25  31.635 22.135 28.975 17.29  25.365 24.32\n",
            " 32.395 25.84  27.455 28.12  40.565 27.645 48.07  36.765 29.64  22.99\n",
            " 27.55  22.61  34.865 32.775 37.335 40.945 34.105 36.385 35.72  32.3\n",
            " 33.345 35.245 30.4   22.23  24.89  17.955 30.685 31.445 38.38  20.235\n",
            " 17.195 30.59  27.265 31.73  16.815 29.45  38.095 25.935 31.065 25.08\n",
            " 27.93  26.03  25.27  32.11  30.875 33.915 39.425 28.025 35.435 41.325\n",
            " 33.44  32.68  36.86  34.295 23.465 35.91  21.85  33.725 26.98  19.\n",
            " 33.535 22.705 38.19  26.41  31.54  32.015 31.16  26.125 44.745 30.495\n",
            " 40.47  40.66  27.075 21.755 40.28  33.63  22.8   37.43  34.58  36.48\n",
            " 36.955 22.515 23.18  22.895 24.795 28.31  24.7   35.53  19.855 23.655\n",
            " 24.035 20.045 29.355 32.585 29.735 40.185 34.2   18.335 34.96  25.745\n",
            " 23.56  39.995 21.375 34.675 20.52  27.835 23.275 36.29  19.19  29.26\n",
            " 24.985 21.565 42.655 19.095 24.51  42.75  30.305 25.555 21.47  39.14\n",
            " 21.945 23.94  21.66  29.925 24.605 39.71  26.695 32.87  24.225 17.385\n",
            " 20.425 32.965 34.77  28.69  34.01  17.765 24.13  39.52  18.05  36.195\n",
            " 29.07  30.02  24.415 20.615 34.39  33.06  21.09  30.21  17.48  35.15\n",
            " 25.65  33.82  27.17  19.57  37.525 38.95  29.545 28.405 37.905 19.475\n",
            " 35.815 41.42  36.575 42.94  17.67  31.255 26.79  39.615 18.715 40.375\n",
            " 17.86  34.485 21.28  37.715 30.97  33.77  33.    25.74  26.29  39.82\n",
            " 42.13  34.1   27.72  36.63  21.78  30.8   24.53  35.2   34.43  31.68\n",
            " 22.88  33.66  36.19  23.98  24.75  32.01  29.59  37.62  39.49  38.28\n",
            " 29.92  27.94  35.09  49.06  28.05  31.9   25.3   38.83  37.73  29.7\n",
            " 24.42  27.83  36.85  41.47  30.69  31.57  28.6   32.23  36.08  26.4\n",
            " 26.73  23.1   23.21  24.64  33.88  38.06  41.91  22.22  38.39  35.86\n",
            " 34.21  40.15  26.84  42.35  19.8   29.37  31.79  21.56  26.62  45.54\n",
            " 28.82  25.41  37.51  33.33  35.97  35.75  43.89  20.79  21.89  31.46\n",
            " 43.34  39.05  31.02  38.17  47.52  24.31  21.12  30.03  35.64  39.16\n",
            " 33.11  46.75  43.01  36.52  46.53  30.14  28.38  24.09  32.67  32.56\n",
            " 30.25  28.93  35.31  44.22  26.07  40.48  36.3   47.41  46.2   44.77\n",
            " 32.12  37.29  43.12  45.43  23.65  28.27  31.13  40.26  29.48  42.46\n",
            " 42.68  39.6   29.81  40.81  41.69  39.27  34.87  23.54  29.15  22.77\n",
            " 34.32  41.14  41.8   20.9   26.18  42.24  26.51  21.01  32.78  32.45\n",
            " 50.38  24.86  29.04  38.94  40.92  32.34  33.99  37.18  46.09  39.93\n",
            " 42.9   28.16  35.42  20.13  23.32  45.32  37.07  52.58  47.74  31.24\n",
            " 20.35  25.85  23.87  44.88  40.37  28.49  33.55  27.28  24.97  36.96\n",
            " 23.76  25.52  27.61  27.06  30.36  53.13  27.9   34.4   24.6   40.3\n",
            " 35.3   32.4   35.6   36.4   20.8   39.9   37.3   28.    28.9   39.1\n",
            " 28.1   27.4   34.8   27.2   31.3   19.3   31.6   27.5   28.4   37.1\n",
            " 28.3   37.4   34.7   35.9   36.    29.8   37.    30.3   37.7   29.2\n",
            " 30.9   32.2   26.2   32.8   22.3   31.8   33.7   17.8   26.8   25.2\n",
            " 30.2   24.3   31.2   33.4   27.7   38.    31.4   33.8   36.7   34.5\n",
            " 27.6   25.6   30.5   21.7   32.9   20.6   20.4   23.6   23.9   22.6\n",
            " 33.1   26.9   33.5   29.6   38.6   23.4   30.    28.7   25.1   39.5\n",
            " 34.3   43.4   25.7   39.2   35.7   31.    25.8   38.9   46.7   21.4\n",
            " 23.8   29.1   20.7   29.    32.6   37.8   21.3   36.1   29.3   39.7\n",
            " 42.4   17.4   20.3   18.5   24.1   36.2   36.6   35.4   30.1   32.1\n",
            " 23.7   35.5   27.    27.1   26.7   24.4   31.5   31.1   47.6   25.4\n",
            " 29.9   43.7   28.8   29.5   44.    35.1   39.8   28.2   25.    33.2\n",
            " 23.2   20.1   32.5   35.8   25.9   40.5   32.7   34.6   23.    32.\n",
            " 18.3   22.1   18.6   45.9   21.5   41.1   33.3   21.8   23.3   29.4\n",
            " 27.3   37.9   39.4   34.9   22.    27.8   44.7  ] \n",
            "\n",
            "\n",
            " PESO [ 80  71  83  64  97  86  62  99  72 100 104  96  74  77 107 103  54  68\n",
            "  81  87  84  59  60  63  76  51  43  89 113 106  78  75 111  85  47  65\n",
            "  69 109 129  61  94  88 110  92  98  90  95  82  67  48  46  73  45  79\n",
            " 102  70  91 120 101  93  66  53 108  49  57  55  52  58 115 105  50 132\n",
            " 112 114 122 118  56 117 128 126 116 125 119 124 136 141 121 143 123] \n",
            "\n",
            "\n",
            " HIJOS [2 0 1 3 5 4] \n",
            "\n",
            "\n",
            " TIENE_HIJOS [1 0] \n",
            "\n",
            "\n",
            " FUMADOR ['NO' 'SI'] \n",
            "\n",
            "\n",
            " CIUDAD ['BARCELONA' 'SEVILLA' 'MADRID' 'VALENCIA'] \n",
            "\n",
            "\n",
            " PRECIO [ 534  227  900  200 1102 3142 1204  183 3315  254  507  283  184 1134\n",
            "  717  567  230  370  661 2515 1868  304 1779  957 2522  142 3296  282\n",
            " 1068 1135  205 2281  291  528 1664  590 1293  867  402  141  712  334\n",
            " 3646 1242  361 1749  551  880  613  769 3209  446 2460  337 1069 3425\n",
            " 1087 2072 1216  774  801  810 1861 4046  353  990  786 3991 1690  562\n",
            " 2073  995  870  389 2056  964  550 4043  972 1595 3493 1101 1165  695\n",
            " 1034  837  815 1119  290 1002  637 1805 1251 3525  692  895  747  784\n",
            "  950 1633 1205 3260  546  610  264  188  241 1061 1269  930 1941 1740\n",
            " 2929  362  164  570  980  780  321 2138  822 1170  506  272  268 1490\n",
            "  910 2635 4881  267 1076  322 1136 1280  735  466  297  563 2885  598\n",
            " 1201 2076 1679 1095  845  688  143 1036 2199 1200  429 3809  329  937\n",
            "  644  175 2432  795  509  456  165  823  842 1388  185  787 3016 3605\n",
            " 1427  419  665  452  327  256  758 1066  621 1062  434  228  393 1492\n",
            "  276  369 1950 1339 1731 3300  971 1027  839 3106 3509  977 2009  455\n",
            " 1094  741  215 3855 2268  869 1130 1650  724  388  380  404 2811 2922\n",
            " 2111 2676 3254  961 3420  792  273  416 1345  809 2126  375 1400  410\n",
            "  377 1214  595  666  719 1937  830  573  345 1146 2790  480 1008 1100\n",
            "  941 3720 1920 1398  959 1575 3409 1726  602  436 1432  242  638 1814\n",
            " 1144 1085 1691 1074  572  553  582 3134 1554  850  379  864 2855 1872\n",
            " 1190  711  311  594  994 1772 1343  939 1625 2342  588 1866 1832  607\n",
            " 2410  517 1022  231 1148  135 1301  296  298  672 3958  499 2514  344\n",
            " 1226  532  946  548  919 1758 3632  669  924  912  477 1463  323  902\n",
            "  557  843 2728  136  170 1513 1729 3393  913  427  579  511  238  538\n",
            "  978  618 1004  137  804  178 1084  680  295  863  620  559 1446 2040\n",
            " 3660  960 2813 3018  605  210  234 1188 3229  771 1620  646  736  408\n",
            " 3563 2033 1161 1113  986  802  668  676 1118 1503 1371 2524  265  385\n",
            "  627 1224  856 2413 1567  409  354  395 2176  955  336  147  987 1054\n",
            " 2406  211 1296 1040  872  566  220  701 2005  853 1984  932 3332  766\n",
            "  177  531 1019 3662  702 2789  765 1456 2140 1011 3582  226 2732  372\n",
            "  510  338 3334 3844  846  197  196  915  449  744  855  693  797 1093\n",
            "  904  555  799  826  255  159 1184  578 1479  160  601 1526 2373  530\n",
            "  237 4595  223 1044  439  979  448 1052  883 1177 1318  224  232  406\n",
            " 2444  176 1199  438 1815  360 1667 1051 2372 2206 1997 2362 1368 1447\n",
            "  730 1010 1041 2168 1800 1806 1079 3310 1874 1686 1823  300  279 1196\n",
            "  371  488 1252 2826  749  874  443  474 3888  833 1639 3075 1020  469\n",
            "  918 1202  596 1991 3122 1154  444  723 1570 2776  533  728  171  426\n",
            "  330  628 5002  225  358  953  942 2505  274  252  363  349 2045  775\n",
            " 3893 1789  381 1564  600 2428  144  313  687 2317 3301   95 1167  412\n",
            "  523  526 3226 3145 2859  493 1472 1381  996  128 3097  169  314  852\n",
            " 2579  239 3921  948 1592  180 2277 1581  428  649 1769 3079 1646 3012\n",
            " 1117  332 1046  710  739 3094  417  207 2090 1626  999 2019  166 3688\n",
            "  450 1424 1705 3846 1077  821  645 2166  346 3510  677 1012  686  515\n",
            "  407  457 1178  745  153  134  116 3177 2250 1732  487  988 1382  674\n",
            "  554  340  612  762 3907 3883  816 1160 1049   96 2357  391  640  865\n",
            " 1627  208  152 4074 2043  684 1852 2712  498 2310  333 3187 4056 1601\n",
            " 1153 2279 1157 5314 3822  331  328  755  233  396  139 1469  398  214\n",
            "  476 1340  157 3581 2870  944  281  817  882  690  536 1849 2253 3547\n",
            "  542  403  367 3850  453 2901 3356  292  168 3700 3411  565 1613 3368\n",
            " 1521 1628 1922 3026  495  782 1121  472 1766  356  587 1193 3233  151\n",
            "   94  465  156  685 3651  597 3002 2294 3751  203 3415 1518  497 1643\n",
            "  604 3684  636  206  437 1123  524  244  192  791   93  796 1082 3955\n",
            " 3500 1206  716  892  194  650 3048 2966 3518  714 3702 3124 3708 1494\n",
            "  963 4081  748  911 3323 2889 1263  812 3473  140  269  289  947  862\n",
            " 3496 2015  901 3010 3190  696  486  715  309  754 2260 3412 1580 1527\n",
            "  475 1519 1964  451  549  704 2177  400  270 3939 4131  368  564 2244\n",
            " 1207 1420  126 5216   97 3658  781 1407  884 3070 2965 4266 4014 1719\n",
            "  145 1186 3320  923 3941 1009  516  387 1423  803  105  181  154  871\n",
            " 4069  471  614  418 2898 1028 2930 3942  355 3571  179  326 1358 1681\n",
            " 2903 2958 3994 1152 2050  216 3007 1249  772  423 1551 1924 1053  494\n",
            " 3090  397  626 1816 1845 2115  104  146 1048 1495  411 1757  962 1116\n",
            " 1080 3270 1942  893  305 3349  840  783  556  284  725 1030 3342 2186\n",
            " 3715  713  201 1587 2328  929 1522  535  785  127  248  914 3843  732\n",
            "  965  366  705  571 2178  287 1089 1264 1458 1122  521  243 1003  520\n",
            "  841  973 1661 3250 1600  635 2873  689  733  263 3311 2109 1585  881\n",
            "  299  938 1702 2847  851 1197  308  663 4383  899 1873  541  219 3076\n",
            " 3201 1029 3472  945  468  505  103 1353 1319  540  611  718 3950 3195\n",
            " 2902 3152 2825  378 3033  860  951  167] \n",
            "\n"
          ]
        }
      ]
    },
    {
      "cell_type": "code",
      "metadata": {
        "id": "yzL6uCwqV0my",
        "colab": {
          "base_uri": "https://localhost:8080/",
          "height": 36
        },
        "outputId": "88811b89-4a18-4d5c-aebf-1f80fa467913"
      },
      "source": [
        "'''5. SEPARAMOS NUESTRAS VARIABLES EN: TARGET, CATEGORICAS, BOOLEAN Y NUMERICAS'''"
      ],
      "execution_count": 97,
      "outputs": [
        {
          "output_type": "execute_result",
          "data": {
            "text/plain": [
              "'5. SEPARAMOS NUESTRAS VARIABLES EN: TARGET, CATEGORICAS, BOOLEAN Y NUMERICAS'"
            ],
            "application/vnd.google.colaboratory.intrinsic+json": {
              "type": "string"
            }
          },
          "metadata": {},
          "execution_count": 97
        }
      ]
    },
    {
      "cell_type": "code",
      "metadata": {
        "id": "_LQ1Um3NV0mz",
        "colab": {
          "base_uri": "https://localhost:8080/",
          "height": 206
        },
        "outputId": "1c7032fc-32f3-4844-c6a4-0aff811dcb19"
      },
      "source": [
        "df_seguro_sin_duplicados.head()"
      ],
      "execution_count": 98,
      "outputs": [
        {
          "output_type": "execute_result",
          "data": {
            "text/plain": [
              "   EDAD       SEXO     IMC  PESO  HIJOS  TIENE_HIJOS FUMADOR     CIUDAD  \\\n",
              "0    37  MASCULINO  29.830    80      2            1      NO  BARCELONA   \n",
              "1    25  MASCULINO  26.220    71      0            0      NO  BARCELONA   \n",
              "2    52   FEMENINO  30.780    83      1            1      NO  BARCELONA   \n",
              "3    23  MASCULINO  23.845    64      0            0      NO  BARCELONA   \n",
              "4    60   FEMENINO  36.005    97      0            0      NO  BARCELONA   \n",
              "\n",
              "   PRECIO  \n",
              "0     534  \n",
              "1     227  \n",
              "2     900  \n",
              "3     200  \n",
              "4    1102  "
            ],
            "text/html": [
              "\n",
              "  <div id=\"df-a43d5739-3ea5-4e28-8587-21d3e9987a6b\">\n",
              "    <div class=\"colab-df-container\">\n",
              "      <div>\n",
              "<style scoped>\n",
              "    .dataframe tbody tr th:only-of-type {\n",
              "        vertical-align: middle;\n",
              "    }\n",
              "\n",
              "    .dataframe tbody tr th {\n",
              "        vertical-align: top;\n",
              "    }\n",
              "\n",
              "    .dataframe thead th {\n",
              "        text-align: right;\n",
              "    }\n",
              "</style>\n",
              "<table border=\"1\" class=\"dataframe\">\n",
              "  <thead>\n",
              "    <tr style=\"text-align: right;\">\n",
              "      <th></th>\n",
              "      <th>EDAD</th>\n",
              "      <th>SEXO</th>\n",
              "      <th>IMC</th>\n",
              "      <th>PESO</th>\n",
              "      <th>HIJOS</th>\n",
              "      <th>TIENE_HIJOS</th>\n",
              "      <th>FUMADOR</th>\n",
              "      <th>CIUDAD</th>\n",
              "      <th>PRECIO</th>\n",
              "    </tr>\n",
              "  </thead>\n",
              "  <tbody>\n",
              "    <tr>\n",
              "      <th>0</th>\n",
              "      <td>37</td>\n",
              "      <td>MASCULINO</td>\n",
              "      <td>29.830</td>\n",
              "      <td>80</td>\n",
              "      <td>2</td>\n",
              "      <td>1</td>\n",
              "      <td>NO</td>\n",
              "      <td>BARCELONA</td>\n",
              "      <td>534</td>\n",
              "    </tr>\n",
              "    <tr>\n",
              "      <th>1</th>\n",
              "      <td>25</td>\n",
              "      <td>MASCULINO</td>\n",
              "      <td>26.220</td>\n",
              "      <td>71</td>\n",
              "      <td>0</td>\n",
              "      <td>0</td>\n",
              "      <td>NO</td>\n",
              "      <td>BARCELONA</td>\n",
              "      <td>227</td>\n",
              "    </tr>\n",
              "    <tr>\n",
              "      <th>2</th>\n",
              "      <td>52</td>\n",
              "      <td>FEMENINO</td>\n",
              "      <td>30.780</td>\n",
              "      <td>83</td>\n",
              "      <td>1</td>\n",
              "      <td>1</td>\n",
              "      <td>NO</td>\n",
              "      <td>BARCELONA</td>\n",
              "      <td>900</td>\n",
              "    </tr>\n",
              "    <tr>\n",
              "      <th>3</th>\n",
              "      <td>23</td>\n",
              "      <td>MASCULINO</td>\n",
              "      <td>23.845</td>\n",
              "      <td>64</td>\n",
              "      <td>0</td>\n",
              "      <td>0</td>\n",
              "      <td>NO</td>\n",
              "      <td>BARCELONA</td>\n",
              "      <td>200</td>\n",
              "    </tr>\n",
              "    <tr>\n",
              "      <th>4</th>\n",
              "      <td>60</td>\n",
              "      <td>FEMENINO</td>\n",
              "      <td>36.005</td>\n",
              "      <td>97</td>\n",
              "      <td>0</td>\n",
              "      <td>0</td>\n",
              "      <td>NO</td>\n",
              "      <td>BARCELONA</td>\n",
              "      <td>1102</td>\n",
              "    </tr>\n",
              "  </tbody>\n",
              "</table>\n",
              "</div>\n",
              "      <button class=\"colab-df-convert\" onclick=\"convertToInteractive('df-a43d5739-3ea5-4e28-8587-21d3e9987a6b')\"\n",
              "              title=\"Convert this dataframe to an interactive table.\"\n",
              "              style=\"display:none;\">\n",
              "        \n",
              "  <svg xmlns=\"http://www.w3.org/2000/svg\" height=\"24px\"viewBox=\"0 0 24 24\"\n",
              "       width=\"24px\">\n",
              "    <path d=\"M0 0h24v24H0V0z\" fill=\"none\"/>\n",
              "    <path d=\"M18.56 5.44l.94 2.06.94-2.06 2.06-.94-2.06-.94-.94-2.06-.94 2.06-2.06.94zm-11 1L8.5 8.5l.94-2.06 2.06-.94-2.06-.94L8.5 2.5l-.94 2.06-2.06.94zm10 10l.94 2.06.94-2.06 2.06-.94-2.06-.94-.94-2.06-.94 2.06-2.06.94z\"/><path d=\"M17.41 7.96l-1.37-1.37c-.4-.4-.92-.59-1.43-.59-.52 0-1.04.2-1.43.59L10.3 9.45l-7.72 7.72c-.78.78-.78 2.05 0 2.83L4 21.41c.39.39.9.59 1.41.59.51 0 1.02-.2 1.41-.59l7.78-7.78 2.81-2.81c.8-.78.8-2.07 0-2.86zM5.41 20L4 18.59l7.72-7.72 1.47 1.35L5.41 20z\"/>\n",
              "  </svg>\n",
              "      </button>\n",
              "      \n",
              "  <style>\n",
              "    .colab-df-container {\n",
              "      display:flex;\n",
              "      flex-wrap:wrap;\n",
              "      gap: 12px;\n",
              "    }\n",
              "\n",
              "    .colab-df-convert {\n",
              "      background-color: #E8F0FE;\n",
              "      border: none;\n",
              "      border-radius: 50%;\n",
              "      cursor: pointer;\n",
              "      display: none;\n",
              "      fill: #1967D2;\n",
              "      height: 32px;\n",
              "      padding: 0 0 0 0;\n",
              "      width: 32px;\n",
              "    }\n",
              "\n",
              "    .colab-df-convert:hover {\n",
              "      background-color: #E2EBFA;\n",
              "      box-shadow: 0px 1px 2px rgba(60, 64, 67, 0.3), 0px 1px 3px 1px rgba(60, 64, 67, 0.15);\n",
              "      fill: #174EA6;\n",
              "    }\n",
              "\n",
              "    [theme=dark] .colab-df-convert {\n",
              "      background-color: #3B4455;\n",
              "      fill: #D2E3FC;\n",
              "    }\n",
              "\n",
              "    [theme=dark] .colab-df-convert:hover {\n",
              "      background-color: #434B5C;\n",
              "      box-shadow: 0px 1px 3px 1px rgba(0, 0, 0, 0.15);\n",
              "      filter: drop-shadow(0px 1px 2px rgba(0, 0, 0, 0.3));\n",
              "      fill: #FFFFFF;\n",
              "    }\n",
              "  </style>\n",
              "\n",
              "      <script>\n",
              "        const buttonEl =\n",
              "          document.querySelector('#df-a43d5739-3ea5-4e28-8587-21d3e9987a6b button.colab-df-convert');\n",
              "        buttonEl.style.display =\n",
              "          google.colab.kernel.accessAllowed ? 'block' : 'none';\n",
              "\n",
              "        async function convertToInteractive(key) {\n",
              "          const element = document.querySelector('#df-a43d5739-3ea5-4e28-8587-21d3e9987a6b');\n",
              "          const dataTable =\n",
              "            await google.colab.kernel.invokeFunction('convertToInteractive',\n",
              "                                                     [key], {});\n",
              "          if (!dataTable) return;\n",
              "\n",
              "          const docLinkHtml = 'Like what you see? Visit the ' +\n",
              "            '<a target=\"_blank\" href=https://colab.research.google.com/notebooks/data_table.ipynb>data table notebook</a>'\n",
              "            + ' to learn more about interactive tables.';\n",
              "          element.innerHTML = '';\n",
              "          dataTable['output_type'] = 'display_data';\n",
              "          await google.colab.output.renderOutput(dataTable, element);\n",
              "          const docLink = document.createElement('div');\n",
              "          docLink.innerHTML = docLinkHtml;\n",
              "          element.appendChild(docLink);\n",
              "        }\n",
              "      </script>\n",
              "    </div>\n",
              "  </div>\n",
              "  "
            ]
          },
          "metadata": {},
          "execution_count": 98
        }
      ]
    },
    {
      "cell_type": "code",
      "metadata": {
        "id": "IZ58X-beV0mz"
      },
      "source": [
        "target= [\"PRECIO\"]"
      ],
      "execution_count": 99,
      "outputs": []
    },
    {
      "cell_type": "code",
      "metadata": {
        "colab": {
          "base_uri": "https://localhost:8080/"
        },
        "id": "l0DdmVYAKoTX",
        "outputId": "1142248e-ebdc-4491-f774-c7d227d5ab2c"
      },
      "source": [
        "df_seguro_sin_duplicados.info()"
      ],
      "execution_count": 100,
      "outputs": [
        {
          "output_type": "stream",
          "name": "stdout",
          "text": [
            "<class 'pandas.core.frame.DataFrame'>\n",
            "RangeIndex: 1337 entries, 0 to 1336\n",
            "Data columns (total 9 columns):\n",
            " #   Column       Non-Null Count  Dtype  \n",
            "---  ------       --------------  -----  \n",
            " 0   EDAD         1337 non-null   int64  \n",
            " 1   SEXO         1337 non-null   object \n",
            " 2   IMC          1337 non-null   float64\n",
            " 3   PESO         1337 non-null   int64  \n",
            " 4   HIJOS        1337 non-null   int64  \n",
            " 5   TIENE_HIJOS  1337 non-null   int64  \n",
            " 6   FUMADOR      1337 non-null   object \n",
            " 7   CIUDAD       1337 non-null   object \n",
            " 8   PRECIO       1337 non-null   int64  \n",
            "dtypes: float64(1), int64(5), object(3)\n",
            "memory usage: 94.1+ KB\n"
          ]
        }
      ]
    },
    {
      "cell_type": "code",
      "metadata": {
        "colab": {
          "base_uri": "https://localhost:8080/"
        },
        "id": "hEAipvFlKspZ",
        "outputId": "e3c9a6ab-aae9-4dbf-b07f-2d7544bbefa6"
      },
      "source": [
        "df_seguro_sin_duplicados[\"EDAD\"].dtype #int8 (entero que tiene elemenos positivos y negativos) i el uint(este solo va de 0 a 64bits)"
      ],
      "execution_count": 101,
      "outputs": [
        {
          "output_type": "execute_result",
          "data": {
            "text/plain": [
              "dtype('int64')"
            ]
          },
          "metadata": {},
          "execution_count": 101
        }
      ]
    },
    {
      "cell_type": "code",
      "metadata": {
        "id": "q39Epr-i9qXN"
      },
      "source": [
        "def obtener_lista_variables(dataset):\n",
        "  lista_numericas = []\n",
        "  lista_booleans = []\n",
        "  lista_categoricas = []\n",
        "  for i in dataset: #iterem per columnes perque estem fent dataset[i]\n",
        "    if (dataset[i].dtype=='float64' or dataset[i].dtype=='int64') and (len(dataset[i].unique()) != 2) and i not in target:\n",
        "      lista_numericas.append(i)\n",
        "    elif (dataset[i].dtype=='float64' or dataset[i].dtype=='int64')and (len(dataset[i].unique()) == 2) and i not in target:\n",
        "      lista_booleans.append(i)\n",
        "    elif (dataset[i].dtype=='object') and i not in target:\n",
        "      lista_categoricas.append(i)\n",
        "  return lista_numericas, lista_booleans, lista_categoricas\n",
        "#si quisieramos hacer cada condicion por linea solo hemos de poner \\ para que python sepa que seguimos las condiciones\n",
        "#e.g. if (dataset[i].dtype=='float64' or dataset[i].dtype=='int64') \\ \n",
        "# and (len(df_seguro_sindup[i].unique()) != 2) \\ \n",
        "#and i not in target:"
      ],
      "execution_count": 102,
      "outputs": []
    },
    {
      "cell_type": "code",
      "metadata": {
        "id": "qlkdkSTUKNfk"
      },
      "source": [
        "l_numerica, l_boolean, l_categorica = obtener_lista_variables(df_seguro_sin_duplicados)"
      ],
      "execution_count": 103,
      "outputs": []
    },
    {
      "cell_type": "code",
      "metadata": {
        "colab": {
          "base_uri": "https://localhost:8080/"
        },
        "id": "o7L6AbxgPzXX",
        "outputId": "feae8f94-97e6-48df-90e5-afc28e532525"
      },
      "source": [
        "l_numerica"
      ],
      "execution_count": 104,
      "outputs": [
        {
          "output_type": "execute_result",
          "data": {
            "text/plain": [
              "['EDAD', 'IMC', 'PESO', 'HIJOS']"
            ]
          },
          "metadata": {},
          "execution_count": 104
        }
      ]
    },
    {
      "cell_type": "code",
      "metadata": {
        "id": "8TOn5sOPKNa9",
        "colab": {
          "base_uri": "https://localhost:8080/"
        },
        "outputId": "9330ecc9-cbd8-4eb3-cf33-08a136f028a2"
      },
      "source": [
        "l_boolean"
      ],
      "execution_count": 105,
      "outputs": [
        {
          "output_type": "execute_result",
          "data": {
            "text/plain": [
              "['TIENE_HIJOS']"
            ]
          },
          "metadata": {},
          "execution_count": 105
        }
      ]
    },
    {
      "cell_type": "code",
      "metadata": {
        "colab": {
          "base_uri": "https://localhost:8080/",
          "height": 1000
        },
        "id": "3KBNpN_79SLx",
        "outputId": "ba9dbf89-b8a0-40f3-d0e4-0164d5bd2798"
      },
      "source": [
        "for i in l_numerica:\n",
        "  print(df_seguro_sin_duplicados.hist(column= i))"
      ],
      "execution_count": 106,
      "outputs": [
        {
          "output_type": "stream",
          "name": "stdout",
          "text": [
            "[[<matplotlib.axes._subplots.AxesSubplot object at 0x7fa85cff2e10>]]\n",
            "[[<matplotlib.axes._subplots.AxesSubplot object at 0x7fa85cff29d0>]]\n",
            "[[<matplotlib.axes._subplots.AxesSubplot object at 0x7fa85cfc3ed0>]]\n",
            "[[<matplotlib.axes._subplots.AxesSubplot object at 0x7fa85cf6a210>]]\n"
          ]
        },
        {
          "output_type": "display_data",
          "data": {
            "text/plain": [
              "<Figure size 432x288 with 1 Axes>"
            ],
            "image/png": "[encoded data removed]"
          },
          "metadata": {
            "needs_background": "light"
          }
        },
        {
          "output_type": "display_data",
          "data": {
            "text/plain": [
              "<Figure size 432x288 with 1 Axes>"
            ],
            "image/png": "[encoded data removed]"
          },
          "metadata": {
            "needs_background": "light"
          }
        },
        {
          "output_type": "display_data",
          "data": {
            "text/plain": [
              "<Figure size 432x288 with 1 Axes>"
            ],
            "image/png": "[encoded data removed]"
          },
          "metadata": {
            "needs_background": "light"
          }
        },
        {
          "output_type": "display_data",
          "data": {
            "text/plain": [
              "<Figure size 432x288 with 1 Axes>"
            ],
            "image/png": "[encoded data removed]"
          },
          "metadata": {
            "needs_background": "light"
          }
        }
      ]
    },
    {
      "cell_type": "code",
      "metadata": {
        "colab": {
          "base_uri": "https://localhost:8080/"
        },
        "id": "kKOJt1H09Hod",
        "outputId": "fff12bc7-8c3c-4bb8-bea6-a3d2c8872087"
      },
      "source": [
        "for i in l_categorica:\n",
        "  print(df_seguro_sin_duplicados[i].value_counts())\n"
      ],
      "execution_count": 107,
      "outputs": [
        {
          "output_type": "stream",
          "name": "stdout",
          "text": [
            "MASCULINO    677\n",
            "FEMENINO     660\n",
            "Name: SEXO, dtype: int64\n",
            "NO    1063\n",
            "SI     274\n",
            "Name: FUMADOR, dtype: int64\n",
            "MADRID       364\n",
            "VALENCIA     325\n",
            "BARCELONA    324\n",
            "SEVILLA      324\n",
            "Name: CIUDAD, dtype: int64\n"
          ]
        }
      ]
    },
    {
      "cell_type": "code",
      "metadata": {
        "id": "UMxWPs6R-oIC"
      },
      "source": [
        "df_seguro_clean= df_seguro_sin_duplicados.copy() #el objetivo de esta copia es hacer un check point, porque ahora voy a transonformar el data set, por eso se hacen las copias"
      ],
      "execution_count": 108,
      "outputs": []
    },
    {
      "cell_type": "code",
      "metadata": {
        "id": "eLgpRYYjV0mz",
        "colab": {
          "base_uri": "https://localhost:8080/",
          "height": 36
        },
        "outputId": "7042e96c-6501-41f3-f4ca-623695b548f9"
      },
      "source": [
        "'''6. LOGICA DE LAS VARIABLES'''"
      ],
      "execution_count": 109,
      "outputs": [
        {
          "output_type": "execute_result",
          "data": {
            "text/plain": [
              "'6. LOGICA DE LAS VARIABLES'"
            ],
            "application/vnd.google.colaboratory.intrinsic+json": {
              "type": "string"
            }
          },
          "metadata": {},
          "execution_count": 109
        }
      ]
    },
    {
      "cell_type": "code",
      "metadata": {
        "id": "qAA3lykNV0m0"
      },
      "source": [
        ""
      ],
      "execution_count": 109,
      "outputs": []
    },
    {
      "cell_type": "code",
      "metadata": {
        "id": "rPQSEXB1V0m0"
      },
      "source": [
        ""
      ],
      "execution_count": 109,
      "outputs": []
    },
    {
      "cell_type": "code",
      "metadata": {
        "id": "4d-IJEvEV0m0",
        "colab": {
          "base_uri": "https://localhost:8080/",
          "height": 36
        },
        "outputId": "a5f17610-fb71-4178-a9b1-7e7982e6897b"
      },
      "source": [
        "'''7. PREPROCESAMIENTO'''"
      ],
      "execution_count": 110,
      "outputs": [
        {
          "output_type": "execute_result",
          "data": {
            "text/plain": [
              "'7. PREPROCESAMIENTO'"
            ],
            "application/vnd.google.colaboratory.intrinsic+json": {
              "type": "string"
            }
          },
          "metadata": {},
          "execution_count": 110
        }
      ]
    },
    {
      "cell_type": "code",
      "metadata": {
        "id": "DLmDhicaV0m0"
      },
      "source": [
        "corr= df_seguro_clean.corr()"
      ],
      "execution_count": 111,
      "outputs": []
    },
    {
      "cell_type": "code",
      "metadata": {
        "id": "iRkW1EIGV0m1",
        "colab": {
          "base_uri": "https://localhost:8080/",
          "height": 237
        },
        "outputId": "7362b3ae-6e2d-45c4-dd52-25e93199dad8"
      },
      "source": [
        "corr"
      ],
      "execution_count": 112,
      "outputs": [
        {
          "output_type": "execute_result",
          "data": {
            "text/plain": [
              "                 EDAD       IMC      PESO     HIJOS  TIENE_HIJOS    PRECIO\n",
              "EDAD         1.000000  0.107742  0.110609  0.041016     0.044213  0.298308\n",
              "IMC          0.107742  1.000000  0.997731  0.011157     0.013901  0.197793\n",
              "PESO         0.110609  0.997731  1.000000  0.013540     0.015882  0.199910\n",
              "HIJOS        0.041016  0.011157  0.013540  1.000000     0.788314  0.065633\n",
              "TIENE_HIJOS  0.044213  0.013901  0.015882  0.788314     1.000000  0.061246\n",
              "PRECIO       0.298308  0.197793  0.199910  0.065633     0.061246  1.000000"
            ],
            "text/html": [
              "\n",
              "  <div id=\"df-9218ebed-da13-4aea-b0b4-be7213f4f6c4\">\n",
              "    <div class=\"colab-df-container\">\n",
              "      <div>\n",
              "<style scoped>\n",
              "    .dataframe tbody tr th:only-of-type {\n",
              "        vertical-align: middle;\n",
              "    }\n",
              "\n",
              "    .dataframe tbody tr th {\n",
              "        vertical-align: top;\n",
              "    }\n",
              "\n",
              "    .dataframe thead th {\n",
              "        text-align: right;\n",
              "    }\n",
              "</style>\n",
              "<table border=\"1\" class=\"dataframe\">\n",
              "  <thead>\n",
              "    <tr style=\"text-align: right;\">\n",
              "      <th></th>\n",
              "      <th>EDAD</th>\n",
              "      <th>IMC</th>\n",
              "      <th>PESO</th>\n",
              "      <th>HIJOS</th>\n",
              "      <th>TIENE_HIJOS</th>\n",
              "      <th>PRECIO</th>\n",
              "    </tr>\n",
              "  </thead>\n",
              "  <tbody>\n",
              "    <tr>\n",
              "      <th>EDAD</th>\n",
              "      <td>1.000000</td>\n",
              "      <td>0.107742</td>\n",
              "      <td>0.110609</td>\n",
              "      <td>0.041016</td>\n",
              "      <td>0.044213</td>\n",
              "      <td>0.298308</td>\n",
              "    </tr>\n",
              "    <tr>\n",
              "      <th>IMC</th>\n",
              "      <td>0.107742</td>\n",
              "      <td>1.000000</td>\n",
              "      <td>0.997731</td>\n",
              "      <td>0.011157</td>\n",
              "      <td>0.013901</td>\n",
              "      <td>0.197793</td>\n",
              "    </tr>\n",
              "    <tr>\n",
              "      <th>PESO</th>\n",
              "      <td>0.110609</td>\n",
              "      <td>0.997731</td>\n",
              "      <td>1.000000</td>\n",
              "      <td>0.013540</td>\n",
              "      <td>0.015882</td>\n",
              "      <td>0.199910</td>\n",
              "    </tr>\n",
              "    <tr>\n",
              "      <th>HIJOS</th>\n",
              "      <td>0.041016</td>\n",
              "      <td>0.011157</td>\n",
              "      <td>0.013540</td>\n",
              "      <td>1.000000</td>\n",
              "      <td>0.788314</td>\n",
              "      <td>0.065633</td>\n",
              "    </tr>\n",
              "    <tr>\n",
              "      <th>TIENE_HIJOS</th>\n",
              "      <td>0.044213</td>\n",
              "      <td>0.013901</td>\n",
              "      <td>0.015882</td>\n",
              "      <td>0.788314</td>\n",
              "      <td>1.000000</td>\n",
              "      <td>0.061246</td>\n",
              "    </tr>\n",
              "    <tr>\n",
              "      <th>PRECIO</th>\n",
              "      <td>0.298308</td>\n",
              "      <td>0.197793</td>\n",
              "      <td>0.199910</td>\n",
              "      <td>0.065633</td>\n",
              "      <td>0.061246</td>\n",
              "      <td>1.000000</td>\n",
              "    </tr>\n",
              "  </tbody>\n",
              "</table>\n",
              "</div>\n",
              "      <button class=\"colab-df-convert\" onclick=\"convertToInteractive('df-9218ebed-da13-4aea-b0b4-be7213f4f6c4')\"\n",
              "              title=\"Convert this dataframe to an interactive table.\"\n",
              "              style=\"display:none;\">\n",
              "        \n",
              "  <svg xmlns=\"http://www.w3.org/2000/svg\" height=\"24px\"viewBox=\"0 0 24 24\"\n",
              "       width=\"24px\">\n",
              "    <path d=\"M0 0h24v24H0V0z\" fill=\"none\"/>\n",
              "    <path d=\"M18.56 5.44l.94 2.06.94-2.06 2.06-.94-2.06-.94-.94-2.06-.94 2.06-2.06.94zm-11 1L8.5 8.5l.94-2.06 2.06-.94-2.06-.94L8.5 2.5l-.94 2.06-2.06.94zm10 10l.94 2.06.94-2.06 2.06-.94-2.06-.94-.94-2.06-.94 2.06-2.06.94z\"/><path d=\"M17.41 7.96l-1.37-1.37c-.4-.4-.92-.59-1.43-.59-.52 0-1.04.2-1.43.59L10.3 9.45l-7.72 7.72c-.78.78-.78 2.05 0 2.83L4 21.41c.39.39.9.59 1.41.59.51 0 1.02-.2 1.41-.59l7.78-7.78 2.81-2.81c.8-.78.8-2.07 0-2.86zM5.41 20L4 18.59l7.72-7.72 1.47 1.35L5.41 20z\"/>\n",
              "  </svg>\n",
              "      </button>\n",
              "      \n",
              "  <style>\n",
              "    .colab-df-container {\n",
              "      display:flex;\n",
              "      flex-wrap:wrap;\n",
              "      gap: 12px;\n",
              "    }\n",
              "\n",
              "    .colab-df-convert {\n",
              "      background-color: #E8F0FE;\n",
              "      border: none;\n",
              "      border-radius: 50%;\n",
              "      cursor: pointer;\n",
              "      display: none;\n",
              "      fill: #1967D2;\n",
              "      height: 32px;\n",
              "      padding: 0 0 0 0;\n",
              "      width: 32px;\n",
              "    }\n",
              "\n",
              "    .colab-df-convert:hover {\n",
              "      background-color: #E2EBFA;\n",
              "      box-shadow: 0px 1px 2px rgba(60, 64, 67, 0.3), 0px 1px 3px 1px rgba(60, 64, 67, 0.15);\n",
              "      fill: #174EA6;\n",
              "    }\n",
              "\n",
              "    [theme=dark] .colab-df-convert {\n",
              "      background-color: #3B4455;\n",
              "      fill: #D2E3FC;\n",
              "    }\n",
              "\n",
              "    [theme=dark] .colab-df-convert:hover {\n",
              "      background-color: #434B5C;\n",
              "      box-shadow: 0px 1px 3px 1px rgba(0, 0, 0, 0.15);\n",
              "      filter: drop-shadow(0px 1px 2px rgba(0, 0, 0, 0.3));\n",
              "      fill: #FFFFFF;\n",
              "    }\n",
              "  </style>\n",
              "\n",
              "      <script>\n",
              "        const buttonEl =\n",
              "          document.querySelector('#df-9218ebed-da13-4aea-b0b4-be7213f4f6c4 button.colab-df-convert');\n",
              "        buttonEl.style.display =\n",
              "          google.colab.kernel.accessAllowed ? 'block' : 'none';\n",
              "\n",
              "        async function convertToInteractive(key) {\n",
              "          const element = document.querySelector('#df-9218ebed-da13-4aea-b0b4-be7213f4f6c4');\n",
              "          const dataTable =\n",
              "            await google.colab.kernel.invokeFunction('convertToInteractive',\n",
              "                                                     [key], {});\n",
              "          if (!dataTable) return;\n",
              "\n",
              "          const docLinkHtml = 'Like what you see? Visit the ' +\n",
              "            '<a target=\"_blank\" href=https://colab.research.google.com/notebooks/data_table.ipynb>data table notebook</a>'\n",
              "            + ' to learn more about interactive tables.';\n",
              "          element.innerHTML = '';\n",
              "          dataTable['output_type'] = 'display_data';\n",
              "          await google.colab.output.renderOutput(dataTable, element);\n",
              "          const docLink = document.createElement('div');\n",
              "          docLink.innerHTML = docLinkHtml;\n",
              "          element.appendChild(docLink);\n",
              "        }\n",
              "      </script>\n",
              "    </div>\n",
              "  </div>\n",
              "  "
            ]
          },
          "metadata": {},
          "execution_count": 112
        }
      ]
    },
    {
      "cell_type": "code",
      "metadata": {
        "colab": {
          "base_uri": "https://localhost:8080/",
          "height": 237
        },
        "id": "YKKeImtP_swS",
        "outputId": "af736b64-295e-41aa-9b20-bc22600e6aae"
      },
      "source": [
        "corr.style.background_gradient(cmap= \"coolwarm\") \n",
        "#las correlaciones son numericas siempre\n",
        "#si son dependientes entre si,no tiene sentido que esten en el modelo\n",
        "#tambien tiene que ser una distribución normal\n",
        "#nos interesa es que no tengan relación entre ellas\n",
        "#si es menor que 0.8 es muy probable que no tengan relación entre ellas, pero nos las quedamos\n"
      ],
      "execution_count": 113,
      "outputs": [
        {
          "output_type": "execute_result",
          "data": {
            "text/plain": [
              "<pandas.io.formats.style.Styler at 0x7fa85cdef350>"
            ],
            "text/html": [
              "<style type=\"text/css\">\n",
              "#T_dac94_row0_col0, #T_dac94_row1_col1, #T_dac94_row1_col2, #T_dac94_row2_col1, #T_dac94_row2_col2, #T_dac94_row3_col3, #T_dac94_row4_col4, #T_dac94_row5_col5 {\n",
              "  background-color: #b40426;\n",
              "  color: #f1f1f1;\n",
              "}\n",
              "#T_dac94_row0_col1, #T_dac94_row0_col2 {\n",
              "  background-color: #5977e3;\n",
              "  color: #f1f1f1;\n",
              "}\n",
              "#T_dac94_row0_col3, #T_dac94_row0_col4 {\n",
              "  background-color: #4358cb;\n",
              "  color: #f1f1f1;\n",
              "}\n",
              "#T_dac94_row0_col5 {\n",
              "  background-color: #8db0fe;\n",
              "  color: #000000;\n",
              "}\n",
              "#T_dac94_row1_col0 {\n",
              "  background-color: #4f69d9;\n",
              "  color: #f1f1f1;\n",
              "}\n",
              "#T_dac94_row1_col3, #T_dac94_row1_col4, #T_dac94_row2_col3, #T_dac94_row2_col4, #T_dac94_row3_col0, #T_dac94_row3_col1, #T_dac94_row3_col2, #T_dac94_row4_col0, #T_dac94_row4_col1, #T_dac94_row4_col2, #T_dac94_row4_col5 {\n",
              "  background-color: #3b4cc0;\n",
              "  color: #f1f1f1;\n",
              "}\n",
              "#T_dac94_row1_col5, #T_dac94_row2_col5 {\n",
              "  background-color: #688aef;\n",
              "  color: #f1f1f1;\n",
              "}\n",
              "#T_dac94_row2_col0 {\n",
              "  background-color: #506bda;\n",
              "  color: #f1f1f1;\n",
              "}\n",
              "#T_dac94_row3_col4, #T_dac94_row4_col3 {\n",
              "  background-color: #f08a6c;\n",
              "  color: #f1f1f1;\n",
              "}\n",
              "#T_dac94_row3_col5 {\n",
              "  background-color: #3c4ec2;\n",
              "  color: #f1f1f1;\n",
              "}\n",
              "#T_dac94_row5_col0 {\n",
              "  background-color: #93b5fe;\n",
              "  color: #000000;\n",
              "}\n",
              "#T_dac94_row5_col1, #T_dac94_row5_col2 {\n",
              "  background-color: #779af7;\n",
              "  color: #f1f1f1;\n",
              "}\n",
              "#T_dac94_row5_col3 {\n",
              "  background-color: #4b64d5;\n",
              "  color: #f1f1f1;\n",
              "}\n",
              "#T_dac94_row5_col4 {\n",
              "  background-color: #4961d2;\n",
              "  color: #f1f1f1;\n",
              "}\n",
              "</style>\n",
              "<table id=\"T_dac94_\" class=\"dataframe\">\n",
              "  <thead>\n",
              "    <tr>\n",
              "      <th class=\"blank level0\" >&nbsp;</th>\n",
              "      <th class=\"col_heading level0 col0\" >EDAD</th>\n",
              "      <th class=\"col_heading level0 col1\" >IMC</th>\n",
              "      <th class=\"col_heading level0 col2\" >PESO</th>\n",
              "      <th class=\"col_heading level0 col3\" >HIJOS</th>\n",
              "      <th class=\"col_heading level0 col4\" >TIENE_HIJOS</th>\n",
              "      <th class=\"col_heading level0 col5\" >PRECIO</th>\n",
              "    </tr>\n",
              "  </thead>\n",
              "  <tbody>\n",
              "    <tr>\n",
              "      <th id=\"T_dac94_level0_row0\" class=\"row_heading level0 row0\" >EDAD</th>\n",
              "      <td id=\"T_dac94_row0_col0\" class=\"data row0 col0\" >1.000000</td>\n",
              "      <td id=\"T_dac94_row0_col1\" class=\"data row0 col1\" >0.107742</td>\n",
              "      <td id=\"T_dac94_row0_col2\" class=\"data row0 col2\" >0.110609</td>\n",
              "      <td id=\"T_dac94_row0_col3\" class=\"data row0 col3\" >0.041016</td>\n",
              "      <td id=\"T_dac94_row0_col4\" class=\"data row0 col4\" >0.044213</td>\n",
              "      <td id=\"T_dac94_row0_col5\" class=\"data row0 col5\" >0.298308</td>\n",
              "    </tr>\n",
              "    <tr>\n",
              "      <th id=\"T_dac94_level0_row1\" class=\"row_heading level0 row1\" >IMC</th>\n",
              "      <td id=\"T_dac94_row1_col0\" class=\"data row1 col0\" >0.107742</td>\n",
              "      <td id=\"T_dac94_row1_col1\" class=\"data row1 col1\" >1.000000</td>\n",
              "      <td id=\"T_dac94_row1_col2\" class=\"data row1 col2\" >0.997731</td>\n",
              "      <td id=\"T_dac94_row1_col3\" class=\"data row1 col3\" >0.011157</td>\n",
              "      <td id=\"T_dac94_row1_col4\" class=\"data row1 col4\" >0.013901</td>\n",
              "      <td id=\"T_dac94_row1_col5\" class=\"data row1 col5\" >0.197793</td>\n",
              "    </tr>\n",
              "    <tr>\n",
              "      <th id=\"T_dac94_level0_row2\" class=\"row_heading level0 row2\" >PESO</th>\n",
              "      <td id=\"T_dac94_row2_col0\" class=\"data row2 col0\" >0.110609</td>\n",
              "      <td id=\"T_dac94_row2_col1\" class=\"data row2 col1\" >0.997731</td>\n",
              "      <td id=\"T_dac94_row2_col2\" class=\"data row2 col2\" >1.000000</td>\n",
              "      <td id=\"T_dac94_row2_col3\" class=\"data row2 col3\" >0.013540</td>\n",
              "      <td id=\"T_dac94_row2_col4\" class=\"data row2 col4\" >0.015882</td>\n",
              "      <td id=\"T_dac94_row2_col5\" class=\"data row2 col5\" >0.199910</td>\n",
              "    </tr>\n",
              "    <tr>\n",
              "      <th id=\"T_dac94_level0_row3\" class=\"row_heading level0 row3\" >HIJOS</th>\n",
              "      <td id=\"T_dac94_row3_col0\" class=\"data row3 col0\" >0.041016</td>\n",
              "      <td id=\"T_dac94_row3_col1\" class=\"data row3 col1\" >0.011157</td>\n",
              "      <td id=\"T_dac94_row3_col2\" class=\"data row3 col2\" >0.013540</td>\n",
              "      <td id=\"T_dac94_row3_col3\" class=\"data row3 col3\" >1.000000</td>\n",
              "      <td id=\"T_dac94_row3_col4\" class=\"data row3 col4\" >0.788314</td>\n",
              "      <td id=\"T_dac94_row3_col5\" class=\"data row3 col5\" >0.065633</td>\n",
              "    </tr>\n",
              "    <tr>\n",
              "      <th id=\"T_dac94_level0_row4\" class=\"row_heading level0 row4\" >TIENE_HIJOS</th>\n",
              "      <td id=\"T_dac94_row4_col0\" class=\"data row4 col0\" >0.044213</td>\n",
              "      <td id=\"T_dac94_row4_col1\" class=\"data row4 col1\" >0.013901</td>\n",
              "      <td id=\"T_dac94_row4_col2\" class=\"data row4 col2\" >0.015882</td>\n",
              "      <td id=\"T_dac94_row4_col3\" class=\"data row4 col3\" >0.788314</td>\n",
              "      <td id=\"T_dac94_row4_col4\" class=\"data row4 col4\" >1.000000</td>\n",
              "      <td id=\"T_dac94_row4_col5\" class=\"data row4 col5\" >0.061246</td>\n",
              "    </tr>\n",
              "    <tr>\n",
              "      <th id=\"T_dac94_level0_row5\" class=\"row_heading level0 row5\" >PRECIO</th>\n",
              "      <td id=\"T_dac94_row5_col0\" class=\"data row5 col0\" >0.298308</td>\n",
              "      <td id=\"T_dac94_row5_col1\" class=\"data row5 col1\" >0.197793</td>\n",
              "      <td id=\"T_dac94_row5_col2\" class=\"data row5 col2\" >0.199910</td>\n",
              "      <td id=\"T_dac94_row5_col3\" class=\"data row5 col3\" >0.065633</td>\n",
              "      <td id=\"T_dac94_row5_col4\" class=\"data row5 col4\" >0.061246</td>\n",
              "      <td id=\"T_dac94_row5_col5\" class=\"data row5 col5\" >1.000000</td>\n",
              "    </tr>\n",
              "  </tbody>\n",
              "</table>\n"
            ]
          },
          "metadata": {},
          "execution_count": 113
        }
      ]
    },
    {
      "cell_type": "code",
      "metadata": {
        "id": "_MfrABnoCDkY"
      },
      "source": [
        "#borramos el peso\n",
        "\n",
        "del(df_seguro_clean[\"PESO\"])\n"
      ],
      "execution_count": 114,
      "outputs": []
    },
    {
      "cell_type": "code",
      "metadata": {
        "colab": {
          "base_uri": "https://localhost:8080/",
          "height": 423
        },
        "id": "tdJLhXm5CDf7",
        "outputId": "c913b2eb-2bf5-4f35-a33b-ab6ba831fc62"
      },
      "source": [
        "df_seguro_clean"
      ],
      "execution_count": 115,
      "outputs": [
        {
          "output_type": "execute_result",
          "data": {
            "text/plain": [
              "      EDAD       SEXO     IMC  HIJOS  TIENE_HIJOS FUMADOR     CIUDAD  PRECIO\n",
              "0       37  MASCULINO  29.830      2            1      NO  BARCELONA     534\n",
              "1       25  MASCULINO  26.220      0            0      NO  BARCELONA     227\n",
              "2       52   FEMENINO  30.780      1            1      NO  BARCELONA     900\n",
              "3       23  MASCULINO  23.845      0            0      NO  BARCELONA     200\n",
              "4       60   FEMENINO  36.005      0            0      NO  BARCELONA    1102\n",
              "...    ...        ...     ...    ...          ...     ...        ...     ...\n",
              "1332    19   FEMENINO  20.600      0            0      NO   VALENCIA     144\n",
              "1333    52  MASCULINO  38.600      2            1      NO   VALENCIA     860\n",
              "1334    23   FEMENINO  33.400      0            0      NO   VALENCIA     900\n",
              "1335    52   FEMENINO  44.700      3            1      NO   VALENCIA     951\n",
              "1336    21   FEMENINO  25.800      0            0      NO   VALENCIA     167\n",
              "\n",
              "[1337 rows x 8 columns]"
            ],
            "text/html": [
              "\n",
              "  <div id=\"df-bc720d0c-ade1-4251-adb4-431f0ed386d5\">\n",
              "    <div class=\"colab-df-container\">\n",
              "      <div>\n",
              "<style scoped>\n",
              "    .dataframe tbody tr th:only-of-type {\n",
              "        vertical-align: middle;\n",
              "    }\n",
              "\n",
              "    .dataframe tbody tr th {\n",
              "        vertical-align: top;\n",
              "    }\n",
              "\n",
              "    .dataframe thead th {\n",
              "        text-align: right;\n",
              "    }\n",
              "</style>\n",
              "<table border=\"1\" class=\"dataframe\">\n",
              "  <thead>\n",
              "    <tr style=\"text-align: right;\">\n",
              "      <th></th>\n",
              "      <th>EDAD</th>\n",
              "      <th>SEXO</th>\n",
              "      <th>IMC</th>\n",
              "      <th>HIJOS</th>\n",
              "      <th>TIENE_HIJOS</th>\n",
              "      <th>FUMADOR</th>\n",
              "      <th>CIUDAD</th>\n",
              "      <th>PRECIO</th>\n",
              "    </tr>\n",
              "  </thead>\n",
              "  <tbody>\n",
              "    <tr>\n",
              "      <th>0</th>\n",
              "      <td>37</td>\n",
              "      <td>MASCULINO</td>\n",
              "      <td>29.830</td>\n",
              "      <td>2</td>\n",
              "      <td>1</td>\n",
              "      <td>NO</td>\n",
              "      <td>BARCELONA</td>\n",
              "      <td>534</td>\n",
              "    </tr>\n",
              "    <tr>\n",
              "      <th>1</th>\n",
              "      <td>25</td>\n",
              "      <td>MASCULINO</td>\n",
              "      <td>26.220</td>\n",
              "      <td>0</td>\n",
              "      <td>0</td>\n",
              "      <td>NO</td>\n",
              "      <td>BARCELONA</td>\n",
              "      <td>227</td>\n",
              "    </tr>\n",
              "    <tr>\n",
              "      <th>2</th>\n",
              "      <td>52</td>\n",
              "      <td>FEMENINO</td>\n",
              "      <td>30.780</td>\n",
              "      <td>1</td>\n",
              "      <td>1</td>\n",
              "      <td>NO</td>\n",
              "      <td>BARCELONA</td>\n",
              "      <td>900</td>\n",
              "    </tr>\n",
              "    <tr>\n",
              "      <th>3</th>\n",
              "      <td>23</td>\n",
              "      <td>MASCULINO</td>\n",
              "      <td>23.845</td>\n",
              "      <td>0</td>\n",
              "      <td>0</td>\n",
              "      <td>NO</td>\n",
              "      <td>BARCELONA</td>\n",
              "      <td>200</td>\n",
              "    </tr>\n",
              "    <tr>\n",
              "      <th>4</th>\n",
              "      <td>60</td>\n",
              "      <td>FEMENINO</td>\n",
              "      <td>36.005</td>\n",
              "      <td>0</td>\n",
              "      <td>0</td>\n",
              "      <td>NO</td>\n",
              "      <td>BARCELONA</td>\n",
              "      <td>1102</td>\n",
              "    </tr>\n",
              "    <tr>\n",
              "      <th>...</th>\n",
              "      <td>...</td>\n",
              "      <td>...</td>\n",
              "      <td>...</td>\n",
              "      <td>...</td>\n",
              "      <td>...</td>\n",
              "      <td>...</td>\n",
              "      <td>...</td>\n",
              "      <td>...</td>\n",
              "    </tr>\n",
              "    <tr>\n",
              "      <th>1332</th>\n",
              "      <td>19</td>\n",
              "      <td>FEMENINO</td>\n",
              "      <td>20.600</td>\n",
              "      <td>0</td>\n",
              "      <td>0</td>\n",
              "      <td>NO</td>\n",
              "      <td>VALENCIA</td>\n",
              "      <td>144</td>\n",
              "    </tr>\n",
              "    <tr>\n",
              "      <th>1333</th>\n",
              "      <td>52</td>\n",
              "      <td>MASCULINO</td>\n",
              "      <td>38.600</td>\n",
              "      <td>2</td>\n",
              "      <td>1</td>\n",
              "      <td>NO</td>\n",
              "      <td>VALENCIA</td>\n",
              "      <td>860</td>\n",
              "    </tr>\n",
              "    <tr>\n",
              "      <th>1334</th>\n",
              "      <td>23</td>\n",
              "      <td>FEMENINO</td>\n",
              "      <td>33.400</td>\n",
              "      <td>0</td>\n",
              "      <td>0</td>\n",
              "      <td>NO</td>\n",
              "      <td>VALENCIA</td>\n",
              "      <td>900</td>\n",
              "    </tr>\n",
              "    <tr>\n",
              "      <th>1335</th>\n",
              "      <td>52</td>\n",
              "      <td>FEMENINO</td>\n",
              "      <td>44.700</td>\n",
              "      <td>3</td>\n",
              "      <td>1</td>\n",
              "      <td>NO</td>\n",
              "      <td>VALENCIA</td>\n",
              "      <td>951</td>\n",
              "    </tr>\n",
              "    <tr>\n",
              "      <th>1336</th>\n",
              "      <td>21</td>\n",
              "      <td>FEMENINO</td>\n",
              "      <td>25.800</td>\n",
              "      <td>0</td>\n",
              "      <td>0</td>\n",
              "      <td>NO</td>\n",
              "      <td>VALENCIA</td>\n",
              "      <td>167</td>\n",
              "    </tr>\n",
              "  </tbody>\n",
              "</table>\n",
              "<p>1337 rows × 8 columns</p>\n",
              "</div>\n",
              "      <button class=\"colab-df-convert\" onclick=\"convertToInteractive('df-bc720d0c-ade1-4251-adb4-431f0ed386d5')\"\n",
              "              title=\"Convert this dataframe to an interactive table.\"\n",
              "              style=\"display:none;\">\n",
              "        \n",
              "  <svg xmlns=\"http://www.w3.org/2000/svg\" height=\"24px\"viewBox=\"0 0 24 24\"\n",
              "       width=\"24px\">\n",
              "    <path d=\"M0 0h24v24H0V0z\" fill=\"none\"/>\n",
              "    <path d=\"M18.56 5.44l.94 2.06.94-2.06 2.06-.94-2.06-.94-.94-2.06-.94 2.06-2.06.94zm-11 1L8.5 8.5l.94-2.06 2.06-.94-2.06-.94L8.5 2.5l-.94 2.06-2.06.94zm10 10l.94 2.06.94-2.06 2.06-.94-2.06-.94-.94-2.06-.94 2.06-2.06.94z\"/><path d=\"M17.41 7.96l-1.37-1.37c-.4-.4-.92-.59-1.43-.59-.52 0-1.04.2-1.43.59L10.3 9.45l-7.72 7.72c-.78.78-.78 2.05 0 2.83L4 21.41c.39.39.9.59 1.41.59.51 0 1.02-.2 1.41-.59l7.78-7.78 2.81-2.81c.8-.78.8-2.07 0-2.86zM5.41 20L4 18.59l7.72-7.72 1.47 1.35L5.41 20z\"/>\n",
              "  </svg>\n",
              "      </button>\n",
              "      \n",
              "  <style>\n",
              "    .colab-df-container {\n",
              "      display:flex;\n",
              "      flex-wrap:wrap;\n",
              "      gap: 12px;\n",
              "    }\n",
              "\n",
              "    .colab-df-convert {\n",
              "      background-color: #E8F0FE;\n",
              "      border: none;\n",
              "      border-radius: 50%;\n",
              "      cursor: pointer;\n",
              "      display: none;\n",
              "      fill: #1967D2;\n",
              "      height: 32px;\n",
              "      padding: 0 0 0 0;\n",
              "      width: 32px;\n",
              "    }\n",
              "\n",
              "    .colab-df-convert:hover {\n",
              "      background-color: #E2EBFA;\n",
              "      box-shadow: 0px 1px 2px rgba(60, 64, 67, 0.3), 0px 1px 3px 1px rgba(60, 64, 67, 0.15);\n",
              "      fill: #174EA6;\n",
              "    }\n",
              "\n",
              "    [theme=dark] .colab-df-convert {\n",
              "      background-color: #3B4455;\n",
              "      fill: #D2E3FC;\n",
              "    }\n",
              "\n",
              "    [theme=dark] .colab-df-convert:hover {\n",
              "      background-color: #434B5C;\n",
              "      box-shadow: 0px 1px 3px 1px rgba(0, 0, 0, 0.15);\n",
              "      filter: drop-shadow(0px 1px 2px rgba(0, 0, 0, 0.3));\n",
              "      fill: #FFFFFF;\n",
              "    }\n",
              "  </style>\n",
              "\n",
              "      <script>\n",
              "        const buttonEl =\n",
              "          document.querySelector('#df-bc720d0c-ade1-4251-adb4-431f0ed386d5 button.colab-df-convert');\n",
              "        buttonEl.style.display =\n",
              "          google.colab.kernel.accessAllowed ? 'block' : 'none';\n",
              "\n",
              "        async function convertToInteractive(key) {\n",
              "          const element = document.querySelector('#df-bc720d0c-ade1-4251-adb4-431f0ed386d5');\n",
              "          const dataTable =\n",
              "            await google.colab.kernel.invokeFunction('convertToInteractive',\n",
              "                                                     [key], {});\n",
              "          if (!dataTable) return;\n",
              "\n",
              "          const docLinkHtml = 'Like what you see? Visit the ' +\n",
              "            '<a target=\"_blank\" href=https://colab.research.google.com/notebooks/data_table.ipynb>data table notebook</a>'\n",
              "            + ' to learn more about interactive tables.';\n",
              "          element.innerHTML = '';\n",
              "          dataTable['output_type'] = 'display_data';\n",
              "          await google.colab.output.renderOutput(dataTable, element);\n",
              "          const docLink = document.createElement('div');\n",
              "          docLink.innerHTML = docLinkHtml;\n",
              "          element.appendChild(docLink);\n",
              "        }\n",
              "      </script>\n",
              "    </div>\n",
              "  </div>\n",
              "  "
            ]
          },
          "metadata": {},
          "execution_count": 115
        }
      ]
    },
    {
      "cell_type": "code",
      "metadata": {
        "id": "YZ89JTowCDYO"
      },
      "source": [
        ""
      ],
      "execution_count": 115,
      "outputs": []
    },
    {
      "cell_type": "code",
      "metadata": {
        "id": "hvq4XY6qV0m1",
        "colab": {
          "base_uri": "https://localhost:8080/",
          "height": 36
        },
        "outputId": "63588063-1f77-45ff-fb77-29bf770d7478"
      },
      "source": [
        "'''7.1 CORRELACION: DETECTAR SI HAY VARIABLES QUE EXPLICAN LO MISMO'''\n"
      ],
      "execution_count": 116,
      "outputs": [
        {
          "output_type": "execute_result",
          "data": {
            "text/plain": [
              "'7.1 CORRELACION: DETECTAR SI HAY VARIABLES QUE EXPLICAN LO MISMO'"
            ],
            "application/vnd.google.colaboratory.intrinsic+json": {
              "type": "string"
            }
          },
          "metadata": {},
          "execution_count": 116
        }
      ]
    },
    {
      "cell_type": "code",
      "metadata": {
        "id": "4mUYmCQXV0m1"
      },
      "source": [
        ""
      ],
      "execution_count": 116,
      "outputs": []
    },
    {
      "cell_type": "code",
      "metadata": {
        "id": "nxUujzRGV0m2"
      },
      "source": [
        ""
      ],
      "execution_count": 116,
      "outputs": []
    },
    {
      "cell_type": "code",
      "metadata": {
        "id": "PSe1_NV-V0m2",
        "colab": {
          "base_uri": "https://localhost:8080/",
          "height": 36
        },
        "outputId": "1bedc53c-a088-4b59-a812-b221272f14e1"
      },
      "source": [
        "'''7.2 ANALISIS DEL TARGET'''"
      ],
      "execution_count": 117,
      "outputs": [
        {
          "output_type": "execute_result",
          "data": {
            "text/plain": [
              "'7.2 ANALISIS DEL TARGET'"
            ],
            "application/vnd.google.colaboratory.intrinsic+json": {
              "type": "string"
            }
          },
          "metadata": {},
          "execution_count": 117
        }
      ]
    },
    {
      "cell_type": "code",
      "metadata": {
        "id": "1vwNX73GV0m2",
        "colab": {
          "base_uri": "https://localhost:8080/",
          "height": 317
        },
        "outputId": "9de98495-6545-4e2f-b801-718e6d7710a5"
      },
      "source": [
        "df_seguro_clean.hist(column= \"PRECIO\") #precio es la variable que se puede predecir"
      ],
      "execution_count": 118,
      "outputs": [
        {
          "output_type": "execute_result",
          "data": {
            "text/plain": [
              "array([[<matplotlib.axes._subplots.AxesSubplot object at 0x7fa85e9c7310>]],\n",
              "      dtype=object)"
            ]
          },
          "metadata": {},
          "execution_count": 118
        },
        {
          "output_type": "display_data",
          "data": {
            "text/plain": [
              "<Figure size 432x288 with 1 Axes>"
            ],
            "image/png": "[encoded data removed]"
          },
          "metadata": {
            "needs_background": "light"
          }
        }
      ]
    },
    {
      "cell_type": "code",
      "metadata": {
        "id": "Qsix_VAOV0m2",
        "colab": {
          "base_uri": "https://localhost:8080/",
          "height": 206
        },
        "outputId": "71ac34a3-07ad-497a-8ff4-8aa2b0ab83a2"
      },
      "source": [
        "df_seguro_clean[df_seguro_clean[\"PRECIO\"]>4500]"
      ],
      "execution_count": 119,
      "outputs": [
        {
          "output_type": "execute_result",
          "data": {
            "text/plain": [
              "      EDAD       SEXO     IMC  HIJOS  TIENE_HIJOS FUMADOR     CIUDAD  PRECIO\n",
              "139     31   FEMENINO  38.095      1            1      SI  BARCELONA    4881\n",
              "512     33   FEMENINO  35.530      0            0      SI    SEVILLA    4595\n",
              "622     52  MASCULINO  34.485      3            1      SI    SEVILLA    5002\n",
              "802     54   FEMENINO  47.410      0            0      SI     MADRID    5314\n",
              "1004    45  MASCULINO  30.360      0            0      SI     MADRID    5216"
            ],
            "text/html": [
              "\n",
              "  <div id=\"df-4ea503a3-c56b-4653-ba73-b309e942c648\">\n",
              "    <div class=\"colab-df-container\">\n",
              "      <div>\n",
              "<style scoped>\n",
              "    .dataframe tbody tr th:only-of-type {\n",
              "        vertical-align: middle;\n",
              "    }\n",
              "\n",
              "    .dataframe tbody tr th {\n",
              "        vertical-align: top;\n",
              "    }\n",
              "\n",
              "    .dataframe thead th {\n",
              "        text-align: right;\n",
              "    }\n",
              "</style>\n",
              "<table border=\"1\" class=\"dataframe\">\n",
              "  <thead>\n",
              "    <tr style=\"text-align: right;\">\n",
              "      <th></th>\n",
              "      <th>EDAD</th>\n",
              "      <th>SEXO</th>\n",
              "      <th>IMC</th>\n",
              "      <th>HIJOS</th>\n",
              "      <th>TIENE_HIJOS</th>\n",
              "      <th>FUMADOR</th>\n",
              "      <th>CIUDAD</th>\n",
              "      <th>PRECIO</th>\n",
              "    </tr>\n",
              "  </thead>\n",
              "  <tbody>\n",
              "    <tr>\n",
              "      <th>139</th>\n",
              "      <td>31</td>\n",
              "      <td>FEMENINO</td>\n",
              "      <td>38.095</td>\n",
              "      <td>1</td>\n",
              "      <td>1</td>\n",
              "      <td>SI</td>\n",
              "      <td>BARCELONA</td>\n",
              "      <td>4881</td>\n",
              "    </tr>\n",
              "    <tr>\n",
              "      <th>512</th>\n",
              "      <td>33</td>\n",
              "      <td>FEMENINO</td>\n",
              "      <td>35.530</td>\n",
              "      <td>0</td>\n",
              "      <td>0</td>\n",
              "      <td>SI</td>\n",
              "      <td>SEVILLA</td>\n",
              "      <td>4595</td>\n",
              "    </tr>\n",
              "    <tr>\n",
              "      <th>622</th>\n",
              "      <td>52</td>\n",
              "      <td>MASCULINO</td>\n",
              "      <td>34.485</td>\n",
              "      <td>3</td>\n",
              "      <td>1</td>\n",
              "      <td>SI</td>\n",
              "      <td>SEVILLA</td>\n",
              "      <td>5002</td>\n",
              "    </tr>\n",
              "    <tr>\n",
              "      <th>802</th>\n",
              "      <td>54</td>\n",
              "      <td>FEMENINO</td>\n",
              "      <td>47.410</td>\n",
              "      <td>0</td>\n",
              "      <td>0</td>\n",
              "      <td>SI</td>\n",
              "      <td>MADRID</td>\n",
              "      <td>5314</td>\n",
              "    </tr>\n",
              "    <tr>\n",
              "      <th>1004</th>\n",
              "      <td>45</td>\n",
              "      <td>MASCULINO</td>\n",
              "      <td>30.360</td>\n",
              "      <td>0</td>\n",
              "      <td>0</td>\n",
              "      <td>SI</td>\n",
              "      <td>MADRID</td>\n",
              "      <td>5216</td>\n",
              "    </tr>\n",
              "  </tbody>\n",
              "</table>\n",
              "</div>\n",
              "      <button class=\"colab-df-convert\" onclick=\"convertToInteractive('df-4ea503a3-c56b-4653-ba73-b309e942c648')\"\n",
              "              title=\"Convert this dataframe to an interactive table.\"\n",
              "              style=\"display:none;\">\n",
              "        \n",
              "  <svg xmlns=\"http://www.w3.org/2000/svg\" height=\"24px\"viewBox=\"0 0 24 24\"\n",
              "       width=\"24px\">\n",
              "    <path d=\"M0 0h24v24H0V0z\" fill=\"none\"/>\n",
              "    <path d=\"M18.56 5.44l.94 2.06.94-2.06 2.06-.94-2.06-.94-.94-2.06-.94 2.06-2.06.94zm-11 1L8.5 8.5l.94-2.06 2.06-.94-2.06-.94L8.5 2.5l-.94 2.06-2.06.94zm10 10l.94 2.06.94-2.06 2.06-.94-2.06-.94-.94-2.06-.94 2.06-2.06.94z\"/><path d=\"M17.41 7.96l-1.37-1.37c-.4-.4-.92-.59-1.43-.59-.52 0-1.04.2-1.43.59L10.3 9.45l-7.72 7.72c-.78.78-.78 2.05 0 2.83L4 21.41c.39.39.9.59 1.41.59.51 0 1.02-.2 1.41-.59l7.78-7.78 2.81-2.81c.8-.78.8-2.07 0-2.86zM5.41 20L4 18.59l7.72-7.72 1.47 1.35L5.41 20z\"/>\n",
              "  </svg>\n",
              "      </button>\n",
              "      \n",
              "  <style>\n",
              "    .colab-df-container {\n",
              "      display:flex;\n",
              "      flex-wrap:wrap;\n",
              "      gap: 12px;\n",
              "    }\n",
              "\n",
              "    .colab-df-convert {\n",
              "      background-color: #E8F0FE;\n",
              "      border: none;\n",
              "      border-radius: 50%;\n",
              "      cursor: pointer;\n",
              "      display: none;\n",
              "      fill: #1967D2;\n",
              "      height: 32px;\n",
              "      padding: 0 0 0 0;\n",
              "      width: 32px;\n",
              "    }\n",
              "\n",
              "    .colab-df-convert:hover {\n",
              "      background-color: #E2EBFA;\n",
              "      box-shadow: 0px 1px 2px rgba(60, 64, 67, 0.3), 0px 1px 3px 1px rgba(60, 64, 67, 0.15);\n",
              "      fill: #174EA6;\n",
              "    }\n",
              "\n",
              "    [theme=dark] .colab-df-convert {\n",
              "      background-color: #3B4455;\n",
              "      fill: #D2E3FC;\n",
              "    }\n",
              "\n",
              "    [theme=dark] .colab-df-convert:hover {\n",
              "      background-color: #434B5C;\n",
              "      box-shadow: 0px 1px 3px 1px rgba(0, 0, 0, 0.15);\n",
              "      filter: drop-shadow(0px 1px 2px rgba(0, 0, 0, 0.3));\n",
              "      fill: #FFFFFF;\n",
              "    }\n",
              "  </style>\n",
              "\n",
              "      <script>\n",
              "        const buttonEl =\n",
              "          document.querySelector('#df-4ea503a3-c56b-4653-ba73-b309e942c648 button.colab-df-convert');\n",
              "        buttonEl.style.display =\n",
              "          google.colab.kernel.accessAllowed ? 'block' : 'none';\n",
              "\n",
              "        async function convertToInteractive(key) {\n",
              "          const element = document.querySelector('#df-4ea503a3-c56b-4653-ba73-b309e942c648');\n",
              "          const dataTable =\n",
              "            await google.colab.kernel.invokeFunction('convertToInteractive',\n",
              "                                                     [key], {});\n",
              "          if (!dataTable) return;\n",
              "\n",
              "          const docLinkHtml = 'Like what you see? Visit the ' +\n",
              "            '<a target=\"_blank\" href=https://colab.research.google.com/notebooks/data_table.ipynb>data table notebook</a>'\n",
              "            + ' to learn more about interactive tables.';\n",
              "          element.innerHTML = '';\n",
              "          dataTable['output_type'] = 'display_data';\n",
              "          await google.colab.output.renderOutput(dataTable, element);\n",
              "          const docLink = document.createElement('div');\n",
              "          docLink.innerHTML = docLinkHtml;\n",
              "          element.appendChild(docLink);\n",
              "        }\n",
              "      </script>\n",
              "    </div>\n",
              "  </div>\n",
              "  "
            ]
          },
          "metadata": {},
          "execution_count": 119
        }
      ]
    },
    {
      "cell_type": "code",
      "metadata": {
        "colab": {
          "base_uri": "https://localhost:8080/",
          "height": 297
        },
        "id": "OG62zarJDNxB",
        "outputId": "ef7dcb99-af9e-4175-a592-ef2b27adb28a"
      },
      "source": [
        "sns.boxplot(x=df_seguro_clean[\"PRECIO\"]) #la mayor parte de peso esta concentrada entre 0-100, hay algunos puntos que salen de la caja. \n",
        "#no hay porque borrarlos, entonces, hay metodos:\n",
        "#1) Transformar la variable precio --> una transformación que va muy bien es la estandarización logaritmica, para que los valores esten más concentrados\n",
        "#2)el log de peso esta mas concentrado y funciona mejor. La predicción del precio nos dará logaritmica, pero despues se transforma otra vez y ya está."
      ],
      "execution_count": 120,
      "outputs": [
        {
          "output_type": "execute_result",
          "data": {
            "text/plain": [
              "<matplotlib.axes._subplots.AxesSubplot at 0x7fa85cd77490>"
            ]
          },
          "metadata": {},
          "execution_count": 120
        },
        {
          "output_type": "display_data",
          "data": {
            "text/plain": [
              "<Figure size 432x288 with 1 Axes>"
            ],
            "image/png": "[encoded data removed]"
          },
          "metadata": {
            "needs_background": "light"
          }
        }
      ]
    },
    {
      "cell_type": "code",
      "metadata": {
        "id": "nXA65SCPDNsr"
      },
      "source": [
        "df_seguro_clean[\"LOG_P\"]= np.log10(df_seguro_clean[\"PRECIO\"]) #el log sirve para estandarizar la función, por eso se transforma.\n"
      ],
      "execution_count": 121,
      "outputs": []
    },
    {
      "cell_type": "code",
      "metadata": {
        "colab": {
          "base_uri": "https://localhost:8080/",
          "height": 299
        },
        "id": "vvEtIBRmDNp7",
        "outputId": "e1e4dfbe-b078-4e10-c001-4d9a4475ca1a"
      },
      "source": [
        "sns.boxplot(x=df_seguro_clean[\"LOG_P\"])"
      ],
      "execution_count": 122,
      "outputs": [
        {
          "output_type": "execute_result",
          "data": {
            "text/plain": [
              "<matplotlib.axes._subplots.AxesSubplot at 0x7fa8610deed0>"
            ]
          },
          "metadata": {},
          "execution_count": 122
        },
        {
          "output_type": "display_data",
          "data": {
            "text/plain": [
              "<Figure size 432x288 with 1 Axes>"
            ],
            "image/png": "[encoded data removed]"
          },
          "metadata": {
            "needs_background": "light"
          }
        }
      ]
    },
    {
      "cell_type": "code",
      "metadata": {
        "id": "i9nx3aRxDNmw"
      },
      "source": [
        ""
      ],
      "execution_count": 122,
      "outputs": []
    },
    {
      "cell_type": "code",
      "metadata": {
        "id": "a1Ow6jU9V0m3",
        "colab": {
          "base_uri": "https://localhost:8080/",
          "height": 36
        },
        "outputId": "200b58c8-2eb1-4032-d4e7-e5bf33a21ff5"
      },
      "source": [
        "'''7.3 TARGET VS VARIABLES INDEPENDIENTES'''"
      ],
      "execution_count": 123,
      "outputs": [
        {
          "output_type": "execute_result",
          "data": {
            "text/plain": [
              "'7.3 TARGET VS VARIABLES INDEPENDIENTES'"
            ],
            "application/vnd.google.colaboratory.intrinsic+json": {
              "type": "string"
            }
          },
          "metadata": {},
          "execution_count": 123
        }
      ]
    },
    {
      "cell_type": "code",
      "metadata": {
        "colab": {
          "base_uri": "https://localhost:8080/"
        },
        "id": "tHYZnBDWFVcf",
        "outputId": "1ad36b33-3256-44a9-a246-5334589c88b8"
      },
      "source": [
        "l_categorica"
      ],
      "execution_count": 124,
      "outputs": [
        {
          "output_type": "execute_result",
          "data": {
            "text/plain": [
              "['SEXO', 'FUMADOR', 'CIUDAD']"
            ]
          },
          "metadata": {},
          "execution_count": 124
        }
      ]
    },
    {
      "cell_type": "code",
      "metadata": {
        "id": "iPTM0jN8V0m3",
        "colab": {
          "base_uri": "https://localhost:8080/",
          "height": 297
        },
        "outputId": "d41947a6-7478-49b9-d1ed-aef6bffbc272"
      },
      "source": [
        "sns.violinplot(x=\"SEXO\", y=\"PRECIO\", data= df_seguro_clean) #se concentra toda la información entre 0-1000. el objetivo aqui es diferenciar si el sexo tiene un alto valor de significancia respecto el precio.\n",
        "#aqui son muy parecidos. "
      ],
      "execution_count": 125,
      "outputs": [
        {
          "output_type": "execute_result",
          "data": {
            "text/plain": [
              "<matplotlib.axes._subplots.AxesSubplot at 0x7fa85ce695d0>"
            ]
          },
          "metadata": {},
          "execution_count": 125
        },
        {
          "output_type": "display_data",
          "data": {
            "text/plain": [
              "<Figure size 432x288 with 1 Axes>"
            ],
            "image/png": "[encoded data removed]"
          },
          "metadata": {
            "needs_background": "light"
          }
        }
      ]
    },
    {
      "cell_type": "code",
      "metadata": {
        "id": "wwFCWiyQV0m4",
        "colab": {
          "base_uri": "https://localhost:8080/",
          "height": 297
        },
        "outputId": "dd1713c7-ac97-4c7d-8fc2-541ccf33f7ba"
      },
      "source": [
        "sns.violinplot(x=\"FUMADOR\", y=\"PRECIO\", data= df_seguro_clean)\n",
        "#aqui se ve claro que los no fumadores pagan menos."
      ],
      "execution_count": 126,
      "outputs": [
        {
          "output_type": "execute_result",
          "data": {
            "text/plain": [
              "<matplotlib.axes._subplots.AxesSubplot at 0x7fa85ce5b5d0>"
            ]
          },
          "metadata": {},
          "execution_count": 126
        },
        {
          "output_type": "display_data",
          "data": {
            "text/plain": [
              "<Figure size 432x288 with 1 Axes>"
            ],
            "image/png": "[encoded data removed]"
          },
          "metadata": {
            "needs_background": "light"
          }
        }
      ]
    },
    {
      "cell_type": "code",
      "metadata": {
        "colab": {
          "base_uri": "https://localhost:8080/",
          "height": 297
        },
        "id": "0Bkxl_OUH7N5",
        "outputId": "e620dcf3-ef69-4fff-e17d-ec76a19812f9"
      },
      "source": [
        "sns.violinplot(x=\"FUMADOR\", y=\"PRECIO\", hue=\"SEXO\",data= df_seguro_clean)\n"
      ],
      "execution_count": 127,
      "outputs": [
        {
          "output_type": "execute_result",
          "data": {
            "text/plain": [
              "<matplotlib.axes._subplots.AxesSubplot at 0x7fa85ce817d0>"
            ]
          },
          "metadata": {},
          "execution_count": 127
        },
        {
          "output_type": "display_data",
          "data": {
            "text/plain": [
              "<Figure size 432x288 with 1 Axes>"
            ],
            "image/png": "[encoded data removed]"
          },
          "metadata": {
            "needs_background": "light"
          }
        }
      ]
    },
    {
      "cell_type": "code",
      "metadata": {
        "colab": {
          "base_uri": "https://localhost:8080/",
          "height": 297
        },
        "id": "MlsFqIf9GKFL",
        "outputId": "0f887523-b817-4ad1-8581-9a975a113115"
      },
      "source": [
        "sns.violinplot(x=\"CIUDAD\", y=\"PRECIO\", data= df_seguro_clean)"
      ],
      "execution_count": 128,
      "outputs": [
        {
          "output_type": "execute_result",
          "data": {
            "text/plain": [
              "<matplotlib.axes._subplots.AxesSubplot at 0x7fa85cf33ad0>"
            ]
          },
          "metadata": {},
          "execution_count": 128
        },
        {
          "output_type": "display_data",
          "data": {
            "text/plain": [
              "<Figure size 432x288 with 1 Axes>"
            ],
            "image/png": "[encoded data removed]"
          },
          "metadata": {
            "needs_background": "light"
          }
        }
      ]
    },
    {
      "cell_type": "code",
      "metadata": {
        "id": "5ToDdCEfGX-E"
      },
      "source": [
        "#COMBINACION DE VARIABLES"
      ],
      "execution_count": 129,
      "outputs": []
    },
    {
      "cell_type": "code",
      "metadata": {
        "colab": {
          "base_uri": "https://localhost:8080/",
          "height": 297
        },
        "id": "fnSGkzPeGaf8",
        "outputId": "9deb86d6-aa25-4881-f5c4-20fb39aca91a"
      },
      "source": [
        "sns.violinplot(x=\"HIJOS\", y=\"PRECIO\", data= df_seguro_clean) #5HIJOS pagan menos"
      ],
      "execution_count": 130,
      "outputs": [
        {
          "output_type": "execute_result",
          "data": {
            "text/plain": [
              "<matplotlib.axes._subplots.AxesSubplot at 0x7fa85cc55050>"
            ]
          },
          "metadata": {},
          "execution_count": 130
        },
        {
          "output_type": "display_data",
          "data": {
            "text/plain": [
              "<Figure size 432x288 with 1 Axes>"
            ],
            "image/png": "[encoded data removed]"
          },
          "metadata": {
            "needs_background": "light"
          }
        }
      ]
    },
    {
      "cell_type": "code",
      "metadata": {
        "colab": {
          "base_uri": "https://localhost:8080/",
          "height": 297
        },
        "id": "A-YuMPp3GgLg",
        "outputId": "fee29768-5bd3-465c-911f-308950bbaf41"
      },
      "source": [
        "sns.violinplot(x=\"HIJOS\", y=\"PRECIO\", hue= \"SEXO\", data= df_seguro_clean, palette= \"magma\") #\"hue\" es como el groupby p"
      ],
      "execution_count": 131,
      "outputs": [
        {
          "output_type": "execute_result",
          "data": {
            "text/plain": [
              "<matplotlib.axes._subplots.AxesSubplot at 0x7fa85cc4d490>"
            ]
          },
          "metadata": {},
          "execution_count": 131
        },
        {
          "output_type": "display_data",
          "data": {
            "text/plain": [
              "<Figure size 432x288 with 1 Axes>"
            ],
            "image/png": "[encoded data removed]"
          },
          "metadata": {
            "needs_background": "light"
          }
        }
      ]
    },
    {
      "cell_type": "code",
      "metadata": {
        "colab": {
          "base_uri": "https://localhost:8080/",
          "height": 297
        },
        "id": "d4PQjav_HRJ7",
        "outputId": "e82cfc12-3505-4c15-9a37-51da5915cab8"
      },
      "source": [
        "sns.scatterplot(x=\"EDAD\", y= \"PRECIO\", data=df_seguro_clean)"
      ],
      "execution_count": 132,
      "outputs": [
        {
          "output_type": "execute_result",
          "data": {
            "text/plain": [
              "<matplotlib.axes._subplots.AxesSubplot at 0x7fa85cc04b90>"
            ]
          },
          "metadata": {},
          "execution_count": 132
        },
        {
          "output_type": "display_data",
          "data": {
            "text/plain": [
              "<Figure size 432x288 with 1 Axes>"
            ],
            "image/png": "[encoded data removed]"
          },
          "metadata": {
            "needs_background": "light"
          }
        }
      ]
    },
    {
      "cell_type": "code",
      "metadata": {
        "colab": {
          "base_uri": "https://localhost:8080/",
          "height": 297
        },
        "id": "zA3ZbflPHhcz",
        "outputId": "3d87ee35-25b1-493e-e0c6-4d12a3e78638"
      },
      "source": [
        "sns.scatterplot(x=\"EDAD\", y= \"PRECIO\", hue= \"FUMADOR\", data=df_seguro_clean) #NO SALEN TODAS ARRIBA por el IMC, el fumador es una variable que va influir en el modelo.\n",
        "#es improtante que no haya salido todo a la derecha concentrado, ya no nos hubiera servido.\n",
        "#COMO SE COMPORTAN LAS VARIABLES EN FUNCION DE QUÉ QUIERO PREDECIR."
      ],
      "execution_count": 133,
      "outputs": [
        {
          "output_type": "execute_result",
          "data": {
            "text/plain": [
              "<matplotlib.axes._subplots.AxesSubplot at 0x7fa85ca28990>"
            ]
          },
          "metadata": {},
          "execution_count": 133
        },
        {
          "output_type": "display_data",
          "data": {
            "text/plain": [
              "<Figure size 432x288 with 1 Axes>"
            ],
            "image/png": "[encoded data removed]"
          },
          "metadata": {
            "needs_background": "light"
          }
        }
      ]
    },
    {
      "cell_type": "code",
      "metadata": {
        "colab": {
          "base_uri": "https://localhost:8080/",
          "height": 297
        },
        "id": "NXP3TPnfHhZW",
        "outputId": "5e9c9cc5-77dd-475d-b6c9-c3c39778e05a"
      },
      "source": [
        "sns.scatterplot(x=\"IMC\", y= \"PRECIO\", hue= \"FUMADOR\", data=df_seguro_clean)\n"
      ],
      "execution_count": 134,
      "outputs": [
        {
          "output_type": "execute_result",
          "data": {
            "text/plain": [
              "<matplotlib.axes._subplots.AxesSubplot at 0x7fa85c989250>"
            ]
          },
          "metadata": {},
          "execution_count": 134
        },
        {
          "output_type": "display_data",
          "data": {
            "text/plain": [
              "<Figure size 432x288 with 1 Axes>"
            ],
            "image/png": "[encoded data removed]"
          },
          "metadata": {
            "needs_background": "light"
          }
        }
      ]
    },
    {
      "cell_type": "code",
      "metadata": {
        "id": "0UrBplbzV0m4",
        "colab": {
          "base_uri": "https://localhost:8080/",
          "height": 36
        },
        "outputId": "e83e50ca-c5c5-4e9b-e8be-8211d15ebf25"
      },
      "source": [
        "'''7.4 REESCALAR VARIABLES'''"
      ],
      "execution_count": 135,
      "outputs": [
        {
          "output_type": "execute_result",
          "data": {
            "text/plain": [
              "'7.4 REESCALAR VARIABLES'"
            ],
            "application/vnd.google.colaboratory.intrinsic+json": {
              "type": "string"
            }
          },
          "metadata": {},
          "execution_count": 135
        }
      ]
    },
    {
      "cell_type": "code",
      "metadata": {
        "id": "YuZ_9o6hV0m5"
      },
      "source": [
        "#vamos a hacer un nuevo checkpoint\n",
        "\n",
        "df_seguro_prep= df_seguro_clean.copy()"
      ],
      "execution_count": 136,
      "outputs": []
    },
    {
      "cell_type": "code",
      "metadata": {
        "id": "2Is0qmtPV0m5"
      },
      "source": [
        "target= [\"PRECIO\", \"LOG_P\"]"
      ],
      "execution_count": 137,
      "outputs": []
    },
    {
      "cell_type": "code",
      "metadata": {
        "id": "FKI3HDCrI8eh"
      },
      "source": [
        "l_numerica2, l_boolean2, l_categorica2= obtener_lista_variables(df_seguro_prep)"
      ],
      "execution_count": 138,
      "outputs": []
    },
    {
      "cell_type": "code",
      "metadata": {
        "colab": {
          "base_uri": "https://localhost:8080/"
        },
        "id": "vgGDn6UsI8ba",
        "outputId": "c81adaaf-68c2-47bf-e3f0-385dd09eded7"
      },
      "source": [
        "l_categorica2"
      ],
      "execution_count": 139,
      "outputs": [
        {
          "output_type": "execute_result",
          "data": {
            "text/plain": [
              "['SEXO', 'FUMADOR', 'CIUDAD']"
            ]
          },
          "metadata": {},
          "execution_count": 139
        }
      ]
    },
    {
      "cell_type": "code",
      "metadata": {
        "id": "O_ZfVwFLJ6kk"
      },
      "source": [
        "le= LabelEncoder()"
      ],
      "execution_count": 140,
      "outputs": []
    },
    {
      "cell_type": "code",
      "metadata": {
        "id": "S0K69aPWKFdG"
      },
      "source": [
        "df_seguro_prep[\"CIUDAD2\"]=le.fit_transform(df_seguro_prep[\"CIUDAD\"]) "
      ],
      "execution_count": 141,
      "outputs": []
    },
    {
      "cell_type": "code",
      "metadata": {
        "colab": {
          "base_uri": "https://localhost:8080/",
          "height": 206
        },
        "id": "_m9tGomYJ6iC",
        "outputId": "0accf146-b2ce-4527-83f1-3311fc072050"
      },
      "source": [
        "df_seguro_prep.tail()"
      ],
      "execution_count": 142,
      "outputs": [
        {
          "output_type": "execute_result",
          "data": {
            "text/plain": [
              "      EDAD       SEXO   IMC  HIJOS  TIENE_HIJOS FUMADOR    CIUDAD  PRECIO  \\\n",
              "1332    19   FEMENINO  20.6      0            0      NO  VALENCIA     144   \n",
              "1333    52  MASCULINO  38.6      2            1      NO  VALENCIA     860   \n",
              "1334    23   FEMENINO  33.4      0            0      NO  VALENCIA     900   \n",
              "1335    52   FEMENINO  44.7      3            1      NO  VALENCIA     951   \n",
              "1336    21   FEMENINO  25.8      0            0      NO  VALENCIA     167   \n",
              "\n",
              "         LOG_P  CIUDAD2  \n",
              "1332  2.158362        3  \n",
              "1333  2.934498        3  \n",
              "1334  2.954243        3  \n",
              "1335  2.978181        3  \n",
              "1336  2.222716        3  "
            ],
            "text/html": [
              "\n",
              "  <div id=\"df-b8510d27-e169-4d4b-a16e-a03e05ed42b5\">\n",
              "    <div class=\"colab-df-container\">\n",
              "      <div>\n",
              "<style scoped>\n",
              "    .dataframe tbody tr th:only-of-type {\n",
              "        vertical-align: middle;\n",
              "    }\n",
              "\n",
              "    .dataframe tbody tr th {\n",
              "        vertical-align: top;\n",
              "    }\n",
              "\n",
              "    .dataframe thead th {\n",
              "        text-align: right;\n",
              "    }\n",
              "</style>\n",
              "<table border=\"1\" class=\"dataframe\">\n",
              "  <thead>\n",
              "    <tr style=\"text-align: right;\">\n",
              "      <th></th>\n",
              "      <th>EDAD</th>\n",
              "      <th>SEXO</th>\n",
              "      <th>IMC</th>\n",
              "      <th>HIJOS</th>\n",
              "      <th>TIENE_HIJOS</th>\n",
              "      <th>FUMADOR</th>\n",
              "      <th>CIUDAD</th>\n",
              "      <th>PRECIO</th>\n",
              "      <th>LOG_P</th>\n",
              "      <th>CIUDAD2</th>\n",
              "    </tr>\n",
              "  </thead>\n",
              "  <tbody>\n",
              "    <tr>\n",
              "      <th>1332</th>\n",
              "      <td>19</td>\n",
              "      <td>FEMENINO</td>\n",
              "      <td>20.6</td>\n",
              "      <td>0</td>\n",
              "      <td>0</td>\n",
              "      <td>NO</td>\n",
              "      <td>VALENCIA</td>\n",
              "      <td>144</td>\n",
              "      <td>2.158362</td>\n",
              "      <td>3</td>\n",
              "    </tr>\n",
              "    <tr>\n",
              "      <th>1333</th>\n",
              "      <td>52</td>\n",
              "      <td>MASCULINO</td>\n",
              "      <td>38.6</td>\n",
              "      <td>2</td>\n",
              "      <td>1</td>\n",
              "      <td>NO</td>\n",
              "      <td>VALENCIA</td>\n",
              "      <td>860</td>\n",
              "      <td>2.934498</td>\n",
              "      <td>3</td>\n",
              "    </tr>\n",
              "    <tr>\n",
              "      <th>1334</th>\n",
              "      <td>23</td>\n",
              "      <td>FEMENINO</td>\n",
              "      <td>33.4</td>\n",
              "      <td>0</td>\n",
              "      <td>0</td>\n",
              "      <td>NO</td>\n",
              "      <td>VALENCIA</td>\n",
              "      <td>900</td>\n",
              "      <td>2.954243</td>\n",
              "      <td>3</td>\n",
              "    </tr>\n",
              "    <tr>\n",
              "      <th>1335</th>\n",
              "      <td>52</td>\n",
              "      <td>FEMENINO</td>\n",
              "      <td>44.7</td>\n",
              "      <td>3</td>\n",
              "      <td>1</td>\n",
              "      <td>NO</td>\n",
              "      <td>VALENCIA</td>\n",
              "      <td>951</td>\n",
              "      <td>2.978181</td>\n",
              "      <td>3</td>\n",
              "    </tr>\n",
              "    <tr>\n",
              "      <th>1336</th>\n",
              "      <td>21</td>\n",
              "      <td>FEMENINO</td>\n",
              "      <td>25.8</td>\n",
              "      <td>0</td>\n",
              "      <td>0</td>\n",
              "      <td>NO</td>\n",
              "      <td>VALENCIA</td>\n",
              "      <td>167</td>\n",
              "      <td>2.222716</td>\n",
              "      <td>3</td>\n",
              "    </tr>\n",
              "  </tbody>\n",
              "</table>\n",
              "</div>\n",
              "      <button class=\"colab-df-convert\" onclick=\"convertToInteractive('df-b8510d27-e169-4d4b-a16e-a03e05ed42b5')\"\n",
              "              title=\"Convert this dataframe to an interactive table.\"\n",
              "              style=\"display:none;\">\n",
              "        \n",
              "  <svg xmlns=\"http://www.w3.org/2000/svg\" height=\"24px\"viewBox=\"0 0 24 24\"\n",
              "       width=\"24px\">\n",
              "    <path d=\"M0 0h24v24H0V0z\" fill=\"none\"/>\n",
              "    <path d=\"M18.56 5.44l.94 2.06.94-2.06 2.06-.94-2.06-.94-.94-2.06-.94 2.06-2.06.94zm-11 1L8.5 8.5l.94-2.06 2.06-.94-2.06-.94L8.5 2.5l-.94 2.06-2.06.94zm10 10l.94 2.06.94-2.06 2.06-.94-2.06-.94-.94-2.06-.94 2.06-2.06.94z\"/><path d=\"M17.41 7.96l-1.37-1.37c-.4-.4-.92-.59-1.43-.59-.52 0-1.04.2-1.43.59L10.3 9.45l-7.72 7.72c-.78.78-.78 2.05 0 2.83L4 21.41c.39.39.9.59 1.41.59.51 0 1.02-.2 1.41-.59l7.78-7.78 2.81-2.81c.8-.78.8-2.07 0-2.86zM5.41 20L4 18.59l7.72-7.72 1.47 1.35L5.41 20z\"/>\n",
              "  </svg>\n",
              "      </button>\n",
              "      \n",
              "  <style>\n",
              "    .colab-df-container {\n",
              "      display:flex;\n",
              "      flex-wrap:wrap;\n",
              "      gap: 12px;\n",
              "    }\n",
              "\n",
              "    .colab-df-convert {\n",
              "      background-color: #E8F0FE;\n",
              "      border: none;\n",
              "      border-radius: 50%;\n",
              "      cursor: pointer;\n",
              "      display: none;\n",
              "      fill: #1967D2;\n",
              "      height: 32px;\n",
              "      padding: 0 0 0 0;\n",
              "      width: 32px;\n",
              "    }\n",
              "\n",
              "    .colab-df-convert:hover {\n",
              "      background-color: #E2EBFA;\n",
              "      box-shadow: 0px 1px 2px rgba(60, 64, 67, 0.3), 0px 1px 3px 1px rgba(60, 64, 67, 0.15);\n",
              "      fill: #174EA6;\n",
              "    }\n",
              "\n",
              "    [theme=dark] .colab-df-convert {\n",
              "      background-color: #3B4455;\n",
              "      fill: #D2E3FC;\n",
              "    }\n",
              "\n",
              "    [theme=dark] .colab-df-convert:hover {\n",
              "      background-color: #434B5C;\n",
              "      box-shadow: 0px 1px 3px 1px rgba(0, 0, 0, 0.15);\n",
              "      filter: drop-shadow(0px 1px 2px rgba(0, 0, 0, 0.3));\n",
              "      fill: #FFFFFF;\n",
              "    }\n",
              "  </style>\n",
              "\n",
              "      <script>\n",
              "        const buttonEl =\n",
              "          document.querySelector('#df-b8510d27-e169-4d4b-a16e-a03e05ed42b5 button.colab-df-convert');\n",
              "        buttonEl.style.display =\n",
              "          google.colab.kernel.accessAllowed ? 'block' : 'none';\n",
              "\n",
              "        async function convertToInteractive(key) {\n",
              "          const element = document.querySelector('#df-b8510d27-e169-4d4b-a16e-a03e05ed42b5');\n",
              "          const dataTable =\n",
              "            await google.colab.kernel.invokeFunction('convertToInteractive',\n",
              "                                                     [key], {});\n",
              "          if (!dataTable) return;\n",
              "\n",
              "          const docLinkHtml = 'Like what you see? Visit the ' +\n",
              "            '<a target=\"_blank\" href=https://colab.research.google.com/notebooks/data_table.ipynb>data table notebook</a>'\n",
              "            + ' to learn more about interactive tables.';\n",
              "          element.innerHTML = '';\n",
              "          dataTable['output_type'] = 'display_data';\n",
              "          await google.colab.output.renderOutput(dataTable, element);\n",
              "          const docLink = document.createElement('div');\n",
              "          docLink.innerHTML = docLinkHtml;\n",
              "          element.appendChild(docLink);\n",
              "        }\n",
              "      </script>\n",
              "    </div>\n",
              "  </div>\n",
              "  "
            ]
          },
          "metadata": {},
          "execution_count": 142
        }
      ]
    },
    {
      "cell_type": "code",
      "metadata": {
        "id": "mfF-R3v5J6e4"
      },
      "source": [
        "del(df_seguro_prep[\"CIUDAD2\"])"
      ],
      "execution_count": 143,
      "outputs": []
    },
    {
      "cell_type": "code",
      "metadata": {
        "id": "aB1anN_-J6XC"
      },
      "source": [
        "df_seguro_prep_cate= pd.get_dummies(data=df_seguro_prep, prefix=None, prefix_sep=\" \", columns= l_categorica2)"
      ],
      "execution_count": 144,
      "outputs": []
    },
    {
      "cell_type": "code",
      "metadata": {
        "id": "VrStLAagQbgv"
      },
      "source": [
        "df_seguro_prep_cate=pd.get_dummies(data=df_seguro_prep,\n",
        "                               prefix=None, \n",
        "                               prefix_sep=\"_\",\n",
        "                               columns=l_categorica2,\n",
        "                               drop_first=\"True\")\n"
      ],
      "execution_count": 145,
      "outputs": []
    },
    {
      "cell_type": "code",
      "metadata": {
        "colab": {
          "base_uri": "https://localhost:8080/",
          "height": 423
        },
        "id": "aSLg_PFJQbdE",
        "outputId": "d1c3a273-7a5e-468e-99a0-c02970a606be"
      },
      "source": [
        "df_seguro_prep_cate"
      ],
      "execution_count": 146,
      "outputs": [
        {
          "output_type": "execute_result",
          "data": {
            "text/plain": [
              "      EDAD     IMC  HIJOS  TIENE_HIJOS  PRECIO     LOG_P  SEXO_MASCULINO  \\\n",
              "0       37  29.830      2            1     534  2.727541               1   \n",
              "1       25  26.220      0            0     227  2.356026               1   \n",
              "2       52  30.780      1            1     900  2.954243               0   \n",
              "3       23  23.845      0            0     200  2.301030               1   \n",
              "4       60  36.005      0            0    1102  3.042182               0   \n",
              "...    ...     ...    ...          ...     ...       ...             ...   \n",
              "1332    19  20.600      0            0     144  2.158362               0   \n",
              "1333    52  38.600      2            1     860  2.934498               1   \n",
              "1334    23  33.400      0            0     900  2.954243               0   \n",
              "1335    52  44.700      3            1     951  2.978181               0   \n",
              "1336    21  25.800      0            0     167  2.222716               0   \n",
              "\n",
              "      FUMADOR_SI  CIUDAD_MADRID  CIUDAD_SEVILLA  CIUDAD_VALENCIA  \n",
              "0              0              0               0                0  \n",
              "1              0              0               0                0  \n",
              "2              0              0               0                0  \n",
              "3              0              0               0                0  \n",
              "4              0              0               0                0  \n",
              "...          ...            ...             ...              ...  \n",
              "1332           0              0               0                1  \n",
              "1333           0              0               0                1  \n",
              "1334           0              0               0                1  \n",
              "1335           0              0               0                1  \n",
              "1336           0              0               0                1  \n",
              "\n",
              "[1337 rows x 11 columns]"
            ],
            "text/html": [
              "\n",
              "  <div id=\"df-65ae8696-b2b4-4fc0-ad2f-a856076c946e\">\n",
              "    <div class=\"colab-df-container\">\n",
              "      <div>\n",
              "<style scoped>\n",
              "    .dataframe tbody tr th:only-of-type {\n",
              "        vertical-align: middle;\n",
              "    }\n",
              "\n",
              "    .dataframe tbody tr th {\n",
              "        vertical-align: top;\n",
              "    }\n",
              "\n",
              "    .dataframe thead th {\n",
              "        text-align: right;\n",
              "    }\n",
              "</style>\n",
              "<table border=\"1\" class=\"dataframe\">\n",
              "  <thead>\n",
              "    <tr style=\"text-align: right;\">\n",
              "      <th></th>\n",
              "      <th>EDAD</th>\n",
              "      <th>IMC</th>\n",
              "      <th>HIJOS</th>\n",
              "      <th>TIENE_HIJOS</th>\n",
              "      <th>PRECIO</th>\n",
              "      <th>LOG_P</th>\n",
              "      <th>SEXO_MASCULINO</th>\n",
              "      <th>FUMADOR_SI</th>\n",
              "      <th>CIUDAD_MADRID</th>\n",
              "      <th>CIUDAD_SEVILLA</th>\n",
              "      <th>CIUDAD_VALENCIA</th>\n",
              "    </tr>\n",
              "  </thead>\n",
              "  <tbody>\n",
              "    <tr>\n",
              "      <th>0</th>\n",
              "      <td>37</td>\n",
              "      <td>29.830</td>\n",
              "      <td>2</td>\n",
              "      <td>1</td>\n",
              "      <td>534</td>\n",
              "      <td>2.727541</td>\n",
              "      <td>1</td>\n",
              "      <td>0</td>\n",
              "      <td>0</td>\n",
              "      <td>0</td>\n",
              "      <td>0</td>\n",
              "    </tr>\n",
              "    <tr>\n",
              "      <th>1</th>\n",
              "      <td>25</td>\n",
              "      <td>26.220</td>\n",
              "      <td>0</td>\n",
              "      <td>0</td>\n",
              "      <td>227</td>\n",
              "      <td>2.356026</td>\n",
              "      <td>1</td>\n",
              "      <td>0</td>\n",
              "      <td>0</td>\n",
              "      <td>0</td>\n",
              "      <td>0</td>\n",
              "    </tr>\n",
              "    <tr>\n",
              "      <th>2</th>\n",
              "      <td>52</td>\n",
              "      <td>30.780</td>\n",
              "      <td>1</td>\n",
              "      <td>1</td>\n",
              "      <td>900</td>\n",
              "      <td>2.954243</td>\n",
              "      <td>0</td>\n",
              "      <td>0</td>\n",
              "      <td>0</td>\n",
              "      <td>0</td>\n",
              "      <td>0</td>\n",
              "    </tr>\n",
              "    <tr>\n",
              "      <th>3</th>\n",
              "      <td>23</td>\n",
              "      <td>23.845</td>\n",
              "      <td>0</td>\n",
              "      <td>0</td>\n",
              "      <td>200</td>\n",
              "      <td>2.301030</td>\n",
              "      <td>1</td>\n",
              "      <td>0</td>\n",
              "      <td>0</td>\n",
              "      <td>0</td>\n",
              "      <td>0</td>\n",
              "    </tr>\n",
              "    <tr>\n",
              "      <th>4</th>\n",
              "      <td>60</td>\n",
              "      <td>36.005</td>\n",
              "      <td>0</td>\n",
              "      <td>0</td>\n",
              "      <td>1102</td>\n",
              "      <td>3.042182</td>\n",
              "      <td>0</td>\n",
              "      <td>0</td>\n",
              "      <td>0</td>\n",
              "      <td>0</td>\n",
              "      <td>0</td>\n",
              "    </tr>\n",
              "    <tr>\n",
              "      <th>...</th>\n",
              "      <td>...</td>\n",
              "      <td>...</td>\n",
              "      <td>...</td>\n",
              "      <td>...</td>\n",
              "      <td>...</td>\n",
              "      <td>...</td>\n",
              "      <td>...</td>\n",
              "      <td>...</td>\n",
              "      <td>...</td>\n",
              "      <td>...</td>\n",
              "      <td>...</td>\n",
              "    </tr>\n",
              "    <tr>\n",
              "      <th>1332</th>\n",
              "      <td>19</td>\n",
              "      <td>20.600</td>\n",
              "      <td>0</td>\n",
              "      <td>0</td>\n",
              "      <td>144</td>\n",
              "      <td>2.158362</td>\n",
              "      <td>0</td>\n",
              "      <td>0</td>\n",
              "      <td>0</td>\n",
              "      <td>0</td>\n",
              "      <td>1</td>\n",
              "    </tr>\n",
              "    <tr>\n",
              "      <th>1333</th>\n",
              "      <td>52</td>\n",
              "      <td>38.600</td>\n",
              "      <td>2</td>\n",
              "      <td>1</td>\n",
              "      <td>860</td>\n",
              "      <td>2.934498</td>\n",
              "      <td>1</td>\n",
              "      <td>0</td>\n",
              "      <td>0</td>\n",
              "      <td>0</td>\n",
              "      <td>1</td>\n",
              "    </tr>\n",
              "    <tr>\n",
              "      <th>1334</th>\n",
              "      <td>23</td>\n",
              "      <td>33.400</td>\n",
              "      <td>0</td>\n",
              "      <td>0</td>\n",
              "      <td>900</td>\n",
              "      <td>2.954243</td>\n",
              "      <td>0</td>\n",
              "      <td>0</td>\n",
              "      <td>0</td>\n",
              "      <td>0</td>\n",
              "      <td>1</td>\n",
              "    </tr>\n",
              "    <tr>\n",
              "      <th>1335</th>\n",
              "      <td>52</td>\n",
              "      <td>44.700</td>\n",
              "      <td>3</td>\n",
              "      <td>1</td>\n",
              "      <td>951</td>\n",
              "      <td>2.978181</td>\n",
              "      <td>0</td>\n",
              "      <td>0</td>\n",
              "      <td>0</td>\n",
              "      <td>0</td>\n",
              "      <td>1</td>\n",
              "    </tr>\n",
              "    <tr>\n",
              "      <th>1336</th>\n",
              "      <td>21</td>\n",
              "      <td>25.800</td>\n",
              "      <td>0</td>\n",
              "      <td>0</td>\n",
              "      <td>167</td>\n",
              "      <td>2.222716</td>\n",
              "      <td>0</td>\n",
              "      <td>0</td>\n",
              "      <td>0</td>\n",
              "      <td>0</td>\n",
              "      <td>1</td>\n",
              "    </tr>\n",
              "  </tbody>\n",
              "</table>\n",
              "<p>1337 rows × 11 columns</p>\n",
              "</div>\n",
              "      <button class=\"colab-df-convert\" onclick=\"convertToInteractive('df-65ae8696-b2b4-4fc0-ad2f-a856076c946e')\"\n",
              "              title=\"Convert this dataframe to an interactive table.\"\n",
              "              style=\"display:none;\">\n",
              "        \n",
              "  <svg xmlns=\"http://www.w3.org/2000/svg\" height=\"24px\"viewBox=\"0 0 24 24\"\n",
              "       width=\"24px\">\n",
              "    <path d=\"M0 0h24v24H0V0z\" fill=\"none\"/>\n",
              "    <path d=\"M18.56 5.44l.94 2.06.94-2.06 2.06-.94-2.06-.94-.94-2.06-.94 2.06-2.06.94zm-11 1L8.5 8.5l.94-2.06 2.06-.94-2.06-.94L8.5 2.5l-.94 2.06-2.06.94zm10 10l.94 2.06.94-2.06 2.06-.94-2.06-.94-.94-2.06-.94 2.06-2.06.94z\"/><path d=\"M17.41 7.96l-1.37-1.37c-.4-.4-.92-.59-1.43-.59-.52 0-1.04.2-1.43.59L10.3 9.45l-7.72 7.72c-.78.78-.78 2.05 0 2.83L4 21.41c.39.39.9.59 1.41.59.51 0 1.02-.2 1.41-.59l7.78-7.78 2.81-2.81c.8-.78.8-2.07 0-2.86zM5.41 20L4 18.59l7.72-7.72 1.47 1.35L5.41 20z\"/>\n",
              "  </svg>\n",
              "      </button>\n",
              "      \n",
              "  <style>\n",
              "    .colab-df-container {\n",
              "      display:flex;\n",
              "      flex-wrap:wrap;\n",
              "      gap: 12px;\n",
              "    }\n",
              "\n",
              "    .colab-df-convert {\n",
              "      background-color: #E8F0FE;\n",
              "      border: none;\n",
              "      border-radius: 50%;\n",
              "      cursor: pointer;\n",
              "      display: none;\n",
              "      fill: #1967D2;\n",
              "      height: 32px;\n",
              "      padding: 0 0 0 0;\n",
              "      width: 32px;\n",
              "    }\n",
              "\n",
              "    .colab-df-convert:hover {\n",
              "      background-color: #E2EBFA;\n",
              "      box-shadow: 0px 1px 2px rgba(60, 64, 67, 0.3), 0px 1px 3px 1px rgba(60, 64, 67, 0.15);\n",
              "      fill: #174EA6;\n",
              "    }\n",
              "\n",
              "    [theme=dark] .colab-df-convert {\n",
              "      background-color: #3B4455;\n",
              "      fill: #D2E3FC;\n",
              "    }\n",
              "\n",
              "    [theme=dark] .colab-df-convert:hover {\n",
              "      background-color: #434B5C;\n",
              "      box-shadow: 0px 1px 3px 1px rgba(0, 0, 0, 0.15);\n",
              "      filter: drop-shadow(0px 1px 2px rgba(0, 0, 0, 0.3));\n",
              "      fill: #FFFFFF;\n",
              "    }\n",
              "  </style>\n",
              "\n",
              "      <script>\n",
              "        const buttonEl =\n",
              "          document.querySelector('#df-65ae8696-b2b4-4fc0-ad2f-a856076c946e button.colab-df-convert');\n",
              "        buttonEl.style.display =\n",
              "          google.colab.kernel.accessAllowed ? 'block' : 'none';\n",
              "\n",
              "        async function convertToInteractive(key) {\n",
              "          const element = document.querySelector('#df-65ae8696-b2b4-4fc0-ad2f-a856076c946e');\n",
              "          const dataTable =\n",
              "            await google.colab.kernel.invokeFunction('convertToInteractive',\n",
              "                                                     [key], {});\n",
              "          if (!dataTable) return;\n",
              "\n",
              "          const docLinkHtml = 'Like what you see? Visit the ' +\n",
              "            '<a target=\"_blank\" href=https://colab.research.google.com/notebooks/data_table.ipynb>data table notebook</a>'\n",
              "            + ' to learn more about interactive tables.';\n",
              "          element.innerHTML = '';\n",
              "          dataTable['output_type'] = 'display_data';\n",
              "          await google.colab.output.renderOutput(dataTable, element);\n",
              "          const docLink = document.createElement('div');\n",
              "          docLink.innerHTML = docLinkHtml;\n",
              "          element.appendChild(docLink);\n",
              "        }\n",
              "      </script>\n",
              "    </div>\n",
              "  </div>\n",
              "  "
            ]
          },
          "metadata": {},
          "execution_count": 146
        }
      ]
    },
    {
      "cell_type": "code",
      "metadata": {
        "colab": {
          "base_uri": "https://localhost:8080/",
          "height": 394
        },
        "id": "PlFH8Wy1QbZh",
        "outputId": "905331bd-a11a-4da4-b173-385bda6f9162"
      },
      "source": [
        "df_seguro_prep_cate.corr()\n"
      ],
      "execution_count": 147,
      "outputs": [
        {
          "output_type": "execute_result",
          "data": {
            "text/plain": [
              "                     EDAD       IMC     HIJOS  TIENE_HIJOS    PRECIO  \\\n",
              "EDAD             1.000000  0.107742  0.041016     0.044213  0.298308   \n",
              "IMC              0.107742  1.000000  0.011157     0.013901  0.197793   \n",
              "HIJOS            0.041016  0.011157  1.000000     0.788314  0.065633   \n",
              "TIENE_HIJOS      0.044213  0.013901  0.788314     1.000000  0.061246   \n",
              "PRECIO           0.298308  0.197793  0.065633     0.061246  1.000000   \n",
              "LOG_P            0.526933  0.131903  0.158026     0.149085  0.893079   \n",
              "SEXO_MASCULINO  -0.019542  0.048800  0.018870     0.020126  0.058033   \n",
              "FUMADOR_SI      -0.025587  0.003428  0.008586     0.011388  0.787238   \n",
              "CIUDAD_MADRID   -0.012311  0.269794 -0.021958    -0.000622  0.073575   \n",
              "CIUDAD_SEVILLA   0.001495 -0.136556  0.027429     0.030259 -0.038700   \n",
              "CIUDAD_VALENCIA  0.009415 -0.006571  0.022928     0.007095 -0.043637   \n",
              "\n",
              "                    LOG_P  SEXO_MASCULINO  FUMADOR_SI  CIUDAD_MADRID  \\\n",
              "EDAD             0.526933       -0.019542   -0.025587      -0.012311   \n",
              "IMC              0.131903        0.048800    0.003428       0.269794   \n",
              "HIJOS            0.158026        0.018870    0.008586      -0.021958   \n",
              "TIENE_HIJOS      0.149085        0.020126    0.011388      -0.000622   \n",
              "PRECIO           0.893079        0.058033    0.787238       0.073575   \n",
              "LOG_P            1.000000        0.007614    0.665713       0.014998   \n",
              "SEXO_MASCULINO   0.007614        1.000000    0.075079       0.015749   \n",
              "FUMADOR_SI       0.665713        0.075079    1.000000       0.068282   \n",
              "CIUDAD_MADRID    0.014998        0.015749    0.068282       1.000000   \n",
              "CIUDAD_SEVILLA  -0.015460       -0.014174   -0.036321      -0.345909   \n",
              "CIUDAD_VALENCIA -0.042485       -0.005462   -0.037168      -0.346614   \n",
              "\n",
              "                 CIUDAD_SEVILLA  CIUDAD_VALENCIA  \n",
              "EDAD                   0.001495         0.009415  \n",
              "IMC                   -0.136556        -0.006571  \n",
              "HIJOS                  0.027429         0.022928  \n",
              "TIENE_HIJOS            0.030259         0.007095  \n",
              "PRECIO                -0.038700        -0.043637  \n",
              "LOG_P                 -0.015460        -0.042485  \n",
              "SEXO_MASCULINO        -0.014174        -0.005462  \n",
              "FUMADOR_SI            -0.036321        -0.037168  \n",
              "CIUDAD_MADRID         -0.345909        -0.346614  \n",
              "CIUDAD_SEVILLA         1.000000        -0.320493  \n",
              "CIUDAD_VALENCIA       -0.320493         1.000000  "
            ],
            "text/html": [
              "\n",
              "  <div id=\"df-7844dafd-b3d8-4486-8774-04e97f762131\">\n",
              "    <div class=\"colab-df-container\">\n",
              "      <div>\n",
              "<style scoped>\n",
              "    .dataframe tbody tr th:only-of-type {\n",
              "        vertical-align: middle;\n",
              "    }\n",
              "\n",
              "    .dataframe tbody tr th {\n",
              "        vertical-align: top;\n",
              "    }\n",
              "\n",
              "    .dataframe thead th {\n",
              "        text-align: right;\n",
              "    }\n",
              "</style>\n",
              "<table border=\"1\" class=\"dataframe\">\n",
              "  <thead>\n",
              "    <tr style=\"text-align: right;\">\n",
              "      <th></th>\n",
              "      <th>EDAD</th>\n",
              "      <th>IMC</th>\n",
              "      <th>HIJOS</th>\n",
              "      <th>TIENE_HIJOS</th>\n",
              "      <th>PRECIO</th>\n",
              "      <th>LOG_P</th>\n",
              "      <th>SEXO_MASCULINO</th>\n",
              "      <th>FUMADOR_SI</th>\n",
              "      <th>CIUDAD_MADRID</th>\n",
              "      <th>CIUDAD_SEVILLA</th>\n",
              "      <th>CIUDAD_VALENCIA</th>\n",
              "    </tr>\n",
              "  </thead>\n",
              "  <tbody>\n",
              "    <tr>\n",
              "      <th>EDAD</th>\n",
              "      <td>1.000000</td>\n",
              "      <td>0.107742</td>\n",
              "      <td>0.041016</td>\n",
              "      <td>0.044213</td>\n",
              "      <td>0.298308</td>\n",
              "      <td>0.526933</td>\n",
              "      <td>-0.019542</td>\n",
              "      <td>-0.025587</td>\n",
              "      <td>-0.012311</td>\n",
              "      <td>0.001495</td>\n",
              "      <td>0.009415</td>\n",
              "    </tr>\n",
              "    <tr>\n",
              "      <th>IMC</th>\n",
              "      <td>0.107742</td>\n",
              "      <td>1.000000</td>\n",
              "      <td>0.011157</td>\n",
              "      <td>0.013901</td>\n",
              "      <td>0.197793</td>\n",
              "      <td>0.131903</td>\n",
              "      <td>0.048800</td>\n",
              "      <td>0.003428</td>\n",
              "      <td>0.269794</td>\n",
              "      <td>-0.136556</td>\n",
              "      <td>-0.006571</td>\n",
              "    </tr>\n",
              "    <tr>\n",
              "      <th>HIJOS</th>\n",
              "      <td>0.041016</td>\n",
              "      <td>0.011157</td>\n",
              "      <td>1.000000</td>\n",
              "      <td>0.788314</td>\n",
              "      <td>0.065633</td>\n",
              "      <td>0.158026</td>\n",
              "      <td>0.018870</td>\n",
              "      <td>0.008586</td>\n",
              "      <td>-0.021958</td>\n",
              "      <td>0.027429</td>\n",
              "      <td>0.022928</td>\n",
              "    </tr>\n",
              "    <tr>\n",
              "      <th>TIENE_HIJOS</th>\n",
              "      <td>0.044213</td>\n",
              "      <td>0.013901</td>\n",
              "      <td>0.788314</td>\n",
              "      <td>1.000000</td>\n",
              "      <td>0.061246</td>\n",
              "      <td>0.149085</td>\n",
              "      <td>0.020126</td>\n",
              "      <td>0.011388</td>\n",
              "      <td>-0.000622</td>\n",
              "      <td>0.030259</td>\n",
              "      <td>0.007095</td>\n",
              "    </tr>\n",
              "    <tr>\n",
              "      <th>PRECIO</th>\n",
              "      <td>0.298308</td>\n",
              "      <td>0.197793</td>\n",
              "      <td>0.065633</td>\n",
              "      <td>0.061246</td>\n",
              "      <td>1.000000</td>\n",
              "      <td>0.893079</td>\n",
              "      <td>0.058033</td>\n",
              "      <td>0.787238</td>\n",
              "      <td>0.073575</td>\n",
              "      <td>-0.038700</td>\n",
              "      <td>-0.043637</td>\n",
              "    </tr>\n",
              "    <tr>\n",
              "      <th>LOG_P</th>\n",
              "      <td>0.526933</td>\n",
              "      <td>0.131903</td>\n",
              "      <td>0.158026</td>\n",
              "      <td>0.149085</td>\n",
              "      <td>0.893079</td>\n",
              "      <td>1.000000</td>\n",
              "      <td>0.007614</td>\n",
              "      <td>0.665713</td>\n",
              "      <td>0.014998</td>\n",
              "      <td>-0.015460</td>\n",
              "      <td>-0.042485</td>\n",
              "    </tr>\n",
              "    <tr>\n",
              "      <th>SEXO_MASCULINO</th>\n",
              "      <td>-0.019542</td>\n",
              "      <td>0.048800</td>\n",
              "      <td>0.018870</td>\n",
              "      <td>0.020126</td>\n",
              "      <td>0.058033</td>\n",
              "      <td>0.007614</td>\n",
              "      <td>1.000000</td>\n",
              "      <td>0.075079</td>\n",
              "      <td>0.015749</td>\n",
              "      <td>-0.014174</td>\n",
              "      <td>-0.005462</td>\n",
              "    </tr>\n",
              "    <tr>\n",
              "      <th>FUMADOR_SI</th>\n",
              "      <td>-0.025587</td>\n",
              "      <td>0.003428</td>\n",
              "      <td>0.008586</td>\n",
              "      <td>0.011388</td>\n",
              "      <td>0.787238</td>\n",
              "      <td>0.665713</td>\n",
              "      <td>0.075079</td>\n",
              "      <td>1.000000</td>\n",
              "      <td>0.068282</td>\n",
              "      <td>-0.036321</td>\n",
              "      <td>-0.037168</td>\n",
              "    </tr>\n",
              "    <tr>\n",
              "      <th>CIUDAD_MADRID</th>\n",
              "      <td>-0.012311</td>\n",
              "      <td>0.269794</td>\n",
              "      <td>-0.021958</td>\n",
              "      <td>-0.000622</td>\n",
              "      <td>0.073575</td>\n",
              "      <td>0.014998</td>\n",
              "      <td>0.015749</td>\n",
              "      <td>0.068282</td>\n",
              "      <td>1.000000</td>\n",
              "      <td>-0.345909</td>\n",
              "      <td>-0.346614</td>\n",
              "    </tr>\n",
              "    <tr>\n",
              "      <th>CIUDAD_SEVILLA</th>\n",
              "      <td>0.001495</td>\n",
              "      <td>-0.136556</td>\n",
              "      <td>0.027429</td>\n",
              "      <td>0.030259</td>\n",
              "      <td>-0.038700</td>\n",
              "      <td>-0.015460</td>\n",
              "      <td>-0.014174</td>\n",
              "      <td>-0.036321</td>\n",
              "      <td>-0.345909</td>\n",
              "      <td>1.000000</td>\n",
              "      <td>-0.320493</td>\n",
              "    </tr>\n",
              "    <tr>\n",
              "      <th>CIUDAD_VALENCIA</th>\n",
              "      <td>0.009415</td>\n",
              "      <td>-0.006571</td>\n",
              "      <td>0.022928</td>\n",
              "      <td>0.007095</td>\n",
              "      <td>-0.043637</td>\n",
              "      <td>-0.042485</td>\n",
              "      <td>-0.005462</td>\n",
              "      <td>-0.037168</td>\n",
              "      <td>-0.346614</td>\n",
              "      <td>-0.320493</td>\n",
              "      <td>1.000000</td>\n",
              "    </tr>\n",
              "  </tbody>\n",
              "</table>\n",
              "</div>\n",
              "      <button class=\"colab-df-convert\" onclick=\"convertToInteractive('df-7844dafd-b3d8-4486-8774-04e97f762131')\"\n",
              "              title=\"Convert this dataframe to an interactive table.\"\n",
              "              style=\"display:none;\">\n",
              "        \n",
              "  <svg xmlns=\"http://www.w3.org/2000/svg\" height=\"24px\"viewBox=\"0 0 24 24\"\n",
              "       width=\"24px\">\n",
              "    <path d=\"M0 0h24v24H0V0z\" fill=\"none\"/>\n",
              "    <path d=\"M18.56 5.44l.94 2.06.94-2.06 2.06-.94-2.06-.94-.94-2.06-.94 2.06-2.06.94zm-11 1L8.5 8.5l.94-2.06 2.06-.94-2.06-.94L8.5 2.5l-.94 2.06-2.06.94zm10 10l.94 2.06.94-2.06 2.06-.94-2.06-.94-.94-2.06-.94 2.06-2.06.94z\"/><path d=\"M17.41 7.96l-1.37-1.37c-.4-.4-.92-.59-1.43-.59-.52 0-1.04.2-1.43.59L10.3 9.45l-7.72 7.72c-.78.78-.78 2.05 0 2.83L4 21.41c.39.39.9.59 1.41.59.51 0 1.02-.2 1.41-.59l7.78-7.78 2.81-2.81c.8-.78.8-2.07 0-2.86zM5.41 20L4 18.59l7.72-7.72 1.47 1.35L5.41 20z\"/>\n",
              "  </svg>\n",
              "      </button>\n",
              "      \n",
              "  <style>\n",
              "    .colab-df-container {\n",
              "      display:flex;\n",
              "      flex-wrap:wrap;\n",
              "      gap: 12px;\n",
              "    }\n",
              "\n",
              "    .colab-df-convert {\n",
              "      background-color: #E8F0FE;\n",
              "      border: none;\n",
              "      border-radius: 50%;\n",
              "      cursor: pointer;\n",
              "      display: none;\n",
              "      fill: #1967D2;\n",
              "      height: 32px;\n",
              "      padding: 0 0 0 0;\n",
              "      width: 32px;\n",
              "    }\n",
              "\n",
              "    .colab-df-convert:hover {\n",
              "      background-color: #E2EBFA;\n",
              "      box-shadow: 0px 1px 2px rgba(60, 64, 67, 0.3), 0px 1px 3px 1px rgba(60, 64, 67, 0.15);\n",
              "      fill: #174EA6;\n",
              "    }\n",
              "\n",
              "    [theme=dark] .colab-df-convert {\n",
              "      background-color: #3B4455;\n",
              "      fill: #D2E3FC;\n",
              "    }\n",
              "\n",
              "    [theme=dark] .colab-df-convert:hover {\n",
              "      background-color: #434B5C;\n",
              "      box-shadow: 0px 1px 3px 1px rgba(0, 0, 0, 0.15);\n",
              "      filter: drop-shadow(0px 1px 2px rgba(0, 0, 0, 0.3));\n",
              "      fill: #FFFFFF;\n",
              "    }\n",
              "  </style>\n",
              "\n",
              "      <script>\n",
              "        const buttonEl =\n",
              "          document.querySelector('#df-7844dafd-b3d8-4486-8774-04e97f762131 button.colab-df-convert');\n",
              "        buttonEl.style.display =\n",
              "          google.colab.kernel.accessAllowed ? 'block' : 'none';\n",
              "\n",
              "        async function convertToInteractive(key) {\n",
              "          const element = document.querySelector('#df-7844dafd-b3d8-4486-8774-04e97f762131');\n",
              "          const dataTable =\n",
              "            await google.colab.kernel.invokeFunction('convertToInteractive',\n",
              "                                                     [key], {});\n",
              "          if (!dataTable) return;\n",
              "\n",
              "          const docLinkHtml = 'Like what you see? Visit the ' +\n",
              "            '<a target=\"_blank\" href=https://colab.research.google.com/notebooks/data_table.ipynb>data table notebook</a>'\n",
              "            + ' to learn more about interactive tables.';\n",
              "          element.innerHTML = '';\n",
              "          dataTable['output_type'] = 'display_data';\n",
              "          await google.colab.output.renderOutput(dataTable, element);\n",
              "          const docLink = document.createElement('div');\n",
              "          docLink.innerHTML = docLinkHtml;\n",
              "          element.appendChild(docLink);\n",
              "        }\n",
              "      </script>\n",
              "    </div>\n",
              "  </div>\n",
              "  "
            ]
          },
          "metadata": {},
          "execution_count": 147
        }
      ]
    },
    {
      "cell_type": "code",
      "metadata": {
        "colab": {
          "base_uri": "https://localhost:8080/",
          "height": 394
        },
        "id": "kyxS7nGvaehh",
        "outputId": "7919db38-54a9-4740-abc7-2f92ba6af769"
      },
      "source": [
        "corr2= df_seguro_prep_cate.corr()\n",
        "corr2"
      ],
      "execution_count": 148,
      "outputs": [
        {
          "output_type": "execute_result",
          "data": {
            "text/plain": [
              "                     EDAD       IMC     HIJOS  TIENE_HIJOS    PRECIO  \\\n",
              "EDAD             1.000000  0.107742  0.041016     0.044213  0.298308   \n",
              "IMC              0.107742  1.000000  0.011157     0.013901  0.197793   \n",
              "HIJOS            0.041016  0.011157  1.000000     0.788314  0.065633   \n",
              "TIENE_HIJOS      0.044213  0.013901  0.788314     1.000000  0.061246   \n",
              "PRECIO           0.298308  0.197793  0.065633     0.061246  1.000000   \n",
              "LOG_P            0.526933  0.131903  0.158026     0.149085  0.893079   \n",
              "SEXO_MASCULINO  -0.019542  0.048800  0.018870     0.020126  0.058033   \n",
              "FUMADOR_SI      -0.025587  0.003428  0.008586     0.011388  0.787238   \n",
              "CIUDAD_MADRID   -0.012311  0.269794 -0.021958    -0.000622  0.073575   \n",
              "CIUDAD_SEVILLA   0.001495 -0.136556  0.027429     0.030259 -0.038700   \n",
              "CIUDAD_VALENCIA  0.009415 -0.006571  0.022928     0.007095 -0.043637   \n",
              "\n",
              "                    LOG_P  SEXO_MASCULINO  FUMADOR_SI  CIUDAD_MADRID  \\\n",
              "EDAD             0.526933       -0.019542   -0.025587      -0.012311   \n",
              "IMC              0.131903        0.048800    0.003428       0.269794   \n",
              "HIJOS            0.158026        0.018870    0.008586      -0.021958   \n",
              "TIENE_HIJOS      0.149085        0.020126    0.011388      -0.000622   \n",
              "PRECIO           0.893079        0.058033    0.787238       0.073575   \n",
              "LOG_P            1.000000        0.007614    0.665713       0.014998   \n",
              "SEXO_MASCULINO   0.007614        1.000000    0.075079       0.015749   \n",
              "FUMADOR_SI       0.665713        0.075079    1.000000       0.068282   \n",
              "CIUDAD_MADRID    0.014998        0.015749    0.068282       1.000000   \n",
              "CIUDAD_SEVILLA  -0.015460       -0.014174   -0.036321      -0.345909   \n",
              "CIUDAD_VALENCIA -0.042485       -0.005462   -0.037168      -0.346614   \n",
              "\n",
              "                 CIUDAD_SEVILLA  CIUDAD_VALENCIA  \n",
              "EDAD                   0.001495         0.009415  \n",
              "IMC                   -0.136556        -0.006571  \n",
              "HIJOS                  0.027429         0.022928  \n",
              "TIENE_HIJOS            0.030259         0.007095  \n",
              "PRECIO                -0.038700        -0.043637  \n",
              "LOG_P                 -0.015460        -0.042485  \n",
              "SEXO_MASCULINO        -0.014174        -0.005462  \n",
              "FUMADOR_SI            -0.036321        -0.037168  \n",
              "CIUDAD_MADRID         -0.345909        -0.346614  \n",
              "CIUDAD_SEVILLA         1.000000        -0.320493  \n",
              "CIUDAD_VALENCIA       -0.320493         1.000000  "
            ],
            "text/html": [
              "\n",
              "  <div id=\"df-9660807a-611a-4293-a68f-f99c62ba6894\">\n",
              "    <div class=\"colab-df-container\">\n",
              "      <div>\n",
              "<style scoped>\n",
              "    .dataframe tbody tr th:only-of-type {\n",
              "        vertical-align: middle;\n",
              "    }\n",
              "\n",
              "    .dataframe tbody tr th {\n",
              "        vertical-align: top;\n",
              "    }\n",
              "\n",
              "    .dataframe thead th {\n",
              "        text-align: right;\n",
              "    }\n",
              "</style>\n",
              "<table border=\"1\" class=\"dataframe\">\n",
              "  <thead>\n",
              "    <tr style=\"text-align: right;\">\n",
              "      <th></th>\n",
              "      <th>EDAD</th>\n",
              "      <th>IMC</th>\n",
              "      <th>HIJOS</th>\n",
              "      <th>TIENE_HIJOS</th>\n",
              "      <th>PRECIO</th>\n",
              "      <th>LOG_P</th>\n",
              "      <th>SEXO_MASCULINO</th>\n",
              "      <th>FUMADOR_SI</th>\n",
              "      <th>CIUDAD_MADRID</th>\n",
              "      <th>CIUDAD_SEVILLA</th>\n",
              "      <th>CIUDAD_VALENCIA</th>\n",
              "    </tr>\n",
              "  </thead>\n",
              "  <tbody>\n",
              "    <tr>\n",
              "      <th>EDAD</th>\n",
              "      <td>1.000000</td>\n",
              "      <td>0.107742</td>\n",
              "      <td>0.041016</td>\n",
              "      <td>0.044213</td>\n",
              "      <td>0.298308</td>\n",
              "      <td>0.526933</td>\n",
              "      <td>-0.019542</td>\n",
              "      <td>-0.025587</td>\n",
              "      <td>-0.012311</td>\n",
              "      <td>0.001495</td>\n",
              "      <td>0.009415</td>\n",
              "    </tr>\n",
              "    <tr>\n",
              "      <th>IMC</th>\n",
              "      <td>0.107742</td>\n",
              "      <td>1.000000</td>\n",
              "      <td>0.011157</td>\n",
              "      <td>0.013901</td>\n",
              "      <td>0.197793</td>\n",
              "      <td>0.131903</td>\n",
              "      <td>0.048800</td>\n",
              "      <td>0.003428</td>\n",
              "      <td>0.269794</td>\n",
              "      <td>-0.136556</td>\n",
              "      <td>-0.006571</td>\n",
              "    </tr>\n",
              "    <tr>\n",
              "      <th>HIJOS</th>\n",
              "      <td>0.041016</td>\n",
              "      <td>0.011157</td>\n",
              "      <td>1.000000</td>\n",
              "      <td>0.788314</td>\n",
              "      <td>0.065633</td>\n",
              "      <td>0.158026</td>\n",
              "      <td>0.018870</td>\n",
              "      <td>0.008586</td>\n",
              "      <td>-0.021958</td>\n",
              "      <td>0.027429</td>\n",
              "      <td>0.022928</td>\n",
              "    </tr>\n",
              "    <tr>\n",
              "      <th>TIENE_HIJOS</th>\n",
              "      <td>0.044213</td>\n",
              "      <td>0.013901</td>\n",
              "      <td>0.788314</td>\n",
              "      <td>1.000000</td>\n",
              "      <td>0.061246</td>\n",
              "      <td>0.149085</td>\n",
              "      <td>0.020126</td>\n",
              "      <td>0.011388</td>\n",
              "      <td>-0.000622</td>\n",
              "      <td>0.030259</td>\n",
              "      <td>0.007095</td>\n",
              "    </tr>\n",
              "    <tr>\n",
              "      <th>PRECIO</th>\n",
              "      <td>0.298308</td>\n",
              "      <td>0.197793</td>\n",
              "      <td>0.065633</td>\n",
              "      <td>0.061246</td>\n",
              "      <td>1.000000</td>\n",
              "      <td>0.893079</td>\n",
              "      <td>0.058033</td>\n",
              "      <td>0.787238</td>\n",
              "      <td>0.073575</td>\n",
              "      <td>-0.038700</td>\n",
              "      <td>-0.043637</td>\n",
              "    </tr>\n",
              "    <tr>\n",
              "      <th>LOG_P</th>\n",
              "      <td>0.526933</td>\n",
              "      <td>0.131903</td>\n",
              "      <td>0.158026</td>\n",
              "      <td>0.149085</td>\n",
              "      <td>0.893079</td>\n",
              "      <td>1.000000</td>\n",
              "      <td>0.007614</td>\n",
              "      <td>0.665713</td>\n",
              "      <td>0.014998</td>\n",
              "      <td>-0.015460</td>\n",
              "      <td>-0.042485</td>\n",
              "    </tr>\n",
              "    <tr>\n",
              "      <th>SEXO_MASCULINO</th>\n",
              "      <td>-0.019542</td>\n",
              "      <td>0.048800</td>\n",
              "      <td>0.018870</td>\n",
              "      <td>0.020126</td>\n",
              "      <td>0.058033</td>\n",
              "      <td>0.007614</td>\n",
              "      <td>1.000000</td>\n",
              "      <td>0.075079</td>\n",
              "      <td>0.015749</td>\n",
              "      <td>-0.014174</td>\n",
              "      <td>-0.005462</td>\n",
              "    </tr>\n",
              "    <tr>\n",
              "      <th>FUMADOR_SI</th>\n",
              "      <td>-0.025587</td>\n",
              "      <td>0.003428</td>\n",
              "      <td>0.008586</td>\n",
              "      <td>0.011388</td>\n",
              "      <td>0.787238</td>\n",
              "      <td>0.665713</td>\n",
              "      <td>0.075079</td>\n",
              "      <td>1.000000</td>\n",
              "      <td>0.068282</td>\n",
              "      <td>-0.036321</td>\n",
              "      <td>-0.037168</td>\n",
              "    </tr>\n",
              "    <tr>\n",
              "      <th>CIUDAD_MADRID</th>\n",
              "      <td>-0.012311</td>\n",
              "      <td>0.269794</td>\n",
              "      <td>-0.021958</td>\n",
              "      <td>-0.000622</td>\n",
              "      <td>0.073575</td>\n",
              "      <td>0.014998</td>\n",
              "      <td>0.015749</td>\n",
              "      <td>0.068282</td>\n",
              "      <td>1.000000</td>\n",
              "      <td>-0.345909</td>\n",
              "      <td>-0.346614</td>\n",
              "    </tr>\n",
              "    <tr>\n",
              "      <th>CIUDAD_SEVILLA</th>\n",
              "      <td>0.001495</td>\n",
              "      <td>-0.136556</td>\n",
              "      <td>0.027429</td>\n",
              "      <td>0.030259</td>\n",
              "      <td>-0.038700</td>\n",
              "      <td>-0.015460</td>\n",
              "      <td>-0.014174</td>\n",
              "      <td>-0.036321</td>\n",
              "      <td>-0.345909</td>\n",
              "      <td>1.000000</td>\n",
              "      <td>-0.320493</td>\n",
              "    </tr>\n",
              "    <tr>\n",
              "      <th>CIUDAD_VALENCIA</th>\n",
              "      <td>0.009415</td>\n",
              "      <td>-0.006571</td>\n",
              "      <td>0.022928</td>\n",
              "      <td>0.007095</td>\n",
              "      <td>-0.043637</td>\n",
              "      <td>-0.042485</td>\n",
              "      <td>-0.005462</td>\n",
              "      <td>-0.037168</td>\n",
              "      <td>-0.346614</td>\n",
              "      <td>-0.320493</td>\n",
              "      <td>1.000000</td>\n",
              "    </tr>\n",
              "  </tbody>\n",
              "</table>\n",
              "</div>\n",
              "      <button class=\"colab-df-convert\" onclick=\"convertToInteractive('df-9660807a-611a-4293-a68f-f99c62ba6894')\"\n",
              "              title=\"Convert this dataframe to an interactive table.\"\n",
              "              style=\"display:none;\">\n",
              "        \n",
              "  <svg xmlns=\"http://www.w3.org/2000/svg\" height=\"24px\"viewBox=\"0 0 24 24\"\n",
              "       width=\"24px\">\n",
              "    <path d=\"M0 0h24v24H0V0z\" fill=\"none\"/>\n",
              "    <path d=\"M18.56 5.44l.94 2.06.94-2.06 2.06-.94-2.06-.94-.94-2.06-.94 2.06-2.06.94zm-11 1L8.5 8.5l.94-2.06 2.06-.94-2.06-.94L8.5 2.5l-.94 2.06-2.06.94zm10 10l.94 2.06.94-2.06 2.06-.94-2.06-.94-.94-2.06-.94 2.06-2.06.94z\"/><path d=\"M17.41 7.96l-1.37-1.37c-.4-.4-.92-.59-1.43-.59-.52 0-1.04.2-1.43.59L10.3 9.45l-7.72 7.72c-.78.78-.78 2.05 0 2.83L4 21.41c.39.39.9.59 1.41.59.51 0 1.02-.2 1.41-.59l7.78-7.78 2.81-2.81c.8-.78.8-2.07 0-2.86zM5.41 20L4 18.59l7.72-7.72 1.47 1.35L5.41 20z\"/>\n",
              "  </svg>\n",
              "      </button>\n",
              "      \n",
              "  <style>\n",
              "    .colab-df-container {\n",
              "      display:flex;\n",
              "      flex-wrap:wrap;\n",
              "      gap: 12px;\n",
              "    }\n",
              "\n",
              "    .colab-df-convert {\n",
              "      background-color: #E8F0FE;\n",
              "      border: none;\n",
              "      border-radius: 50%;\n",
              "      cursor: pointer;\n",
              "      display: none;\n",
              "      fill: #1967D2;\n",
              "      height: 32px;\n",
              "      padding: 0 0 0 0;\n",
              "      width: 32px;\n",
              "    }\n",
              "\n",
              "    .colab-df-convert:hover {\n",
              "      background-color: #E2EBFA;\n",
              "      box-shadow: 0px 1px 2px rgba(60, 64, 67, 0.3), 0px 1px 3px 1px rgba(60, 64, 67, 0.15);\n",
              "      fill: #174EA6;\n",
              "    }\n",
              "\n",
              "    [theme=dark] .colab-df-convert {\n",
              "      background-color: #3B4455;\n",
              "      fill: #D2E3FC;\n",
              "    }\n",
              "\n",
              "    [theme=dark] .colab-df-convert:hover {\n",
              "      background-color: #434B5C;\n",
              "      box-shadow: 0px 1px 3px 1px rgba(0, 0, 0, 0.15);\n",
              "      filter: drop-shadow(0px 1px 2px rgba(0, 0, 0, 0.3));\n",
              "      fill: #FFFFFF;\n",
              "    }\n",
              "  </style>\n",
              "\n",
              "      <script>\n",
              "        const buttonEl =\n",
              "          document.querySelector('#df-9660807a-611a-4293-a68f-f99c62ba6894 button.colab-df-convert');\n",
              "        buttonEl.style.display =\n",
              "          google.colab.kernel.accessAllowed ? 'block' : 'none';\n",
              "\n",
              "        async function convertToInteractive(key) {\n",
              "          const element = document.querySelector('#df-9660807a-611a-4293-a68f-f99c62ba6894');\n",
              "          const dataTable =\n",
              "            await google.colab.kernel.invokeFunction('convertToInteractive',\n",
              "                                                     [key], {});\n",
              "          if (!dataTable) return;\n",
              "\n",
              "          const docLinkHtml = 'Like what you see? Visit the ' +\n",
              "            '<a target=\"_blank\" href=https://colab.research.google.com/notebooks/data_table.ipynb>data table notebook</a>'\n",
              "            + ' to learn more about interactive tables.';\n",
              "          element.innerHTML = '';\n",
              "          dataTable['output_type'] = 'display_data';\n",
              "          await google.colab.output.renderOutput(dataTable, element);\n",
              "          const docLink = document.createElement('div');\n",
              "          docLink.innerHTML = docLinkHtml;\n",
              "          element.appendChild(docLink);\n",
              "        }\n",
              "      </script>\n",
              "    </div>\n",
              "  </div>\n",
              "  "
            ]
          },
          "metadata": {},
          "execution_count": 148
        }
      ]
    },
    {
      "cell_type": "code",
      "metadata": {
        "colab": {
          "base_uri": "https://localhost:8080/",
          "height": 394
        },
        "id": "Rh_Lee1nQbVU",
        "outputId": "dfbe3ad8-a20d-4a2e-b890-302fdfbd0061"
      },
      "source": [
        "corr2.style.background_gradient(cmap=\"coolwarm\")"
      ],
      "execution_count": 149,
      "outputs": [
        {
          "output_type": "execute_result",
          "data": {
            "text/plain": [
              "<pandas.io.formats.style.Styler at 0x7fa85c911ad0>"
            ],
            "text/html": [
              "<style type=\"text/css\">\n",
              "#T_2bdb1_row0_col0, #T_2bdb1_row1_col1, #T_2bdb1_row2_col2, #T_2bdb1_row3_col3, #T_2bdb1_row4_col4, #T_2bdb1_row5_col5, #T_2bdb1_row6_col6, #T_2bdb1_row7_col7, #T_2bdb1_row8_col8, #T_2bdb1_row9_col9, #T_2bdb1_row10_col10 {\n",
              "  background-color: #b40426;\n",
              "  color: #f1f1f1;\n",
              "}\n",
              "#T_2bdb1_row0_col1 {\n",
              "  background-color: #81a4fb;\n",
              "  color: #f1f1f1;\n",
              "}\n",
              "#T_2bdb1_row0_col2, #T_2bdb1_row4_col3 {\n",
              "  background-color: #4c66d6;\n",
              "  color: #f1f1f1;\n",
              "}\n",
              "#T_2bdb1_row0_col3, #T_2bdb1_row2_col7, #T_2bdb1_row3_col7, #T_2bdb1_row10_col2 {\n",
              "  background-color: #485fd1;\n",
              "  color: #f1f1f1;\n",
              "}\n",
              "#T_2bdb1_row0_col4 {\n",
              "  background-color: #a7c5fe;\n",
              "  color: #000000;\n",
              "}\n",
              "#T_2bdb1_row0_col5 {\n",
              "  background-color: #e8d6cc;\n",
              "  color: #000000;\n",
              "}\n",
              "#T_2bdb1_row0_col6, #T_2bdb1_row7_col0, #T_2bdb1_row8_col2, #T_2bdb1_row8_col3, #T_2bdb1_row8_col9, #T_2bdb1_row8_col10, #T_2bdb1_row9_col1, #T_2bdb1_row9_col7, #T_2bdb1_row9_col8, #T_2bdb1_row10_col4, #T_2bdb1_row10_col5, #T_2bdb1_row10_col7, #T_2bdb1_row10_col8 {\n",
              "  background-color: #3b4cc0;\n",
              "  color: #f1f1f1;\n",
              "}\n",
              "#T_2bdb1_row0_col7 {\n",
              "  background-color: #3d50c3;\n",
              "  color: #f1f1f1;\n",
              "}\n",
              "#T_2bdb1_row0_col8, #T_2bdb1_row6_col9 {\n",
              "  background-color: #8caffe;\n",
              "  color: #000000;\n",
              "}\n",
              "#T_2bdb1_row0_col9 {\n",
              "  background-color: #90b2fe;\n",
              "  color: #000000;\n",
              "}\n",
              "#T_2bdb1_row0_col10, #T_2bdb1_row3_col10 {\n",
              "  background-color: #92b4fe;\n",
              "  color: #000000;\n",
              "}\n",
              "#T_2bdb1_row1_col0, #T_2bdb1_row2_col1, #T_2bdb1_row3_col1 {\n",
              "  background-color: #6384eb;\n",
              "  color: #f1f1f1;\n",
              "}\n",
              "#T_2bdb1_row1_col2, #T_2bdb1_row8_col6, #T_2bdb1_row10_col0 {\n",
              "  background-color: #445acc;\n",
              "  color: #f1f1f1;\n",
              "}\n",
              "#T_2bdb1_row1_col3, #T_2bdb1_row7_col3, #T_2bdb1_row8_col0, #T_2bdb1_row10_col6 {\n",
              "  background-color: #3e51c5;\n",
              "  color: #f1f1f1;\n",
              "}\n",
              "#T_2bdb1_row1_col4 {\n",
              "  background-color: #86a9fc;\n",
              "  color: #f1f1f1;\n",
              "}\n",
              "#T_2bdb1_row1_col5 {\n",
              "  background-color: #6f92f3;\n",
              "  color: #f1f1f1;\n",
              "}\n",
              "#T_2bdb1_row1_col6, #T_2bdb1_row3_col0 {\n",
              "  background-color: #4f69d9;\n",
              "  color: #f1f1f1;\n",
              "}\n",
              "#T_2bdb1_row1_col7, #T_2bdb1_row6_col2 {\n",
              "  background-color: #465ecf;\n",
              "  color: #f1f1f1;\n",
              "}\n",
              "#T_2bdb1_row1_col8 {\n",
              "  background-color: #d2dbe8;\n",
              "  color: #000000;\n",
              "}\n",
              "#T_2bdb1_row1_col9 {\n",
              "  background-color: #6b8df0;\n",
              "  color: #f1f1f1;\n",
              "}\n",
              "#T_2bdb1_row1_col10, #T_2bdb1_row6_col10 {\n",
              "  background-color: #8db0fe;\n",
              "  color: #000000;\n",
              "}\n",
              "#T_2bdb1_row2_col0 {\n",
              "  background-color: #4e68d8;\n",
              "  color: #f1f1f1;\n",
              "}\n",
              "#T_2bdb1_row2_col3 {\n",
              "  background-color: #f08a6c;\n",
              "  color: #f1f1f1;\n",
              "}\n",
              "#T_2bdb1_row2_col4, #T_2bdb1_row8_col7 {\n",
              "  background-color: #5a78e4;\n",
              "  color: #f1f1f1;\n",
              "}\n",
              "#T_2bdb1_row2_col5 {\n",
              "  background-color: #799cf8;\n",
              "  color: #f1f1f1;\n",
              "}\n",
              "#T_2bdb1_row2_col6, #T_2bdb1_row3_col6 {\n",
              "  background-color: #455cce;\n",
              "  color: #f1f1f1;\n",
              "}\n",
              "#T_2bdb1_row2_col8 {\n",
              "  background-color: #89acfd;\n",
              "  color: #000000;\n",
              "}\n",
              "#T_2bdb1_row2_col9, #T_2bdb1_row3_col9 {\n",
              "  background-color: #97b8ff;\n",
              "  color: #000000;\n",
              "}\n",
              "#T_2bdb1_row2_col10 {\n",
              "  background-color: #96b7ff;\n",
              "  color: #000000;\n",
              "}\n",
              "#T_2bdb1_row3_col2 {\n",
              "  background-color: #ef886b;\n",
              "  color: #f1f1f1;\n",
              "}\n",
              "#T_2bdb1_row3_col4 {\n",
              "  background-color: #5977e3;\n",
              "  color: #f1f1f1;\n",
              "}\n",
              "#T_2bdb1_row3_col5 {\n",
              "  background-color: #7699f6;\n",
              "  color: #f1f1f1;\n",
              "}\n",
              "#T_2bdb1_row3_col8 {\n",
              "  background-color: #8fb1fe;\n",
              "  color: #000000;\n",
              "}\n",
              "#T_2bdb1_row4_col0 {\n",
              "  background-color: #a3c2fe;\n",
              "  color: #000000;\n",
              "}\n",
              "#T_2bdb1_row4_col1 {\n",
              "  background-color: #9dbdff;\n",
              "  color: #000000;\n",
              "}\n",
              "#T_2bdb1_row4_col2 {\n",
              "  background-color: #5470de;\n",
              "  color: #f1f1f1;\n",
              "}\n",
              "#T_2bdb1_row4_col5, #T_2bdb1_row5_col4 {\n",
              "  background-color: #d75445;\n",
              "  color: #f1f1f1;\n",
              "}\n",
              "#T_2bdb1_row4_col6 {\n",
              "  background-color: #516ddb;\n",
              "  color: #f1f1f1;\n",
              "}\n",
              "#T_2bdb1_row4_col7, #T_2bdb1_row7_col4 {\n",
              "  background-color: #ee8669;\n",
              "  color: #f1f1f1;\n",
              "}\n",
              "#T_2bdb1_row4_col8 {\n",
              "  background-color: #a2c1ff;\n",
              "  color: #000000;\n",
              "}\n",
              "#T_2bdb1_row4_col9, #T_2bdb1_row7_col9, #T_2bdb1_row7_col10 {\n",
              "  background-color: #85a8fc;\n",
              "  color: #f1f1f1;\n",
              "}\n",
              "#T_2bdb1_row4_col10, #T_2bdb1_row5_col10 {\n",
              "  background-color: #84a7fc;\n",
              "  color: #f1f1f1;\n",
              "}\n",
              "#T_2bdb1_row5_col0 {\n",
              "  background-color: #e6d7cf;\n",
              "  color: #000000;\n",
              "}\n",
              "#T_2bdb1_row5_col1 {\n",
              "  background-color: #88abfd;\n",
              "  color: #000000;\n",
              "}\n",
              "#T_2bdb1_row5_col2 {\n",
              "  background-color: #7396f5;\n",
              "  color: #f1f1f1;\n",
              "}\n",
              "#T_2bdb1_row5_col3 {\n",
              "  background-color: #6a8bef;\n",
              "  color: #f1f1f1;\n",
              "}\n",
              "#T_2bdb1_row5_col6, #T_2bdb1_row9_col0, #T_2bdb1_row9_col5 {\n",
              "  background-color: #4257c9;\n",
              "  color: #f1f1f1;\n",
              "}\n",
              "#T_2bdb1_row5_col7, #T_2bdb1_row7_col5 {\n",
              "  background-color: #f7b497;\n",
              "  color: #000000;\n",
              "}\n",
              "#T_2bdb1_row5_col8, #T_2bdb1_row6_col8 {\n",
              "  background-color: #93b5fe;\n",
              "  color: #000000;\n",
              "}\n",
              "#T_2bdb1_row5_col9 {\n",
              "  background-color: #8badfd;\n",
              "  color: #000000;\n",
              "}\n",
              "#T_2bdb1_row6_col0, #T_2bdb1_row9_col4, #T_2bdb1_row9_col6, #T_2bdb1_row10_col3 {\n",
              "  background-color: #3c4ec2;\n",
              "  color: #f1f1f1;\n",
              "}\n",
              "#T_2bdb1_row6_col1 {\n",
              "  background-color: #6e90f2;\n",
              "  color: #f1f1f1;\n",
              "}\n",
              "#T_2bdb1_row6_col3 {\n",
              "  background-color: #4055c8;\n",
              "  color: #f1f1f1;\n",
              "}\n",
              "#T_2bdb1_row6_col4 {\n",
              "  background-color: #5875e1;\n",
              "  color: #f1f1f1;\n",
              "}\n",
              "#T_2bdb1_row6_col5, #T_2bdb1_row9_col2 {\n",
              "  background-color: #4961d2;\n",
              "  color: #f1f1f1;\n",
              "}\n",
              "#T_2bdb1_row6_col7 {\n",
              "  background-color: #5b7ae5;\n",
              "  color: #f1f1f1;\n",
              "}\n",
              "#T_2bdb1_row7_col1 {\n",
              "  background-color: #6180e9;\n",
              "  color: #f1f1f1;\n",
              "}\n",
              "#T_2bdb1_row7_col2, #T_2bdb1_row9_col3 {\n",
              "  background-color: #4358cb;\n",
              "  color: #f1f1f1;\n",
              "}\n",
              "#T_2bdb1_row7_col6 {\n",
              "  background-color: #5673e0;\n",
              "  color: #f1f1f1;\n",
              "}\n",
              "#T_2bdb1_row7_col8 {\n",
              "  background-color: #a1c0ff;\n",
              "  color: #000000;\n",
              "}\n",
              "#T_2bdb1_row8_col1 {\n",
              "  background-color: #b2ccfb;\n",
              "  color: #000000;\n",
              "}\n",
              "#T_2bdb1_row8_col4 {\n",
              "  background-color: #5d7ce6;\n",
              "  color: #f1f1f1;\n",
              "}\n",
              "#T_2bdb1_row8_col5 {\n",
              "  background-color: #4b64d5;\n",
              "  color: #f1f1f1;\n",
              "}\n",
              "#T_2bdb1_row9_col10, #T_2bdb1_row10_col9 {\n",
              "  background-color: #3f53c6;\n",
              "  color: #f1f1f1;\n",
              "}\n",
              "#T_2bdb1_row10_col1 {\n",
              "  background-color: #5e7de7;\n",
              "  color: #f1f1f1;\n",
              "}\n",
              "</style>\n",
              "<table id=\"T_2bdb1_\" class=\"dataframe\">\n",
              "  <thead>\n",
              "    <tr>\n",
              "      <th class=\"blank level0\" >&nbsp;</th>\n",
              "      <th class=\"col_heading level0 col0\" >EDAD</th>\n",
              "      <th class=\"col_heading level0 col1\" >IMC</th>\n",
              "      <th class=\"col_heading level0 col2\" >HIJOS</th>\n",
              "      <th class=\"col_heading level0 col3\" >TIENE_HIJOS</th>\n",
              "      <th class=\"col_heading level0 col4\" >PRECIO</th>\n",
              "      <th class=\"col_heading level0 col5\" >LOG_P</th>\n",
              "      <th class=\"col_heading level0 col6\" >SEXO_MASCULINO</th>\n",
              "      <th class=\"col_heading level0 col7\" >FUMADOR_SI</th>\n",
              "      <th class=\"col_heading level0 col8\" >CIUDAD_MADRID</th>\n",
              "      <th class=\"col_heading level0 col9\" >CIUDAD_SEVILLA</th>\n",
              "      <th class=\"col_heading level0 col10\" >CIUDAD_VALENCIA</th>\n",
              "    </tr>\n",
              "  </thead>\n",
              "  <tbody>\n",
              "    <tr>\n",
              "      <th id=\"T_2bdb1_level0_row0\" class=\"row_heading level0 row0\" >EDAD</th>\n",
              "      <td id=\"T_2bdb1_row0_col0\" class=\"data row0 col0\" >1.000000</td>\n",
              "      <td id=\"T_2bdb1_row0_col1\" class=\"data row0 col1\" >0.107742</td>\n",
              "      <td id=\"T_2bdb1_row0_col2\" class=\"data row0 col2\" >0.041016</td>\n",
              "      <td id=\"T_2bdb1_row0_col3\" class=\"data row0 col3\" >0.044213</td>\n",
              "      <td id=\"T_2bdb1_row0_col4\" class=\"data row0 col4\" >0.298308</td>\n",
              "      <td id=\"T_2bdb1_row0_col5\" class=\"data row0 col5\" >0.526933</td>\n",
              "      <td id=\"T_2bdb1_row0_col6\" class=\"data row0 col6\" >-0.019542</td>\n",
              "      <td id=\"T_2bdb1_row0_col7\" class=\"data row0 col7\" >-0.025587</td>\n",
              "      <td id=\"T_2bdb1_row0_col8\" class=\"data row0 col8\" >-0.012311</td>\n",
              "      <td id=\"T_2bdb1_row0_col9\" class=\"data row0 col9\" >0.001495</td>\n",
              "      <td id=\"T_2bdb1_row0_col10\" class=\"data row0 col10\" >0.009415</td>\n",
              "    </tr>\n",
              "    <tr>\n",
              "      <th id=\"T_2bdb1_level0_row1\" class=\"row_heading level0 row1\" >IMC</th>\n",
              "      <td id=\"T_2bdb1_row1_col0\" class=\"data row1 col0\" >0.107742</td>\n",
              "      <td id=\"T_2bdb1_row1_col1\" class=\"data row1 col1\" >1.000000</td>\n",
              "      <td id=\"T_2bdb1_row1_col2\" class=\"data row1 col2\" >0.011157</td>\n",
              "      <td id=\"T_2bdb1_row1_col3\" class=\"data row1 col3\" >0.013901</td>\n",
              "      <td id=\"T_2bdb1_row1_col4\" class=\"data row1 col4\" >0.197793</td>\n",
              "      <td id=\"T_2bdb1_row1_col5\" class=\"data row1 col5\" >0.131903</td>\n",
              "      <td id=\"T_2bdb1_row1_col6\" class=\"data row1 col6\" >0.048800</td>\n",
              "      <td id=\"T_2bdb1_row1_col7\" class=\"data row1 col7\" >0.003428</td>\n",
              "      <td id=\"T_2bdb1_row1_col8\" class=\"data row1 col8\" >0.269794</td>\n",
              "      <td id=\"T_2bdb1_row1_col9\" class=\"data row1 col9\" >-0.136556</td>\n",
              "      <td id=\"T_2bdb1_row1_col10\" class=\"data row1 col10\" >-0.006571</td>\n",
              "    </tr>\n",
              "    <tr>\n",
              "      <th id=\"T_2bdb1_level0_row2\" class=\"row_heading level0 row2\" >HIJOS</th>\n",
              "      <td id=\"T_2bdb1_row2_col0\" class=\"data row2 col0\" >0.041016</td>\n",
              "      <td id=\"T_2bdb1_row2_col1\" class=\"data row2 col1\" >0.011157</td>\n",
              "      <td id=\"T_2bdb1_row2_col2\" class=\"data row2 col2\" >1.000000</td>\n",
              "      <td id=\"T_2bdb1_row2_col3\" class=\"data row2 col3\" >0.788314</td>\n",
              "      <td id=\"T_2bdb1_row2_col4\" class=\"data row2 col4\" >0.065633</td>\n",
              "      <td id=\"T_2bdb1_row2_col5\" class=\"data row2 col5\" >0.158026</td>\n",
              "      <td id=\"T_2bdb1_row2_col6\" class=\"data row2 col6\" >0.018870</td>\n",
              "      <td id=\"T_2bdb1_row2_col7\" class=\"data row2 col7\" >0.008586</td>\n",
              "      <td id=\"T_2bdb1_row2_col8\" class=\"data row2 col8\" >-0.021958</td>\n",
              "      <td id=\"T_2bdb1_row2_col9\" class=\"data row2 col9\" >0.027429</td>\n",
              "      <td id=\"T_2bdb1_row2_col10\" class=\"data row2 col10\" >0.022928</td>\n",
              "    </tr>\n",
              "    <tr>\n",
              "      <th id=\"T_2bdb1_level0_row3\" class=\"row_heading level0 row3\" >TIENE_HIJOS</th>\n",
              "      <td id=\"T_2bdb1_row3_col0\" class=\"data row3 col0\" >0.044213</td>\n",
              "      <td id=\"T_2bdb1_row3_col1\" class=\"data row3 col1\" >0.013901</td>\n",
              "      <td id=\"T_2bdb1_row3_col2\" class=\"data row3 col2\" >0.788314</td>\n",
              "      <td id=\"T_2bdb1_row3_col3\" class=\"data row3 col3\" >1.000000</td>\n",
              "      <td id=\"T_2bdb1_row3_col4\" class=\"data row3 col4\" >0.061246</td>\n",
              "      <td id=\"T_2bdb1_row3_col5\" class=\"data row3 col5\" >0.149085</td>\n",
              "      <td id=\"T_2bdb1_row3_col6\" class=\"data row3 col6\" >0.020126</td>\n",
              "      <td id=\"T_2bdb1_row3_col7\" class=\"data row3 col7\" >0.011388</td>\n",
              "      <td id=\"T_2bdb1_row3_col8\" class=\"data row3 col8\" >-0.000622</td>\n",
              "      <td id=\"T_2bdb1_row3_col9\" class=\"data row3 col9\" >0.030259</td>\n",
              "      <td id=\"T_2bdb1_row3_col10\" class=\"data row3 col10\" >0.007095</td>\n",
              "    </tr>\n",
              "    <tr>\n",
              "      <th id=\"T_2bdb1_level0_row4\" class=\"row_heading level0 row4\" >PRECIO</th>\n",
              "      <td id=\"T_2bdb1_row4_col0\" class=\"data row4 col0\" >0.298308</td>\n",
              "      <td id=\"T_2bdb1_row4_col1\" class=\"data row4 col1\" >0.197793</td>\n",
              "      <td id=\"T_2bdb1_row4_col2\" class=\"data row4 col2\" >0.065633</td>\n",
              "      <td id=\"T_2bdb1_row4_col3\" class=\"data row4 col3\" >0.061246</td>\n",
              "      <td id=\"T_2bdb1_row4_col4\" class=\"data row4 col4\" >1.000000</td>\n",
              "      <td id=\"T_2bdb1_row4_col5\" class=\"data row4 col5\" >0.893079</td>\n",
              "      <td id=\"T_2bdb1_row4_col6\" class=\"data row4 col6\" >0.058033</td>\n",
              "      <td id=\"T_2bdb1_row4_col7\" class=\"data row4 col7\" >0.787238</td>\n",
              "      <td id=\"T_2bdb1_row4_col8\" class=\"data row4 col8\" >0.073575</td>\n",
              "      <td id=\"T_2bdb1_row4_col9\" class=\"data row4 col9\" >-0.038700</td>\n",
              "      <td id=\"T_2bdb1_row4_col10\" class=\"data row4 col10\" >-0.043637</td>\n",
              "    </tr>\n",
              "    <tr>\n",
              "      <th id=\"T_2bdb1_level0_row5\" class=\"row_heading level0 row5\" >LOG_P</th>\n",
              "      <td id=\"T_2bdb1_row5_col0\" class=\"data row5 col0\" >0.526933</td>\n",
              "      <td id=\"T_2bdb1_row5_col1\" class=\"data row5 col1\" >0.131903</td>\n",
              "      <td id=\"T_2bdb1_row5_col2\" class=\"data row5 col2\" >0.158026</td>\n",
              "      <td id=\"T_2bdb1_row5_col3\" class=\"data row5 col3\" >0.149085</td>\n",
              "      <td id=\"T_2bdb1_row5_col4\" class=\"data row5 col4\" >0.893079</td>\n",
              "      <td id=\"T_2bdb1_row5_col5\" class=\"data row5 col5\" >1.000000</td>\n",
              "      <td id=\"T_2bdb1_row5_col6\" class=\"data row5 col6\" >0.007614</td>\n",
              "      <td id=\"T_2bdb1_row5_col7\" class=\"data row5 col7\" >0.665713</td>\n",
              "      <td id=\"T_2bdb1_row5_col8\" class=\"data row5 col8\" >0.014998</td>\n",
              "      <td id=\"T_2bdb1_row5_col9\" class=\"data row5 col9\" >-0.015460</td>\n",
              "      <td id=\"T_2bdb1_row5_col10\" class=\"data row5 col10\" >-0.042485</td>\n",
              "    </tr>\n",
              "    <tr>\n",
              "      <th id=\"T_2bdb1_level0_row6\" class=\"row_heading level0 row6\" >SEXO_MASCULINO</th>\n",
              "      <td id=\"T_2bdb1_row6_col0\" class=\"data row6 col0\" >-0.019542</td>\n",
              "      <td id=\"T_2bdb1_row6_col1\" class=\"data row6 col1\" >0.048800</td>\n",
              "      <td id=\"T_2bdb1_row6_col2\" class=\"data row6 col2\" >0.018870</td>\n",
              "      <td id=\"T_2bdb1_row6_col3\" class=\"data row6 col3\" >0.020126</td>\n",
              "      <td id=\"T_2bdb1_row6_col4\" class=\"data row6 col4\" >0.058033</td>\n",
              "      <td id=\"T_2bdb1_row6_col5\" class=\"data row6 col5\" >0.007614</td>\n",
              "      <td id=\"T_2bdb1_row6_col6\" class=\"data row6 col6\" >1.000000</td>\n",
              "      <td id=\"T_2bdb1_row6_col7\" class=\"data row6 col7\" >0.075079</td>\n",
              "      <td id=\"T_2bdb1_row6_col8\" class=\"data row6 col8\" >0.015749</td>\n",
              "      <td id=\"T_2bdb1_row6_col9\" class=\"data row6 col9\" >-0.014174</td>\n",
              "      <td id=\"T_2bdb1_row6_col10\" class=\"data row6 col10\" >-0.005462</td>\n",
              "    </tr>\n",
              "    <tr>\n",
              "      <th id=\"T_2bdb1_level0_row7\" class=\"row_heading level0 row7\" >FUMADOR_SI</th>\n",
              "      <td id=\"T_2bdb1_row7_col0\" class=\"data row7 col0\" >-0.025587</td>\n",
              "      <td id=\"T_2bdb1_row7_col1\" class=\"data row7 col1\" >0.003428</td>\n",
              "      <td id=\"T_2bdb1_row7_col2\" class=\"data row7 col2\" >0.008586</td>\n",
              "      <td id=\"T_2bdb1_row7_col3\" class=\"data row7 col3\" >0.011388</td>\n",
              "      <td id=\"T_2bdb1_row7_col4\" class=\"data row7 col4\" >0.787238</td>\n",
              "      <td id=\"T_2bdb1_row7_col5\" class=\"data row7 col5\" >0.665713</td>\n",
              "      <td id=\"T_2bdb1_row7_col6\" class=\"data row7 col6\" >0.075079</td>\n",
              "      <td id=\"T_2bdb1_row7_col7\" class=\"data row7 col7\" >1.000000</td>\n",
              "      <td id=\"T_2bdb1_row7_col8\" class=\"data row7 col8\" >0.068282</td>\n",
              "      <td id=\"T_2bdb1_row7_col9\" class=\"data row7 col9\" >-0.036321</td>\n",
              "      <td id=\"T_2bdb1_row7_col10\" class=\"data row7 col10\" >-0.037168</td>\n",
              "    </tr>\n",
              "    <tr>\n",
              "      <th id=\"T_2bdb1_level0_row8\" class=\"row_heading level0 row8\" >CIUDAD_MADRID</th>\n",
              "      <td id=\"T_2bdb1_row8_col0\" class=\"data row8 col0\" >-0.012311</td>\n",
              "      <td id=\"T_2bdb1_row8_col1\" class=\"data row8 col1\" >0.269794</td>\n",
              "      <td id=\"T_2bdb1_row8_col2\" class=\"data row8 col2\" >-0.021958</td>\n",
              "      <td id=\"T_2bdb1_row8_col3\" class=\"data row8 col3\" >-0.000622</td>\n",
              "      <td id=\"T_2bdb1_row8_col4\" class=\"data row8 col4\" >0.073575</td>\n",
              "      <td id=\"T_2bdb1_row8_col5\" class=\"data row8 col5\" >0.014998</td>\n",
              "      <td id=\"T_2bdb1_row8_col6\" class=\"data row8 col6\" >0.015749</td>\n",
              "      <td id=\"T_2bdb1_row8_col7\" class=\"data row8 col7\" >0.068282</td>\n",
              "      <td id=\"T_2bdb1_row8_col8\" class=\"data row8 col8\" >1.000000</td>\n",
              "      <td id=\"T_2bdb1_row8_col9\" class=\"data row8 col9\" >-0.345909</td>\n",
              "      <td id=\"T_2bdb1_row8_col10\" class=\"data row8 col10\" >-0.346614</td>\n",
              "    </tr>\n",
              "    <tr>\n",
              "      <th id=\"T_2bdb1_level0_row9\" class=\"row_heading level0 row9\" >CIUDAD_SEVILLA</th>\n",
              "      <td id=\"T_2bdb1_row9_col0\" class=\"data row9 col0\" >0.001495</td>\n",
              "      <td id=\"T_2bdb1_row9_col1\" class=\"data row9 col1\" >-0.136556</td>\n",
              "      <td id=\"T_2bdb1_row9_col2\" class=\"data row9 col2\" >0.027429</td>\n",
              "      <td id=\"T_2bdb1_row9_col3\" class=\"data row9 col3\" >0.030259</td>\n",
              "      <td id=\"T_2bdb1_row9_col4\" class=\"data row9 col4\" >-0.038700</td>\n",
              "      <td id=\"T_2bdb1_row9_col5\" class=\"data row9 col5\" >-0.015460</td>\n",
              "      <td id=\"T_2bdb1_row9_col6\" class=\"data row9 col6\" >-0.014174</td>\n",
              "      <td id=\"T_2bdb1_row9_col7\" class=\"data row9 col7\" >-0.036321</td>\n",
              "      <td id=\"T_2bdb1_row9_col8\" class=\"data row9 col8\" >-0.345909</td>\n",
              "      <td id=\"T_2bdb1_row9_col9\" class=\"data row9 col9\" >1.000000</td>\n",
              "      <td id=\"T_2bdb1_row9_col10\" class=\"data row9 col10\" >-0.320493</td>\n",
              "    </tr>\n",
              "    <tr>\n",
              "      <th id=\"T_2bdb1_level0_row10\" class=\"row_heading level0 row10\" >CIUDAD_VALENCIA</th>\n",
              "      <td id=\"T_2bdb1_row10_col0\" class=\"data row10 col0\" >0.009415</td>\n",
              "      <td id=\"T_2bdb1_row10_col1\" class=\"data row10 col1\" >-0.006571</td>\n",
              "      <td id=\"T_2bdb1_row10_col2\" class=\"data row10 col2\" >0.022928</td>\n",
              "      <td id=\"T_2bdb1_row10_col3\" class=\"data row10 col3\" >0.007095</td>\n",
              "      <td id=\"T_2bdb1_row10_col4\" class=\"data row10 col4\" >-0.043637</td>\n",
              "      <td id=\"T_2bdb1_row10_col5\" class=\"data row10 col5\" >-0.042485</td>\n",
              "      <td id=\"T_2bdb1_row10_col6\" class=\"data row10 col6\" >-0.005462</td>\n",
              "      <td id=\"T_2bdb1_row10_col7\" class=\"data row10 col7\" >-0.037168</td>\n",
              "      <td id=\"T_2bdb1_row10_col8\" class=\"data row10 col8\" >-0.346614</td>\n",
              "      <td id=\"T_2bdb1_row10_col9\" class=\"data row10 col9\" >-0.320493</td>\n",
              "      <td id=\"T_2bdb1_row10_col10\" class=\"data row10 col10\" >1.000000</td>\n",
              "    </tr>\n",
              "  </tbody>\n",
              "</table>\n"
            ]
          },
          "metadata": {},
          "execution_count": 149
        }
      ]
    },
    {
      "cell_type": "code",
      "metadata": {
        "id": "4uRxYB6fbMH9"
      },
      "source": [
        ""
      ],
      "execution_count": 149,
      "outputs": []
    },
    {
      "cell_type": "code",
      "metadata": {
        "id": "WZR-hJUTbyd-"
      },
      "source": [
        ""
      ],
      "execution_count": 149,
      "outputs": []
    },
    {
      "cell_type": "code",
      "metadata": {
        "id": "24cUR2nrbyWw"
      },
      "source": [
        ""
      ],
      "execution_count": 149,
      "outputs": []
    },
    {
      "cell_type": "code",
      "metadata": {
        "id": "Rr2ayIHybyUV"
      },
      "source": [
        ""
      ],
      "execution_count": 149,
      "outputs": []
    },
    {
      "cell_type": "code",
      "metadata": {
        "id": "07tzvE3nbyQ2"
      },
      "source": [
        ""
      ],
      "execution_count": 149,
      "outputs": []
    },
    {
      "cell_type": "code",
      "metadata": {
        "id": "x7N3JevlbyMf"
      },
      "source": [
        ""
      ],
      "execution_count": 149,
      "outputs": []
    },
    {
      "cell_type": "code",
      "metadata": {
        "colab": {
          "base_uri": "https://localhost:8080/"
        },
        "id": "jZStJgRhbMGG",
        "outputId": "b782ad99-9ab4-4a22-d619-1220ce8e0cca"
      },
      "source": [
        "df_seguro_prep_cate[\"EDAD\"] #ES UNA SERIE, POR ESO HEMOS DE TRANSFORMARLO "
      ],
      "execution_count": 150,
      "outputs": [
        {
          "output_type": "execute_result",
          "data": {
            "text/plain": [
              "0       37\n",
              "1       25\n",
              "2       52\n",
              "3       23\n",
              "4       60\n",
              "        ..\n",
              "1332    19\n",
              "1333    52\n",
              "1334    23\n",
              "1335    52\n",
              "1336    21\n",
              "Name: EDAD, Length: 1337, dtype: int64"
            ]
          },
          "metadata": {},
          "execution_count": 150
        }
      ]
    },
    {
      "cell_type": "code",
      "metadata": {
        "colab": {
          "base_uri": "https://localhost:8080/"
        },
        "id": "kkRawkXpb-5B",
        "outputId": "30772dfd-0db4-49c6-8b5a-0ea5e572de90"
      },
      "source": [
        "df_seguro_prep_cate[\"EDAD\"].values.reshape(-1,1) #el -1 (hasta el último) es para que me tome todos los calores, i el \"1\" es una columna. conviertemne en un array todo el valor."
      ],
      "execution_count": 151,
      "outputs": [
        {
          "output_type": "execute_result",
          "data": {
            "text/plain": [
              "array([[37],\n",
              "       [25],\n",
              "       [52],\n",
              "       ...,\n",
              "       [23],\n",
              "       [52],\n",
              "       [21]])"
            ]
          },
          "metadata": {},
          "execution_count": 151
        }
      ]
    },
    {
      "cell_type": "code",
      "metadata": {
        "id": "9PRHr3MQbMED"
      },
      "source": [
        "def minMaxTransformacion(variable_transformar, dataset):\n",
        "  minMaxResultado=MinMaxScaler()   #normalizacion (x - ximin /(xmax-xmin))\n",
        "  dataset[variable_transformar]=minMaxResultado.fit_transform(dataset[variable_transformar].values.reshape(-1,1))\n",
        "\n",
        "  return minMaxResultado"
      ],
      "execution_count": 152,
      "outputs": []
    },
    {
      "cell_type": "code",
      "metadata": {
        "id": "bu62Wbi2bMBi"
      },
      "source": [
        "minMax_edad= minMaxTransformacion(\"EDAD\", df_seguro_prep_cate)"
      ],
      "execution_count": 153,
      "outputs": []
    },
    {
      "cell_type": "code",
      "metadata": {
        "colab": {
          "base_uri": "https://localhost:8080/",
          "height": 206
        },
        "id": "XVr8ZB_0bL_R",
        "outputId": "cc3efef0-a3d6-480b-cb24-de0688079dc0"
      },
      "source": [
        "df_seguro_prep_cate.head()"
      ],
      "execution_count": 154,
      "outputs": [
        {
          "output_type": "execute_result",
          "data": {
            "text/plain": [
              "       EDAD     IMC  HIJOS  TIENE_HIJOS  PRECIO     LOG_P  SEXO_MASCULINO  \\\n",
              "0  0.413043  29.830      2            1     534  2.727541               1   \n",
              "1  0.152174  26.220      0            0     227  2.356026               1   \n",
              "2  0.739130  30.780      1            1     900  2.954243               0   \n",
              "3  0.108696  23.845      0            0     200  2.301030               1   \n",
              "4  0.913043  36.005      0            0    1102  3.042182               0   \n",
              "\n",
              "   FUMADOR_SI  CIUDAD_MADRID  CIUDAD_SEVILLA  CIUDAD_VALENCIA  \n",
              "0           0              0               0                0  \n",
              "1           0              0               0                0  \n",
              "2           0              0               0                0  \n",
              "3           0              0               0                0  \n",
              "4           0              0               0                0  "
            ],
            "text/html": [
              "\n",
              "  <div id=\"df-1065e960-c4fe-4b50-afde-8a1b86e8bd0d\">\n",
              "    <div class=\"colab-df-container\">\n",
              "      <div>\n",
              "<style scoped>\n",
              "    .dataframe tbody tr th:only-of-type {\n",
              "        vertical-align: middle;\n",
              "    }\n",
              "\n",
              "    .dataframe tbody tr th {\n",
              "        vertical-align: top;\n",
              "    }\n",
              "\n",
              "    .dataframe thead th {\n",
              "        text-align: right;\n",
              "    }\n",
              "</style>\n",
              "<table border=\"1\" class=\"dataframe\">\n",
              "  <thead>\n",
              "    <tr style=\"text-align: right;\">\n",
              "      <th></th>\n",
              "      <th>EDAD</th>\n",
              "      <th>IMC</th>\n",
              "      <th>HIJOS</th>\n",
              "      <th>TIENE_HIJOS</th>\n",
              "      <th>PRECIO</th>\n",
              "      <th>LOG_P</th>\n",
              "      <th>SEXO_MASCULINO</th>\n",
              "      <th>FUMADOR_SI</th>\n",
              "      <th>CIUDAD_MADRID</th>\n",
              "      <th>CIUDAD_SEVILLA</th>\n",
              "      <th>CIUDAD_VALENCIA</th>\n",
              "    </tr>\n",
              "  </thead>\n",
              "  <tbody>\n",
              "    <tr>\n",
              "      <th>0</th>\n",
              "      <td>0.413043</td>\n",
              "      <td>29.830</td>\n",
              "      <td>2</td>\n",
              "      <td>1</td>\n",
              "      <td>534</td>\n",
              "      <td>2.727541</td>\n",
              "      <td>1</td>\n",
              "      <td>0</td>\n",
              "      <td>0</td>\n",
              "      <td>0</td>\n",
              "      <td>0</td>\n",
              "    </tr>\n",
              "    <tr>\n",
              "      <th>1</th>\n",
              "      <td>0.152174</td>\n",
              "      <td>26.220</td>\n",
              "      <td>0</td>\n",
              "      <td>0</td>\n",
              "      <td>227</td>\n",
              "      <td>2.356026</td>\n",
              "      <td>1</td>\n",
              "      <td>0</td>\n",
              "      <td>0</td>\n",
              "      <td>0</td>\n",
              "      <td>0</td>\n",
              "    </tr>\n",
              "    <tr>\n",
              "      <th>2</th>\n",
              "      <td>0.739130</td>\n",
              "      <td>30.780</td>\n",
              "      <td>1</td>\n",
              "      <td>1</td>\n",
              "      <td>900</td>\n",
              "      <td>2.954243</td>\n",
              "      <td>0</td>\n",
              "      <td>0</td>\n",
              "      <td>0</td>\n",
              "      <td>0</td>\n",
              "      <td>0</td>\n",
              "    </tr>\n",
              "    <tr>\n",
              "      <th>3</th>\n",
              "      <td>0.108696</td>\n",
              "      <td>23.845</td>\n",
              "      <td>0</td>\n",
              "      <td>0</td>\n",
              "      <td>200</td>\n",
              "      <td>2.301030</td>\n",
              "      <td>1</td>\n",
              "      <td>0</td>\n",
              "      <td>0</td>\n",
              "      <td>0</td>\n",
              "      <td>0</td>\n",
              "    </tr>\n",
              "    <tr>\n",
              "      <th>4</th>\n",
              "      <td>0.913043</td>\n",
              "      <td>36.005</td>\n",
              "      <td>0</td>\n",
              "      <td>0</td>\n",
              "      <td>1102</td>\n",
              "      <td>3.042182</td>\n",
              "      <td>0</td>\n",
              "      <td>0</td>\n",
              "      <td>0</td>\n",
              "      <td>0</td>\n",
              "      <td>0</td>\n",
              "    </tr>\n",
              "  </tbody>\n",
              "</table>\n",
              "</div>\n",
              "      <button class=\"colab-df-convert\" onclick=\"convertToInteractive('df-1065e960-c4fe-4b50-afde-8a1b86e8bd0d')\"\n",
              "              title=\"Convert this dataframe to an interactive table.\"\n",
              "              style=\"display:none;\">\n",
              "        \n",
              "  <svg xmlns=\"http://www.w3.org/2000/svg\" height=\"24px\"viewBox=\"0 0 24 24\"\n",
              "       width=\"24px\">\n",
              "    <path d=\"M0 0h24v24H0V0z\" fill=\"none\"/>\n",
              "    <path d=\"M18.56 5.44l.94 2.06.94-2.06 2.06-.94-2.06-.94-.94-2.06-.94 2.06-2.06.94zm-11 1L8.5 8.5l.94-2.06 2.06-.94-2.06-.94L8.5 2.5l-.94 2.06-2.06.94zm10 10l.94 2.06.94-2.06 2.06-.94-2.06-.94-.94-2.06-.94 2.06-2.06.94z\"/><path d=\"M17.41 7.96l-1.37-1.37c-.4-.4-.92-.59-1.43-.59-.52 0-1.04.2-1.43.59L10.3 9.45l-7.72 7.72c-.78.78-.78 2.05 0 2.83L4 21.41c.39.39.9.59 1.41.59.51 0 1.02-.2 1.41-.59l7.78-7.78 2.81-2.81c.8-.78.8-2.07 0-2.86zM5.41 20L4 18.59l7.72-7.72 1.47 1.35L5.41 20z\"/>\n",
              "  </svg>\n",
              "      </button>\n",
              "      \n",
              "  <style>\n",
              "    .colab-df-container {\n",
              "      display:flex;\n",
              "      flex-wrap:wrap;\n",
              "      gap: 12px;\n",
              "    }\n",
              "\n",
              "    .colab-df-convert {\n",
              "      background-color: #E8F0FE;\n",
              "      border: none;\n",
              "      border-radius: 50%;\n",
              "      cursor: pointer;\n",
              "      display: none;\n",
              "      fill: #1967D2;\n",
              "      height: 32px;\n",
              "      padding: 0 0 0 0;\n",
              "      width: 32px;\n",
              "    }\n",
              "\n",
              "    .colab-df-convert:hover {\n",
              "      background-color: #E2EBFA;\n",
              "      box-shadow: 0px 1px 2px rgba(60, 64, 67, 0.3), 0px 1px 3px 1px rgba(60, 64, 67, 0.15);\n",
              "      fill: #174EA6;\n",
              "    }\n",
              "\n",
              "    [theme=dark] .colab-df-convert {\n",
              "      background-color: #3B4455;\n",
              "      fill: #D2E3FC;\n",
              "    }\n",
              "\n",
              "    [theme=dark] .colab-df-convert:hover {\n",
              "      background-color: #434B5C;\n",
              "      box-shadow: 0px 1px 3px 1px rgba(0, 0, 0, 0.15);\n",
              "      filter: drop-shadow(0px 1px 2px rgba(0, 0, 0, 0.3));\n",
              "      fill: #FFFFFF;\n",
              "    }\n",
              "  </style>\n",
              "\n",
              "      <script>\n",
              "        const buttonEl =\n",
              "          document.querySelector('#df-1065e960-c4fe-4b50-afde-8a1b86e8bd0d button.colab-df-convert');\n",
              "        buttonEl.style.display =\n",
              "          google.colab.kernel.accessAllowed ? 'block' : 'none';\n",
              "\n",
              "        async function convertToInteractive(key) {\n",
              "          const element = document.querySelector('#df-1065e960-c4fe-4b50-afde-8a1b86e8bd0d');\n",
              "          const dataTable =\n",
              "            await google.colab.kernel.invokeFunction('convertToInteractive',\n",
              "                                                     [key], {});\n",
              "          if (!dataTable) return;\n",
              "\n",
              "          const docLinkHtml = 'Like what you see? Visit the ' +\n",
              "            '<a target=\"_blank\" href=https://colab.research.google.com/notebooks/data_table.ipynb>data table notebook</a>'\n",
              "            + ' to learn more about interactive tables.';\n",
              "          element.innerHTML = '';\n",
              "          dataTable['output_type'] = 'display_data';\n",
              "          await google.colab.output.renderOutput(dataTable, element);\n",
              "          const docLink = document.createElement('div');\n",
              "          docLink.innerHTML = docLinkHtml;\n",
              "          element.appendChild(docLink);\n",
              "        }\n",
              "      </script>\n",
              "    </div>\n",
              "  </div>\n",
              "  "
            ]
          },
          "metadata": {},
          "execution_count": 154
        }
      ]
    }
  ]
}