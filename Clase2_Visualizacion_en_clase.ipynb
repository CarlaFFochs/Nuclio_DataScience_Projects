{
  "cells": [
    {
      "cell_type": "markdown",
      "metadata": {
        "id": "view-in-github",
        "colab_type": "text"
      },
      "source": [
        "<a href=\"https://colab.research.google.com/github/CarlaFFochs/Nuclio_DataScience_Projects/blob/main/Clase2_Visualizacion_en_clase.ipynb\" target=\"_parent\"><img src=\"https://colab.research.google.com/assets/colab-badge.svg\" alt=\"Open In Colab\"/></a>"
      ]
    },
    {
      "cell_type": "markdown",
      "metadata": {
        "id": "nDDwy_uc_h87"
      },
      "source": [
        "## MASTER DATA SCIENCE: NUCLIO\n",
        "## CLASE 2: EDA + Visualización"
      ]
    },
    {
      "cell_type": "markdown",
      "metadata": {
        "id": "Uwyxe-XJ_h89"
      },
      "source": [
        "### En este ejercicio vamos a analizar el dataset de CoronaVirus\n",
        "### de Johns Hopkins (https://github.com/CSSEGISandData/COVID-19)\n",
        "\n",
        "ruta de los 2 ficheros a descargar:\n",
        "'https://raw.githubusercontent.com/CSSEGISandData/COVID-19/master/csse_covid_19_data/csse_covid_19_time_series/time_series_covid19_confirmed_global.csv'\n",
        "'https://raw.githubusercontent.com/CSSEGISandData/COVID-19/master/csse_covid_19_data/csse_covid_19_time_series/time_series_covid19_deaths_global.csv'"
      ]
    },
    {
      "cell_type": "code",
      "execution_count": null,
      "metadata": {
        "colab": {
          "base_uri": "https://localhost:8080/"
        },
        "id": "CF3pc1ix_yeM",
        "outputId": "b3d38a03-1e2a-4283-dded-848a15bdf31b"
      },
      "outputs": [
        {
          "name": "stdout",
          "output_type": "stream",
          "text": [
            "Collecting wget\n",
            "  Downloading wget-3.2.zip (10 kB)\n",
            "Building wheels for collected packages: wget\n",
            "  Building wheel for wget (setup.py) ... \u001b[?25l\u001b[?25hdone\n",
            "  Created wheel for wget: filename=wget-3.2-py3-none-any.whl size=9675 sha256=92935d2e6c8fa825369aa65d4548e3d4e7fb12ba95d7ac7493ff88a2b2664fc5\n",
            "  Stored in directory: /root/.cache/pip/wheels/a1/b6/7c/0e63e34eb06634181c63adacca38b79ff8f35c37e3c13e3c02\n",
            "Successfully built wget\n",
            "Installing collected packages: wget\n",
            "Successfully installed wget-3.2\n"
          ]
        }
      ],
      "source": [
        "!pip install wget #wget es para obtener un fichero, obtener informacion de una ULR"
      ]
    },
    {
      "cell_type": "code",
      "execution_count": null,
      "metadata": {
        "colab": {
          "base_uri": "https://localhost:8080/"
        },
        "id": "EahwpuAQ_ogM",
        "outputId": "b1be9778-ea09-4987-ed90-2fc4e13fad1f"
      },
      "outputs": [
        {
          "name": "stdout",
          "output_type": "stream",
          "text": [
            "Collecting calmap\n",
            "  Downloading calmap-0.0.9-py2.py3-none-any.whl (7.1 kB)\n",
            "Requirement already satisfied: pandas in /usr/local/lib/python3.7/dist-packages (from calmap) (1.3.5)\n",
            "Requirement already satisfied: numpy in /usr/local/lib/python3.7/dist-packages (from calmap) (1.21.5)\n",
            "Requirement already satisfied: matplotlib in /usr/local/lib/python3.7/dist-packages (from calmap) (3.2.2)\n",
            "Requirement already satisfied: cycler>=0.10 in /usr/local/lib/python3.7/dist-packages (from matplotlib->calmap) (0.11.0)\n",
            "Requirement already satisfied: pyparsing!=2.0.4,!=2.1.2,!=2.1.6,>=2.0.1 in /usr/local/lib/python3.7/dist-packages (from matplotlib->calmap) (3.0.7)\n",
            "Requirement already satisfied: python-dateutil>=2.1 in /usr/local/lib/python3.7/dist-packages (from matplotlib->calmap) (2.8.2)\n",
            "Requirement already satisfied: kiwisolver>=1.0.1 in /usr/local/lib/python3.7/dist-packages (from matplotlib->calmap) (1.3.2)\n",
            "Requirement already satisfied: six>=1.5 in /usr/local/lib/python3.7/dist-packages (from python-dateutil>=2.1->matplotlib->calmap) (1.15.0)\n",
            "Requirement already satisfied: pytz>=2017.3 in /usr/local/lib/python3.7/dist-packages (from pandas->calmap) (2018.9)\n",
            "Installing collected packages: calmap\n",
            "Successfully installed calmap-0.0.9\n"
          ]
        }
      ],
      "source": [
        "!pip install calmap  #para el tema mapas que se hará a continuación"
      ]
    },
    {
      "cell_type": "code",
      "execution_count": null,
      "metadata": {
        "id": "wnHcqXhM_h8-"
      },
      "outputs": [],
      "source": [
        "### importamos librería\n",
        "\n",
        "'''\n",
        "instalar:\n",
        "- plotly\n",
        "- calmap\n",
        "- folium\n",
        "- wget\n",
        "'''\n",
        "\n",
        "#analisis\n",
        "import pandas as pd \n",
        "import numpy as np\n",
        "\n",
        "#visualización\n",
        "import matplotlib.pyplot as plt\n",
        "import seaborn as sns\n",
        "\n",
        "import calmap\n",
        "import folium #es para hacer mapas también\n",
        "\n",
        "#paletas, colores que se han buscando por internet para customizar los mapas \n",
        "confirmados='#393e46'  #color en hexadecimal, lo puedes encontrar en internet \n",
        "fallecidos='#ff2e63'\n",
        "\n",
        "import wget\n",
        "import os #sistema operativo\n",
        "import plotly.express as px #capa superior a matplotlib\n"
      ]
    },
    {
      "cell_type": "code",
      "execution_count": null,
      "metadata": {
        "id": "PVJ29P3FxwS5"
      },
      "outputs": [],
      "source": [
        "ficheros= [\"time_series_covid19_confirmed_global.csv\",\"time_series_covid19_deaths_global.csv\" ]"
      ]
    },
    {
      "cell_type": "code",
      "execution_count": null,
      "metadata": {
        "colab": {
          "background_save": true
        },
        "id": "LHoRLYYyHkKk",
        "outputId": "5bd3c725-9d81-43c0-b481-ebf60ed0f8ca"
      },
      "outputs": [
        {
          "ename": "MessageError",
          "evalue": "ignored",
          "output_type": "error",
          "traceback": [
            "\u001b[0;31m---------------------------------------------------------------------------\u001b[0m",
            "\u001b[0;31mMessageError\u001b[0m                              Traceback (most recent call last)",
            "\u001b[0;32m<ipython-input-5-d5df0069828e>\u001b[0m in \u001b[0;36m<module>\u001b[0;34m()\u001b[0m\n\u001b[1;32m      1\u001b[0m \u001b[0;32mfrom\u001b[0m \u001b[0mgoogle\u001b[0m\u001b[0;34m.\u001b[0m\u001b[0mcolab\u001b[0m \u001b[0;32mimport\u001b[0m \u001b[0mdrive\u001b[0m\u001b[0;34m\u001b[0m\u001b[0;34m\u001b[0m\u001b[0m\n\u001b[0;32m----> 2\u001b[0;31m \u001b[0mdrive\u001b[0m\u001b[0;34m.\u001b[0m\u001b[0mmount\u001b[0m\u001b[0;34m(\u001b[0m\u001b[0;34m'/content/drive'\u001b[0m\u001b[0;34m)\u001b[0m\u001b[0;34m\u001b[0m\u001b[0;34m\u001b[0m\u001b[0m\n\u001b[0m",
            "\u001b[0;32m/usr/local/lib/python3.7/dist-packages/google/colab/drive.py\u001b[0m in \u001b[0;36mmount\u001b[0;34m(mountpoint, force_remount, timeout_ms, use_metadata_server)\u001b[0m\n\u001b[1;32m    113\u001b[0m       \u001b[0mforce_remount\u001b[0m\u001b[0;34m=\u001b[0m\u001b[0mforce_remount\u001b[0m\u001b[0;34m,\u001b[0m\u001b[0;34m\u001b[0m\u001b[0;34m\u001b[0m\u001b[0m\n\u001b[1;32m    114\u001b[0m       \u001b[0mtimeout_ms\u001b[0m\u001b[0;34m=\u001b[0m\u001b[0mtimeout_ms\u001b[0m\u001b[0;34m,\u001b[0m\u001b[0;34m\u001b[0m\u001b[0;34m\u001b[0m\u001b[0m\n\u001b[0;32m--> 115\u001b[0;31m       ephemeral=True)\n\u001b[0m\u001b[1;32m    116\u001b[0m \u001b[0;34m\u001b[0m\u001b[0m\n\u001b[1;32m    117\u001b[0m \u001b[0;34m\u001b[0m\u001b[0m\n",
            "\u001b[0;32m/usr/local/lib/python3.7/dist-packages/google/colab/drive.py\u001b[0m in \u001b[0;36m_mount\u001b[0;34m(mountpoint, force_remount, timeout_ms, use_metadata_server, ephemeral)\u001b[0m\n\u001b[1;32m    133\u001b[0m   \u001b[0;32mif\u001b[0m \u001b[0mephemeral\u001b[0m\u001b[0;34m:\u001b[0m\u001b[0;34m\u001b[0m\u001b[0;34m\u001b[0m\u001b[0m\n\u001b[1;32m    134\u001b[0m     _message.blocking_request(\n\u001b[0;32m--> 135\u001b[0;31m         'request_auth', request={'authType': 'dfs_ephemeral'}, timeout_sec=None)\n\u001b[0m\u001b[1;32m    136\u001b[0m \u001b[0;34m\u001b[0m\u001b[0m\n\u001b[1;32m    137\u001b[0m   \u001b[0mmountpoint\u001b[0m \u001b[0;34m=\u001b[0m \u001b[0m_os\u001b[0m\u001b[0;34m.\u001b[0m\u001b[0mpath\u001b[0m\u001b[0;34m.\u001b[0m\u001b[0mexpanduser\u001b[0m\u001b[0;34m(\u001b[0m\u001b[0mmountpoint\u001b[0m\u001b[0;34m)\u001b[0m\u001b[0;34m\u001b[0m\u001b[0;34m\u001b[0m\u001b[0m\n",
            "\u001b[0;32m/usr/local/lib/python3.7/dist-packages/google/colab/_message.py\u001b[0m in \u001b[0;36mblocking_request\u001b[0;34m(request_type, request, timeout_sec, parent)\u001b[0m\n\u001b[1;32m    173\u001b[0m   request_id = send_request(\n\u001b[1;32m    174\u001b[0m       request_type, request, parent=parent, expect_reply=True)\n\u001b[0;32m--> 175\u001b[0;31m   \u001b[0;32mreturn\u001b[0m \u001b[0mread_reply_from_input\u001b[0m\u001b[0;34m(\u001b[0m\u001b[0mrequest_id\u001b[0m\u001b[0;34m,\u001b[0m \u001b[0mtimeout_sec\u001b[0m\u001b[0;34m)\u001b[0m\u001b[0;34m\u001b[0m\u001b[0;34m\u001b[0m\u001b[0m\n\u001b[0m",
            "\u001b[0;32m/usr/local/lib/python3.7/dist-packages/google/colab/_message.py\u001b[0m in \u001b[0;36mread_reply_from_input\u001b[0;34m(message_id, timeout_sec)\u001b[0m\n\u001b[1;32m    104\u001b[0m         reply.get('colab_msg_id') == message_id):\n\u001b[1;32m    105\u001b[0m       \u001b[0;32mif\u001b[0m \u001b[0;34m'error'\u001b[0m \u001b[0;32min\u001b[0m \u001b[0mreply\u001b[0m\u001b[0;34m:\u001b[0m\u001b[0;34m\u001b[0m\u001b[0;34m\u001b[0m\u001b[0m\n\u001b[0;32m--> 106\u001b[0;31m         \u001b[0;32mraise\u001b[0m \u001b[0mMessageError\u001b[0m\u001b[0;34m(\u001b[0m\u001b[0mreply\u001b[0m\u001b[0;34m[\u001b[0m\u001b[0;34m'error'\u001b[0m\u001b[0;34m]\u001b[0m\u001b[0;34m)\u001b[0m\u001b[0;34m\u001b[0m\u001b[0;34m\u001b[0m\u001b[0m\n\u001b[0m\u001b[1;32m    107\u001b[0m       \u001b[0;32mreturn\u001b[0m \u001b[0mreply\u001b[0m\u001b[0;34m.\u001b[0m\u001b[0mget\u001b[0m\u001b[0;34m(\u001b[0m\u001b[0;34m'data'\u001b[0m\u001b[0;34m,\u001b[0m \u001b[0;32mNone\u001b[0m\u001b[0;34m)\u001b[0m\u001b[0;34m\u001b[0m\u001b[0;34m\u001b[0m\u001b[0m\n\u001b[1;32m    108\u001b[0m \u001b[0;34m\u001b[0m\u001b[0m\n",
            "\u001b[0;31mMessageError\u001b[0m: Error: credential propagation was unsuccessful"
          ]
        }
      ],
      "source": [
        "from google.colab import drive\n",
        "drive.mount('/content/drive')"
      ]
    },
    {
      "cell_type": "code",
      "execution_count": null,
      "metadata": {
        "colab": {
          "background_save": true
        },
        "id": "qgtrhvLfxv-_"
      },
      "outputs": [],
      "source": [
        "os.getcwd() #curent working directory\n",
        "#\"os\"es sistema operativo\n",
        "#primero haces el getcwd (get current working directory) para ver en qué directorio estas"
      ]
    },
    {
      "cell_type": "code",
      "execution_count": null,
      "metadata": {
        "colab": {
          "background_save": true
        },
        "id": "-nrmGCHOxvjW"
      },
      "outputs": [],
      "source": [
        "os.chdir(\"/content/drive/MyDrive/MASTER DATA SCIENCE/M3 - LIMPIEZA DE DATOS/Clase 2 - Visualizacion/Descargas\")\n",
        "#despues haces el chdir \"change directory\" para cambiar el directorio y poner el que quieres trabajar (ruta del archivo)"
      ]
    },
    {
      "cell_type": "code",
      "execution_count": null,
      "metadata": {
        "colab": {
          "background_save": true
        },
        "id": "UV--fj0_IrLY"
      },
      "outputs": [],
      "source": [
        "for i in ficheros:\n",
        "  if os.path.exists(i):#si existe este fichero en la ruta actual\n",
        "    os.remove(i) # se elimina el fichero\n"
      ]
    },
    {
      "cell_type": "code",
      "execution_count": null,
      "metadata": {
        "colab": {
          "background_save": true
        },
        "id": "INf5bTuiIq3M"
      },
      "outputs": [],
      "source": [
        "urls = [\"https://raw.githubusercontent.com/CSSEGISandData/COVID-19/master/csse_covid_19_data/csse_covid_19_time_series/time_series_covid19_confirmed_global.csv\",\n",
        "        'https://raw.githubusercontent.com/CSSEGISandData/COVID-19/master/csse_covid_19_data/csse_covid_19_time_series/time_series_covid19_deaths_global.csv']"
      ]
    },
    {
      "cell_type": "code",
      "execution_count": null,
      "metadata": {
        "colab": {
          "background_save": true
        },
        "id": "SO4vYYCLKMbQ"
      },
      "outputs": [],
      "source": [
        "for i in urls:\n",
        "  wget.download(i,os.getcwd()) #os.getcwd ahora es el directorio que hemos cambiado"
      ]
    },
    {
      "cell_type": "code",
      "execution_count": null,
      "metadata": {
        "colab": {
          "background_save": true
        },
        "id": "8_yBN-YTLAK8"
      },
      "outputs": [],
      "source": [
        "cf_df= pd.read_csv(\"time_series_covid19_confirmed_global.csv\")"
      ]
    },
    {
      "cell_type": "code",
      "execution_count": null,
      "metadata": {
        "colab": {
          "background_save": true
        },
        "id": "v-6U2AArLAEF"
      },
      "outputs": [],
      "source": [
        "de_df= pd.read_csv(\"time_series_covid19_deaths_global.csv\")"
      ]
    },
    {
      "cell_type": "code",
      "execution_count": null,
      "metadata": {
        "colab": {
          "background_save": true
        },
        "id": "CKFhLjpHK_3i"
      },
      "outputs": [],
      "source": [
        "#como exploramos la información\n",
        "\n",
        "cf_df.info() #hay 656 "
      ]
    },
    {
      "cell_type": "code",
      "execution_count": null,
      "metadata": {
        "colab": {
          "background_save": true
        },
        "id": "3KROJVIWLkn2"
      },
      "outputs": [],
      "source": [
        "cf_df.head() #el 1 de enero fue el primer dia que se actualizó"
      ]
    },
    {
      "cell_type": "code",
      "execution_count": null,
      "metadata": {
        "colab": {
          "background_save": true
        },
        "id": "foApm8xYMMZ8"
      },
      "outputs": [],
      "source": [
        "cf_df.shape"
      ]
    },
    {
      "cell_type": "code",
      "execution_count": null,
      "metadata": {
        "colab": {
          "background_save": true
        },
        "id": "cZvZQrwGMMWi"
      },
      "outputs": [],
      "source": [
        "de_df.info()"
      ]
    },
    {
      "cell_type": "code",
      "execution_count": null,
      "metadata": {
        "colab": {
          "background_save": true
        },
        "id": "5WqGdbCnMMTV"
      },
      "outputs": [],
      "source": [
        "de_df.head()"
      ]
    },
    {
      "cell_type": "code",
      "execution_count": null,
      "metadata": {
        "colab": {
          "background_save": true
        },
        "id": "CJ0BXwElMMOK"
      },
      "outputs": [],
      "source": [
        "de_df.shape"
      ]
    },
    {
      "cell_type": "code",
      "execution_count": null,
      "metadata": {
        "colab": {
          "background_save": true
        },
        "id": "ZcjwvQpjMng0"
      },
      "outputs": [],
      "source": [
        "cf_df.tail()"
      ]
    },
    {
      "cell_type": "code",
      "execution_count": null,
      "metadata": {
        "colab": {
          "background_save": true
        },
        "id": "LrGlLo-bMrvf"
      },
      "outputs": [],
      "source": [
        "de_df.tail()"
      ]
    },
    {
      "cell_type": "code",
      "execution_count": null,
      "metadata": {
        "colab": {
          "background_save": true
        },
        "id": "itIouGZnM30w"
      },
      "outputs": [],
      "source": [
        "#vamos a trasponer la tabla\n",
        "#que variable queremos trasponer?"
      ]
    },
    {
      "cell_type": "code",
      "execution_count": null,
      "metadata": {
        "colab": {
          "background_save": true
        },
        "id": "wt_INHcg_h9C"
      },
      "outputs": [],
      "source": [
        "cf_df.columns\n",
        "cf_df.columns[:4]"
      ]
    },
    {
      "cell_type": "code",
      "execution_count": null,
      "metadata": {
        "colab": {
          "background_save": true
        },
        "id": "lGZiW7i3hIL8"
      },
      "outputs": [],
      "source": [
        "cf_df.columns\n",
        "cf_df.columns[:5] #aqui vemos que te empiezan a salir las fechas y no nos interesa (lo he hecho para ver la diferencia)"
      ]
    },
    {
      "cell_type": "code",
      "execution_count": null,
      "metadata": {
        "colab": {
          "background_save": true
        },
        "id": "5yUMyQkbM3sp"
      },
      "outputs": [],
      "source": [
        "columnas_fechas= cf_df.columns[4:] #estas son todas las columnas que tenemos que trasponer, por lo tanto creamos una nueva variable con todas las columnas a trasponer\n",
        "columnas_fechas"
      ]
    },
    {
      "cell_type": "code",
      "execution_count": null,
      "metadata": {
        "colab": {
          "background_save": true
        },
        "id": "Y9ioheFTM3i1"
      },
      "outputs": [],
      "source": [
        "#nueva variable\n",
        "cf_df_tras= cf_df.melt(id_vars=[\"Province/State\", \"Country/Region\", \"Lat\", \"Long\"], value_vars= columnas_fechas, var_name= \"Date\", value_name=\"Confirmed\") \n",
        "\n",
        "#id_vars = los valores que se van a mantener estaticos\n",
        "#value_vars = los valores que vamos a pivotear\n",
        "#var_name = nombre de la nueva columna, la que estas trasponinedo\n",
        "#value_name= valor de la columna, la que estas trasponiendo\n"
      ]
    },
    {
      "cell_type": "code",
      "execution_count": null,
      "metadata": {
        "colab": {
          "background_save": true
        },
        "id": "VdGqsanUhT2-"
      },
      "outputs": [],
      "source": [
        "cf_df_tras.head()"
      ]
    },
    {
      "cell_type": "code",
      "execution_count": null,
      "metadata": {
        "colab": {
          "background_save": true
        },
        "id": "_0pwI5JYM3e2"
      },
      "outputs": [],
      "source": [
        "de_df_tras= de_df.melt(id_vars=[\"Province/State\", \"Country/Region\", \"Lat\", \"Long\"], value_vars= columnas_fechas, var_name= \"Date\", value_name=\"Deads\") "
      ]
    },
    {
      "cell_type": "code",
      "execution_count": null,
      "metadata": {
        "colab": {
          "background_save": true
        },
        "id": "34KkYgieM3at"
      },
      "outputs": [],
      "source": [
        "de_df_tras.head()"
      ]
    },
    {
      "cell_type": "code",
      "execution_count": null,
      "metadata": {
        "colab": {
          "background_save": true
        },
        "id": "3MkfXf3RM3W-"
      },
      "outputs": [],
      "source": [
        "cf_df_tras.head()"
      ]
    },
    {
      "cell_type": "code",
      "execution_count": null,
      "metadata": {
        "colab": {
          "background_save": true
        },
        "id": "MKSS9ZArM3Qd"
      },
      "outputs": [],
      "source": [
        "covid_df= pd.merge(cf_df_tras, de_df_tras, how = 'inner', on= [\"Province/State\", \"Country/Region\", \"Lat\", \"Long\", \"Date\"]) #se ha añadido el Date porque si no te daria una Date \"x\" y una Date \"y\"\n",
        "covid_df"
      ]
    },
    {
      "cell_type": "code",
      "execution_count": null,
      "metadata": {
        "colab": {
          "background_save": true
        },
        "id": "yvcLVSoCSgKO"
      },
      "outputs": [],
      "source": [
        "covid_df.info()"
      ]
    },
    {
      "cell_type": "code",
      "execution_count": null,
      "metadata": {
        "colab": {
          "background_save": true
        },
        "id": "PMR5tNGgSgG2"
      },
      "outputs": [],
      "source": [
        "covid_df[\"Date\"]=covid_df[\"Date\"].apply(pd.to_datetime) #aqui cambiamos la \"Date\" a formato internacional YYYY-MM-DD"
      ]
    },
    {
      "cell_type": "code",
      "execution_count": null,
      "metadata": {
        "colab": {
          "background_save": true
        },
        "id": "fPOlAb9CSf88"
      },
      "outputs": [],
      "source": [
        "covid_df.head()"
      ]
    },
    {
      "cell_type": "code",
      "execution_count": null,
      "metadata": {
        "colab": {
          "background_save": true
        },
        "id": "KV14Q4ytWgIm"
      },
      "outputs": [],
      "source": [
        "covid_df.head()"
      ]
    },
    {
      "cell_type": "code",
      "execution_count": null,
      "metadata": {
        "colab": {
          "background_save": true
        },
        "id": "zGTQHLivWgGB"
      },
      "outputs": [],
      "source": [
        "covid_df.rename(columns= {\"Country/Region\": \"Pais\", \"Province/State\": \"Provincia\", \"Date\": \"Fecha\"}, inplace=True)\n",
        "#aqui renombramos las columnas para que quede más limpio (traducido al Español tambien, menos \"Lat\" y \"Long\")"
      ]
    },
    {
      "cell_type": "code",
      "execution_count": null,
      "metadata": {
        "colab": {
          "background_save": true
        },
        "id": "phI2E5sVWgDt"
      },
      "outputs": [],
      "source": [
        "covid_df.head()"
      ]
    },
    {
      "cell_type": "code",
      "execution_count": null,
      "metadata": {
        "colab": {
          "background_save": true
        },
        "id": "Z2fubP9CWgBD"
      },
      "outputs": [],
      "source": [
        "covid_df.isnull().sum() #miramos que columnas contienen valores nulos"
      ]
    },
    {
      "cell_type": "code",
      "execution_count": null,
      "metadata": {
        "colab": {
          "background_save": true
        },
        "id": "V22im9p8Wf8X"
      },
      "outputs": [],
      "source": [
        "covid_df[covid_df[\"Provincia\"].isnull()][\"Pais\"].value_counts() #aqui obtenemos los paises que tienen una provncia con un valor nulo"
      ]
    },
    {
      "cell_type": "code",
      "execution_count": null,
      "metadata": {
        "colab": {
          "background_save": true
        },
        "id": "F7Z9-AiJWf5w"
      },
      "outputs": [],
      "source": [
        "covid_df[covid_df[\"Provincia\"].isnull()==False][\"Pais\"].value_counts() #aqui obtenemos los paises que no tienen un  valor nulo en la provinica"
      ]
    },
    {
      "cell_type": "code",
      "execution_count": null,
      "metadata": {
        "colab": {
          "background_save": true
        },
        "id": "StzKqQW4Wfxi"
      },
      "outputs": [],
      "source": [
        "covid_df[(covid_df[\"Pais\"]==\"United Kingdom\") & (covid_df[\"Provincia\"].isnull()==False)]"
      ]
    },
    {
      "cell_type": "code",
      "execution_count": null,
      "metadata": {
        "colab": {
          "background_save": true
        },
        "id": "GssOJN9OdQAE"
      },
      "outputs": [],
      "source": [
        "covid_df[(covid_df[\"Pais\"]==\"United Kingdom\") & (covid_df[\"Provincia\"].isnull()==False)][\"Provincia\"].value_counts()"
      ]
    },
    {
      "cell_type": "code",
      "execution_count": null,
      "metadata": {
        "colab": {
          "background_save": true
        },
        "id": "HeN6t704dj55"
      },
      "outputs": [],
      "source": [
        "covid_df[(covid_df[\"Pais\"]==\"France\") & (covid_df[\"Provincia\"].isnull()==False)][\"Provincia\"].value_counts()"
      ]
    },
    {
      "cell_type": "code",
      "execution_count": null,
      "metadata": {
        "colab": {
          "background_save": true
        },
        "id": "FNu7JrCudj2t"
      },
      "outputs": [],
      "source": [
        "#estos paises tenen registrado el covid"
      ]
    },
    {
      "cell_type": "code",
      "execution_count": null,
      "metadata": {
        "colab": {
          "background_save": true
        },
        "id": "WGdSvEkEdjzB"
      },
      "outputs": [],
      "source": [
        "covid_df[(covid_df[\"Pais\"]==\"France\") & (covid_df[\"Provincia\"].isnull()==False)]"
      ]
    },
    {
      "cell_type": "code",
      "execution_count": null,
      "metadata": {
        "colab": {
          "background_save": true
        },
        "id": "uVzQw41-djwW"
      },
      "outputs": [],
      "source": [
        "covid_df[(covid_df[\"Pais\"]==\"China\") & (covid_df[\"Provincia\"].isnull()==False)]"
      ]
    },
    {
      "cell_type": "code",
      "execution_count": null,
      "metadata": {
        "colab": {
          "background_save": true
        },
        "id": "eQfSFjIYdjsT"
      },
      "outputs": [],
      "source": [
        "covid_df= covid_df.reindex([\"Fecha\", \"Pais\", \"Provincia\", \"Lat\", \"Long\", \"Confirmed\", \"Deads\"], axis=1) #aqui cambiamos el orden para tener la \"Fecha\" en la primera columna\n",
        "covid_df.head()"
      ]
    },
    {
      "cell_type": "code",
      "execution_count": null,
      "metadata": {
        "colab": {
          "background_save": true
        },
        "id": "NKpchoaydjoQ"
      },
      "outputs": [],
      "source": [
        "covid_df[\"Provincia\"].fillna(\"Peninsula\", inplace=True) #rellenamos todas las provincias nulas con el valor de \"Peninsula\""
      ]
    },
    {
      "cell_type": "code",
      "execution_count": null,
      "metadata": {
        "colab": {
          "background_save": true
        },
        "id": "ZLWa3ZlDdjkf"
      },
      "outputs": [],
      "source": [
        "covid_df[covid_df[\"Lat\"].isnull()][\"Pais\"].value_counts() #hay 652 valores nulos"
      ]
    },
    {
      "cell_type": "code",
      "execution_count": null,
      "metadata": {
        "colab": {
          "background_save": true
        },
        "id": "HbNH0Cigdjg8"
      },
      "outputs": [],
      "source": [
        "covid_df[covid_df[\"Long\"].isnull()][\"Pais\"].value_counts()"
      ]
    },
    {
      "cell_type": "code",
      "execution_count": null,
      "metadata": {
        "colab": {
          "background_save": true
        },
        "id": "0MZy1vnehx10"
      },
      "outputs": [],
      "source": [
        "#vamos a rellenar los datos, porque hemos visto que China y en Canada no se han incluido las coordenadas. Las buscamos en internet. "
      ]
    },
    {
      "cell_type": "code",
      "execution_count": null,
      "metadata": {
        "colab": {
          "background_save": true
        },
        "id": "Mr-2y8a6ia5s"
      },
      "outputs": [],
      "source": [
        "covid_df[\"Lat\"]=np.where(covid_df[\"Pais\"]==\"China\", 35.8166, covid_df[\"Lat\"] ) #transformamos los valores"
      ]
    },
    {
      "cell_type": "code",
      "execution_count": null,
      "metadata": {
        "colab": {
          "background_save": true
        },
        "id": "cCVrPub2ia3H"
      },
      "outputs": [],
      "source": [
        "covid_df[\"Long\"]=np.where(covid_df[\"Pais\"]==\"China\", 104.195397, covid_df[\"Long\"] ) #transformamos los valores"
      ]
    },
    {
      "cell_type": "code",
      "execution_count": null,
      "metadata": {
        "colab": {
          "background_save": true
        },
        "id": "c8gpIdesia0P"
      },
      "outputs": [],
      "source": [
        "covid_df[\"Lat\"]=np.where(covid_df[\"Pais\"]==\"Canada\", 35.8166, covid_df[\"Lat\"] ) #transformamos los valores"
      ]
    },
    {
      "cell_type": "code",
      "execution_count": null,
      "metadata": {
        "colab": {
          "background_save": true
        },
        "id": "p87EKxNsj5Yx"
      },
      "outputs": [],
      "source": [
        "covid_df[\"Long\"]=np.where(covid_df[\"Pais\"]==\"Canada\", 35.8166, covid_df[\"Long\"] ) #transformamos los valores"
      ]
    },
    {
      "cell_type": "code",
      "execution_count": null,
      "metadata": {
        "colab": {
          "background_save": true
        },
        "id": "T5BRpBc8kEkF"
      },
      "outputs": [],
      "source": [
        "covid_df.isnull().sum()"
      ]
    },
    {
      "cell_type": "markdown",
      "metadata": {
        "id": "0oPgtwuE_h9L"
      },
      "source": [
        "### Vamos a crear dos datasets:\n",
        "#### - data_ultima_fecha= contendrá solo las filas del último día, está por país y provincia (En caso de USA y China)\n",
        "#### - data_ultima_fecha_pais= contendrá solo las filas del último día, estará sólo por país (Sumando las provincias en USA y China)\n"
      ]
    },
    {
      "cell_type": "code",
      "execution_count": null,
      "metadata": {
        "colab": {
          "background_save": true
        },
        "id": "6TQ5jpAhlKDR"
      },
      "outputs": [],
      "source": [
        "max(covid_df[\"Fecha\"]) #para tener la última fecha"
      ]
    },
    {
      "cell_type": "code",
      "execution_count": null,
      "metadata": {
        "colab": {
          "background_save": true
        },
        "id": "qlE0duL5lKAo"
      },
      "outputs": [],
      "source": [
        "covid_df[covid_df[\"Fecha\"]== max(covid_df[\"Fecha\"])] #aqui estamos filtrando para que nos de un DataFrame con sólo los valores de la última fecha que hay registrados casos de covid.\n",
        "#OJO! El index no empieza en \"0\", lo hemos de resetear (empieza por el valor de la lista \"184249\")"
      ]
    },
    {
      "cell_type": "code",
      "execution_count": null,
      "metadata": {
        "colab": {
          "background_save": true
        },
        "id": "Z5g9cZXflJ9_"
      },
      "outputs": [],
      "source": [
        "covid_df_ult_fecha=covid_df[covid_df[\"Fecha\"]== max(covid_df[\"Fecha\"])].reset_index() #ahora aqui creamos un nuevo DataFrame (creamos una variable) y reseteamos el index a \"0\"\n",
        "covid_df_ult_fecha\n",
        "#OJO! Aqui nos ha creado una nueva columna \"index\", que no nos interesa, la eliminaremos con el \"reset_index(drop=True)\"\""
      ]
    },
    {
      "cell_type": "code",
      "execution_count": null,
      "metadata": {
        "colab": {
          "background_save": true
        },
        "id": "IHC0YE4woxbm"
      },
      "outputs": [],
      "source": [
        "covid_df[\"Survivor\"]= covid_df[\"Confirmed\"]-covid_df[\"Deads\"] #creamos una nueva columna con los sobre \"Survivors\""
      ]
    },
    {
      "cell_type": "code",
      "execution_count": null,
      "metadata": {
        "colab": {
          "background_save": true
        },
        "id": "XHk5VX_cmY7M"
      },
      "outputs": [],
      "source": [
        "covid_df_ult_fecha=covid_df[covid_df[\"Fecha\"]== max(covid_df[\"Fecha\"])].reset_index(drop=True)\n",
        "covid_df_ult_fecha"
      ]
    },
    {
      "cell_type": "code",
      "execution_count": null,
      "metadata": {
        "colab": {
          "background_save": true
        },
        "id": "CUET4hgAlJ67"
      },
      "outputs": [],
      "source": [
        "covid_df_ult_fecha[covid_df_ult_fecha[\"Pais\"]== \"France\"]"
      ]
    },
    {
      "cell_type": "code",
      "execution_count": null,
      "metadata": {
        "colab": {
          "background_save": true
        },
        "id": "C95XzLNylJ4Y"
      },
      "outputs": [],
      "source": [
        "covid_df_ult_fecha.groupby(\"Pais\")[[\"Confirmed\", \"Deads\"]].sum() #ponemos en doble corchetes porque son 2 variables las que queremos filtrar"
      ]
    },
    {
      "cell_type": "code",
      "execution_count": null,
      "metadata": {
        "colab": {
          "background_save": true
        },
        "id": "zUOb1TC0lJ1G"
      },
      "outputs": [],
      "source": [
        "covid_df_ult_fecha_pais= covid_df_ult_fecha.groupby(\"Pais\")[[\"Confirmed\", \"Deads\", \"Survivor\"]].sum().reset_index()\n",
        "covid_df_ult_fecha_pais"
      ]
    },
    {
      "cell_type": "code",
      "execution_count": null,
      "metadata": {
        "colab": {
          "background_save": true
        },
        "id": "Z1uyRP0WlJxv"
      },
      "outputs": [],
      "source": [
        "covid_df_ult_fecha_pais[covid_df_ult_fecha_pais[\"Pais\"]== \"Spain\"]"
      ]
    },
    {
      "cell_type": "markdown",
      "metadata": {
        "id": "EVP4guxo_h9N"
      },
      "source": [
        "********************************************************************\n",
        "                                1. GRAFICO DE BARRAS HORIZONTALES\n",
        "********************************************************************"
      ]
    },
    {
      "cell_type": "code",
      "execution_count": null,
      "metadata": {
        "colab": {
          "background_save": true
        },
        "id": "Z93tNQPPuWMw"
      },
      "outputs": [],
      "source": [
        "covid_df_ult_fecha_pais.head()"
      ]
    },
    {
      "cell_type": "code",
      "execution_count": null,
      "metadata": {
        "colab": {
          "background_save": true
        },
        "id": "UBbsAh56xzbo"
      },
      "outputs": [],
      "source": [
        "  #orden del número de los confirmados según el país\n",
        "  tabla_orden= covid_df_ult_fecha_pais.sort_values(\"Confirmed\", ascending= False).head(20)\n",
        "  tabla_orden"
      ]
    },
    {
      "cell_type": "code",
      "execution_count": null,
      "metadata": {
        "colab": {
          "background_save": true
        },
        "id": "rmx24n0fx-cb"
      },
      "outputs": [],
      "source": [
        "#px viene de la libería muy famosa, plotlib tiene unos graficos más costumizables \n",
        "#todo lo podemos encontrar en plotly documentación (en internet)\n",
        "fig = px.bar(tabla_orden, \n",
        "             x=\"Confirmed\", y=\"Pais\", title='Casos confirmados', text='Confirmed', orientation='h', \n",
        "             width=700, height=700, range_x = [0, max(covid_df_ult_fecha_pais['Confirmed'])+10000000])\n",
        "fig.update_traces(marker_color='#46cdcf', opacity=0.8, textposition='outside')"
      ]
    },
    {
      "cell_type": "code",
      "execution_count": null,
      "metadata": {
        "colab": {
          "background_save": true
        },
        "id": "ebVKko1i_h9O"
      },
      "outputs": [],
      "source": [
        "'''\n",
        "Ejercicio 1: Hacer el mismo gráfico filtrando US, India y Brasil y mostrando los fallecidos\n",
        "Hint1: crear un nuevo dataframe para ello, utilizar el copy() para que no salga el warning de Copy\n",
        "'''"
      ]
    },
    {
      "cell_type": "code",
      "execution_count": null,
      "metadata": {
        "colab": {
          "background_save": true
        },
        "id": "30zanr6lB_iO"
      },
      "outputs": [],
      "source": [
        "df_nuevo= tabla_orden.copy()"
      ]
    },
    {
      "cell_type": "code",
      "execution_count": null,
      "metadata": {
        "colab": {
          "background_save": true
        },
        "id": "m4Zd2KqK7Jix"
      },
      "outputs": [],
      "source": [
        "df_filtrado= df_nuevo[(df_nuevo[\"Pais\"]== \"US\") | (df_nuevo[\"Pais\"] == \"India\" ) | (df_nuevo[\"Pais\"]== \"Brazil\")][[\"Pais\",\"Deads\"]].reset_index(drop=True)"
      ]
    },
    {
      "cell_type": "code",
      "execution_count": null,
      "metadata": {
        "colab": {
          "background_save": true
        },
        "id": "gxlHrrky-GvT"
      },
      "outputs": [],
      "source": [
        "df_filtrado"
      ]
    },
    {
      "cell_type": "code",
      "execution_count": null,
      "metadata": {
        "colab": {
          "background_save": true
        },
        "id": "NB6BmDP76asj"
      },
      "outputs": [],
      "source": [
        "fig = px.bar(df_filtrado, \n",
        "             x=\"Deads\", y=\"Pais\", title=\"Fallecidos US, India y Brazil\", text=\"Deads\", orientation='h', \n",
        "             width=700, height=700, range_x = [0, max(tabla_orden['Deads'])+100000])\n",
        "fig.update_traces(marker_color='#46cdcf', opacity=0.8, textposition='outside')"
      ]
    },
    {
      "cell_type": "markdown",
      "metadata": {
        "id": "56HR0mhc_h9O"
      },
      "source": [
        "********************************************************************\n",
        "                                2. GRAFICO EVOLUTIVO HORIZONTAL\n",
        "********************************************************************"
      ]
    },
    {
      "cell_type": "code",
      "execution_count": null,
      "metadata": {
        "colab": {
          "background_save": true
        },
        "id": "b_v2Dy80x0v1"
      },
      "outputs": [],
      "source": [
        "#el covid_df tiene toda la información, para realizar la evolución.\n",
        "#evolucion horizontal de los casos confirmados hemos de realizar"
      ]
    },
    {
      "cell_type": "code",
      "execution_count": null,
      "metadata": {
        "colab": {
          "background_save": true
        },
        "id": "qe4RCRYIyQev"
      },
      "outputs": [],
      "source": [
        "grafico_horizontal= covid_df.groupby([\"Pais\",\"Fecha\"])[[\"Confirmed\", \"Deads\"]].sum().reset_index()\n",
        "grafico_horizontal"
      ]
    },
    {
      "cell_type": "code",
      "execution_count": null,
      "metadata": {
        "colab": {
          "background_save": true
        },
        "id": "PUfzrLDJJwo2"
      },
      "outputs": [],
      "source": [
        "grafico_horizontal"
      ]
    },
    {
      "cell_type": "code",
      "execution_count": null,
      "metadata": {
        "colab": {
          "background_save": true
        },
        "id": "YeuUmyUOyHLm"
      },
      "outputs": [],
      "source": [
        "evolucion_horizontal = px.bar(grafico_horizontal, x=\"Fecha\", y=\"Confirmed\", color=\"Pais\", orientation='v', height=600,\n",
        "             title='Evolutivo confirmados', color_discrete_sequence = px.colors.cyclical.mygbm)\n",
        "\n",
        "#sequencia de colores a las lineas del gráfico\n",
        "#el color es como se separan las lineas, es como el group by\n",
        "evolucion_horizontal"
      ]
    },
    {
      "cell_type": "code",
      "execution_count": null,
      "metadata": {
        "colab": {
          "background_save": true
        },
        "id": "pzhdocSh_h9O"
      },
      "outputs": [],
      "source": [
        "'''\n",
        "Ejercicio 2: Realizar el gráfico de barras horizontal pero quitando Estados unidos\n",
        "Hint: crear un nuevo dataframe y filtrar Estados unidos\n",
        "Bonus: hacerlo a partir del 1 de mayo, al comparar la fecha tratarlo como string\n",
        "'''"
      ]
    },
    {
      "cell_type": "code",
      "execution_count": null,
      "metadata": {
        "colab": {
          "background_save": true
        },
        "id": "oymBS549yMex"
      },
      "outputs": [],
      "source": [
        "df_US= tabla_orden[tabla_orden[\"Pais\"]!=\"US\"]"
      ]
    },
    {
      "cell_type": "code",
      "execution_count": null,
      "metadata": {
        "colab": {
          "background_save": true
        },
        "id": "9bljPr28H44N"
      },
      "outputs": [],
      "source": [
        "fig = px.bar(df_US, \n",
        "             x=\"Confirmed\", y=\"Pais\", title='Casos confirmados', text='Confirmed', orientation='h', \n",
        "             width=700, height=700, range_x = [0, max(covid_df_ult_fecha_pais['Confirmed'])+10000000])\n",
        "fig.update_traces(marker_color='#46cdcf', opacity=0.8, textposition='outside')"
      ]
    },
    {
      "cell_type": "code",
      "execution_count": null,
      "metadata": {
        "colab": {
          "background_save": true
        },
        "id": "s8VKRlweAXMh"
      },
      "outputs": [],
      "source": [
        "tabla_orden.head()"
      ]
    },
    {
      "cell_type": "code",
      "execution_count": null,
      "metadata": {
        "colab": {
          "background_save": true
        },
        "id": "21cEufwaOi4n"
      },
      "outputs": [],
      "source": [
        "\"\"\"Bonus: hacerlo a partir del 1 de mayo, al comparar la fecha tratarlo como string\"\"\""
      ]
    },
    {
      "cell_type": "code",
      "execution_count": null,
      "metadata": {
        "colab": {
          "background_save": true
        },
        "id": "FSrHW0yADII0"
      },
      "outputs": [],
      "source": [
        "covid_df.head()"
      ]
    },
    {
      "cell_type": "code",
      "execution_count": null,
      "metadata": {
        "colab": {
          "background_save": true
        },
        "id": "DXdcMr4eAIhy"
      },
      "outputs": [],
      "source": [
        "df_mayo= covid_df[(covid_df['Fecha'] > \"2020-05-01\") & (covid_df['Fecha'] <= \"2021-11-12\")]\n",
        "df_mayo\n"
      ]
    },
    {
      "cell_type": "code",
      "execution_count": null,
      "metadata": {
        "colab": {
          "background_save": true
        },
        "id": "Jb7rEh-TLiw_"
      },
      "outputs": [],
      "source": [
        "evolucion_mayo = px.bar(df_mayo, x=\"Fecha\", y=\"Confirmed\", color=\"Pais\", orientation='v', height=600,\n",
        "             title='Evolutivo confirmados desde mayo 2020 (sin US)', color_discrete_sequence = px.colors.cyclical.mygbm)\n",
        "evolucion_mayo.show()"
      ]
    },
    {
      "cell_type": "markdown",
      "metadata": {
        "id": "aWKHesjl_h9P"
      },
      "source": [
        "********************************************************************\n",
        "                                3. GRAFICO EVOLUTIVO LINEAL\n",
        "********************************************************************"
      ]
    },
    {
      "cell_type": "code",
      "execution_count": null,
      "metadata": {
        "colab": {
          "background_save": true
        },
        "id": "l76xW9NzyQ57"
      },
      "outputs": [],
      "source": [
        "evolutivo_lineas= covid_df.groupby([\"Fecha\", \"Pais\"])[\"Confirmed\"].sum().reset_index().sort_values(\"Confirmed\", ascending=False)\n",
        "evolutivo_lineas"
      ]
    },
    {
      "cell_type": "code",
      "execution_count": null,
      "metadata": {
        "colab": {
          "background_save": true
        },
        "id": "LFWEoAyL1D7y"
      },
      "outputs": [],
      "source": [
        "px.line(evolutivo_lineas, x= \"Fecha\", y=\"Confirmed\", color= \"Pais\", title= \"Evolutivo lineas\")\n"
      ]
    },
    {
      "cell_type": "code",
      "execution_count": null,
      "metadata": {
        "colab": {
          "background_save": true
        },
        "id": "_8yqL9QC_h9Q"
      },
      "outputs": [],
      "source": [
        "'''\n",
        "Ejercicio 3 : Realizar el gráfico de lineas pero de fallecidos y solo con españa e italia\n",
        "Hint: crear un nuevo dataframe y quedarse solo con españa e italia, usar el operador |\n",
        "Bonus: hacerlo a partir del 1 de enero 2021, al comparar la fecha tratarlo como string\n",
        "¿Ves algún problema con los datos?\n",
        "'''"
      ]
    },
    {
      "cell_type": "code",
      "execution_count": null,
      "metadata": {
        "colab": {
          "background_save": true
        },
        "id": "b88ygHFSPJnY"
      },
      "outputs": [],
      "source": [
        "evolutivo_lineas2= covid_df.groupby([\"Fecha\", \"Pais\"])[\"Deads\"].sum().reset_index().sort_values(\"Deads\", ascending=False)\n",
        "evolutivo_lineas2"
      ]
    },
    {
      "cell_type": "code",
      "execution_count": null,
      "metadata": {
        "colab": {
          "background_save": true
        },
        "id": "Wz7aLWsEPhBr"
      },
      "outputs": [],
      "source": [
        "evolutivo_lineas_filtrado= evolutivo_lineas2[(evolutivo_lineas2[\"Pais\"]==\"Spain\") | (evolutivo_lineas2[\"Pais\"] == \"Italy\")]"
      ]
    },
    {
      "cell_type": "code",
      "execution_count": null,
      "metadata": {
        "colab": {
          "background_save": true
        },
        "id": "gSpjqBnxPBvi"
      },
      "outputs": [],
      "source": [
        "px.line(evolutivo_lineas_filtrado, x= \"Fecha\", y=\"Deads\", color= \"Pais\", title= \"Evolutivo lineas Spain & Italy\")"
      ]
    },
    {
      "cell_type": "code",
      "execution_count": null,
      "metadata": {
        "colab": {
          "background_save": true
        },
        "id": "VmkbTx_-OT0q"
      },
      "outputs": [],
      "source": [
        "\"\"\"Ejercicio 3.1 : Realizar el gráfico de lineas pero de fallecidos y solo con españa e italia\n",
        "Bonus: hacerlo a partir del 1 de enero 2021, al comparar la fecha tratarlo como string\n",
        "¿Ves algún problema con los datos?\"\"\""
      ]
    },
    {
      "cell_type": "code",
      "execution_count": null,
      "metadata": {
        "colab": {
          "background_save": true
        },
        "id": "f2q8LIbSOrok"
      },
      "outputs": [],
      "source": [
        "df_enero= covid_df[(covid_df['Fecha'] > \"2021-01-01\") & (covid_df['Fecha'] <= \"2021-11-12\")]\n",
        "df_enero"
      ]
    },
    {
      "cell_type": "code",
      "execution_count": null,
      "metadata": {
        "colab": {
          "background_save": true
        },
        "id": "0Tx21jNHPKFn"
      },
      "outputs": [],
      "source": [
        "evolutivo_lineas_filtrado2= df_enero[(df_enero[\"Pais\"]==\"Spain\") | (df_enero[\"Pais\"] == \"Italy\")]"
      ]
    },
    {
      "cell_type": "code",
      "execution_count": null,
      "metadata": {
        "colab": {
          "background_save": true
        },
        "id": "Sd6GSI0DPE-8"
      },
      "outputs": [],
      "source": [
        "px.line(evolutivo_lineas_filtrado2, x= \"Fecha\", y=\"Deads\", color= \"Pais\", title= \"Evolutivo lineas Spain & Italy desde Enero 2021\")"
      ]
    },
    {
      "cell_type": "code",
      "execution_count": null,
      "metadata": {
        "colab": {
          "background_save": true
        },
        "id": "ARFnp2RfQLWm"
      },
      "outputs": [],
      "source": [
        "#Hay escaleras en los datos, que significa que hay dias en los que no se han introducido datos, o no se han introducido bien."
      ]
    },
    {
      "cell_type": "markdown",
      "metadata": {
        "id": "QFWJk_2R_h9Q"
      },
      "source": [
        "********************************************************************\n",
        "                                4. MAPAS\n",
        "********************************************************************"
      ]
    },
    {
      "cell_type": "code",
      "execution_count": null,
      "metadata": {
        "colab": {
          "background_save": true
        },
        "id": "LivWZWGH3alL"
      },
      "outputs": [],
      "source": [
        "mapa_global1 = folium.Map(location=[39.00, -3.703790], zoom_start=5)\n",
        "mapa_global1"
      ]
    },
    {
      "cell_type": "code",
      "execution_count": null,
      "metadata": {
        "colab": {
          "background_save": true
        },
        "id": "OH9as54J_h9Q"
      },
      "outputs": [],
      "source": [
        "mapa_global1 = folium.Map(location=[39.00, -3.703790], zoom_start=5)\n",
        "\n",
        "for lat, lon, value, name in zip(covid_df_ult_fecha['Lat'], covid_df_ult_fecha['Long'], covid_df_ult_fecha['Confirmed'] ,covid_df_ult_fecha['Pais']):\n",
        "        folium.CircleMarker([lat, lon],\n",
        "                        radius=5,\n",
        "                        popup = ('<strong>Country</strong>: ' + str(name).capitalize() + '<br>'\n",
        "                                '<strong>Confirmed Cases</strong>: ' + str(value) + '<br>'),\n",
        "                        color='red',\n",
        "                        fill_color='red',\n",
        "                        fill_opacity=0.7 ).add_to(mapa_global1)\n",
        "\n",
        "mapa_global1\n"
      ]
    },
    {
      "cell_type": "code",
      "execution_count": null,
      "metadata": {
        "colab": {
          "background_save": true
        },
        "id": "bLCJSDH7Wa5P"
      },
      "outputs": [],
      "source": [
        "'''\n",
        "Ejercicio 4 : Realizar el mismo gráfico pero en vez de mostrar confirmados mostrar solo los que hay fallecidos\n",
        "y pintar el punto rojo solo en caso haya fallecidos > 100.000\n",
        "Hint1: Reemplazar el valor Confirmed por Deaths\n",
        "Hint2: Luego de empezar el for se puede realizar la comprobación de si ese registro tiene muertos, en caso lo tenga seguir\n",
        "'''"
      ]
    },
    {
      "cell_type": "code",
      "execution_count": null,
      "metadata": {
        "colab": {
          "background_save": true
        },
        "id": "GyNrmY3xQ9Cg"
      },
      "outputs": [],
      "source": [
        "mapa_global_deads = folium.Map(location=[39.00, -3.703790], zoom_start=5)\n",
        "\n",
        "for lat, lon, value, name in zip(covid_df_ult_fecha['Lat'], covid_df_ult_fecha['Long'], covid_df_ult_fecha['Deads'] ,covid_df_ult_fecha['Pais']):\n",
        " \n",
        "        folium.CircleMarker([lat, lon],\n",
        "                        radius=5,\n",
        "                        popup = ('<strong>Country</strong>: ' + str(name).capitalize() + '<br>'\n",
        "                                '<strong>Deads Cases</strong>: ' + str(value) + '<br>'),\n",
        "                        color='red',\n",
        "                        fill_color='red',\n",
        "                        fill_opacity=0.7 ).add_to(mapa_global1)\n",
        "  \n",
        "mapa_global_deads"
      ]
    },
    {
      "cell_type": "code",
      "execution_count": null,
      "metadata": {
        "colab": {
          "background_save": true
        },
        "id": "Op8AR6DT_h9R"
      },
      "outputs": [],
      "source": [
        "\n",
        "'''\n",
        "Mapa con círculos rojos de casos confirmados,\n",
        "en este caso basta con pasar por el ratón para que se muestre la información\n",
        "'''\n",
        "mapa_global2 = folium.Map(location=[0, 0], tiles='cartodbpositron',\n",
        "               min_zoom=1, max_zoom=4, zoom_start=1)\n",
        "\n",
        "for i in range(0, len(covid_df_ult_fecha)):\n",
        "    folium.Circle(\n",
        "        location=[covid_df_ult_fecha.iloc[i]['Lat'], covid_df_ult_fecha.iloc[i]['Long']],\n",
        "        color='crimson', \n",
        "        tooltip =   '<li><bold>Country : '+str(covid_df_ult_fecha.iloc[i]['Pais'])+\n",
        "                    '<li><bold>Province : '+str(covid_df_ult_fecha.iloc[i]['Provincia'])+\n",
        "                    '<li><bold>Confirmed : '+str(covid_df_ult_fecha.iloc[i]['Confirmed'])+\n",
        "                    '<li><bold>Deaths : '+str(covid_df_ult_fecha.iloc[i]['Deads'])\n",
        "                    ,\n",
        "        radius=int(covid_df_ult_fecha.iloc[i]['Confirmed'])**0.75).add_to(mapa_global2)\n",
        "\n",
        "mapa_global2"
      ]
    },
    {
      "cell_type": "code",
      "execution_count": null,
      "metadata": {
        "colab": {
          "background_save": true
        },
        "id": "UeyCc2Kq_h9R"
      },
      "outputs": [],
      "source": [
        "'''\n",
        "Ejercicio 5 : Realizar el mismo gráfico pero cambiar de color a las círculos y que el radio no dependa de los confirmados\n",
        "sino de los fallecidos\n",
        "Hint: mirar el campo radius\n",
        "'''"
      ]
    },
    {
      "cell_type": "code",
      "execution_count": null,
      "metadata": {
        "colab": {
          "background_save": true
        },
        "id": "mkDULJ4XUv4t"
      },
      "outputs": [],
      "source": [
        "mapa_global_deads_2 = folium.Map(location=[0, 0], tiles='cartodbpositron',\n",
        "               min_zoom=1, max_zoom=4, zoom_start=1)\n",
        "\n",
        "for i in range(0, len(covid_df_ult_fecha)):\n",
        "    folium.Circle(\n",
        "        location=[covid_df_ult_fecha.iloc[i]['Lat'], covid_df_ult_fecha.iloc[i]['Long']],\n",
        "        color='green', \n",
        "        tooltip =   '<li><bold>Country : '+str(covid_df_ult_fecha.iloc[i]['Pais'])+\n",
        "                    '<li><bold>Province : '+str(covid_df_ult_fecha.iloc[i]['Provincia'])+\n",
        "                    '<li><bold>Confirmed : '+str(covid_df_ult_fecha.iloc[i]['Confirmed'])+\n",
        "                    '<li><bold>Deaths : '+str(covid_df_ult_fecha.iloc[i]['Deads'])\n",
        "                    ,\n",
        "        radius=int(covid_df_ult_fecha.iloc[i]['Deads'])**0.75).add_to(mapa_global2)\n",
        "\n",
        "mapa_global2"
      ]
    },
    {
      "cell_type": "code",
      "execution_count": null,
      "metadata": {
        "colab": {
          "background_save": true
        },
        "id": "m8Fb9y8H_h9R"
      },
      "outputs": [],
      "source": [
        "#choropleth\n",
        "mapa_global3 = px.choropleth(covid_df_ult_fecha_pais, locations=\"Pais\", \n",
        "                    locationmode='country names', color=\"Confirmed\", \n",
        "                    hover_name=\"Pais\", range_color=[1,1000000],  \n",
        "                    color_continuous_scale=[\"Green\",\"Yellow\",\"Red\"], \n",
        "                    title='Paises con casos confirmados')\n",
        "\n",
        "\n",
        "mapa_global3.show()"
      ]
    },
    {
      "cell_type": "code",
      "execution_count": null,
      "metadata": {
        "colab": {
          "background_save": true
        },
        "id": "iJdCuhs7_h9S"
      },
      "outputs": [],
      "source": [
        "'''\n",
        "Ejercicio 6 : Pintar solo en caso tenga fallecidos y con más de 30.000\n",
        "Hint: filtrar el dataframe\n",
        "'''"
      ]
    },
    {
      "cell_type": "code",
      "execution_count": null,
      "metadata": {
        "colab": {
          "background_save": true
        },
        "id": "t348krF1VpVA"
      },
      "outputs": [],
      "source": [
        "df_filtrado_deads= covid_df_ult_fecha_pais[covid_df_ult_fecha_pais[\"Deads\"]>30000]"
      ]
    },
    {
      "cell_type": "code",
      "execution_count": null,
      "metadata": {
        "colab": {
          "background_save": true
        },
        "id": "2d_2l2ZwVzOt"
      },
      "outputs": [],
      "source": [
        "df_filtrado_deads"
      ]
    },
    {
      "cell_type": "code",
      "execution_count": null,
      "metadata": {
        "colab": {
          "background_save": true
        },
        "id": "xON2Eg3VVXgk"
      },
      "outputs": [],
      "source": [
        "mapa_global_deads_3 = px.choropleth(df_filtrado_deads, locations=\"Pais\", \n",
        "                    locationmode='country names', color=\"Deads\", \n",
        "                    hover_name=\"Pais\", range_color=[1,10000000],  \n",
        "                    color_continuous_scale=[\"Green\",\"Yellow\",\"Red\"], \n",
        "                    title='Paises con más de 30.000 casos fallecidos')\n",
        "\n",
        "\n",
        "mapa_global_deads_3.show()"
      ]
    }
  ],
  "metadata": {
    "colab": {
      "collapsed_sections": [],
      "name": "Clase2_Visualizacion_en_clase.ipynb",
      "provenance": [],
      "include_colab_link": true
    },
    "kernelspec": {
      "display_name": "Python 3.8.5 64-bit ('base': conda)",
      "name": "python385jvsc74a57bd015ad3da4b4c61c3c846aae53763500b4377007d3fd583d900e0660560d786cf6"
    },
    "language_info": {
      "codemirror_mode": {
        "name": "ipython",
        "version": 3
      },
      "file_extension": ".py",
      "mimetype": "text/x-python",
      "name": "python",
      "nbconvert_exporter": "python",
      "pygments_lexer": "ipython3",
      "version": "3.8.5"
    }
  },
  "nbformat": 4,
  "nbformat_minor": 0
}