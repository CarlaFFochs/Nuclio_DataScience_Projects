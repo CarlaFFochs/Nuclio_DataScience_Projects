{
  "nbformat": 4,
  "nbformat_minor": 0,
  "metadata": {
    "language_info": {
      "codemirror_mode": {
        "name": "ipython",
        "version": 3
      },
      "file_extension": ".py",
      "mimetype": "text/x-python",
      "name": "python",
      "nbconvert_exporter": "python",
      "pygments_lexer": "ipython3",
      "version": "3.8.5-final"
    },
    "orig_nbformat": 2,
    "kernelspec": {
      "name": "python3",
      "display_name": "Python 3.8.5 64-bit ('base': conda)",
      "metadata": {
        "interpreter": {
          "hash": "15ad3da4b4c61c3c846aae53763500b4377007d3fd583d900e0660560d786cf6"
        }
      }
    },
    "colab": {
      "name": "Project_Renfe_ML_en_Clase.ipynb",
      "provenance": [],
      "collapsed_sections": [],
      "include_colab_link": true
    }
  },
  "cells": [
    {
      "cell_type": "markdown",
      "metadata": {
        "id": "view-in-github",
        "colab_type": "text"
      },
      "source": [
        "<a href=\"https://colab.research.google.com/github/CarlaFFochs/Nuclio_DataScience_Projects/blob/main/Project_Renfe_ML_en_Clase.ipynb\" target=\"_parent\"><img src=\"https://colab.research.google.com/assets/colab-badge.svg\" alt=\"Open In Colab\"/></a>"
      ]
    },
    {
      "cell_type": "markdown",
      "metadata": {
        "id": "WnYTJkZfndyq"
      },
      "source": [
        "## MASTER DATA SCIENCE: NUCLIO\n",
        "## PROJECT RENFE: PREPARAR EL DATASET PARA LA PREDICCION DE PRECIOS DE LOS BILLETES DE RENFE"
      ]
    },
    {
      "cell_type": "code",
      "metadata": {
        "colab": {
          "base_uri": "https://localhost:8080/"
        },
        "id": "eepPduAVp-fA",
        "outputId": "123970c1-0ef3-4a96-b810-fdf1b601cd4b"
      },
      "source": [
        "from google.colab import drive\n",
        "drive.mount('/content/drive')"
      ],
      "execution_count": 1,
      "outputs": [
        {
          "output_type": "stream",
          "name": "stdout",
          "text": [
            "Mounted at /content/drive\n"
          ]
        }
      ]
    },
    {
      "cell_type": "code",
      "metadata": {
        "id": "1iUgwBhFndyv"
      },
      "source": [
        "#importamos librería\n",
        "import pandas as pd \n",
        "import numpy as np\n",
        "import matplotlib.pyplot as plt\n",
        "import seaborn as sns\n",
        "import math\n",
        "\n",
        "from sklearn.preprocessing import LabelEncoder,MinMaxScaler\n",
        "\n",
        "import folium #mapas\n",
        "import plotly.express as px #graficos de barras"
      ],
      "execution_count": 2,
      "outputs": []
    },
    {
      "cell_type": "code",
      "metadata": {
        "colab": {
          "base_uri": "https://localhost:8080/",
          "height": 206
        },
        "id": "qQDwg2ZOndy0",
        "outputId": "30efdbfc-a134-4dfc-81b6-6e7618a8cf09"
      },
      "source": [
        "#leemos el fichero de renfe\n",
        "df_renfe=pd.read_csv(\"/content/drive/MyDrive/MASTER DATA SCIENCE/PROYECTOS/Project Renfe/dataset/renfe.csv\",sep=\";\")\n",
        "df_renfe.head()"
      ],
      "execution_count": 3,
      "outputs": [
        {
          "output_type": "execute_result",
          "data": {
            "text/plain": [
              "        FECHA_CONSULTA         FECHA_INICIO            FECHA_FIN  \\\n",
              "0  2019-05-25 01:43:03  2019-06-28 20:36:00  2019-06-28 23:14:00   \n",
              "1  2019-06-22 13:05:11  2019-07-14 10:00:00  2019-07-14 13:10:00   \n",
              "2  2019-04-17 06:24:03  2019-05-23 13:40:00  2019-05-23 16:10:00   \n",
              "3  2019-05-10 21:21:59  2019-05-29 14:50:00  2019-05-29 22:30:00   \n",
              "4  2019-05-09 19:43:37  2019-06-26 13:25:00  2019-06-26 16:24:00   \n",
              "\n",
              "  CIUDAD_ORIGEN CIUDAD_DESTINO TIPO_TREN TIPO_TARIFA    CLASE  PRECIO  \n",
              "0       SEVILLA         MADRID     ALVIA    Flexible  Turista   67.20  \n",
              "1     BARCELONA         MADRID       AVE    Flexible  Turista  107.70  \n",
              "2       SEVILLA         MADRID       AVE       Promo  Turista   47.30  \n",
              "3      VALENCIA         MADRID  REGIONAL  Adulto ida  Turista   28.35  \n",
              "4        MADRID      BARCELONA   AVE-TGV       Promo  Turista   66.75  "
            ],
            "text/html": [
              "\n",
              "  <div id=\"df-9a266a95-21fb-48f4-97be-d5f40f0023d8\">\n",
              "    <div class=\"colab-df-container\">\n",
              "      <div>\n",
              "<style scoped>\n",
              "    .dataframe tbody tr th:only-of-type {\n",
              "        vertical-align: middle;\n",
              "    }\n",
              "\n",
              "    .dataframe tbody tr th {\n",
              "        vertical-align: top;\n",
              "    }\n",
              "\n",
              "    .dataframe thead th {\n",
              "        text-align: right;\n",
              "    }\n",
              "</style>\n",
              "<table border=\"1\" class=\"dataframe\">\n",
              "  <thead>\n",
              "    <tr style=\"text-align: right;\">\n",
              "      <th></th>\n",
              "      <th>FECHA_CONSULTA</th>\n",
              "      <th>FECHA_INICIO</th>\n",
              "      <th>FECHA_FIN</th>\n",
              "      <th>CIUDAD_ORIGEN</th>\n",
              "      <th>CIUDAD_DESTINO</th>\n",
              "      <th>TIPO_TREN</th>\n",
              "      <th>TIPO_TARIFA</th>\n",
              "      <th>CLASE</th>\n",
              "      <th>PRECIO</th>\n",
              "    </tr>\n",
              "  </thead>\n",
              "  <tbody>\n",
              "    <tr>\n",
              "      <th>0</th>\n",
              "      <td>2019-05-25 01:43:03</td>\n",
              "      <td>2019-06-28 20:36:00</td>\n",
              "      <td>2019-06-28 23:14:00</td>\n",
              "      <td>SEVILLA</td>\n",
              "      <td>MADRID</td>\n",
              "      <td>ALVIA</td>\n",
              "      <td>Flexible</td>\n",
              "      <td>Turista</td>\n",
              "      <td>67.20</td>\n",
              "    </tr>\n",
              "    <tr>\n",
              "      <th>1</th>\n",
              "      <td>2019-06-22 13:05:11</td>\n",
              "      <td>2019-07-14 10:00:00</td>\n",
              "      <td>2019-07-14 13:10:00</td>\n",
              "      <td>BARCELONA</td>\n",
              "      <td>MADRID</td>\n",
              "      <td>AVE</td>\n",
              "      <td>Flexible</td>\n",
              "      <td>Turista</td>\n",
              "      <td>107.70</td>\n",
              "    </tr>\n",
              "    <tr>\n",
              "      <th>2</th>\n",
              "      <td>2019-04-17 06:24:03</td>\n",
              "      <td>2019-05-23 13:40:00</td>\n",
              "      <td>2019-05-23 16:10:00</td>\n",
              "      <td>SEVILLA</td>\n",
              "      <td>MADRID</td>\n",
              "      <td>AVE</td>\n",
              "      <td>Promo</td>\n",
              "      <td>Turista</td>\n",
              "      <td>47.30</td>\n",
              "    </tr>\n",
              "    <tr>\n",
              "      <th>3</th>\n",
              "      <td>2019-05-10 21:21:59</td>\n",
              "      <td>2019-05-29 14:50:00</td>\n",
              "      <td>2019-05-29 22:30:00</td>\n",
              "      <td>VALENCIA</td>\n",
              "      <td>MADRID</td>\n",
              "      <td>REGIONAL</td>\n",
              "      <td>Adulto ida</td>\n",
              "      <td>Turista</td>\n",
              "      <td>28.35</td>\n",
              "    </tr>\n",
              "    <tr>\n",
              "      <th>4</th>\n",
              "      <td>2019-05-09 19:43:37</td>\n",
              "      <td>2019-06-26 13:25:00</td>\n",
              "      <td>2019-06-26 16:24:00</td>\n",
              "      <td>MADRID</td>\n",
              "      <td>BARCELONA</td>\n",
              "      <td>AVE-TGV</td>\n",
              "      <td>Promo</td>\n",
              "      <td>Turista</td>\n",
              "      <td>66.75</td>\n",
              "    </tr>\n",
              "  </tbody>\n",
              "</table>\n",
              "</div>\n",
              "      <button class=\"colab-df-convert\" onclick=\"convertToInteractive('df-9a266a95-21fb-48f4-97be-d5f40f0023d8')\"\n",
              "              title=\"Convert this dataframe to an interactive table.\"\n",
              "              style=\"display:none;\">\n",
              "        \n",
              "  <svg xmlns=\"http://www.w3.org/2000/svg\" height=\"24px\"viewBox=\"0 0 24 24\"\n",
              "       width=\"24px\">\n",
              "    <path d=\"M0 0h24v24H0V0z\" fill=\"none\"/>\n",
              "    <path d=\"M18.56 5.44l.94 2.06.94-2.06 2.06-.94-2.06-.94-.94-2.06-.94 2.06-2.06.94zm-11 1L8.5 8.5l.94-2.06 2.06-.94-2.06-.94L8.5 2.5l-.94 2.06-2.06.94zm10 10l.94 2.06.94-2.06 2.06-.94-2.06-.94-.94-2.06-.94 2.06-2.06.94z\"/><path d=\"M17.41 7.96l-1.37-1.37c-.4-.4-.92-.59-1.43-.59-.52 0-1.04.2-1.43.59L10.3 9.45l-7.72 7.72c-.78.78-.78 2.05 0 2.83L4 21.41c.39.39.9.59 1.41.59.51 0 1.02-.2 1.41-.59l7.78-7.78 2.81-2.81c.8-.78.8-2.07 0-2.86zM5.41 20L4 18.59l7.72-7.72 1.47 1.35L5.41 20z\"/>\n",
              "  </svg>\n",
              "      </button>\n",
              "      \n",
              "  <style>\n",
              "    .colab-df-container {\n",
              "      display:flex;\n",
              "      flex-wrap:wrap;\n",
              "      gap: 12px;\n",
              "    }\n",
              "\n",
              "    .colab-df-convert {\n",
              "      background-color: #E8F0FE;\n",
              "      border: none;\n",
              "      border-radius: 50%;\n",
              "      cursor: pointer;\n",
              "      display: none;\n",
              "      fill: #1967D2;\n",
              "      height: 32px;\n",
              "      padding: 0 0 0 0;\n",
              "      width: 32px;\n",
              "    }\n",
              "\n",
              "    .colab-df-convert:hover {\n",
              "      background-color: #E2EBFA;\n",
              "      box-shadow: 0px 1px 2px rgba(60, 64, 67, 0.3), 0px 1px 3px 1px rgba(60, 64, 67, 0.15);\n",
              "      fill: #174EA6;\n",
              "    }\n",
              "\n",
              "    [theme=dark] .colab-df-convert {\n",
              "      background-color: #3B4455;\n",
              "      fill: #D2E3FC;\n",
              "    }\n",
              "\n",
              "    [theme=dark] .colab-df-convert:hover {\n",
              "      background-color: #434B5C;\n",
              "      box-shadow: 0px 1px 3px 1px rgba(0, 0, 0, 0.15);\n",
              "      filter: drop-shadow(0px 1px 2px rgba(0, 0, 0, 0.3));\n",
              "      fill: #FFFFFF;\n",
              "    }\n",
              "  </style>\n",
              "\n",
              "      <script>\n",
              "        const buttonEl =\n",
              "          document.querySelector('#df-9a266a95-21fb-48f4-97be-d5f40f0023d8 button.colab-df-convert');\n",
              "        buttonEl.style.display =\n",
              "          google.colab.kernel.accessAllowed ? 'block' : 'none';\n",
              "\n",
              "        async function convertToInteractive(key) {\n",
              "          const element = document.querySelector('#df-9a266a95-21fb-48f4-97be-d5f40f0023d8');\n",
              "          const dataTable =\n",
              "            await google.colab.kernel.invokeFunction('convertToInteractive',\n",
              "                                                     [key], {});\n",
              "          if (!dataTable) return;\n",
              "\n",
              "          const docLinkHtml = 'Like what you see? Visit the ' +\n",
              "            '<a target=\"_blank\" href=https://colab.research.google.com/notebooks/data_table.ipynb>data table notebook</a>'\n",
              "            + ' to learn more about interactive tables.';\n",
              "          element.innerHTML = '';\n",
              "          dataTable['output_type'] = 'display_data';\n",
              "          await google.colab.output.renderOutput(dataTable, element);\n",
              "          const docLink = document.createElement('div');\n",
              "          docLink.innerHTML = docLinkHtml;\n",
              "          element.appendChild(docLink);\n",
              "        }\n",
              "      </script>\n",
              "    </div>\n",
              "  </div>\n",
              "  "
            ]
          },
          "metadata": {},
          "execution_count": 3
        }
      ]
    },
    {
      "cell_type": "code",
      "metadata": {
        "id": "mObe_dgyKRsY"
      },
      "source": [
        "#fecha consulta, persona ha hecho una consulta, al hacer el click\n",
        "#la fecha_incio es la fecha que ha buscado el viaje\n",
        "#fecha_fin, es la fecha de llegada del viaje. SOLO HAY VIAJE DE IDA, no tenemos en cuenta la VUELTA\n",
        "#hemos de predecir el PRECIO, todo lo hemos de convertir en numeros, todas las variables categoricas"
      ],
      "execution_count": 4,
      "outputs": []
    },
    {
      "cell_type": "code",
      "metadata": {
        "id": "XybcKFzlndy0",
        "colab": {
          "base_uri": "https://localhost:8080/",
          "height": 35
        },
        "outputId": "fac90c6e-8bfb-49a5-d87d-0d3c9f06f21e"
      },
      "source": [
        "'''PREGUNTA 2\n",
        "2. ¿Puedes decir en cuáles variables existen nulos?\n",
        "'''"
      ],
      "execution_count": 5,
      "outputs": [
        {
          "output_type": "execute_result",
          "data": {
            "text/plain": [
              "'PREGUNTA 2\\n2. ¿Puedes decir en cuáles variables existen nulos?\\n'"
            ],
            "application/vnd.google.colaboratory.intrinsic+json": {
              "type": "string"
            }
          },
          "metadata": {},
          "execution_count": 5
        }
      ]
    },
    {
      "cell_type": "code",
      "metadata": {
        "id": "puy0XDZCndy1",
        "colab": {
          "base_uri": "https://localhost:8080/"
        },
        "outputId": "bd71e41d-4463-4c1d-ec39-c642956130be"
      },
      "source": [
        "df_renfe.isnull().value_counts()"
      ],
      "execution_count": 6,
      "outputs": [
        {
          "output_type": "execute_result",
          "data": {
            "text/plain": [
              "FECHA_CONSULTA  FECHA_INICIO  FECHA_FIN  CIUDAD_ORIGEN  CIUDAD_DESTINO  TIPO_TREN  TIPO_TARIFA  CLASE  PRECIO\n",
              "False           False         False      False          False           False      False        False  False     355038\n",
              "                                                                                                       True       27187\n",
              "                                                                                   True         True   True        1343\n",
              "dtype: int64"
            ]
          },
          "metadata": {},
          "execution_count": 6
        }
      ]
    },
    {
      "cell_type": "code",
      "metadata": {
        "id": "DuoZsHqKndy1",
        "colab": {
          "base_uri": "https://localhost:8080/",
          "height": 35
        },
        "outputId": "48934622-6d5f-4676-b490-28231060aa97"
      },
      "source": [
        "'''PREGUNTA 3\n",
        "3. Hagamos un df_renfe.info(), ¡Marca todas las INCORRECTAS!\n",
        "'''"
      ],
      "execution_count": 7,
      "outputs": [
        {
          "output_type": "execute_result",
          "data": {
            "text/plain": [
              "'PREGUNTA 3\\n3. Hagamos un df_renfe.info(), ¡Marca todas las INCORRECTAS!\\n'"
            ],
            "application/vnd.google.colaboratory.intrinsic+json": {
              "type": "string"
            }
          },
          "metadata": {},
          "execution_count": 7
        }
      ]
    },
    {
      "cell_type": "code",
      "metadata": {
        "id": "2wzpRzTxndy2",
        "colab": {
          "base_uri": "https://localhost:8080/"
        },
        "outputId": "267c30ab-e300-4ef6-c843-b6154b1214e4"
      },
      "source": [
        "df_renfe.info()"
      ],
      "execution_count": 8,
      "outputs": [
        {
          "output_type": "stream",
          "name": "stdout",
          "text": [
            "<class 'pandas.core.frame.DataFrame'>\n",
            "RangeIndex: 383568 entries, 0 to 383567\n",
            "Data columns (total 9 columns):\n",
            " #   Column          Non-Null Count   Dtype  \n",
            "---  ------          --------------   -----  \n",
            " 0   FECHA_CONSULTA  383568 non-null  object \n",
            " 1   FECHA_INICIO    383568 non-null  object \n",
            " 2   FECHA_FIN       383568 non-null  object \n",
            " 3   CIUDAD_ORIGEN   383568 non-null  object \n",
            " 4   CIUDAD_DESTINO  383568 non-null  object \n",
            " 5   TIPO_TREN       383568 non-null  object \n",
            " 6   TIPO_TARIFA     382225 non-null  object \n",
            " 7   CLASE           382225 non-null  object \n",
            " 8   PRECIO          355038 non-null  float64\n",
            "dtypes: float64(1), object(8)\n",
            "memory usage: 26.3+ MB\n"
          ]
        }
      ]
    },
    {
      "cell_type": "code",
      "metadata": {
        "id": "FpyoQJpdndy2"
      },
      "source": [
        "##########EJECUTAR DESPUES DE RESPONDER LA PREGUNTA 3############\n",
        "for i in [\"FECHA_CONSULTA\",\"FECHA_INICIO\",\"FECHA_FIN\"]:\n",
        "    df_renfe[i]=pd.to_datetime(df_renfe[i])\n",
        "#####################################"
      ],
      "execution_count": 9,
      "outputs": []
    },
    {
      "cell_type": "code",
      "metadata": {
        "id": "UHlxNU-sNVOt"
      },
      "source": [
        ""
      ],
      "execution_count": 9,
      "outputs": []
    },
    {
      "cell_type": "code",
      "metadata": {
        "id": "pnbQfMXNndy2"
      },
      "source": [
        "'''PREGUNTA 4'''\n",
        "##########PREGUNTA 4. INTERPRETAR EL CODIGO (1)############\n",
        "df_renfe[\"TIEMPO_VIAJE\"]=(df_renfe[\"FECHA_FIN\"]-df_renfe[\"FECHA_INICIO\"])/np.timedelta64(1,'m')\n",
        "df_renfe[\"DIF_INI_BUS\"]=(df_renfe[\"FECHA_INICIO\"]-df_renfe[\"FECHA_CONSULTA\"])/np.timedelta64(1,'m')\n",
        "#####################################"
      ],
      "execution_count": 10,
      "outputs": []
    },
    {
      "cell_type": "code",
      "metadata": {
        "id": "WeLxjP0Ondy3",
        "colab": {
          "base_uri": "https://localhost:8080/",
          "height": 35
        },
        "outputId": "8d892692-4d59-49e1-9e73-d2005838eadc"
      },
      "source": [
        "'''PREGUNTA 5'''\n",
        "'''Hacer un histograma de la columna \"DIF_INI_BUS\", ¿Qué se puede deducir?'''"
      ],
      "execution_count": 11,
      "outputs": [
        {
          "output_type": "execute_result",
          "data": {
            "text/plain": [
              "'Hacer un histograma de la columna \"DIF_INI_BUS\", ¿Qué se puede deducir?'"
            ],
            "application/vnd.google.colaboratory.intrinsic+json": {
              "type": "string"
            }
          },
          "metadata": {},
          "execution_count": 11
        }
      ]
    },
    {
      "cell_type": "code",
      "metadata": {
        "colab": {
          "base_uri": "https://localhost:8080/",
          "height": 282
        },
        "id": "gvHHNDkNNo_N",
        "outputId": "bcaf8a60-03e0-4bac-e947-a0284f120063"
      },
      "source": [
        "df_renfe[\"DIF_INI_BUS\"].hist()"
      ],
      "execution_count": 12,
      "outputs": [
        {
          "output_type": "execute_result",
          "data": {
            "text/plain": [
              "<matplotlib.axes._subplots.AxesSubplot at 0x7f40cd4e1450>"
            ]
          },
          "metadata": {},
          "execution_count": 12
        },
        {
          "output_type": "display_data",
          "data": {
            "text/plain": [
              "<Figure size 432x288 with 1 Axes>"
            ],
            "image/png": "[encoded data removed]"
          },
          "metadata": {
            "needs_background": "light"
          }
        }
      ]
    },
    {
      "cell_type": "code",
      "metadata": {
        "colab": {
          "base_uri": "https://localhost:8080/"
        },
        "id": "J06nbJjxRM-U",
        "outputId": "792d584d-8fc6-40e1-adbe-4f9a694c3322"
      },
      "source": [
        "df_renfe[df_renfe[\"DIF_INI_BUS\"]<0].value_counts().count()"
      ],
      "execution_count": 13,
      "outputs": [
        {
          "output_type": "execute_result",
          "data": {
            "text/plain": [
              "513"
            ]
          },
          "metadata": {},
          "execution_count": 13
        }
      ]
    },
    {
      "cell_type": "code",
      "metadata": {
        "id": "ZtFggwlZndy3",
        "colab": {
          "base_uri": "https://localhost:8080/",
          "height": 35
        },
        "outputId": "812b4583-a5b7-4729-e694-09b788fb9fd1"
      },
      "source": [
        "'''REALIZAR LO COMENTADO EN LA PREGUNTA 5'''\n",
        "'''HINT: SI SE QUIERE BORRAR SE PUEDE USAR EL .drop([condicion].index)'''"
      ],
      "execution_count": 14,
      "outputs": [
        {
          "output_type": "execute_result",
          "data": {
            "text/plain": [
              "'HINT: SI SE QUIERE BORRAR SE PUEDE USAR EL .drop([condicion].index)'"
            ],
            "application/vnd.google.colaboratory.intrinsic+json": {
              "type": "string"
            }
          },
          "metadata": {},
          "execution_count": 14
        }
      ]
    },
    {
      "cell_type": "code",
      "metadata": {
        "id": "UGAL0ORRSDgH"
      },
      "source": [
        "df_renfe.drop(df_renfe[df_renfe[\"DIF_INI_BUS\"]<0].index, axis=0, inplace=True)"
      ],
      "execution_count": 15,
      "outputs": []
    },
    {
      "cell_type": "code",
      "metadata": {
        "colab": {
          "base_uri": "https://localhost:8080/"
        },
        "id": "wEMUfKQ1Slu_",
        "outputId": "635a0634-7040-4e76-c1fd-572f27d10a0d"
      },
      "source": [
        "df_renfe.info()"
      ],
      "execution_count": 16,
      "outputs": [
        {
          "output_type": "stream",
          "name": "stdout",
          "text": [
            "<class 'pandas.core.frame.DataFrame'>\n",
            "Int64Index: 382897 entries, 0 to 383567\n",
            "Data columns (total 11 columns):\n",
            " #   Column          Non-Null Count   Dtype         \n",
            "---  ------          --------------   -----         \n",
            " 0   FECHA_CONSULTA  382897 non-null  datetime64[ns]\n",
            " 1   FECHA_INICIO    382897 non-null  datetime64[ns]\n",
            " 2   FECHA_FIN       382897 non-null  datetime64[ns]\n",
            " 3   CIUDAD_ORIGEN   382897 non-null  object        \n",
            " 4   CIUDAD_DESTINO  382897 non-null  object        \n",
            " 5   TIPO_TREN       382897 non-null  object        \n",
            " 6   TIPO_TARIFA     381581 non-null  object        \n",
            " 7   CLASE           381581 non-null  object        \n",
            " 8   PRECIO          354525 non-null  float64       \n",
            " 9   TIEMPO_VIAJE    382897 non-null  float64       \n",
            " 10  DIF_INI_BUS     382897 non-null  float64       \n",
            "dtypes: datetime64[ns](3), float64(3), object(5)\n",
            "memory usage: 35.1+ MB\n"
          ]
        }
      ]
    },
    {
      "cell_type": "code",
      "metadata": {
        "id": "a6A2Aeg7SsRY"
      },
      "source": [
        "df_renfe.reset_index(drop=True, inplace=True)"
      ],
      "execution_count": 17,
      "outputs": []
    },
    {
      "cell_type": "code",
      "metadata": {
        "id": "V3cJvwwKShbO"
      },
      "source": [
        "#cuando borramos filas, lo que hemos de hacer es resetear los index"
      ],
      "execution_count": 18,
      "outputs": []
    },
    {
      "cell_type": "code",
      "metadata": {
        "id": "vT6kRQp-ndy3",
        "colab": {
          "base_uri": "https://localhost:8080/",
          "height": 35
        },
        "outputId": "aa3f4d39-d1a4-4292-d194-c41a72ffdd06"
      },
      "source": [
        "'''PREGUNTA 6\n",
        "6. ¿Existen filas duplicadas?¿Cuantas filas son?\n",
        "'''"
      ],
      "execution_count": 19,
      "outputs": [
        {
          "output_type": "execute_result",
          "data": {
            "text/plain": [
              "'PREGUNTA 6\\n6. ¿Existen filas duplicadas?¿Cuantas filas son?\\n'"
            ],
            "application/vnd.google.colaboratory.intrinsic+json": {
              "type": "string"
            }
          },
          "metadata": {},
          "execution_count": 19
        }
      ]
    },
    {
      "cell_type": "code",
      "metadata": {
        "colab": {
          "base_uri": "https://localhost:8080/"
        },
        "id": "uokbRYlPQv4W",
        "outputId": "efafd08d-582e-45a2-e599-3cf0effef6c3"
      },
      "source": [
        "df_renfe.duplicated().value_counts()"
      ],
      "execution_count": 20,
      "outputs": [
        {
          "output_type": "execute_result",
          "data": {
            "text/plain": [
              "False    382864\n",
              "True         33\n",
              "dtype: int64"
            ]
          },
          "metadata": {},
          "execution_count": 20
        }
      ]
    },
    {
      "cell_type": "code",
      "metadata": {
        "id": "XAkyRBb9ndy4",
        "colab": {
          "base_uri": "https://localhost:8080/",
          "height": 35
        },
        "outputId": "d200b43f-1d83-424e-be56-f371972fd636"
      },
      "source": [
        "'''SI EXISTEN DUPLICADOS BORRARLOS Y LLAMAR AL DF: df_renfe_sin_duplicados, SINO EXISTE NO CREAR UN NUEVO DATAFRAME'''\n"
      ],
      "execution_count": 21,
      "outputs": [
        {
          "output_type": "execute_result",
          "data": {
            "text/plain": [
              "'SI EXISTEN DUPLICADOS BORRARLOS Y LLAMAR AL DF: df_renfe_sin_duplicados, SINO EXISTE NO CREAR UN NUEVO DATAFRAME'"
            ],
            "application/vnd.google.colaboratory.intrinsic+json": {
              "type": "string"
            }
          },
          "metadata": {},
          "execution_count": 21
        }
      ]
    },
    {
      "cell_type": "code",
      "metadata": {
        "colab": {
          "base_uri": "https://localhost:8080/"
        },
        "id": "z7ru-nrtQ7Tm",
        "outputId": "b10154a9-2a1c-455d-875e-3ae025aad0d7"
      },
      "source": [
        "df_renfe_sin_duplicados = df_renfe.drop_duplicates().copy() #trec els duplicats ii faig una copia, i ho guardo a una variabe\n",
        "df_renfe_sin_duplicados.value_counts().count()"
      ],
      "execution_count": 22,
      "outputs": [
        {
          "output_type": "execute_result",
          "data": {
            "text/plain": [
              "354507"
            ]
          },
          "metadata": {},
          "execution_count": 22
        }
      ]
    },
    {
      "cell_type": "code",
      "metadata": {
        "colab": {
          "base_uri": "https://localhost:8080/",
          "height": 206
        },
        "id": "SbgpYdQTTdb_",
        "outputId": "8d0dae4e-e11b-4802-b104-41aa5d81dd94"
      },
      "source": [
        "df_renfe_sin_duplicados.head()"
      ],
      "execution_count": 23,
      "outputs": [
        {
          "output_type": "execute_result",
          "data": {
            "text/plain": [
              "       FECHA_CONSULTA        FECHA_INICIO           FECHA_FIN CIUDAD_ORIGEN  \\\n",
              "0 2019-05-25 01:43:03 2019-06-28 20:36:00 2019-06-28 23:14:00       SEVILLA   \n",
              "1 2019-06-22 13:05:11 2019-07-14 10:00:00 2019-07-14 13:10:00     BARCELONA   \n",
              "2 2019-04-17 06:24:03 2019-05-23 13:40:00 2019-05-23 16:10:00       SEVILLA   \n",
              "3 2019-05-10 21:21:59 2019-05-29 14:50:00 2019-05-29 22:30:00      VALENCIA   \n",
              "4 2019-05-09 19:43:37 2019-06-26 13:25:00 2019-06-26 16:24:00        MADRID   \n",
              "\n",
              "  CIUDAD_DESTINO TIPO_TREN TIPO_TARIFA    CLASE  PRECIO  TIEMPO_VIAJE  \\\n",
              "0         MADRID     ALVIA    Flexible  Turista   67.20         158.0   \n",
              "1         MADRID       AVE    Flexible  Turista  107.70         190.0   \n",
              "2         MADRID       AVE       Promo  Turista   47.30         150.0   \n",
              "3         MADRID  REGIONAL  Adulto ida  Turista   28.35         460.0   \n",
              "4      BARCELONA   AVE-TGV       Promo  Turista   66.75         179.0   \n",
              "\n",
              "    DIF_INI_BUS  \n",
              "0  50092.950000  \n",
              "1  31494.816667  \n",
              "2  52275.950000  \n",
              "3  26968.016667  \n",
              "4  68741.383333  "
            ],
            "text/html": [
              "\n",
              "  <div id=\"df-42a11235-949b-40f5-87ca-8b7f97464a00\">\n",
              "    <div class=\"colab-df-container\">\n",
              "      <div>\n",
              "<style scoped>\n",
              "    .dataframe tbody tr th:only-of-type {\n",
              "        vertical-align: middle;\n",
              "    }\n",
              "\n",
              "    .dataframe tbody tr th {\n",
              "        vertical-align: top;\n",
              "    }\n",
              "\n",
              "    .dataframe thead th {\n",
              "        text-align: right;\n",
              "    }\n",
              "</style>\n",
              "<table border=\"1\" class=\"dataframe\">\n",
              "  <thead>\n",
              "    <tr style=\"text-align: right;\">\n",
              "      <th></th>\n",
              "      <th>FECHA_CONSULTA</th>\n",
              "      <th>FECHA_INICIO</th>\n",
              "      <th>FECHA_FIN</th>\n",
              "      <th>CIUDAD_ORIGEN</th>\n",
              "      <th>CIUDAD_DESTINO</th>\n",
              "      <th>TIPO_TREN</th>\n",
              "      <th>TIPO_TARIFA</th>\n",
              "      <th>CLASE</th>\n",
              "      <th>PRECIO</th>\n",
              "      <th>TIEMPO_VIAJE</th>\n",
              "      <th>DIF_INI_BUS</th>\n",
              "    </tr>\n",
              "  </thead>\n",
              "  <tbody>\n",
              "    <tr>\n",
              "      <th>0</th>\n",
              "      <td>2019-05-25 01:43:03</td>\n",
              "      <td>2019-06-28 20:36:00</td>\n",
              "      <td>2019-06-28 23:14:00</td>\n",
              "      <td>SEVILLA</td>\n",
              "      <td>MADRID</td>\n",
              "      <td>ALVIA</td>\n",
              "      <td>Flexible</td>\n",
              "      <td>Turista</td>\n",
              "      <td>67.20</td>\n",
              "      <td>158.0</td>\n",
              "      <td>50092.950000</td>\n",
              "    </tr>\n",
              "    <tr>\n",
              "      <th>1</th>\n",
              "      <td>2019-06-22 13:05:11</td>\n",
              "      <td>2019-07-14 10:00:00</td>\n",
              "      <td>2019-07-14 13:10:00</td>\n",
              "      <td>BARCELONA</td>\n",
              "      <td>MADRID</td>\n",
              "      <td>AVE</td>\n",
              "      <td>Flexible</td>\n",
              "      <td>Turista</td>\n",
              "      <td>107.70</td>\n",
              "      <td>190.0</td>\n",
              "      <td>31494.816667</td>\n",
              "    </tr>\n",
              "    <tr>\n",
              "      <th>2</th>\n",
              "      <td>2019-04-17 06:24:03</td>\n",
              "      <td>2019-05-23 13:40:00</td>\n",
              "      <td>2019-05-23 16:10:00</td>\n",
              "      <td>SEVILLA</td>\n",
              "      <td>MADRID</td>\n",
              "      <td>AVE</td>\n",
              "      <td>Promo</td>\n",
              "      <td>Turista</td>\n",
              "      <td>47.30</td>\n",
              "      <td>150.0</td>\n",
              "      <td>52275.950000</td>\n",
              "    </tr>\n",
              "    <tr>\n",
              "      <th>3</th>\n",
              "      <td>2019-05-10 21:21:59</td>\n",
              "      <td>2019-05-29 14:50:00</td>\n",
              "      <td>2019-05-29 22:30:00</td>\n",
              "      <td>VALENCIA</td>\n",
              "      <td>MADRID</td>\n",
              "      <td>REGIONAL</td>\n",
              "      <td>Adulto ida</td>\n",
              "      <td>Turista</td>\n",
              "      <td>28.35</td>\n",
              "      <td>460.0</td>\n",
              "      <td>26968.016667</td>\n",
              "    </tr>\n",
              "    <tr>\n",
              "      <th>4</th>\n",
              "      <td>2019-05-09 19:43:37</td>\n",
              "      <td>2019-06-26 13:25:00</td>\n",
              "      <td>2019-06-26 16:24:00</td>\n",
              "      <td>MADRID</td>\n",
              "      <td>BARCELONA</td>\n",
              "      <td>AVE-TGV</td>\n",
              "      <td>Promo</td>\n",
              "      <td>Turista</td>\n",
              "      <td>66.75</td>\n",
              "      <td>179.0</td>\n",
              "      <td>68741.383333</td>\n",
              "    </tr>\n",
              "  </tbody>\n",
              "</table>\n",
              "</div>\n",
              "      <button class=\"colab-df-convert\" onclick=\"convertToInteractive('df-42a11235-949b-40f5-87ca-8b7f97464a00')\"\n",
              "              title=\"Convert this dataframe to an interactive table.\"\n",
              "              style=\"display:none;\">\n",
              "        \n",
              "  <svg xmlns=\"http://www.w3.org/2000/svg\" height=\"24px\"viewBox=\"0 0 24 24\"\n",
              "       width=\"24px\">\n",
              "    <path d=\"M0 0h24v24H0V0z\" fill=\"none\"/>\n",
              "    <path d=\"M18.56 5.44l.94 2.06.94-2.06 2.06-.94-2.06-.94-.94-2.06-.94 2.06-2.06.94zm-11 1L8.5 8.5l.94-2.06 2.06-.94-2.06-.94L8.5 2.5l-.94 2.06-2.06.94zm10 10l.94 2.06.94-2.06 2.06-.94-2.06-.94-.94-2.06-.94 2.06-2.06.94z\"/><path d=\"M17.41 7.96l-1.37-1.37c-.4-.4-.92-.59-1.43-.59-.52 0-1.04.2-1.43.59L10.3 9.45l-7.72 7.72c-.78.78-.78 2.05 0 2.83L4 21.41c.39.39.9.59 1.41.59.51 0 1.02-.2 1.41-.59l7.78-7.78 2.81-2.81c.8-.78.8-2.07 0-2.86zM5.41 20L4 18.59l7.72-7.72 1.47 1.35L5.41 20z\"/>\n",
              "  </svg>\n",
              "      </button>\n",
              "      \n",
              "  <style>\n",
              "    .colab-df-container {\n",
              "      display:flex;\n",
              "      flex-wrap:wrap;\n",
              "      gap: 12px;\n",
              "    }\n",
              "\n",
              "    .colab-df-convert {\n",
              "      background-color: #E8F0FE;\n",
              "      border: none;\n",
              "      border-radius: 50%;\n",
              "      cursor: pointer;\n",
              "      display: none;\n",
              "      fill: #1967D2;\n",
              "      height: 32px;\n",
              "      padding: 0 0 0 0;\n",
              "      width: 32px;\n",
              "    }\n",
              "\n",
              "    .colab-df-convert:hover {\n",
              "      background-color: #E2EBFA;\n",
              "      box-shadow: 0px 1px 2px rgba(60, 64, 67, 0.3), 0px 1px 3px 1px rgba(60, 64, 67, 0.15);\n",
              "      fill: #174EA6;\n",
              "    }\n",
              "\n",
              "    [theme=dark] .colab-df-convert {\n",
              "      background-color: #3B4455;\n",
              "      fill: #D2E3FC;\n",
              "    }\n",
              "\n",
              "    [theme=dark] .colab-df-convert:hover {\n",
              "      background-color: #434B5C;\n",
              "      box-shadow: 0px 1px 3px 1px rgba(0, 0, 0, 0.15);\n",
              "      filter: drop-shadow(0px 1px 2px rgba(0, 0, 0, 0.3));\n",
              "      fill: #FFFFFF;\n",
              "    }\n",
              "  </style>\n",
              "\n",
              "      <script>\n",
              "        const buttonEl =\n",
              "          document.querySelector('#df-42a11235-949b-40f5-87ca-8b7f97464a00 button.colab-df-convert');\n",
              "        buttonEl.style.display =\n",
              "          google.colab.kernel.accessAllowed ? 'block' : 'none';\n",
              "\n",
              "        async function convertToInteractive(key) {\n",
              "          const element = document.querySelector('#df-42a11235-949b-40f5-87ca-8b7f97464a00');\n",
              "          const dataTable =\n",
              "            await google.colab.kernel.invokeFunction('convertToInteractive',\n",
              "                                                     [key], {});\n",
              "          if (!dataTable) return;\n",
              "\n",
              "          const docLinkHtml = 'Like what you see? Visit the ' +\n",
              "            '<a target=\"_blank\" href=https://colab.research.google.com/notebooks/data_table.ipynb>data table notebook</a>'\n",
              "            + ' to learn more about interactive tables.';\n",
              "          element.innerHTML = '';\n",
              "          dataTable['output_type'] = 'display_data';\n",
              "          await google.colab.output.renderOutput(dataTable, element);\n",
              "          const docLink = document.createElement('div');\n",
              "          docLink.innerHTML = docLinkHtml;\n",
              "          element.appendChild(docLink);\n",
              "        }\n",
              "      </script>\n",
              "    </div>\n",
              "  </div>\n",
              "  "
            ]
          },
          "metadata": {},
          "execution_count": 23
        }
      ]
    },
    {
      "cell_type": "code",
      "metadata": {
        "id": "jPY5hTj2ndy4",
        "colab": {
          "base_uri": "https://localhost:8080/",
          "height": 35
        },
        "outputId": "6bfa8017-9867-4e32-bdf9-631c9f4f4012"
      },
      "source": [
        "'''PREGUNTA 7\n",
        "7. Luego de eliminar los duplicados, ¿Aún existen nulos?\n",
        "'''"
      ],
      "execution_count": 24,
      "outputs": [
        {
          "output_type": "execute_result",
          "data": {
            "text/plain": [
              "'PREGUNTA 7\\n7. Luego de eliminar los duplicados, ¿Aún existen nulos?\\n'"
            ],
            "application/vnd.google.colaboratory.intrinsic+json": {
              "type": "string"
            }
          },
          "metadata": {},
          "execution_count": 24
        }
      ]
    },
    {
      "cell_type": "code",
      "metadata": {
        "colab": {
          "base_uri": "https://localhost:8080/"
        },
        "id": "LKP8q5X8RzNw",
        "outputId": "a8e7603e-552c-4d00-ae6f-643fd0c1725b"
      },
      "source": [
        "df_renfe_sin_duplicados.isnull().value_counts().count()"
      ],
      "execution_count": 25,
      "outputs": [
        {
          "output_type": "execute_result",
          "data": {
            "text/plain": [
              "3"
            ]
          },
          "metadata": {},
          "execution_count": 25
        }
      ]
    },
    {
      "cell_type": "code",
      "metadata": {
        "id": "51tK3dLdndy5",
        "colab": {
          "base_uri": "https://localhost:8080/"
        },
        "outputId": "884af04c-13f6-41a4-a0b9-fcfac66f7714"
      },
      "source": [
        "df_renfe_sin_duplicados.isnull().sum()"
      ],
      "execution_count": 26,
      "outputs": [
        {
          "output_type": "execute_result",
          "data": {
            "text/plain": [
              "FECHA_CONSULTA        0\n",
              "FECHA_INICIO          0\n",
              "FECHA_FIN             0\n",
              "CIUDAD_ORIGEN         0\n",
              "CIUDAD_DESTINO        0\n",
              "TIPO_TREN             0\n",
              "TIPO_TARIFA        1311\n",
              "CLASE              1311\n",
              "PRECIO            28357\n",
              "TIEMPO_VIAJE          0\n",
              "DIF_INI_BUS           0\n",
              "dtype: int64"
            ]
          },
          "metadata": {},
          "execution_count": 26
        }
      ]
    },
    {
      "cell_type": "code",
      "metadata": {
        "id": "tfJukUmundy5",
        "colab": {
          "base_uri": "https://localhost:8080/",
          "height": 270
        },
        "outputId": "445e78c0-fdd9-49c1-cef9-f636d48ac6f7"
      },
      "source": [
        "'''PREGUNTA 8'''\n",
        "##########PREGUNTA 8. INTERPRETAR EL CODIGO (2º)############\n",
        "for col in ['FECHA_CONSULTA', 'FECHA_INICIO', 'FECHA_FIN']:\n",
        "    df_renfe_sin_duplicados[col + '_HORA'] = df_renfe_sin_duplicados[col].dt.hour\n",
        "    df_renfe_sin_duplicados[col + '_NOMBREDIA'] = df_renfe_sin_duplicados[col].dt.day_name()\n",
        "    ##O .dt.weekday_name\n",
        "    df_renfe_sin_duplicados[col + '_DIA'] = df_renfe_sin_duplicados[col].dt.day\n",
        "    df_renfe_sin_duplicados[col + '_MES'] = df_renfe_sin_duplicados[col].dt.month\n",
        "    \n",
        "    del df_renfe_sin_duplicados[col]\n",
        "\n",
        "df_renfe_sin_duplicados.head()\n",
        "#####################################"
      ],
      "execution_count": 27,
      "outputs": [
        {
          "output_type": "execute_result",
          "data": {
            "text/plain": [
              "  CIUDAD_ORIGEN CIUDAD_DESTINO TIPO_TREN TIPO_TARIFA    CLASE  PRECIO  \\\n",
              "0       SEVILLA         MADRID     ALVIA    Flexible  Turista   67.20   \n",
              "1     BARCELONA         MADRID       AVE    Flexible  Turista  107.70   \n",
              "2       SEVILLA         MADRID       AVE       Promo  Turista   47.30   \n",
              "3      VALENCIA         MADRID  REGIONAL  Adulto ida  Turista   28.35   \n",
              "4        MADRID      BARCELONA   AVE-TGV       Promo  Turista   66.75   \n",
              "\n",
              "   TIEMPO_VIAJE   DIF_INI_BUS  FECHA_CONSULTA_HORA FECHA_CONSULTA_NOMBREDIA  \\\n",
              "0         158.0  50092.950000                    1                 Saturday   \n",
              "1         190.0  31494.816667                   13                 Saturday   \n",
              "2         150.0  52275.950000                    6                Wednesday   \n",
              "3         460.0  26968.016667                   21                   Friday   \n",
              "4         179.0  68741.383333                   19                 Thursday   \n",
              "\n",
              "   FECHA_CONSULTA_DIA  FECHA_CONSULTA_MES  FECHA_INICIO_HORA  \\\n",
              "0                  25                   5                 20   \n",
              "1                  22                   6                 10   \n",
              "2                  17                   4                 13   \n",
              "3                  10                   5                 14   \n",
              "4                   9                   5                 13   \n",
              "\n",
              "  FECHA_INICIO_NOMBREDIA  FECHA_INICIO_DIA  FECHA_INICIO_MES  FECHA_FIN_HORA  \\\n",
              "0                 Friday                28                 6              23   \n",
              "1                 Sunday                14                 7              13   \n",
              "2               Thursday                23                 5              16   \n",
              "3              Wednesday                29                 5              22   \n",
              "4              Wednesday                26                 6              16   \n",
              "\n",
              "  FECHA_FIN_NOMBREDIA  FECHA_FIN_DIA  FECHA_FIN_MES  \n",
              "0              Friday             28              6  \n",
              "1              Sunday             14              7  \n",
              "2            Thursday             23              5  \n",
              "3           Wednesday             29              5  \n",
              "4           Wednesday             26              6  "
            ],
            "text/html": [
              "\n",
              "  <div id=\"df-1fe87544-8b1b-4d9d-ab86-1eed2fd81b18\">\n",
              "    <div class=\"colab-df-container\">\n",
              "      <div>\n",
              "<style scoped>\n",
              "    .dataframe tbody tr th:only-of-type {\n",
              "        vertical-align: middle;\n",
              "    }\n",
              "\n",
              "    .dataframe tbody tr th {\n",
              "        vertical-align: top;\n",
              "    }\n",
              "\n",
              "    .dataframe thead th {\n",
              "        text-align: right;\n",
              "    }\n",
              "</style>\n",
              "<table border=\"1\" class=\"dataframe\">\n",
              "  <thead>\n",
              "    <tr style=\"text-align: right;\">\n",
              "      <th></th>\n",
              "      <th>CIUDAD_ORIGEN</th>\n",
              "      <th>CIUDAD_DESTINO</th>\n",
              "      <th>TIPO_TREN</th>\n",
              "      <th>TIPO_TARIFA</th>\n",
              "      <th>CLASE</th>\n",
              "      <th>PRECIO</th>\n",
              "      <th>TIEMPO_VIAJE</th>\n",
              "      <th>DIF_INI_BUS</th>\n",
              "      <th>FECHA_CONSULTA_HORA</th>\n",
              "      <th>FECHA_CONSULTA_NOMBREDIA</th>\n",
              "      <th>FECHA_CONSULTA_DIA</th>\n",
              "      <th>FECHA_CONSULTA_MES</th>\n",
              "      <th>FECHA_INICIO_HORA</th>\n",
              "      <th>FECHA_INICIO_NOMBREDIA</th>\n",
              "      <th>FECHA_INICIO_DIA</th>\n",
              "      <th>FECHA_INICIO_MES</th>\n",
              "      <th>FECHA_FIN_HORA</th>\n",
              "      <th>FECHA_FIN_NOMBREDIA</th>\n",
              "      <th>FECHA_FIN_DIA</th>\n",
              "      <th>FECHA_FIN_MES</th>\n",
              "    </tr>\n",
              "  </thead>\n",
              "  <tbody>\n",
              "    <tr>\n",
              "      <th>0</th>\n",
              "      <td>SEVILLA</td>\n",
              "      <td>MADRID</td>\n",
              "      <td>ALVIA</td>\n",
              "      <td>Flexible</td>\n",
              "      <td>Turista</td>\n",
              "      <td>67.20</td>\n",
              "      <td>158.0</td>\n",
              "      <td>50092.950000</td>\n",
              "      <td>1</td>\n",
              "      <td>Saturday</td>\n",
              "      <td>25</td>\n",
              "      <td>5</td>\n",
              "      <td>20</td>\n",
              "      <td>Friday</td>\n",
              "      <td>28</td>\n",
              "      <td>6</td>\n",
              "      <td>23</td>\n",
              "      <td>Friday</td>\n",
              "      <td>28</td>\n",
              "      <td>6</td>\n",
              "    </tr>\n",
              "    <tr>\n",
              "      <th>1</th>\n",
              "      <td>BARCELONA</td>\n",
              "      <td>MADRID</td>\n",
              "      <td>AVE</td>\n",
              "      <td>Flexible</td>\n",
              "      <td>Turista</td>\n",
              "      <td>107.70</td>\n",
              "      <td>190.0</td>\n",
              "      <td>31494.816667</td>\n",
              "      <td>13</td>\n",
              "      <td>Saturday</td>\n",
              "      <td>22</td>\n",
              "      <td>6</td>\n",
              "      <td>10</td>\n",
              "      <td>Sunday</td>\n",
              "      <td>14</td>\n",
              "      <td>7</td>\n",
              "      <td>13</td>\n",
              "      <td>Sunday</td>\n",
              "      <td>14</td>\n",
              "      <td>7</td>\n",
              "    </tr>\n",
              "    <tr>\n",
              "      <th>2</th>\n",
              "      <td>SEVILLA</td>\n",
              "      <td>MADRID</td>\n",
              "      <td>AVE</td>\n",
              "      <td>Promo</td>\n",
              "      <td>Turista</td>\n",
              "      <td>47.30</td>\n",
              "      <td>150.0</td>\n",
              "      <td>52275.950000</td>\n",
              "      <td>6</td>\n",
              "      <td>Wednesday</td>\n",
              "      <td>17</td>\n",
              "      <td>4</td>\n",
              "      <td>13</td>\n",
              "      <td>Thursday</td>\n",
              "      <td>23</td>\n",
              "      <td>5</td>\n",
              "      <td>16</td>\n",
              "      <td>Thursday</td>\n",
              "      <td>23</td>\n",
              "      <td>5</td>\n",
              "    </tr>\n",
              "    <tr>\n",
              "      <th>3</th>\n",
              "      <td>VALENCIA</td>\n",
              "      <td>MADRID</td>\n",
              "      <td>REGIONAL</td>\n",
              "      <td>Adulto ida</td>\n",
              "      <td>Turista</td>\n",
              "      <td>28.35</td>\n",
              "      <td>460.0</td>\n",
              "      <td>26968.016667</td>\n",
              "      <td>21</td>\n",
              "      <td>Friday</td>\n",
              "      <td>10</td>\n",
              "      <td>5</td>\n",
              "      <td>14</td>\n",
              "      <td>Wednesday</td>\n",
              "      <td>29</td>\n",
              "      <td>5</td>\n",
              "      <td>22</td>\n",
              "      <td>Wednesday</td>\n",
              "      <td>29</td>\n",
              "      <td>5</td>\n",
              "    </tr>\n",
              "    <tr>\n",
              "      <th>4</th>\n",
              "      <td>MADRID</td>\n",
              "      <td>BARCELONA</td>\n",
              "      <td>AVE-TGV</td>\n",
              "      <td>Promo</td>\n",
              "      <td>Turista</td>\n",
              "      <td>66.75</td>\n",
              "      <td>179.0</td>\n",
              "      <td>68741.383333</td>\n",
              "      <td>19</td>\n",
              "      <td>Thursday</td>\n",
              "      <td>9</td>\n",
              "      <td>5</td>\n",
              "      <td>13</td>\n",
              "      <td>Wednesday</td>\n",
              "      <td>26</td>\n",
              "      <td>6</td>\n",
              "      <td>16</td>\n",
              "      <td>Wednesday</td>\n",
              "      <td>26</td>\n",
              "      <td>6</td>\n",
              "    </tr>\n",
              "  </tbody>\n",
              "</table>\n",
              "</div>\n",
              "      <button class=\"colab-df-convert\" onclick=\"convertToInteractive('df-1fe87544-8b1b-4d9d-ab86-1eed2fd81b18')\"\n",
              "              title=\"Convert this dataframe to an interactive table.\"\n",
              "              style=\"display:none;\">\n",
              "        \n",
              "  <svg xmlns=\"http://www.w3.org/2000/svg\" height=\"24px\"viewBox=\"0 0 24 24\"\n",
              "       width=\"24px\">\n",
              "    <path d=\"M0 0h24v24H0V0z\" fill=\"none\"/>\n",
              "    <path d=\"M18.56 5.44l.94 2.06.94-2.06 2.06-.94-2.06-.94-.94-2.06-.94 2.06-2.06.94zm-11 1L8.5 8.5l.94-2.06 2.06-.94-2.06-.94L8.5 2.5l-.94 2.06-2.06.94zm10 10l.94 2.06.94-2.06 2.06-.94-2.06-.94-.94-2.06-.94 2.06-2.06.94z\"/><path d=\"M17.41 7.96l-1.37-1.37c-.4-.4-.92-.59-1.43-.59-.52 0-1.04.2-1.43.59L10.3 9.45l-7.72 7.72c-.78.78-.78 2.05 0 2.83L4 21.41c.39.39.9.59 1.41.59.51 0 1.02-.2 1.41-.59l7.78-7.78 2.81-2.81c.8-.78.8-2.07 0-2.86zM5.41 20L4 18.59l7.72-7.72 1.47 1.35L5.41 20z\"/>\n",
              "  </svg>\n",
              "      </button>\n",
              "      \n",
              "  <style>\n",
              "    .colab-df-container {\n",
              "      display:flex;\n",
              "      flex-wrap:wrap;\n",
              "      gap: 12px;\n",
              "    }\n",
              "\n",
              "    .colab-df-convert {\n",
              "      background-color: #E8F0FE;\n",
              "      border: none;\n",
              "      border-radius: 50%;\n",
              "      cursor: pointer;\n",
              "      display: none;\n",
              "      fill: #1967D2;\n",
              "      height: 32px;\n",
              "      padding: 0 0 0 0;\n",
              "      width: 32px;\n",
              "    }\n",
              "\n",
              "    .colab-df-convert:hover {\n",
              "      background-color: #E2EBFA;\n",
              "      box-shadow: 0px 1px 2px rgba(60, 64, 67, 0.3), 0px 1px 3px 1px rgba(60, 64, 67, 0.15);\n",
              "      fill: #174EA6;\n",
              "    }\n",
              "\n",
              "    [theme=dark] .colab-df-convert {\n",
              "      background-color: #3B4455;\n",
              "      fill: #D2E3FC;\n",
              "    }\n",
              "\n",
              "    [theme=dark] .colab-df-convert:hover {\n",
              "      background-color: #434B5C;\n",
              "      box-shadow: 0px 1px 3px 1px rgba(0, 0, 0, 0.15);\n",
              "      filter: drop-shadow(0px 1px 2px rgba(0, 0, 0, 0.3));\n",
              "      fill: #FFFFFF;\n",
              "    }\n",
              "  </style>\n",
              "\n",
              "      <script>\n",
              "        const buttonEl =\n",
              "          document.querySelector('#df-1fe87544-8b1b-4d9d-ab86-1eed2fd81b18 button.colab-df-convert');\n",
              "        buttonEl.style.display =\n",
              "          google.colab.kernel.accessAllowed ? 'block' : 'none';\n",
              "\n",
              "        async function convertToInteractive(key) {\n",
              "          const element = document.querySelector('#df-1fe87544-8b1b-4d9d-ab86-1eed2fd81b18');\n",
              "          const dataTable =\n",
              "            await google.colab.kernel.invokeFunction('convertToInteractive',\n",
              "                                                     [key], {});\n",
              "          if (!dataTable) return;\n",
              "\n",
              "          const docLinkHtml = 'Like what you see? Visit the ' +\n",
              "            '<a target=\"_blank\" href=https://colab.research.google.com/notebooks/data_table.ipynb>data table notebook</a>'\n",
              "            + ' to learn more about interactive tables.';\n",
              "          element.innerHTML = '';\n",
              "          dataTable['output_type'] = 'display_data';\n",
              "          await google.colab.output.renderOutput(dataTable, element);\n",
              "          const docLink = document.createElement('div');\n",
              "          docLink.innerHTML = docLinkHtml;\n",
              "          element.appendChild(docLink);\n",
              "        }\n",
              "      </script>\n",
              "    </div>\n",
              "  </div>\n",
              "  "
            ]
          },
          "metadata": {},
          "execution_count": 27
        }
      ]
    },
    {
      "cell_type": "code",
      "metadata": {
        "id": "nh1qV0i3ndy5",
        "colab": {
          "base_uri": "https://localhost:8080/",
          "height": 35
        },
        "outputId": "89b93d16-a3ea-47d1-93f2-7ed724456670"
      },
      "source": [
        "'''PREGUNTA 9\n",
        "9. En el precio existen nulos, ¿Qué porcentaje representa del total del dataset?\n",
        "'''"
      ],
      "execution_count": 28,
      "outputs": [
        {
          "output_type": "execute_result",
          "data": {
            "text/plain": [
              "'PREGUNTA 9\\n9. En el precio existen nulos, ¿Qué porcentaje representa del total del dataset?\\n'"
            ],
            "application/vnd.google.colaboratory.intrinsic+json": {
              "type": "string"
            }
          },
          "metadata": {},
          "execution_count": 28
        }
      ]
    },
    {
      "cell_type": "code",
      "metadata": {
        "id": "_5idjjl7ndy6",
        "colab": {
          "base_uri": "https://localhost:8080/"
        },
        "outputId": "2a6b6944-5801-4fde-90bf-0999baec813e"
      },
      "source": [
        "df_renfe_sin_duplicados[\"PRECIO\"].isnull().value_counts(normalize=True) #el precio puede ser nulo, porque ha tardado mucho en cargar la página.."
      ],
      "execution_count": 29,
      "outputs": [
        {
          "output_type": "execute_result",
          "data": {
            "text/plain": [
              "False    0.925935\n",
              "True     0.074065\n",
              "Name: PRECIO, dtype: float64"
            ]
          },
          "metadata": {},
          "execution_count": 29
        }
      ]
    },
    {
      "cell_type": "code",
      "metadata": {
        "colab": {
          "base_uri": "https://localhost:8080/"
        },
        "id": "7SL4yZTGXhtM",
        "outputId": "8771e314-3ea0-4c41-f78d-1f61de4ca73f"
      },
      "source": [
        "df_renfe_sin_duplicados[\"PRECIO\"].isnull().sum()/df_renfe_sin_duplicados.shape[0]*100  #una altre manera de fer-ho"
      ],
      "execution_count": 30,
      "outputs": [
        {
          "output_type": "execute_result",
          "data": {
            "text/plain": [
              "7.406546449914329"
            ]
          },
          "metadata": {},
          "execution_count": 30
        }
      ]
    },
    {
      "cell_type": "code",
      "metadata": {
        "id": "Z_gFLsWOndy6"
      },
      "source": [
        "##########EJECUTAR DESPUES DE RESPONDER LA PREGUNTA 9############\n",
        "###VAMOS A BORRAR LOS PRECIOS CON 0####\n",
        "df_renfe_sin_duplicados.drop(df_renfe_sin_duplicados[df_renfe_sin_duplicados[\"PRECIO\"]==0].index, axis=0, inplace=True)\n",
        "#####################################\n",
        "\n"
      ],
      "execution_count": 31,
      "outputs": []
    },
    {
      "cell_type": "code",
      "metadata": {
        "id": "mXCu3_6eYNG3"
      },
      "source": [
        ""
      ],
      "execution_count": 31,
      "outputs": []
    },
    {
      "cell_type": "code",
      "metadata": {
        "id": "HFXZfHndndy6",
        "colab": {
          "base_uri": "https://localhost:8080/",
          "height": 35
        },
        "outputId": "5b15bbf4-b9e1-44aa-f707-de61095bb999"
      },
      "source": [
        "'''PREGUNTA 10\n",
        "10. Qué sería lo más adecuado hacer con el precio, la clase y la tarifa de tren? \n",
        "hint: no probar df[\"clase\"].mean...\n",
        "'''"
      ],
      "execution_count": 32,
      "outputs": [
        {
          "output_type": "execute_result",
          "data": {
            "text/plain": [
              "'PREGUNTA 10\\n10. Qué sería lo más adecuado hacer con el precio, la clase y la tarifa de tren? \\nhint: no probar df[\"clase\"].mean...\\n'"
            ],
            "application/vnd.google.colaboratory.intrinsic+json": {
              "type": "string"
            }
          },
          "metadata": {},
          "execution_count": 32
        }
      ]
    },
    {
      "cell_type": "code",
      "metadata": {
        "colab": {
          "base_uri": "https://localhost:8080/"
        },
        "id": "SI0J3z-UWhEi",
        "outputId": "2f6dac92-71ab-4a3f-a99d-4e32fb73c9ae"
      },
      "source": [
        "df_renfe_sin_duplicados.info()"
      ],
      "execution_count": 33,
      "outputs": [
        {
          "output_type": "stream",
          "name": "stdout",
          "text": [
            "<class 'pandas.core.frame.DataFrame'>\n",
            "Int64Index: 382862 entries, 0 to 382896\n",
            "Data columns (total 20 columns):\n",
            " #   Column                    Non-Null Count   Dtype  \n",
            "---  ------                    --------------   -----  \n",
            " 0   CIUDAD_ORIGEN             382862 non-null  object \n",
            " 1   CIUDAD_DESTINO            382862 non-null  object \n",
            " 2   TIPO_TREN                 382862 non-null  object \n",
            " 3   TIPO_TARIFA               381551 non-null  object \n",
            " 4   CLASE                     381551 non-null  object \n",
            " 5   PRECIO                    354505 non-null  float64\n",
            " 6   TIEMPO_VIAJE              382862 non-null  float64\n",
            " 7   DIF_INI_BUS               382862 non-null  float64\n",
            " 8   FECHA_CONSULTA_HORA       382862 non-null  int64  \n",
            " 9   FECHA_CONSULTA_NOMBREDIA  382862 non-null  object \n",
            " 10  FECHA_CONSULTA_DIA        382862 non-null  int64  \n",
            " 11  FECHA_CONSULTA_MES        382862 non-null  int64  \n",
            " 12  FECHA_INICIO_HORA         382862 non-null  int64  \n",
            " 13  FECHA_INICIO_NOMBREDIA    382862 non-null  object \n",
            " 14  FECHA_INICIO_DIA          382862 non-null  int64  \n",
            " 15  FECHA_INICIO_MES          382862 non-null  int64  \n",
            " 16  FECHA_FIN_HORA            382862 non-null  int64  \n",
            " 17  FECHA_FIN_NOMBREDIA       382862 non-null  object \n",
            " 18  FECHA_FIN_DIA             382862 non-null  int64  \n",
            " 19  FECHA_FIN_MES             382862 non-null  int64  \n",
            "dtypes: float64(3), int64(9), object(8)\n",
            "memory usage: 61.3+ MB\n"
          ]
        }
      ]
    },
    {
      "cell_type": "code",
      "metadata": {
        "colab": {
          "base_uri": "https://localhost:8080/",
          "height": 35
        },
        "id": "2xDdibcDZS3f",
        "outputId": "4ffcf35c-db7f-44d0-f29f-3daa9023c679"
      },
      "source": [
        "df_renfe_sin_duplicados[\"TIPO_TARIFA\"].mode()[0]"
      ],
      "execution_count": 34,
      "outputs": [
        {
          "output_type": "execute_result",
          "data": {
            "text/plain": [
              "'Promo'"
            ],
            "application/vnd.google.colaboratory.intrinsic+json": {
              "type": "string"
            }
          },
          "metadata": {},
          "execution_count": 34
        }
      ]
    },
    {
      "cell_type": "code",
      "metadata": {
        "colab": {
          "base_uri": "https://localhost:8080/"
        },
        "id": "kz7QkGlKZf-F",
        "outputId": "a348fe19-0a0f-47b6-d930-a4e9e36c760a"
      },
      "source": [
        "df_renfe_sin_duplicados[\"TIPO_TARIFA\"].describe()"
      ],
      "execution_count": 35,
      "outputs": [
        {
          "output_type": "execute_result",
          "data": {
            "text/plain": [
              "count     381551\n",
              "unique         9\n",
              "top        Promo\n",
              "freq      266267\n",
              "Name: TIPO_TARIFA, dtype: object"
            ]
          },
          "metadata": {},
          "execution_count": 35
        }
      ]
    },
    {
      "cell_type": "code",
      "metadata": {
        "colab": {
          "base_uri": "https://localhost:8080/"
        },
        "id": "IByggx_IZn9-",
        "outputId": "0bf9860c-5ee3-427e-a35f-d8362c584bd2"
      },
      "source": [
        "\n",
        "df_renfe_sin_duplicados[\"PRECIO\"].describe()"
      ],
      "execution_count": 36,
      "outputs": [
        {
          "output_type": "execute_result",
          "data": {
            "text/plain": [
              "count    354505.000000\n",
              "mean         61.406744\n",
              "std          25.669232\n",
              "min          12.850000\n",
              "25%          41.200000\n",
              "50%          58.150000\n",
              "75%          76.300000\n",
              "max         342.800000\n",
              "Name: PRECIO, dtype: float64"
            ]
          },
          "metadata": {},
          "execution_count": 36
        }
      ]
    },
    {
      "cell_type": "code",
      "metadata": {
        "id": "JGbySEfnaKFc"
      },
      "source": [
        "df_renfe_sin_duplicados[\"PRECIO\"].fillna(df_renfe_sin_duplicados[\"PRECIO\"].mean(),inplace=True)"
      ],
      "execution_count": 37,
      "outputs": []
    },
    {
      "cell_type": "code",
      "metadata": {
        "id": "_5zsSGMjbTCm"
      },
      "source": [
        "df_renfe_sin_duplicados[\"TIPO_TARIFA\"].fillna(df_renfe_sin_duplicados[\"PRECIO\"].mode(),inplace=True)"
      ],
      "execution_count": 38,
      "outputs": []
    },
    {
      "cell_type": "code",
      "metadata": {
        "id": "P1HxvFe_bTr7"
      },
      "source": [
        "df_renfe_sin_duplicados[\"CLASE\"].fillna(df_renfe_sin_duplicados[\"PRECIO\"].mode(),inplace=True)"
      ],
      "execution_count": 39,
      "outputs": []
    },
    {
      "cell_type": "code",
      "metadata": {
        "id": "GkVQd9MKndy7",
        "colab": {
          "base_uri": "https://localhost:8080/",
          "height": 52
        },
        "outputId": "9975e00a-8c5c-42c3-a79f-36c98a894972"
      },
      "source": [
        "'''EN CASO ELEGIR HACER UN TRATAMIENTO DE NULOS REALIZARLO\n",
        "HINT: EN CASO DE QUERER HACER UNA MODA RECORDAR UTILIZAR UN [0] AL FINAL PARA OBTENER EL VALOR DE LA MODA\n",
        "HINT2: EN CASO DE QUERE ELIMINAR NULOS DE UNA COLUMNA INVESTIGAR LA FUNCION dropna'''"
      ],
      "execution_count": 40,
      "outputs": [
        {
          "output_type": "execute_result",
          "data": {
            "text/plain": [
              "'EN CASO ELEGIR HACER UN TRATAMIENTO DE NULOS REALIZARLO\\nHINT: EN CASO DE QUERER HACER UNA MODA RECORDAR UTILIZAR UN [0] AL FINAL PARA OBTENER EL VALOR DE LA MODA\\nHINT2: EN CASO DE QUERE ELIMINAR NULOS DE UNA COLUMNA INVESTIGAR LA FUNCION dropna'"
            ],
            "application/vnd.google.colaboratory.intrinsic+json": {
              "type": "string"
            }
          },
          "metadata": {},
          "execution_count": 40
        }
      ]
    },
    {
      "cell_type": "code",
      "metadata": {
        "id": "t3mii8NHndy7"
      },
      "source": [
        ""
      ],
      "execution_count": 40,
      "outputs": []
    },
    {
      "cell_type": "code",
      "metadata": {
        "id": "yOR9lOymndy7",
        "colab": {
          "base_uri": "https://localhost:8080/",
          "height": 206
        },
        "outputId": "7e6c8107-b4cd-43ca-b253-887aa99523fe"
      },
      "source": [
        "##########EJECUTAR DESPUES DE RESPONDER LA PREGUNTA 10############\n",
        "df_renfe_sin_duplicados.drop([\"FECHA_CONSULTA_HORA\",\"FECHA_CONSULTA_DIA\",\"FECHA_CONSULTA_MES\",\"FECHA_CONSULTA_NOMBREDIA\"],axis=1, inplace=True)\n",
        "df_renfe_clean= df_renfe_sin_duplicados.copy()\n",
        "latitud_longitud=pd.read_csv(\"/content/drive/MyDrive/MASTER DATA SCIENCE/PROYECTOS/Project Renfe/ETL/LAT_LONG_CIUDADES.CSV\", sep=\";\")\n",
        "latitud_longitud\n",
        "#####################################"
      ],
      "execution_count": 41,
      "outputs": [
        {
          "output_type": "execute_result",
          "data": {
            "text/plain": [
              "    PROVINCIA    LATITUD  LONGITUD\n",
              "0      MADRID  40.416705 -3.703582\n",
              "1   BARCELONA  41.382894  2.177432\n",
              "2     SEVILLA  37.388630 -5.995340\n",
              "3    VALENCIA  39.469901 -0.375951\n",
              "4  PONFERRADA  42.545412 -6.593872"
            ],
            "text/html": [
              "\n",
              "  <div id=\"df-799cd01e-46ba-4281-9e37-1c0ac6e82933\">\n",
              "    <div class=\"colab-df-container\">\n",
              "      <div>\n",
              "<style scoped>\n",
              "    .dataframe tbody tr th:only-of-type {\n",
              "        vertical-align: middle;\n",
              "    }\n",
              "\n",
              "    .dataframe tbody tr th {\n",
              "        vertical-align: top;\n",
              "    }\n",
              "\n",
              "    .dataframe thead th {\n",
              "        text-align: right;\n",
              "    }\n",
              "</style>\n",
              "<table border=\"1\" class=\"dataframe\">\n",
              "  <thead>\n",
              "    <tr style=\"text-align: right;\">\n",
              "      <th></th>\n",
              "      <th>PROVINCIA</th>\n",
              "      <th>LATITUD</th>\n",
              "      <th>LONGITUD</th>\n",
              "    </tr>\n",
              "  </thead>\n",
              "  <tbody>\n",
              "    <tr>\n",
              "      <th>0</th>\n",
              "      <td>MADRID</td>\n",
              "      <td>40.416705</td>\n",
              "      <td>-3.703582</td>\n",
              "    </tr>\n",
              "    <tr>\n",
              "      <th>1</th>\n",
              "      <td>BARCELONA</td>\n",
              "      <td>41.382894</td>\n",
              "      <td>2.177432</td>\n",
              "    </tr>\n",
              "    <tr>\n",
              "      <th>2</th>\n",
              "      <td>SEVILLA</td>\n",
              "      <td>37.388630</td>\n",
              "      <td>-5.995340</td>\n",
              "    </tr>\n",
              "    <tr>\n",
              "      <th>3</th>\n",
              "      <td>VALENCIA</td>\n",
              "      <td>39.469901</td>\n",
              "      <td>-0.375951</td>\n",
              "    </tr>\n",
              "    <tr>\n",
              "      <th>4</th>\n",
              "      <td>PONFERRADA</td>\n",
              "      <td>42.545412</td>\n",
              "      <td>-6.593872</td>\n",
              "    </tr>\n",
              "  </tbody>\n",
              "</table>\n",
              "</div>\n",
              "      <button class=\"colab-df-convert\" onclick=\"convertToInteractive('df-799cd01e-46ba-4281-9e37-1c0ac6e82933')\"\n",
              "              title=\"Convert this dataframe to an interactive table.\"\n",
              "              style=\"display:none;\">\n",
              "        \n",
              "  <svg xmlns=\"http://www.w3.org/2000/svg\" height=\"24px\"viewBox=\"0 0 24 24\"\n",
              "       width=\"24px\">\n",
              "    <path d=\"M0 0h24v24H0V0z\" fill=\"none\"/>\n",
              "    <path d=\"M18.56 5.44l.94 2.06.94-2.06 2.06-.94-2.06-.94-.94-2.06-.94 2.06-2.06.94zm-11 1L8.5 8.5l.94-2.06 2.06-.94-2.06-.94L8.5 2.5l-.94 2.06-2.06.94zm10 10l.94 2.06.94-2.06 2.06-.94-2.06-.94-.94-2.06-.94 2.06-2.06.94z\"/><path d=\"M17.41 7.96l-1.37-1.37c-.4-.4-.92-.59-1.43-.59-.52 0-1.04.2-1.43.59L10.3 9.45l-7.72 7.72c-.78.78-.78 2.05 0 2.83L4 21.41c.39.39.9.59 1.41.59.51 0 1.02-.2 1.41-.59l7.78-7.78 2.81-2.81c.8-.78.8-2.07 0-2.86zM5.41 20L4 18.59l7.72-7.72 1.47 1.35L5.41 20z\"/>\n",
              "  </svg>\n",
              "      </button>\n",
              "      \n",
              "  <style>\n",
              "    .colab-df-container {\n",
              "      display:flex;\n",
              "      flex-wrap:wrap;\n",
              "      gap: 12px;\n",
              "    }\n",
              "\n",
              "    .colab-df-convert {\n",
              "      background-color: #E8F0FE;\n",
              "      border: none;\n",
              "      border-radius: 50%;\n",
              "      cursor: pointer;\n",
              "      display: none;\n",
              "      fill: #1967D2;\n",
              "      height: 32px;\n",
              "      padding: 0 0 0 0;\n",
              "      width: 32px;\n",
              "    }\n",
              "\n",
              "    .colab-df-convert:hover {\n",
              "      background-color: #E2EBFA;\n",
              "      box-shadow: 0px 1px 2px rgba(60, 64, 67, 0.3), 0px 1px 3px 1px rgba(60, 64, 67, 0.15);\n",
              "      fill: #174EA6;\n",
              "    }\n",
              "\n",
              "    [theme=dark] .colab-df-convert {\n",
              "      background-color: #3B4455;\n",
              "      fill: #D2E3FC;\n",
              "    }\n",
              "\n",
              "    [theme=dark] .colab-df-convert:hover {\n",
              "      background-color: #434B5C;\n",
              "      box-shadow: 0px 1px 3px 1px rgba(0, 0, 0, 0.15);\n",
              "      filter: drop-shadow(0px 1px 2px rgba(0, 0, 0, 0.3));\n",
              "      fill: #FFFFFF;\n",
              "    }\n",
              "  </style>\n",
              "\n",
              "      <script>\n",
              "        const buttonEl =\n",
              "          document.querySelector('#df-799cd01e-46ba-4281-9e37-1c0ac6e82933 button.colab-df-convert');\n",
              "        buttonEl.style.display =\n",
              "          google.colab.kernel.accessAllowed ? 'block' : 'none';\n",
              "\n",
              "        async function convertToInteractive(key) {\n",
              "          const element = document.querySelector('#df-799cd01e-46ba-4281-9e37-1c0ac6e82933');\n",
              "          const dataTable =\n",
              "            await google.colab.kernel.invokeFunction('convertToInteractive',\n",
              "                                                     [key], {});\n",
              "          if (!dataTable) return;\n",
              "\n",
              "          const docLinkHtml = 'Like what you see? Visit the ' +\n",
              "            '<a target=\"_blank\" href=https://colab.research.google.com/notebooks/data_table.ipynb>data table notebook</a>'\n",
              "            + ' to learn more about interactive tables.';\n",
              "          element.innerHTML = '';\n",
              "          dataTable['output_type'] = 'display_data';\n",
              "          await google.colab.output.renderOutput(dataTable, element);\n",
              "          const docLink = document.createElement('div');\n",
              "          docLink.innerHTML = docLinkHtml;\n",
              "          element.appendChild(docLink);\n",
              "        }\n",
              "      </script>\n",
              "    </div>\n",
              "  </div>\n",
              "  "
            ]
          },
          "metadata": {},
          "execution_count": 41
        }
      ]
    },
    {
      "cell_type": "code",
      "metadata": {
        "colab": {
          "base_uri": "https://localhost:8080/",
          "height": 270
        },
        "id": "e6KQ_LAJdZ_R",
        "outputId": "df93e6d7-16e9-4c9d-f8dc-22c0bf2882c1"
      },
      "source": [
        "df_renfe_clean.head()"
      ],
      "execution_count": 42,
      "outputs": [
        {
          "output_type": "execute_result",
          "data": {
            "text/plain": [
              "  CIUDAD_ORIGEN CIUDAD_DESTINO TIPO_TREN TIPO_TARIFA    CLASE  PRECIO  \\\n",
              "0       SEVILLA         MADRID     ALVIA    Flexible  Turista   67.20   \n",
              "1     BARCELONA         MADRID       AVE    Flexible  Turista  107.70   \n",
              "2       SEVILLA         MADRID       AVE       Promo  Turista   47.30   \n",
              "3      VALENCIA         MADRID  REGIONAL  Adulto ida  Turista   28.35   \n",
              "4        MADRID      BARCELONA   AVE-TGV       Promo  Turista   66.75   \n",
              "\n",
              "   TIEMPO_VIAJE   DIF_INI_BUS  FECHA_INICIO_HORA FECHA_INICIO_NOMBREDIA  \\\n",
              "0         158.0  50092.950000                 20                 Friday   \n",
              "1         190.0  31494.816667                 10                 Sunday   \n",
              "2         150.0  52275.950000                 13               Thursday   \n",
              "3         460.0  26968.016667                 14              Wednesday   \n",
              "4         179.0  68741.383333                 13              Wednesday   \n",
              "\n",
              "   FECHA_INICIO_DIA  FECHA_INICIO_MES  FECHA_FIN_HORA FECHA_FIN_NOMBREDIA  \\\n",
              "0                28                 6              23              Friday   \n",
              "1                14                 7              13              Sunday   \n",
              "2                23                 5              16            Thursday   \n",
              "3                29                 5              22           Wednesday   \n",
              "4                26                 6              16           Wednesday   \n",
              "\n",
              "   FECHA_FIN_DIA  FECHA_FIN_MES  \n",
              "0             28              6  \n",
              "1             14              7  \n",
              "2             23              5  \n",
              "3             29              5  \n",
              "4             26              6  "
            ],
            "text/html": [
              "\n",
              "  <div id=\"df-07b0d027-fa9a-411b-9da8-b137660ed2fb\">\n",
              "    <div class=\"colab-df-container\">\n",
              "      <div>\n",
              "<style scoped>\n",
              "    .dataframe tbody tr th:only-of-type {\n",
              "        vertical-align: middle;\n",
              "    }\n",
              "\n",
              "    .dataframe tbody tr th {\n",
              "        vertical-align: top;\n",
              "    }\n",
              "\n",
              "    .dataframe thead th {\n",
              "        text-align: right;\n",
              "    }\n",
              "</style>\n",
              "<table border=\"1\" class=\"dataframe\">\n",
              "  <thead>\n",
              "    <tr style=\"text-align: right;\">\n",
              "      <th></th>\n",
              "      <th>CIUDAD_ORIGEN</th>\n",
              "      <th>CIUDAD_DESTINO</th>\n",
              "      <th>TIPO_TREN</th>\n",
              "      <th>TIPO_TARIFA</th>\n",
              "      <th>CLASE</th>\n",
              "      <th>PRECIO</th>\n",
              "      <th>TIEMPO_VIAJE</th>\n",
              "      <th>DIF_INI_BUS</th>\n",
              "      <th>FECHA_INICIO_HORA</th>\n",
              "      <th>FECHA_INICIO_NOMBREDIA</th>\n",
              "      <th>FECHA_INICIO_DIA</th>\n",
              "      <th>FECHA_INICIO_MES</th>\n",
              "      <th>FECHA_FIN_HORA</th>\n",
              "      <th>FECHA_FIN_NOMBREDIA</th>\n",
              "      <th>FECHA_FIN_DIA</th>\n",
              "      <th>FECHA_FIN_MES</th>\n",
              "    </tr>\n",
              "  </thead>\n",
              "  <tbody>\n",
              "    <tr>\n",
              "      <th>0</th>\n",
              "      <td>SEVILLA</td>\n",
              "      <td>MADRID</td>\n",
              "      <td>ALVIA</td>\n",
              "      <td>Flexible</td>\n",
              "      <td>Turista</td>\n",
              "      <td>67.20</td>\n",
              "      <td>158.0</td>\n",
              "      <td>50092.950000</td>\n",
              "      <td>20</td>\n",
              "      <td>Friday</td>\n",
              "      <td>28</td>\n",
              "      <td>6</td>\n",
              "      <td>23</td>\n",
              "      <td>Friday</td>\n",
              "      <td>28</td>\n",
              "      <td>6</td>\n",
              "    </tr>\n",
              "    <tr>\n",
              "      <th>1</th>\n",
              "      <td>BARCELONA</td>\n",
              "      <td>MADRID</td>\n",
              "      <td>AVE</td>\n",
              "      <td>Flexible</td>\n",
              "      <td>Turista</td>\n",
              "      <td>107.70</td>\n",
              "      <td>190.0</td>\n",
              "      <td>31494.816667</td>\n",
              "      <td>10</td>\n",
              "      <td>Sunday</td>\n",
              "      <td>14</td>\n",
              "      <td>7</td>\n",
              "      <td>13</td>\n",
              "      <td>Sunday</td>\n",
              "      <td>14</td>\n",
              "      <td>7</td>\n",
              "    </tr>\n",
              "    <tr>\n",
              "      <th>2</th>\n",
              "      <td>SEVILLA</td>\n",
              "      <td>MADRID</td>\n",
              "      <td>AVE</td>\n",
              "      <td>Promo</td>\n",
              "      <td>Turista</td>\n",
              "      <td>47.30</td>\n",
              "      <td>150.0</td>\n",
              "      <td>52275.950000</td>\n",
              "      <td>13</td>\n",
              "      <td>Thursday</td>\n",
              "      <td>23</td>\n",
              "      <td>5</td>\n",
              "      <td>16</td>\n",
              "      <td>Thursday</td>\n",
              "      <td>23</td>\n",
              "      <td>5</td>\n",
              "    </tr>\n",
              "    <tr>\n",
              "      <th>3</th>\n",
              "      <td>VALENCIA</td>\n",
              "      <td>MADRID</td>\n",
              "      <td>REGIONAL</td>\n",
              "      <td>Adulto ida</td>\n",
              "      <td>Turista</td>\n",
              "      <td>28.35</td>\n",
              "      <td>460.0</td>\n",
              "      <td>26968.016667</td>\n",
              "      <td>14</td>\n",
              "      <td>Wednesday</td>\n",
              "      <td>29</td>\n",
              "      <td>5</td>\n",
              "      <td>22</td>\n",
              "      <td>Wednesday</td>\n",
              "      <td>29</td>\n",
              "      <td>5</td>\n",
              "    </tr>\n",
              "    <tr>\n",
              "      <th>4</th>\n",
              "      <td>MADRID</td>\n",
              "      <td>BARCELONA</td>\n",
              "      <td>AVE-TGV</td>\n",
              "      <td>Promo</td>\n",
              "      <td>Turista</td>\n",
              "      <td>66.75</td>\n",
              "      <td>179.0</td>\n",
              "      <td>68741.383333</td>\n",
              "      <td>13</td>\n",
              "      <td>Wednesday</td>\n",
              "      <td>26</td>\n",
              "      <td>6</td>\n",
              "      <td>16</td>\n",
              "      <td>Wednesday</td>\n",
              "      <td>26</td>\n",
              "      <td>6</td>\n",
              "    </tr>\n",
              "  </tbody>\n",
              "</table>\n",
              "</div>\n",
              "      <button class=\"colab-df-convert\" onclick=\"convertToInteractive('df-07b0d027-fa9a-411b-9da8-b137660ed2fb')\"\n",
              "              title=\"Convert this dataframe to an interactive table.\"\n",
              "              style=\"display:none;\">\n",
              "        \n",
              "  <svg xmlns=\"http://www.w3.org/2000/svg\" height=\"24px\"viewBox=\"0 0 24 24\"\n",
              "       width=\"24px\">\n",
              "    <path d=\"M0 0h24v24H0V0z\" fill=\"none\"/>\n",
              "    <path d=\"M18.56 5.44l.94 2.06.94-2.06 2.06-.94-2.06-.94-.94-2.06-.94 2.06-2.06.94zm-11 1L8.5 8.5l.94-2.06 2.06-.94-2.06-.94L8.5 2.5l-.94 2.06-2.06.94zm10 10l.94 2.06.94-2.06 2.06-.94-2.06-.94-.94-2.06-.94 2.06-2.06.94z\"/><path d=\"M17.41 7.96l-1.37-1.37c-.4-.4-.92-.59-1.43-.59-.52 0-1.04.2-1.43.59L10.3 9.45l-7.72 7.72c-.78.78-.78 2.05 0 2.83L4 21.41c.39.39.9.59 1.41.59.51 0 1.02-.2 1.41-.59l7.78-7.78 2.81-2.81c.8-.78.8-2.07 0-2.86zM5.41 20L4 18.59l7.72-7.72 1.47 1.35L5.41 20z\"/>\n",
              "  </svg>\n",
              "      </button>\n",
              "      \n",
              "  <style>\n",
              "    .colab-df-container {\n",
              "      display:flex;\n",
              "      flex-wrap:wrap;\n",
              "      gap: 12px;\n",
              "    }\n",
              "\n",
              "    .colab-df-convert {\n",
              "      background-color: #E8F0FE;\n",
              "      border: none;\n",
              "      border-radius: 50%;\n",
              "      cursor: pointer;\n",
              "      display: none;\n",
              "      fill: #1967D2;\n",
              "      height: 32px;\n",
              "      padding: 0 0 0 0;\n",
              "      width: 32px;\n",
              "    }\n",
              "\n",
              "    .colab-df-convert:hover {\n",
              "      background-color: #E2EBFA;\n",
              "      box-shadow: 0px 1px 2px rgba(60, 64, 67, 0.3), 0px 1px 3px 1px rgba(60, 64, 67, 0.15);\n",
              "      fill: #174EA6;\n",
              "    }\n",
              "\n",
              "    [theme=dark] .colab-df-convert {\n",
              "      background-color: #3B4455;\n",
              "      fill: #D2E3FC;\n",
              "    }\n",
              "\n",
              "    [theme=dark] .colab-df-convert:hover {\n",
              "      background-color: #434B5C;\n",
              "      box-shadow: 0px 1px 3px 1px rgba(0, 0, 0, 0.15);\n",
              "      filter: drop-shadow(0px 1px 2px rgba(0, 0, 0, 0.3));\n",
              "      fill: #FFFFFF;\n",
              "    }\n",
              "  </style>\n",
              "\n",
              "      <script>\n",
              "        const buttonEl =\n",
              "          document.querySelector('#df-07b0d027-fa9a-411b-9da8-b137660ed2fb button.colab-df-convert');\n",
              "        buttonEl.style.display =\n",
              "          google.colab.kernel.accessAllowed ? 'block' : 'none';\n",
              "\n",
              "        async function convertToInteractive(key) {\n",
              "          const element = document.querySelector('#df-07b0d027-fa9a-411b-9da8-b137660ed2fb');\n",
              "          const dataTable =\n",
              "            await google.colab.kernel.invokeFunction('convertToInteractive',\n",
              "                                                     [key], {});\n",
              "          if (!dataTable) return;\n",
              "\n",
              "          const docLinkHtml = 'Like what you see? Visit the ' +\n",
              "            '<a target=\"_blank\" href=https://colab.research.google.com/notebooks/data_table.ipynb>data table notebook</a>'\n",
              "            + ' to learn more about interactive tables.';\n",
              "          element.innerHTML = '';\n",
              "          dataTable['output_type'] = 'display_data';\n",
              "          await google.colab.output.renderOutput(dataTable, element);\n",
              "          const docLink = document.createElement('div');\n",
              "          docLink.innerHTML = docLinkHtml;\n",
              "          element.appendChild(docLink);\n",
              "        }\n",
              "      </script>\n",
              "    </div>\n",
              "  </div>\n",
              "  "
            ]
          },
          "metadata": {},
          "execution_count": 42
        }
      ]
    },
    {
      "cell_type": "code",
      "metadata": {
        "id": "NjDa63GJndy7",
        "colab": {
          "base_uri": "https://localhost:8080/"
        },
        "outputId": "1fac8e49-bd74-4050-daca-1a46ae683333"
      },
      "source": [
        "'''PREGUNTA 11'''\n",
        "##########PREGUNTA 11. INTERPRETAR EL CODIGO (3)############\n",
        "df_renfe_clean_1=pd.merge(df_renfe_clean,latitud_longitud, how='left',left_on=[\"CIUDAD_ORIGEN\"],right_on=[\"PROVINCIA\"])\n",
        "df_renfe_clean_1\n",
        "\n",
        "\n",
        "df_renfe_clean_1.info()\n",
        "df_renfe_clean_2=pd.merge(df_renfe_clean_1,latitud_longitud, how='left', \\\n",
        "        suffixes=('_ORIGEN', '_DESTINO'), left_on=[\"CIUDAD_DESTINO\"],right_on=[\"PROVINCIA\"])\n",
        "\n",
        "\n",
        "df_renfe_clean_2\n",
        "df_renfe_clean_2.drop([\"PROVINCIA_DESTINO\",\"PROVINCIA_ORIGEN\"],axis=1,inplace=True)\n",
        "\n",
        "df_renfe_clean_2.shape\n",
        "\n",
        "#####################################"
      ],
      "execution_count": 43,
      "outputs": [
        {
          "output_type": "stream",
          "name": "stdout",
          "text": [
            "<class 'pandas.core.frame.DataFrame'>\n",
            "Int64Index: 382862 entries, 0 to 382861\n",
            "Data columns (total 19 columns):\n",
            " #   Column                  Non-Null Count   Dtype  \n",
            "---  ------                  --------------   -----  \n",
            " 0   CIUDAD_ORIGEN           382862 non-null  object \n",
            " 1   CIUDAD_DESTINO          382862 non-null  object \n",
            " 2   TIPO_TREN               382862 non-null  object \n",
            " 3   TIPO_TARIFA             381551 non-null  object \n",
            " 4   CLASE                   381551 non-null  object \n",
            " 5   PRECIO                  382862 non-null  float64\n",
            " 6   TIEMPO_VIAJE            382862 non-null  float64\n",
            " 7   DIF_INI_BUS             382862 non-null  float64\n",
            " 8   FECHA_INICIO_HORA       382862 non-null  int64  \n",
            " 9   FECHA_INICIO_NOMBREDIA  382862 non-null  object \n",
            " 10  FECHA_INICIO_DIA        382862 non-null  int64  \n",
            " 11  FECHA_INICIO_MES        382862 non-null  int64  \n",
            " 12  FECHA_FIN_HORA          382862 non-null  int64  \n",
            " 13  FECHA_FIN_NOMBREDIA     382862 non-null  object \n",
            " 14  FECHA_FIN_DIA           382862 non-null  int64  \n",
            " 15  FECHA_FIN_MES           382862 non-null  int64  \n",
            " 16  PROVINCIA               382862 non-null  object \n",
            " 17  LATITUD                 382862 non-null  float64\n",
            " 18  LONGITUD                382862 non-null  float64\n",
            "dtypes: float64(5), int64(6), object(8)\n",
            "memory usage: 58.4+ MB\n"
          ]
        },
        {
          "output_type": "execute_result",
          "data": {
            "text/plain": [
              "(382862, 20)"
            ]
          },
          "metadata": {},
          "execution_count": 43
        }
      ]
    },
    {
      "cell_type": "code",
      "metadata": {
        "id": "8e8XOyrBndy8",
        "colab": {
          "base_uri": "https://localhost:8080/",
          "height": 1000
        },
        "outputId": "01e17fc2-8b77-4426-e821-7cea7c6f929f"
      },
      "source": [
        "##########EJECUTAR DESPUES DE RESPONDER LA PREGUNTA 11############\n",
        "## Gráfico evolutivo del precio por clase\n",
        "df_renfe_clean_2.info()\n",
        "grafico_horizontal= df_renfe_clean_2.groupby([\"CLASE\",\"FECHA_INICIO_MES\"])[\"PRECIO\"].mean().reset_index()\n",
        "grafico_horizontal\n",
        "\n",
        "evolucion_horizontal= px.bar(grafico_horizontal, x=\"FECHA_INICIO_MES\", y=\"PRECIO\", \\\n",
        "                        color=\"CLASE\", orientation=\"v\", color_discrete_sequence=px.colors.cyclical.mygbm)\n",
        "\n",
        "evolucion_horizontal.show()\n",
        "\n",
        "##################################"
      ],
      "execution_count": 44,
      "outputs": [
        {
          "output_type": "stream",
          "name": "stdout",
          "text": [
            "<class 'pandas.core.frame.DataFrame'>\n",
            "Int64Index: 382862 entries, 0 to 382861\n",
            "Data columns (total 20 columns):\n",
            " #   Column                  Non-Null Count   Dtype  \n",
            "---  ------                  --------------   -----  \n",
            " 0   CIUDAD_ORIGEN           382862 non-null  object \n",
            " 1   CIUDAD_DESTINO          382862 non-null  object \n",
            " 2   TIPO_TREN               382862 non-null  object \n",
            " 3   TIPO_TARIFA             381551 non-null  object \n",
            " 4   CLASE                   381551 non-null  object \n",
            " 5   PRECIO                  382862 non-null  float64\n",
            " 6   TIEMPO_VIAJE            382862 non-null  float64\n",
            " 7   DIF_INI_BUS             382862 non-null  float64\n",
            " 8   FECHA_INICIO_HORA       382862 non-null  int64  \n",
            " 9   FECHA_INICIO_NOMBREDIA  382862 non-null  object \n",
            " 10  FECHA_INICIO_DIA        382862 non-null  int64  \n",
            " 11  FECHA_INICIO_MES        382862 non-null  int64  \n",
            " 12  FECHA_FIN_HORA          382862 non-null  int64  \n",
            " 13  FECHA_FIN_NOMBREDIA     382862 non-null  object \n",
            " 14  FECHA_FIN_DIA           382862 non-null  int64  \n",
            " 15  FECHA_FIN_MES           382862 non-null  int64  \n",
            " 16  LATITUD_ORIGEN          382862 non-null  float64\n",
            " 17  LONGITUD_ORIGEN         382862 non-null  float64\n",
            " 18  LATITUD_DESTINO         382862 non-null  float64\n",
            " 19  LONGITUD_DESTINO        382862 non-null  float64\n",
            "dtypes: float64(7), int64(6), object(7)\n",
            "memory usage: 61.3+ MB\n"
          ]
        },
        {
          "output_type": "display_data",
          "data": {
            "text/html": [
              "<html>\n",
              "<head><meta charset=\"utf-8\" /></head>\n",
              "<body>\n",
              "    <div>            <script src=\"https://cdnjs.cloudflare.com/ajax/libs/mathjax/2.7.5/MathJax.js?config=TeX-AMS-MML_SVG\"></script><script type=\"text/javascript\">if (window.MathJax) {MathJax.Hub.Config({SVG: {font: \"STIX-Web\"}});}</script>                <script type=\"text/javascript\">window.PlotlyConfig = {MathJaxConfig: 'local'};</script>\n",
              "        <script src=\"https://cdn.plot.ly/plotly-2.8.3.min.js\"></script>                <div id=\"38ae7d4a-91e3-4b75-816e-4370e85baf36\" class=\"plotly-graph-div\" style=\"height:525px; width:100%;\"></div>            <script type=\"text/javascript\">                                    window.PLOTLYENV=window.PLOTLYENV || {};                                    if (document.getElementById(\"38ae7d4a-91e3-4b75-816e-4370e85baf36\")) {                    Plotly.newPlot(                        \"38ae7d4a-91e3-4b75-816e-4370e85baf36\",                        [{\"alignmentgroup\":\"True\",\"hovertemplate\":\"CLASE=Cama G. Clase<br>FECHA_INICIO_MES=%{x}<br>PRECIO=%{y}<extra></extra>\",\"legendgroup\":\"Cama G. Clase\",\"marker\":{\"color\":\"#ef55f1\",\"pattern\":{\"shape\":\"\"}},\"name\":\"Cama G. Clase\",\"offsetgroup\":\"Cama G. Clase\",\"orientation\":\"v\",\"showlegend\":true,\"textposition\":\"auto\",\"x\":[4,5,6,8],\"xaxis\":\"x\",\"y\":[150.6,98.2,98.2,98.2],\"yaxis\":\"y\",\"type\":\"bar\"},{\"alignmentgroup\":\"True\",\"hovertemplate\":\"CLASE=Cama Turista<br>FECHA_INICIO_MES=%{x}<br>PRECIO=%{y}<extra></extra>\",\"legendgroup\":\"Cama Turista\",\"marker\":{\"color\":\"#fb84ce\",\"pattern\":{\"shape\":\"\"}},\"name\":\"Cama Turista\",\"offsetgroup\":\"Cama Turista\",\"orientation\":\"v\",\"showlegend\":true,\"textposition\":\"auto\",\"x\":[4,5,6,7,8,9],\"xaxis\":\"x\",\"y\":[73.82372775128903,72.37239193483238,72.92067435438267,74.2,73.15137242162513,74.2],\"yaxis\":\"y\",\"type\":\"bar\"},{\"alignmentgroup\":\"True\",\"hovertemplate\":\"CLASE=Preferente<br>FECHA_INICIO_MES=%{x}<br>PRECIO=%{y}<extra></extra>\",\"legendgroup\":\"Preferente\",\"marker\":{\"color\":\"#fbafa1\",\"pattern\":{\"shape\":\"\"}},\"name\":\"Preferente\",\"offsetgroup\":\"Preferente\",\"orientation\":\"v\",\"showlegend\":true,\"textposition\":\"auto\",\"x\":[4,5,6,7,8,9,10],\"xaxis\":\"x\",\"y\":[86.348452854478,79.31670813668939,79.17046424209234,64.33293531032415,66.61127029750988,64.46661834035969,52.839839319596706],\"yaxis\":\"y\",\"type\":\"bar\"},{\"alignmentgroup\":\"True\",\"hovertemplate\":\"CLASE=PreferenteS\\u00f3lo plaza H<br>FECHA_INICIO_MES=%{x}<br>PRECIO=%{y}<extra></extra>\",\"legendgroup\":\"PreferenteS\\u00f3lo plaza H\",\"marker\":{\"color\":\"#fcd471\",\"pattern\":{\"shape\":\"\"}},\"name\":\"PreferenteS\\u00f3lo plaza H\",\"offsetgroup\":\"PreferenteS\\u00f3lo plaza H\",\"orientation\":\"v\",\"showlegend\":true,\"textposition\":\"auto\",\"x\":[5,6,7,8,9],\"xaxis\":\"x\",\"y\":[83.67134870876534,79.31984063533834,67.98296764951591,83.38098123491415,87.40000000000002],\"yaxis\":\"y\",\"type\":\"bar\"},{\"alignmentgroup\":\"True\",\"hovertemplate\":\"CLASE=Turista<br>FECHA_INICIO_MES=%{x}<br>PRECIO=%{y}<extra></extra>\",\"legendgroup\":\"Turista\",\"marker\":{\"color\":\"#f0ed35\",\"pattern\":{\"shape\":\"\"}},\"name\":\"Turista\",\"offsetgroup\":\"Turista\",\"orientation\":\"v\",\"showlegend\":true,\"textposition\":\"auto\",\"x\":[4,5,6,7,8,9,10],\"xaxis\":\"x\",\"y\":[66.03956378805674,61.465800189551956,61.23737645969598,56.536796260212775,51.50186388271751,52.78042420333172,45.20986977991279],\"yaxis\":\"y\",\"type\":\"bar\"},{\"alignmentgroup\":\"True\",\"hovertemplate\":\"CLASE=Turista Plus<br>FECHA_INICIO_MES=%{x}<br>PRECIO=%{y}<extra></extra>\",\"legendgroup\":\"Turista Plus\",\"marker\":{\"color\":\"#c6e516\",\"pattern\":{\"shape\":\"\"}},\"name\":\"Turista Plus\",\"offsetgroup\":\"Turista Plus\",\"orientation\":\"v\",\"showlegend\":true,\"textposition\":\"auto\",\"x\":[4,5,6,7,8,9,10],\"xaxis\":\"x\",\"y\":[86.15755055340374,83.55553391065303,86.31510230768372,82.39545644206574,69.98781136730251,79.79413415705012,53.66153846153846],\"yaxis\":\"y\",\"type\":\"bar\"},{\"alignmentgroup\":\"True\",\"hovertemplate\":\"CLASE=Turista PlusS\\u00f3lo plaza H<br>FECHA_INICIO_MES=%{x}<br>PRECIO=%{y}<extra></extra>\",\"legendgroup\":\"Turista PlusS\\u00f3lo plaza H\",\"marker\":{\"color\":\"#96d310\",\"pattern\":{\"shape\":\"\"}},\"name\":\"Turista PlusS\\u00f3lo plaza H\",\"offsetgroup\":\"Turista PlusS\\u00f3lo plaza H\",\"orientation\":\"v\",\"showlegend\":true,\"textposition\":\"auto\",\"x\":[6],\"xaxis\":\"x\",\"y\":[80.6],\"yaxis\":\"y\",\"type\":\"bar\"},{\"alignmentgroup\":\"True\",\"hovertemplate\":\"CLASE=Turista con enlace<br>FECHA_INICIO_MES=%{x}<br>PRECIO=%{y}<extra></extra>\",\"legendgroup\":\"Turista con enlace\",\"marker\":{\"color\":\"#61c10b\",\"pattern\":{\"shape\":\"\"}},\"name\":\"Turista con enlace\",\"offsetgroup\":\"Turista con enlace\",\"orientation\":\"v\",\"showlegend\":true,\"textposition\":\"auto\",\"x\":[4,5,6,7,8,9,10],\"xaxis\":\"x\",\"y\":[48.60880737431354,45.02032519050701,46.582320290015545,43.33954492578891,45.42230810151299,43.11544241034525,40.23470395852969],\"yaxis\":\"y\",\"type\":\"bar\"},{\"alignmentgroup\":\"True\",\"hovertemplate\":\"CLASE=TuristaS\\u00f3lo plaza H<br>FECHA_INICIO_MES=%{x}<br>PRECIO=%{y}<extra></extra>\",\"legendgroup\":\"TuristaS\\u00f3lo plaza H\",\"marker\":{\"color\":\"#31ac28\",\"pattern\":{\"shape\":\"\"}},\"name\":\"TuristaS\\u00f3lo plaza H\",\"offsetgroup\":\"TuristaS\\u00f3lo plaza H\",\"orientation\":\"v\",\"showlegend\":true,\"textposition\":\"auto\",\"x\":[5,6,7,8,9],\"xaxis\":\"x\",\"y\":[84.99846340054434,84.26745398427308,76.30925169180021,73.2766079123311,64.75030652471939],\"yaxis\":\"y\",\"type\":\"bar\"}],                        {\"template\":{\"data\":{\"bar\":[{\"error_x\":{\"color\":\"#2a3f5f\"},\"error_y\":{\"color\":\"#2a3f5f\"},\"marker\":{\"line\":{\"color\":\"#E5ECF6\",\"width\":0.5},\"pattern\":{\"fillmode\":\"overlay\",\"size\":10,\"solidity\":0.2}},\"type\":\"bar\"}],\"barpolar\":[{\"marker\":{\"line\":{\"color\":\"#E5ECF6\",\"width\":0.5},\"pattern\":{\"fillmode\":\"overlay\",\"size\":10,\"solidity\":0.2}},\"type\":\"barpolar\"}],\"carpet\":[{\"aaxis\":{\"endlinecolor\":\"#2a3f5f\",\"gridcolor\":\"white\",\"linecolor\":\"white\",\"minorgridcolor\":\"white\",\"startlinecolor\":\"#2a3f5f\"},\"baxis\":{\"endlinecolor\":\"#2a3f5f\",\"gridcolor\":\"white\",\"linecolor\":\"white\",\"minorgridcolor\":\"white\",\"startlinecolor\":\"#2a3f5f\"},\"type\":\"carpet\"}],\"choropleth\":[{\"colorbar\":{\"outlinewidth\":0,\"ticks\":\"\"},\"type\":\"choropleth\"}],\"contour\":[{\"colorbar\":{\"outlinewidth\":0,\"ticks\":\"\"},\"colorscale\":[[0.0,\"#0d0887\"],[0.1111111111111111,\"#46039f\"],[0.2222222222222222,\"#7201a8\"],[0.3333333333333333,\"#9c179e\"],[0.4444444444444444,\"#bd3786\"],[0.5555555555555556,\"#d8576b\"],[0.6666666666666666,\"#ed7953\"],[0.7777777777777778,\"#fb9f3a\"],[0.8888888888888888,\"#fdca26\"],[1.0,\"#f0f921\"]],\"type\":\"contour\"}],\"contourcarpet\":[{\"colorbar\":{\"outlinewidth\":0,\"ticks\":\"\"},\"type\":\"contourcarpet\"}],\"heatmap\":[{\"colorbar\":{\"outlinewidth\":0,\"ticks\":\"\"},\"colorscale\":[[0.0,\"#0d0887\"],[0.1111111111111111,\"#46039f\"],[0.2222222222222222,\"#7201a8\"],[0.3333333333333333,\"#9c179e\"],[0.4444444444444444,\"#bd3786\"],[0.5555555555555556,\"#d8576b\"],[0.6666666666666666,\"#ed7953\"],[0.7777777777777778,\"#fb9f3a\"],[0.8888888888888888,\"#fdca26\"],[1.0,\"#f0f921\"]],\"type\":\"heatmap\"}],\"heatmapgl\":[{\"colorbar\":{\"outlinewidth\":0,\"ticks\":\"\"},\"colorscale\":[[0.0,\"#0d0887\"],[0.1111111111111111,\"#46039f\"],[0.2222222222222222,\"#7201a8\"],[0.3333333333333333,\"#9c179e\"],[0.4444444444444444,\"#bd3786\"],[0.5555555555555556,\"#d8576b\"],[0.6666666666666666,\"#ed7953\"],[0.7777777777777778,\"#fb9f3a\"],[0.8888888888888888,\"#fdca26\"],[1.0,\"#f0f921\"]],\"type\":\"heatmapgl\"}],\"histogram\":[{\"marker\":{\"pattern\":{\"fillmode\":\"overlay\",\"size\":10,\"solidity\":0.2}},\"type\":\"histogram\"}],\"histogram2d\":[{\"colorbar\":{\"outlinewidth\":0,\"ticks\":\"\"},\"colorscale\":[[0.0,\"#0d0887\"],[0.1111111111111111,\"#46039f\"],[0.2222222222222222,\"#7201a8\"],[0.3333333333333333,\"#9c179e\"],[0.4444444444444444,\"#bd3786\"],[0.5555555555555556,\"#d8576b\"],[0.6666666666666666,\"#ed7953\"],[0.7777777777777778,\"#fb9f3a\"],[0.8888888888888888,\"#fdca26\"],[1.0,\"#f0f921\"]],\"type\":\"histogram2d\"}],\"histogram2dcontour\":[{\"colorbar\":{\"outlinewidth\":0,\"ticks\":\"\"},\"colorscale\":[[0.0,\"#0d0887\"],[0.1111111111111111,\"#46039f\"],[0.2222222222222222,\"#7201a8\"],[0.3333333333333333,\"#9c179e\"],[0.4444444444444444,\"#bd3786\"],[0.5555555555555556,\"#d8576b\"],[0.6666666666666666,\"#ed7953\"],[0.7777777777777778,\"#fb9f3a\"],[0.8888888888888888,\"#fdca26\"],[1.0,\"#f0f921\"]],\"type\":\"histogram2dcontour\"}],\"mesh3d\":[{\"colorbar\":{\"outlinewidth\":0,\"ticks\":\"\"},\"type\":\"mesh3d\"}],\"parcoords\":[{\"line\":{\"colorbar\":{\"outlinewidth\":0,\"ticks\":\"\"}},\"type\":\"parcoords\"}],\"pie\":[{\"automargin\":true,\"type\":\"pie\"}],\"scatter\":[{\"marker\":{\"colorbar\":{\"outlinewidth\":0,\"ticks\":\"\"}},\"type\":\"scatter\"}],\"scatter3d\":[{\"line\":{\"colorbar\":{\"outlinewidth\":0,\"ticks\":\"\"}},\"marker\":{\"colorbar\":{\"outlinewidth\":0,\"ticks\":\"\"}},\"type\":\"scatter3d\"}],\"scattercarpet\":[{\"marker\":{\"colorbar\":{\"outlinewidth\":0,\"ticks\":\"\"}},\"type\":\"scattercarpet\"}],\"scattergeo\":[{\"marker\":{\"colorbar\":{\"outlinewidth\":0,\"ticks\":\"\"}},\"type\":\"scattergeo\"}],\"scattergl\":[{\"marker\":{\"colorbar\":{\"outlinewidth\":0,\"ticks\":\"\"}},\"type\":\"scattergl\"}],\"scattermapbox\":[{\"marker\":{\"colorbar\":{\"outlinewidth\":0,\"ticks\":\"\"}},\"type\":\"scattermapbox\"}],\"scatterpolar\":[{\"marker\":{\"colorbar\":{\"outlinewidth\":0,\"ticks\":\"\"}},\"type\":\"scatterpolar\"}],\"scatterpolargl\":[{\"marker\":{\"colorbar\":{\"outlinewidth\":0,\"ticks\":\"\"}},\"type\":\"scatterpolargl\"}],\"scatterternary\":[{\"marker\":{\"colorbar\":{\"outlinewidth\":0,\"ticks\":\"\"}},\"type\":\"scatterternary\"}],\"surface\":[{\"colorbar\":{\"outlinewidth\":0,\"ticks\":\"\"},\"colorscale\":[[0.0,\"#0d0887\"],[0.1111111111111111,\"#46039f\"],[0.2222222222222222,\"#7201a8\"],[0.3333333333333333,\"#9c179e\"],[0.4444444444444444,\"#bd3786\"],[0.5555555555555556,\"#d8576b\"],[0.6666666666666666,\"#ed7953\"],[0.7777777777777778,\"#fb9f3a\"],[0.8888888888888888,\"#fdca26\"],[1.0,\"#f0f921\"]],\"type\":\"surface\"}],\"table\":[{\"cells\":{\"fill\":{\"color\":\"#EBF0F8\"},\"line\":{\"color\":\"white\"}},\"header\":{\"fill\":{\"color\":\"#C8D4E3\"},\"line\":{\"color\":\"white\"}},\"type\":\"table\"}]},\"layout\":{\"annotationdefaults\":{\"arrowcolor\":\"#2a3f5f\",\"arrowhead\":0,\"arrowwidth\":1},\"autotypenumbers\":\"strict\",\"coloraxis\":{\"colorbar\":{\"outlinewidth\":0,\"ticks\":\"\"}},\"colorscale\":{\"diverging\":[[0,\"#8e0152\"],[0.1,\"#c51b7d\"],[0.2,\"#de77ae\"],[0.3,\"#f1b6da\"],[0.4,\"#fde0ef\"],[0.5,\"#f7f7f7\"],[0.6,\"#e6f5d0\"],[0.7,\"#b8e186\"],[0.8,\"#7fbc41\"],[0.9,\"#4d9221\"],[1,\"#276419\"]],\"sequential\":[[0.0,\"#0d0887\"],[0.1111111111111111,\"#46039f\"],[0.2222222222222222,\"#7201a8\"],[0.3333333333333333,\"#9c179e\"],[0.4444444444444444,\"#bd3786\"],[0.5555555555555556,\"#d8576b\"],[0.6666666666666666,\"#ed7953\"],[0.7777777777777778,\"#fb9f3a\"],[0.8888888888888888,\"#fdca26\"],[1.0,\"#f0f921\"]],\"sequentialminus\":[[0.0,\"#0d0887\"],[0.1111111111111111,\"#46039f\"],[0.2222222222222222,\"#7201a8\"],[0.3333333333333333,\"#9c179e\"],[0.4444444444444444,\"#bd3786\"],[0.5555555555555556,\"#d8576b\"],[0.6666666666666666,\"#ed7953\"],[0.7777777777777778,\"#fb9f3a\"],[0.8888888888888888,\"#fdca26\"],[1.0,\"#f0f921\"]]},\"colorway\":[\"#636efa\",\"#EF553B\",\"#00cc96\",\"#ab63fa\",\"#FFA15A\",\"#19d3f3\",\"#FF6692\",\"#B6E880\",\"#FF97FF\",\"#FECB52\"],\"font\":{\"color\":\"#2a3f5f\"},\"geo\":{\"bgcolor\":\"white\",\"lakecolor\":\"white\",\"landcolor\":\"#E5ECF6\",\"showlakes\":true,\"showland\":true,\"subunitcolor\":\"white\"},\"hoverlabel\":{\"align\":\"left\"},\"hovermode\":\"closest\",\"mapbox\":{\"style\":\"light\"},\"paper_bgcolor\":\"white\",\"plot_bgcolor\":\"#E5ECF6\",\"polar\":{\"angularaxis\":{\"gridcolor\":\"white\",\"linecolor\":\"white\",\"ticks\":\"\"},\"bgcolor\":\"#E5ECF6\",\"radialaxis\":{\"gridcolor\":\"white\",\"linecolor\":\"white\",\"ticks\":\"\"}},\"scene\":{\"xaxis\":{\"backgroundcolor\":\"#E5ECF6\",\"gridcolor\":\"white\",\"gridwidth\":2,\"linecolor\":\"white\",\"showbackground\":true,\"ticks\":\"\",\"zerolinecolor\":\"white\"},\"yaxis\":{\"backgroundcolor\":\"#E5ECF6\",\"gridcolor\":\"white\",\"gridwidth\":2,\"linecolor\":\"white\",\"showbackground\":true,\"ticks\":\"\",\"zerolinecolor\":\"white\"},\"zaxis\":{\"backgroundcolor\":\"#E5ECF6\",\"gridcolor\":\"white\",\"gridwidth\":2,\"linecolor\":\"white\",\"showbackground\":true,\"ticks\":\"\",\"zerolinecolor\":\"white\"}},\"shapedefaults\":{\"line\":{\"color\":\"#2a3f5f\"}},\"ternary\":{\"aaxis\":{\"gridcolor\":\"white\",\"linecolor\":\"white\",\"ticks\":\"\"},\"baxis\":{\"gridcolor\":\"white\",\"linecolor\":\"white\",\"ticks\":\"\"},\"bgcolor\":\"#E5ECF6\",\"caxis\":{\"gridcolor\":\"white\",\"linecolor\":\"white\",\"ticks\":\"\"}},\"title\":{\"x\":0.05},\"xaxis\":{\"automargin\":true,\"gridcolor\":\"white\",\"linecolor\":\"white\",\"ticks\":\"\",\"title\":{\"standoff\":15},\"zerolinecolor\":\"white\",\"zerolinewidth\":2},\"yaxis\":{\"automargin\":true,\"gridcolor\":\"white\",\"linecolor\":\"white\",\"ticks\":\"\",\"title\":{\"standoff\":15},\"zerolinecolor\":\"white\",\"zerolinewidth\":2}}},\"xaxis\":{\"anchor\":\"y\",\"domain\":[0.0,1.0],\"title\":{\"text\":\"FECHA_INICIO_MES\"}},\"yaxis\":{\"anchor\":\"x\",\"domain\":[0.0,1.0],\"title\":{\"text\":\"PRECIO\"}},\"legend\":{\"title\":{\"text\":\"CLASE\"},\"tracegroupgap\":0},\"margin\":{\"t\":60},\"barmode\":\"relative\"},                        {\"responsive\": true}                    ).then(function(){\n",
              "                            \n",
              "var gd = document.getElementById('38ae7d4a-91e3-4b75-816e-4370e85baf36');\n",
              "var x = new MutationObserver(function (mutations, observer) {{\n",
              "        var display = window.getComputedStyle(gd).display;\n",
              "        if (!display || display === 'none') {{\n",
              "            console.log([gd, 'removed!']);\n",
              "            Plotly.purge(gd);\n",
              "            observer.disconnect();\n",
              "        }}\n",
              "}});\n",
              "\n",
              "// Listen for the removal of the full notebook cells\n",
              "var notebookContainer = gd.closest('#notebook-container');\n",
              "if (notebookContainer) {{\n",
              "    x.observe(notebookContainer, {childList: true});\n",
              "}}\n",
              "\n",
              "// Listen for the clearing of the current output cell\n",
              "var outputEl = gd.closest('.output');\n",
              "if (outputEl) {{\n",
              "    x.observe(outputEl, {childList: true});\n",
              "}}\n",
              "\n",
              "                        })                };                            </script>        </div>\n",
              "</body>\n",
              "</html>"
            ]
          },
          "metadata": {}
        }
      ]
    },
    {
      "cell_type": "code",
      "metadata": {
        "id": "-gVFhRQBndy8",
        "colab": {
          "base_uri": "https://localhost:8080/",
          "height": 35
        },
        "outputId": "ab3f03e2-83f4-4eb6-89b0-5e37fac1121e"
      },
      "source": [
        "'''PREGUNTA 12\n",
        "12. Elaborar un gráfico evolutivo mensual por tipo de tren, \n",
        "mencionar en JULIO(7) el precio mensual del AVE-TGV\n",
        "'''"
      ],
      "execution_count": 45,
      "outputs": [
        {
          "output_type": "execute_result",
          "data": {
            "text/plain": [
              "'PREGUNTA 12\\n12. Elaborar un gráfico evolutivo mensual por tipo de tren, \\nmencionar en JULIO(7) el precio mensual del AVE-TGV\\n'"
            ],
            "application/vnd.google.colaboratory.intrinsic+json": {
              "type": "string"
            }
          },
          "metadata": {},
          "execution_count": 45
        }
      ]
    },
    {
      "cell_type": "code",
      "metadata": {
        "id": "LfdRxkYUndy9",
        "colab": {
          "base_uri": "https://localhost:8080/",
          "height": 616
        },
        "outputId": "2a07688d-cb04-4559-b4ae-327fe6b7d477"
      },
      "source": [
        "grafico_horizontal = df_renfe_clean_2.groupby(['TIPO_TREN', 'FECHA_INICIO_MES'])['PRECIO'].mean().reset_index()\n",
        "\n",
        "evolucion_horizontal = px.bar(grafico_horizontal, x=\"FECHA_INICIO_MES\", y=\"PRECIO\", color='TIPO_TREN', orientation='v', height=600,\n",
        "             title='PRECIO', color_discrete_sequence = px.colors.cyclical.mygbm)\n",
        "\n",
        "evolucion_horizontal.show()\n",
        "\n"
      ],
      "execution_count": 46,
      "outputs": [
        {
          "output_type": "display_data",
          "data": {
            "text/html": [
              "<html>\n",
              "<head><meta charset=\"utf-8\" /></head>\n",
              "<body>\n",
              "    <div>            <script src=\"https://cdnjs.cloudflare.com/ajax/libs/mathjax/2.7.5/MathJax.js?config=TeX-AMS-MML_SVG\"></script><script type=\"text/javascript\">if (window.MathJax) {MathJax.Hub.Config({SVG: {font: \"STIX-Web\"}});}</script>                <script type=\"text/javascript\">window.PlotlyConfig = {MathJaxConfig: 'local'};</script>\n",
              "        <script src=\"https://cdn.plot.ly/plotly-2.8.3.min.js\"></script>                <div id=\"68c6a71b-56b9-4f1f-8185-1501bc4060dc\" class=\"plotly-graph-div\" style=\"height:600px; width:100%;\"></div>            <script type=\"text/javascript\">                                    window.PLOTLYENV=window.PLOTLYENV || {};                                    if (document.getElementById(\"68c6a71b-56b9-4f1f-8185-1501bc4060dc\")) {                    Plotly.newPlot(                        \"68c6a71b-56b9-4f1f-8185-1501bc4060dc\",                        [{\"alignmentgroup\":\"True\",\"hovertemplate\":\"TIPO_TREN=ALVIA<br>FECHA_INICIO_MES=%{x}<br>PRECIO=%{y}<extra></extra>\",\"legendgroup\":\"ALVIA\",\"marker\":{\"color\":\"#ef55f1\",\"pattern\":{\"shape\":\"\"}},\"name\":\"ALVIA\",\"offsetgroup\":\"ALVIA\",\"orientation\":\"v\",\"showlegend\":true,\"textposition\":\"auto\",\"x\":[4,5,6,7,8,9,10],\"xaxis\":\"x\",\"y\":[60.38211728553929,57.81119695559987,58.78784071918178,56.44539134058655,59.88682421525346,54.08974206727111,47.194716467012256],\"yaxis\":\"y\",\"type\":\"bar\"},{\"alignmentgroup\":\"True\",\"hovertemplate\":\"TIPO_TREN=AV City<br>FECHA_INICIO_MES=%{x}<br>PRECIO=%{y}<extra></extra>\",\"legendgroup\":\"AV City\",\"marker\":{\"color\":\"#fb84ce\",\"pattern\":{\"shape\":\"\"}},\"name\":\"AV City\",\"offsetgroup\":\"AV City\",\"orientation\":\"v\",\"showlegend\":true,\"textposition\":\"auto\",\"x\":[4,5,6,7,8,9,10],\"xaxis\":\"x\",\"y\":[52.265894451966,50.574420025066935,48.68789314267042,43.9369852398537,47.379083425284456,46.00343949044586,44.6878223495702],\"yaxis\":\"y\",\"type\":\"bar\"},{\"alignmentgroup\":\"True\",\"hovertemplate\":\"TIPO_TREN=AVE<br>FECHA_INICIO_MES=%{x}<br>PRECIO=%{y}<extra></extra>\",\"legendgroup\":\"AVE\",\"marker\":{\"color\":\"#fbafa1\",\"pattern\":{\"shape\":\"\"}},\"name\":\"AVE\",\"offsetgroup\":\"AVE\",\"orientation\":\"v\",\"showlegend\":true,\"textposition\":\"auto\",\"x\":[4,5,6,7,8,9,10],\"xaxis\":\"x\",\"y\":[76.23087126836748,69.99294771966595,72.48080308295786,64.17752937933211,58.17060651310685,59.149782944230964,47.82169982248356],\"yaxis\":\"y\",\"type\":\"bar\"},{\"alignmentgroup\":\"True\",\"hovertemplate\":\"TIPO_TREN=AVE-LD<br>FECHA_INICIO_MES=%{x}<br>PRECIO=%{y}<extra></extra>\",\"legendgroup\":\"AVE-LD\",\"marker\":{\"color\":\"#fcd471\",\"pattern\":{\"shape\":\"\"}},\"name\":\"AVE-LD\",\"offsetgroup\":\"AVE-LD\",\"orientation\":\"v\",\"showlegend\":true,\"textposition\":\"auto\",\"x\":[4,5,6,7,8,9,10],\"xaxis\":\"x\",\"y\":[55.88642325930728,48.41878483995741,50.291167807068916,43.09233570066833,44.186666582215736,41.23002267336895,47.752697417530655],\"yaxis\":\"y\",\"type\":\"bar\"},{\"alignmentgroup\":\"True\",\"hovertemplate\":\"TIPO_TREN=AVE-MD<br>FECHA_INICIO_MES=%{x}<br>PRECIO=%{y}<extra></extra>\",\"legendgroup\":\"AVE-MD\",\"marker\":{\"color\":\"#f0ed35\",\"pattern\":{\"shape\":\"\"}},\"name\":\"AVE-MD\",\"offsetgroup\":\"AVE-MD\",\"orientation\":\"v\",\"showlegend\":true,\"textposition\":\"auto\",\"x\":[4,5,6,7,8,9,10],\"xaxis\":\"x\",\"y\":[59.2078548735243,57.1501626592961,59.949612887266404,66.31237393944033,47.546892518098154,42.190234375,35.0125],\"yaxis\":\"y\",\"type\":\"bar\"},{\"alignmentgroup\":\"True\",\"hovertemplate\":\"TIPO_TREN=AVE-TGV<br>FECHA_INICIO_MES=%{x}<br>PRECIO=%{y}<extra></extra>\",\"legendgroup\":\"AVE-TGV\",\"marker\":{\"color\":\"#c6e516\",\"pattern\":{\"shape\":\"\"}},\"name\":\"AVE-TGV\",\"offsetgroup\":\"AVE-TGV\",\"orientation\":\"v\",\"showlegend\":true,\"textposition\":\"auto\",\"x\":[4,5,6,7,8,9,10],\"xaxis\":\"x\",\"y\":[102.04731594699044,84.98398466047881,92.05966008203329,89.32339594096295,87.92736503724093,90.05982758620691,80.51249999999999],\"yaxis\":\"y\",\"type\":\"bar\"},{\"alignmentgroup\":\"True\",\"hovertemplate\":\"TIPO_TREN=INTERCITY<br>FECHA_INICIO_MES=%{x}<br>PRECIO=%{y}<extra></extra>\",\"legendgroup\":\"INTERCITY\",\"marker\":{\"color\":\"#96d310\",\"pattern\":{\"shape\":\"\"}},\"name\":\"INTERCITY\",\"offsetgroup\":\"INTERCITY\",\"orientation\":\"v\",\"showlegend\":true,\"textposition\":\"auto\",\"x\":[4,5,6,7,8,9,10],\"xaxis\":\"x\",\"y\":[51.59328871340711,42.0483191221305,43.95957782608169,35.986718712322585,41.26433380108825,38.304436885637344,36.31247077599749],\"yaxis\":\"y\",\"type\":\"bar\"},{\"alignmentgroup\":\"True\",\"hovertemplate\":\"TIPO_TREN=LD<br>FECHA_INICIO_MES=%{x}<br>PRECIO=%{y}<extra></extra>\",\"legendgroup\":\"LD\",\"marker\":{\"color\":\"#61c10b\",\"pattern\":{\"shape\":\"\"}},\"name\":\"LD\",\"offsetgroup\":\"LD\",\"orientation\":\"v\",\"showlegend\":true,\"textposition\":\"auto\",\"x\":[4,5,6,7,8,9,10],\"xaxis\":\"x\",\"y\":[54.391643783471814,49.58780541225069,50.97256497181097,53.02484090958055,56.73771523077914,55.24411255599848,54.23782902921776],\"yaxis\":\"y\",\"type\":\"bar\"},{\"alignmentgroup\":\"True\",\"hovertemplate\":\"TIPO_TREN=LD-AVE<br>FECHA_INICIO_MES=%{x}<br>PRECIO=%{y}<extra></extra>\",\"legendgroup\":\"LD-AVE\",\"marker\":{\"color\":\"#31ac28\",\"pattern\":{\"shape\":\"\"}},\"name\":\"LD-AVE\",\"offsetgroup\":\"LD-AVE\",\"orientation\":\"v\",\"showlegend\":true,\"textposition\":\"auto\",\"x\":[4,5,6,7,8,9],\"xaxis\":\"x\",\"y\":[61.406743543826636,61.406743543826636,61.406743543826636,61.406743543826636,61.40674354382663,61.406743543826636],\"yaxis\":\"y\",\"type\":\"bar\"},{\"alignmentgroup\":\"True\",\"hovertemplate\":\"TIPO_TREN=LD-MD<br>FECHA_INICIO_MES=%{x}<br>PRECIO=%{y}<extra></extra>\",\"legendgroup\":\"LD-MD\",\"marker\":{\"color\":\"#439064\",\"pattern\":{\"shape\":\"\"}},\"name\":\"LD-MD\",\"offsetgroup\":\"LD-MD\",\"orientation\":\"v\",\"showlegend\":true,\"textposition\":\"auto\",\"x\":[4,5,6,7,8,9,10],\"xaxis\":\"x\",\"y\":[45.36043948957353,42.180014244476766,41.61844481006434,38.35791710606897,43.71681266893598,36.52762921771914,34.35],\"yaxis\":\"y\",\"type\":\"bar\"},{\"alignmentgroup\":\"True\",\"hovertemplate\":\"TIPO_TREN=MD<br>FECHA_INICIO_MES=%{x}<br>PRECIO=%{y}<extra></extra>\",\"legendgroup\":\"MD\",\"marker\":{\"color\":\"#3d719a\",\"pattern\":{\"shape\":\"\"}},\"name\":\"MD\",\"offsetgroup\":\"MD\",\"orientation\":\"v\",\"showlegend\":true,\"textposition\":\"auto\",\"x\":[4,5,6,7,8,9],\"xaxis\":\"x\",\"y\":[54.22388584719225,54.00171838820333,53.53266591812482,52.5,53.084048756972244,52.5],\"yaxis\":\"y\",\"type\":\"bar\"},{\"alignmentgroup\":\"True\",\"hovertemplate\":\"TIPO_TREN=MD-AVE<br>FECHA_INICIO_MES=%{x}<br>PRECIO=%{y}<extra></extra>\",\"legendgroup\":\"MD-AVE\",\"marker\":{\"color\":\"#284ec8\",\"pattern\":{\"shape\":\"\"}},\"name\":\"MD-AVE\",\"offsetgroup\":\"MD-AVE\",\"orientation\":\"v\",\"showlegend\":true,\"textposition\":\"auto\",\"x\":[4,5,6,7,8,9],\"xaxis\":\"x\",\"y\":[51.71395974316684,49.427528375312825,46.66569238788726,36.01688741721854,48.95336089306992,45.62968106090292],\"yaxis\":\"y\",\"type\":\"bar\"},{\"alignmentgroup\":\"True\",\"hovertemplate\":\"TIPO_TREN=MD-LD<br>FECHA_INICIO_MES=%{x}<br>PRECIO=%{y}<extra></extra>\",\"legendgroup\":\"MD-LD\",\"marker\":{\"color\":\"#2e21ea\",\"pattern\":{\"shape\":\"\"}},\"name\":\"MD-LD\",\"offsetgroup\":\"MD-LD\",\"orientation\":\"v\",\"showlegend\":true,\"textposition\":\"auto\",\"x\":[4,5,6,7,8,9,10],\"xaxis\":\"x\",\"y\":[44.80813471027817,39.972111326002384,41.306252694826135,39.721016162951216,42.08658755387646,40.61624708430557,39.28181818181818],\"yaxis\":\"y\",\"type\":\"bar\"},{\"alignmentgroup\":\"True\",\"hovertemplate\":\"TIPO_TREN=R. EXPRES<br>FECHA_INICIO_MES=%{x}<br>PRECIO=%{y}<extra></extra>\",\"legendgroup\":\"R. EXPRES\",\"marker\":{\"color\":\"#6324f5\",\"pattern\":{\"shape\":\"\"}},\"name\":\"R. EXPRES\",\"offsetgroup\":\"R. EXPRES\",\"orientation\":\"v\",\"showlegend\":true,\"textposition\":\"auto\",\"x\":[4,5,6,7,8,9,10],\"xaxis\":\"x\",\"y\":[43.85775710606951,43.60776834569117,43.32092477946807,43.25,43.25,43.25,43.25],\"yaxis\":\"y\",\"type\":\"bar\"},{\"alignmentgroup\":\"True\",\"hovertemplate\":\"TIPO_TREN=REGIONAL<br>FECHA_INICIO_MES=%{x}<br>PRECIO=%{y}<extra></extra>\",\"legendgroup\":\"REGIONAL\",\"marker\":{\"color\":\"#9139fa\",\"pattern\":{\"shape\":\"\"}},\"name\":\"REGIONAL\",\"offsetgroup\":\"REGIONAL\",\"orientation\":\"v\",\"showlegend\":true,\"textposition\":\"auto\",\"x\":[4,5,6,7,8,9,10],\"xaxis\":\"x\",\"y\":[30.284532219710595,29.082413002227316,28.573099009925418,28.37777099709647,28.9159064715295,28.756157941152818,28.35],\"yaxis\":\"y\",\"type\":\"bar\"},{\"alignmentgroup\":\"True\",\"hovertemplate\":\"TIPO_TREN=TRENHOTEL<br>FECHA_INICIO_MES=%{x}<br>PRECIO=%{y}<extra></extra>\",\"legendgroup\":\"TRENHOTEL\",\"marker\":{\"color\":\"#c543fa\",\"pattern\":{\"shape\":\"\"}},\"name\":\"TRENHOTEL\",\"offsetgroup\":\"TRENHOTEL\",\"orientation\":\"v\",\"showlegend\":true,\"textposition\":\"auto\",\"x\":[4,5,6,7,8,9,10],\"xaxis\":\"x\",\"y\":[59.4236759873649,47.592581158989475,48.787266660994995,46.4242104425369,50.999939490458345,46.61233461461933,45.8],\"yaxis\":\"y\",\"type\":\"bar\"}],                        {\"template\":{\"data\":{\"bar\":[{\"error_x\":{\"color\":\"#2a3f5f\"},\"error_y\":{\"color\":\"#2a3f5f\"},\"marker\":{\"line\":{\"color\":\"#E5ECF6\",\"width\":0.5},\"pattern\":{\"fillmode\":\"overlay\",\"size\":10,\"solidity\":0.2}},\"type\":\"bar\"}],\"barpolar\":[{\"marker\":{\"line\":{\"color\":\"#E5ECF6\",\"width\":0.5},\"pattern\":{\"fillmode\":\"overlay\",\"size\":10,\"solidity\":0.2}},\"type\":\"barpolar\"}],\"carpet\":[{\"aaxis\":{\"endlinecolor\":\"#2a3f5f\",\"gridcolor\":\"white\",\"linecolor\":\"white\",\"minorgridcolor\":\"white\",\"startlinecolor\":\"#2a3f5f\"},\"baxis\":{\"endlinecolor\":\"#2a3f5f\",\"gridcolor\":\"white\",\"linecolor\":\"white\",\"minorgridcolor\":\"white\",\"startlinecolor\":\"#2a3f5f\"},\"type\":\"carpet\"}],\"choropleth\":[{\"colorbar\":{\"outlinewidth\":0,\"ticks\":\"\"},\"type\":\"choropleth\"}],\"contour\":[{\"colorbar\":{\"outlinewidth\":0,\"ticks\":\"\"},\"colorscale\":[[0.0,\"#0d0887\"],[0.1111111111111111,\"#46039f\"],[0.2222222222222222,\"#7201a8\"],[0.3333333333333333,\"#9c179e\"],[0.4444444444444444,\"#bd3786\"],[0.5555555555555556,\"#d8576b\"],[0.6666666666666666,\"#ed7953\"],[0.7777777777777778,\"#fb9f3a\"],[0.8888888888888888,\"#fdca26\"],[1.0,\"#f0f921\"]],\"type\":\"contour\"}],\"contourcarpet\":[{\"colorbar\":{\"outlinewidth\":0,\"ticks\":\"\"},\"type\":\"contourcarpet\"}],\"heatmap\":[{\"colorbar\":{\"outlinewidth\":0,\"ticks\":\"\"},\"colorscale\":[[0.0,\"#0d0887\"],[0.1111111111111111,\"#46039f\"],[0.2222222222222222,\"#7201a8\"],[0.3333333333333333,\"#9c179e\"],[0.4444444444444444,\"#bd3786\"],[0.5555555555555556,\"#d8576b\"],[0.6666666666666666,\"#ed7953\"],[0.7777777777777778,\"#fb9f3a\"],[0.8888888888888888,\"#fdca26\"],[1.0,\"#f0f921\"]],\"type\":\"heatmap\"}],\"heatmapgl\":[{\"colorbar\":{\"outlinewidth\":0,\"ticks\":\"\"},\"colorscale\":[[0.0,\"#0d0887\"],[0.1111111111111111,\"#46039f\"],[0.2222222222222222,\"#7201a8\"],[0.3333333333333333,\"#9c179e\"],[0.4444444444444444,\"#bd3786\"],[0.5555555555555556,\"#d8576b\"],[0.6666666666666666,\"#ed7953\"],[0.7777777777777778,\"#fb9f3a\"],[0.8888888888888888,\"#fdca26\"],[1.0,\"#f0f921\"]],\"type\":\"heatmapgl\"}],\"histogram\":[{\"marker\":{\"pattern\":{\"fillmode\":\"overlay\",\"size\":10,\"solidity\":0.2}},\"type\":\"histogram\"}],\"histogram2d\":[{\"colorbar\":{\"outlinewidth\":0,\"ticks\":\"\"},\"colorscale\":[[0.0,\"#0d0887\"],[0.1111111111111111,\"#46039f\"],[0.2222222222222222,\"#7201a8\"],[0.3333333333333333,\"#9c179e\"],[0.4444444444444444,\"#bd3786\"],[0.5555555555555556,\"#d8576b\"],[0.6666666666666666,\"#ed7953\"],[0.7777777777777778,\"#fb9f3a\"],[0.8888888888888888,\"#fdca26\"],[1.0,\"#f0f921\"]],\"type\":\"histogram2d\"}],\"histogram2dcontour\":[{\"colorbar\":{\"outlinewidth\":0,\"ticks\":\"\"},\"colorscale\":[[0.0,\"#0d0887\"],[0.1111111111111111,\"#46039f\"],[0.2222222222222222,\"#7201a8\"],[0.3333333333333333,\"#9c179e\"],[0.4444444444444444,\"#bd3786\"],[0.5555555555555556,\"#d8576b\"],[0.6666666666666666,\"#ed7953\"],[0.7777777777777778,\"#fb9f3a\"],[0.8888888888888888,\"#fdca26\"],[1.0,\"#f0f921\"]],\"type\":\"histogram2dcontour\"}],\"mesh3d\":[{\"colorbar\":{\"outlinewidth\":0,\"ticks\":\"\"},\"type\":\"mesh3d\"}],\"parcoords\":[{\"line\":{\"colorbar\":{\"outlinewidth\":0,\"ticks\":\"\"}},\"type\":\"parcoords\"}],\"pie\":[{\"automargin\":true,\"type\":\"pie\"}],\"scatter\":[{\"marker\":{\"colorbar\":{\"outlinewidth\":0,\"ticks\":\"\"}},\"type\":\"scatter\"}],\"scatter3d\":[{\"line\":{\"colorbar\":{\"outlinewidth\":0,\"ticks\":\"\"}},\"marker\":{\"colorbar\":{\"outlinewidth\":0,\"ticks\":\"\"}},\"type\":\"scatter3d\"}],\"scattercarpet\":[{\"marker\":{\"colorbar\":{\"outlinewidth\":0,\"ticks\":\"\"}},\"type\":\"scattercarpet\"}],\"scattergeo\":[{\"marker\":{\"colorbar\":{\"outlinewidth\":0,\"ticks\":\"\"}},\"type\":\"scattergeo\"}],\"scattergl\":[{\"marker\":{\"colorbar\":{\"outlinewidth\":0,\"ticks\":\"\"}},\"type\":\"scattergl\"}],\"scattermapbox\":[{\"marker\":{\"colorbar\":{\"outlinewidth\":0,\"ticks\":\"\"}},\"type\":\"scattermapbox\"}],\"scatterpolar\":[{\"marker\":{\"colorbar\":{\"outlinewidth\":0,\"ticks\":\"\"}},\"type\":\"scatterpolar\"}],\"scatterpolargl\":[{\"marker\":{\"colorbar\":{\"outlinewidth\":0,\"ticks\":\"\"}},\"type\":\"scatterpolargl\"}],\"scatterternary\":[{\"marker\":{\"colorbar\":{\"outlinewidth\":0,\"ticks\":\"\"}},\"type\":\"scatterternary\"}],\"surface\":[{\"colorbar\":{\"outlinewidth\":0,\"ticks\":\"\"},\"colorscale\":[[0.0,\"#0d0887\"],[0.1111111111111111,\"#46039f\"],[0.2222222222222222,\"#7201a8\"],[0.3333333333333333,\"#9c179e\"],[0.4444444444444444,\"#bd3786\"],[0.5555555555555556,\"#d8576b\"],[0.6666666666666666,\"#ed7953\"],[0.7777777777777778,\"#fb9f3a\"],[0.8888888888888888,\"#fdca26\"],[1.0,\"#f0f921\"]],\"type\":\"surface\"}],\"table\":[{\"cells\":{\"fill\":{\"color\":\"#EBF0F8\"},\"line\":{\"color\":\"white\"}},\"header\":{\"fill\":{\"color\":\"#C8D4E3\"},\"line\":{\"color\":\"white\"}},\"type\":\"table\"}]},\"layout\":{\"annotationdefaults\":{\"arrowcolor\":\"#2a3f5f\",\"arrowhead\":0,\"arrowwidth\":1},\"autotypenumbers\":\"strict\",\"coloraxis\":{\"colorbar\":{\"outlinewidth\":0,\"ticks\":\"\"}},\"colorscale\":{\"diverging\":[[0,\"#8e0152\"],[0.1,\"#c51b7d\"],[0.2,\"#de77ae\"],[0.3,\"#f1b6da\"],[0.4,\"#fde0ef\"],[0.5,\"#f7f7f7\"],[0.6,\"#e6f5d0\"],[0.7,\"#b8e186\"],[0.8,\"#7fbc41\"],[0.9,\"#4d9221\"],[1,\"#276419\"]],\"sequential\":[[0.0,\"#0d0887\"],[0.1111111111111111,\"#46039f\"],[0.2222222222222222,\"#7201a8\"],[0.3333333333333333,\"#9c179e\"],[0.4444444444444444,\"#bd3786\"],[0.5555555555555556,\"#d8576b\"],[0.6666666666666666,\"#ed7953\"],[0.7777777777777778,\"#fb9f3a\"],[0.8888888888888888,\"#fdca26\"],[1.0,\"#f0f921\"]],\"sequentialminus\":[[0.0,\"#0d0887\"],[0.1111111111111111,\"#46039f\"],[0.2222222222222222,\"#7201a8\"],[0.3333333333333333,\"#9c179e\"],[0.4444444444444444,\"#bd3786\"],[0.5555555555555556,\"#d8576b\"],[0.6666666666666666,\"#ed7953\"],[0.7777777777777778,\"#fb9f3a\"],[0.8888888888888888,\"#fdca26\"],[1.0,\"#f0f921\"]]},\"colorway\":[\"#636efa\",\"#EF553B\",\"#00cc96\",\"#ab63fa\",\"#FFA15A\",\"#19d3f3\",\"#FF6692\",\"#B6E880\",\"#FF97FF\",\"#FECB52\"],\"font\":{\"color\":\"#2a3f5f\"},\"geo\":{\"bgcolor\":\"white\",\"lakecolor\":\"white\",\"landcolor\":\"#E5ECF6\",\"showlakes\":true,\"showland\":true,\"subunitcolor\":\"white\"},\"hoverlabel\":{\"align\":\"left\"},\"hovermode\":\"closest\",\"mapbox\":{\"style\":\"light\"},\"paper_bgcolor\":\"white\",\"plot_bgcolor\":\"#E5ECF6\",\"polar\":{\"angularaxis\":{\"gridcolor\":\"white\",\"linecolor\":\"white\",\"ticks\":\"\"},\"bgcolor\":\"#E5ECF6\",\"radialaxis\":{\"gridcolor\":\"white\",\"linecolor\":\"white\",\"ticks\":\"\"}},\"scene\":{\"xaxis\":{\"backgroundcolor\":\"#E5ECF6\",\"gridcolor\":\"white\",\"gridwidth\":2,\"linecolor\":\"white\",\"showbackground\":true,\"ticks\":\"\",\"zerolinecolor\":\"white\"},\"yaxis\":{\"backgroundcolor\":\"#E5ECF6\",\"gridcolor\":\"white\",\"gridwidth\":2,\"linecolor\":\"white\",\"showbackground\":true,\"ticks\":\"\",\"zerolinecolor\":\"white\"},\"zaxis\":{\"backgroundcolor\":\"#E5ECF6\",\"gridcolor\":\"white\",\"gridwidth\":2,\"linecolor\":\"white\",\"showbackground\":true,\"ticks\":\"\",\"zerolinecolor\":\"white\"}},\"shapedefaults\":{\"line\":{\"color\":\"#2a3f5f\"}},\"ternary\":{\"aaxis\":{\"gridcolor\":\"white\",\"linecolor\":\"white\",\"ticks\":\"\"},\"baxis\":{\"gridcolor\":\"white\",\"linecolor\":\"white\",\"ticks\":\"\"},\"bgcolor\":\"#E5ECF6\",\"caxis\":{\"gridcolor\":\"white\",\"linecolor\":\"white\",\"ticks\":\"\"}},\"title\":{\"x\":0.05},\"xaxis\":{\"automargin\":true,\"gridcolor\":\"white\",\"linecolor\":\"white\",\"ticks\":\"\",\"title\":{\"standoff\":15},\"zerolinecolor\":\"white\",\"zerolinewidth\":2},\"yaxis\":{\"automargin\":true,\"gridcolor\":\"white\",\"linecolor\":\"white\",\"ticks\":\"\",\"title\":{\"standoff\":15},\"zerolinecolor\":\"white\",\"zerolinewidth\":2}}},\"xaxis\":{\"anchor\":\"y\",\"domain\":[0.0,1.0],\"title\":{\"text\":\"FECHA_INICIO_MES\"}},\"yaxis\":{\"anchor\":\"x\",\"domain\":[0.0,1.0],\"title\":{\"text\":\"PRECIO\"}},\"legend\":{\"title\":{\"text\":\"TIPO_TREN\"},\"tracegroupgap\":0},\"title\":{\"text\":\"PRECIO\"},\"barmode\":\"relative\",\"height\":600},                        {\"responsive\": true}                    ).then(function(){\n",
              "                            \n",
              "var gd = document.getElementById('68c6a71b-56b9-4f1f-8185-1501bc4060dc');\n",
              "var x = new MutationObserver(function (mutations, observer) {{\n",
              "        var display = window.getComputedStyle(gd).display;\n",
              "        if (!display || display === 'none') {{\n",
              "            console.log([gd, 'removed!']);\n",
              "            Plotly.purge(gd);\n",
              "            observer.disconnect();\n",
              "        }}\n",
              "}});\n",
              "\n",
              "// Listen for the removal of the full notebook cells\n",
              "var notebookContainer = gd.closest('#notebook-container');\n",
              "if (notebookContainer) {{\n",
              "    x.observe(notebookContainer, {childList: true});\n",
              "}}\n",
              "\n",
              "// Listen for the clearing of the current output cell\n",
              "var outputEl = gd.closest('.output');\n",
              "if (outputEl) {{\n",
              "    x.observe(outputEl, {childList: true});\n",
              "}}\n",
              "\n",
              "                        })                };                            </script>        </div>\n",
              "</body>\n",
              "</html>"
            ]
          },
          "metadata": {}
        }
      ]
    },
    {
      "cell_type": "code",
      "metadata": {
        "id": "4J2DsjpRndy9",
        "colab": {
          "base_uri": "https://localhost:8080/",
          "height": 1000
        },
        "outputId": "c0ec8b98-4575-4205-d551-58df681f9ad4"
      },
      "source": [
        "##########EJECUTAR DESPUES DE RESPONDER LA PREGUNTA 12############\n",
        "df_renfe_clean_2.info()\n",
        "mapa_datos = df_renfe_clean_2.groupby(['CIUDAD_ORIGEN', 'LATITUD_ORIGEN','LONGITUD_ORIGEN'])[\"PRECIO\"].mean().reset_index()\n",
        "\n",
        "mapa_global2 = folium.Map(location=[40.416705, -3.703582], tiles='cartodbpositron',\n",
        "               min_zoom=4, max_zoom=8, zoom_start=6)\n",
        "\n",
        "for i in range(0, len(mapa_datos)):\n",
        "    folium.Circle(\n",
        "        location=[mapa_datos.iloc[i]['LATITUD_ORIGEN'], mapa_datos.iloc[i]['LONGITUD_ORIGEN']],\n",
        "        color='crimson', \n",
        "        tooltip ='<li><bold>Ciudad : '+str(mapa_datos.iloc[i]['CIUDAD_ORIGEN'])+\n",
        "                 '<li><bold>Precio medio : '+str(mapa_datos.iloc[i]['PRECIO']),\n",
        "        radius=int(mapa_datos.iloc[i]['PRECIO'])**2.5).add_to(mapa_global2)\n",
        "\n",
        "mapa_global2\n",
        "\n",
        "##################################"
      ],
      "execution_count": 47,
      "outputs": [
        {
          "output_type": "stream",
          "name": "stdout",
          "text": [
            "<class 'pandas.core.frame.DataFrame'>\n",
            "Int64Index: 382862 entries, 0 to 382861\n",
            "Data columns (total 20 columns):\n",
            " #   Column                  Non-Null Count   Dtype  \n",
            "---  ------                  --------------   -----  \n",
            " 0   CIUDAD_ORIGEN           382862 non-null  object \n",
            " 1   CIUDAD_DESTINO          382862 non-null  object \n",
            " 2   TIPO_TREN               382862 non-null  object \n",
            " 3   TIPO_TARIFA             381551 non-null  object \n",
            " 4   CLASE                   381551 non-null  object \n",
            " 5   PRECIO                  382862 non-null  float64\n",
            " 6   TIEMPO_VIAJE            382862 non-null  float64\n",
            " 7   DIF_INI_BUS             382862 non-null  float64\n",
            " 8   FECHA_INICIO_HORA       382862 non-null  int64  \n",
            " 9   FECHA_INICIO_NOMBREDIA  382862 non-null  object \n",
            " 10  FECHA_INICIO_DIA        382862 non-null  int64  \n",
            " 11  FECHA_INICIO_MES        382862 non-null  int64  \n",
            " 12  FECHA_FIN_HORA          382862 non-null  int64  \n",
            " 13  FECHA_FIN_NOMBREDIA     382862 non-null  object \n",
            " 14  FECHA_FIN_DIA           382862 non-null  int64  \n",
            " 15  FECHA_FIN_MES           382862 non-null  int64  \n",
            " 16  LATITUD_ORIGEN          382862 non-null  float64\n",
            " 17  LONGITUD_ORIGEN         382862 non-null  float64\n",
            " 18  LATITUD_DESTINO         382862 non-null  float64\n",
            " 19  LONGITUD_DESTINO        382862 non-null  float64\n",
            "dtypes: float64(7), int64(6), object(7)\n",
            "memory usage: 61.3+ MB\n"
          ]
        },
        {
          "output_type": "execute_result",
          "data": {
            "text/plain": [
              "<folium.folium.Map at 0x7f40cd4658d0>"
            ],
            "text/html": [
              "<div style=\"width:100%;\"><div style=\"position:relative;width:100%;height:0;padding-bottom:60%;\"><span style=\"color:#565656\">Make this Notebook Trusted to load map: File -> Trust Notebook</span><iframe src=\"about:blank\" style=\"position:absolute;width:100%;height:100%;left:0;top:0;border:none !important;\" data-html=%3C%21DOCTYPE%20html%3E%0A%3Chead%3E%20%20%20%20%0A%20%20%20%20%3Cmeta%20http-equiv%3D%22content-type%22%20content%3D%22text/html%3B%20charset%3DUTF-8%22%20/%3E%0A%20%20%20%20%3Cscript%3EL_PREFER_CANVAS%3Dfalse%3B%20L_NO_TOUCH%3Dfalse%3B%20L_DISABLE_3D%3Dfalse%3B%3C/script%3E%0A%20%20%20%20%3Cscript%20src%3D%22https%3A//cdn.jsdelivr.net/npm/leaflet%401.4.0/dist/leaflet.js%22%3E%3C/script%3E%0A%20%20%20%20%3Cscript%20src%3D%22https%3A//code.jquery.com/jquery-1.12.4.min.js%22%3E%3C/script%3E%0A%20%20%20%20%3Cscript%20src%3D%22https%3A//maxcdn.bootstrapcdn.com/bootstrap/3.2.0/js/bootstrap.min.js%22%3E%3C/script%3E%0A%20%20%20%20%3Cscript%20src%3D%22https%3A//cdnjs.cloudflare.com/ajax/libs/Leaflet.awesome-markers/2.0.2/leaflet.awesome-markers.js%22%3E%3C/script%3E%0A%20%20%20%20%3Clink%20rel%3D%22stylesheet%22%20href%3D%22https%3A//cdn.jsdelivr.net/npm/leaflet%401.4.0/dist/leaflet.css%22/%3E%0A%20%20%20%20%3Clink%20rel%3D%22stylesheet%22%20href%3D%22https%3A//maxcdn.bootstrapcdn.com/bootstrap/3.2.0/css/bootstrap.min.css%22/%3E%0A%20%20%20%20%3Clink%20rel%3D%22stylesheet%22%20href%3D%22https%3A//maxcdn.bootstrapcdn.com/bootstrap/3.2.0/css/bootstrap-theme.min.css%22/%3E%0A%20%20%20%20%3Clink%20rel%3D%22stylesheet%22%20href%3D%22https%3A//maxcdn.bootstrapcdn.com/font-awesome/4.6.3/css/font-awesome.min.css%22/%3E%0A%20%20%20%20%3Clink%20rel%3D%22stylesheet%22%20href%3D%22https%3A//cdnjs.cloudflare.com/ajax/libs/Leaflet.awesome-markers/2.0.2/leaflet.awesome-markers.css%22/%3E%0A%20%20%20%20%3Clink%20rel%3D%22stylesheet%22%20href%3D%22https%3A//rawcdn.githack.com/python-visualization/folium/master/folium/templates/leaflet.awesome.rotate.css%22/%3E%0A%20%20%20%20%3Cstyle%3Ehtml%2C%20body%20%7Bwidth%3A%20100%25%3Bheight%3A%20100%25%3Bmargin%3A%200%3Bpadding%3A%200%3B%7D%3C/style%3E%0A%20%20%20%20%3Cstyle%3E%23map%20%7Bposition%3Aabsolute%3Btop%3A0%3Bbottom%3A0%3Bright%3A0%3Bleft%3A0%3B%7D%3C/style%3E%0A%20%20%20%20%0A%20%20%20%20%3Cmeta%20name%3D%22viewport%22%20content%3D%22width%3Ddevice-width%2C%0A%20%20%20%20%20%20%20%20initial-scale%3D1.0%2C%20maximum-scale%3D1.0%2C%20user-scalable%3Dno%22%20/%3E%0A%20%20%20%20%3Cstyle%3E%23map_d1434902b390486ea4e7ce6e0848fd01%20%7B%0A%20%20%20%20%20%20%20%20position%3A%20relative%3B%0A%20%20%20%20%20%20%20%20width%3A%20100.0%25%3B%0A%20%20%20%20%20%20%20%20height%3A%20100.0%25%3B%0A%20%20%20%20%20%20%20%20left%3A%200.0%25%3B%0A%20%20%20%20%20%20%20%20top%3A%200.0%25%3B%0A%20%20%20%20%20%20%20%20%7D%0A%20%20%20%20%3C/style%3E%0A%3C/head%3E%0A%3Cbody%3E%20%20%20%20%0A%20%20%20%20%0A%20%20%20%20%3Cdiv%20class%3D%22folium-map%22%20id%3D%22map_d1434902b390486ea4e7ce6e0848fd01%22%20%3E%3C/div%3E%0A%3C/body%3E%0A%3Cscript%3E%20%20%20%20%0A%20%20%20%20%0A%20%20%20%20%0A%20%20%20%20%20%20%20%20var%20bounds%20%3D%20null%3B%0A%20%20%20%20%0A%0A%20%20%20%20var%20map_d1434902b390486ea4e7ce6e0848fd01%20%3D%20L.map%28%0A%20%20%20%20%20%20%20%20%27map_d1434902b390486ea4e7ce6e0848fd01%27%2C%20%7B%0A%20%20%20%20%20%20%20%20center%3A%20%5B40.416705%2C%20-3.703582%5D%2C%0A%20%20%20%20%20%20%20%20zoom%3A%206%2C%0A%20%20%20%20%20%20%20%20maxBounds%3A%20bounds%2C%0A%20%20%20%20%20%20%20%20layers%3A%20%5B%5D%2C%0A%20%20%20%20%20%20%20%20worldCopyJump%3A%20false%2C%0A%20%20%20%20%20%20%20%20crs%3A%20L.CRS.EPSG3857%2C%0A%20%20%20%20%20%20%20%20zoomControl%3A%20true%2C%0A%20%20%20%20%20%20%20%20%7D%29%3B%0A%0A%0A%20%20%20%20%0A%20%20%20%20var%20tile_layer_03d382b66bdd48b8b356fbe425a48c23%20%3D%20L.tileLayer%28%0A%20%20%20%20%20%20%20%20%27https%3A//cartodb-basemaps-%7Bs%7D.global.ssl.fastly.net/light_all/%7Bz%7D/%7Bx%7D/%7By%7D.png%27%2C%0A%20%20%20%20%20%20%20%20%7B%0A%20%20%20%20%20%20%20%20%22attribution%22%3A%20null%2C%0A%20%20%20%20%20%20%20%20%22detectRetina%22%3A%20false%2C%0A%20%20%20%20%20%20%20%20%22maxNativeZoom%22%3A%208%2C%0A%20%20%20%20%20%20%20%20%22maxZoom%22%3A%208%2C%0A%20%20%20%20%20%20%20%20%22minZoom%22%3A%204%2C%0A%20%20%20%20%20%20%20%20%22noWrap%22%3A%20false%2C%0A%20%20%20%20%20%20%20%20%22opacity%22%3A%201%2C%0A%20%20%20%20%20%20%20%20%22subdomains%22%3A%20%22abc%22%2C%0A%20%20%20%20%20%20%20%20%22tms%22%3A%20false%0A%7D%29.addTo%28map_d1434902b390486ea4e7ce6e0848fd01%29%3B%0A%20%20%20%20%0A%0A%20%20%20%20%20%20%20%20%20%20%20%20var%20circle_2ab0caca13b649568700036996798cce%20%3D%20L.circle%28%0A%20%20%20%20%20%20%20%20%20%20%20%20%20%20%20%20%5B41.3828939%2C%202.1774322%5D%2C%0A%20%20%20%20%20%20%20%20%20%20%20%20%20%20%20%20%7B%0A%20%20%22bubblingMouseEvents%22%3A%20true%2C%0A%20%20%22color%22%3A%20%22crimson%22%2C%0A%20%20%22dashArray%22%3A%20null%2C%0A%20%20%22dashOffset%22%3A%20null%2C%0A%20%20%22fill%22%3A%20false%2C%0A%20%20%22fillColor%22%3A%20%22crimson%22%2C%0A%20%20%22fillOpacity%22%3A%200.2%2C%0A%20%20%22fillRule%22%3A%20%22evenodd%22%2C%0A%20%20%22lineCap%22%3A%20%22round%22%2C%0A%20%20%22lineJoin%22%3A%20%22round%22%2C%0A%20%20%22opacity%22%3A%201.0%2C%0A%20%20%22radius%22%3A%2064669.30820721681%2C%0A%20%20%22stroke%22%3A%20true%2C%0A%20%20%22weight%22%3A%203%0A%7D%0A%20%20%20%20%20%20%20%20%20%20%20%20%20%20%20%20%29%0A%20%20%20%20%20%20%20%20%20%20%20%20%20%20%20%20.addTo%28map_d1434902b390486ea4e7ce6e0848fd01%29%3B%0A%20%20%20%20%20%20%20%20%20%20%20%20%0A%20%20%20%20%0A%20%20%20%20%20%20%20%20circle_2ab0caca13b649568700036996798cce.bindTooltip%28%0A%20%20%20%20%20%20%20%20%20%20%20%20%60%3Cdiv%3E%60%0A%20%20%20%20%20%20%20%20%20%20%20%20%2B%20%60%3Cli%3E%3Cbold%3ECiudad%20%3A%20BARCELONA%3Cli%3E%3Cbold%3EPrecio%20medio%20%3A%2084.90062301877707%60%20%2B%20%60%3C/div%3E%60%2C%0A%20%20%20%20%20%20%20%20%20%20%20%20%7B%22sticky%22%3A%20true%7D%0A%20%20%20%20%20%20%20%20%29%3B%0A%20%20%20%20%20%20%20%20%0A%20%20%20%20%0A%0A%20%20%20%20%20%20%20%20%20%20%20%20var%20circle_1b2f8c3e5f0545b6a1304c0d59301ebf%20%3D%20L.circle%28%0A%20%20%20%20%20%20%20%20%20%20%20%20%20%20%20%20%5B40.4167047%2C%20-3.7035825%5D%2C%0A%20%20%20%20%20%20%20%20%20%20%20%20%20%20%20%20%7B%0A%20%20%22bubblingMouseEvents%22%3A%20true%2C%0A%20%20%22color%22%3A%20%22crimson%22%2C%0A%20%20%22dashArray%22%3A%20null%2C%0A%20%20%22dashOffset%22%3A%20null%2C%0A%20%20%22fill%22%3A%20false%2C%0A%20%20%22fillColor%22%3A%20%22crimson%22%2C%0A%20%20%22fillOpacity%22%3A%200.2%2C%0A%20%20%22fillRule%22%3A%20%22evenodd%22%2C%0A%20%20%22lineCap%22%3A%20%22round%22%2C%0A%20%20%22lineJoin%22%3A%20%22round%22%2C%0A%20%20%22opacity%22%3A%201.0%2C%0A%20%20%22radius%22%3A%2030267.686267701403%2C%0A%20%20%22stroke%22%3A%20true%2C%0A%20%20%22weight%22%3A%203%0A%7D%0A%20%20%20%20%20%20%20%20%20%20%20%20%20%20%20%20%29%0A%20%20%20%20%20%20%20%20%20%20%20%20%20%20%20%20.addTo%28map_d1434902b390486ea4e7ce6e0848fd01%29%3B%0A%20%20%20%20%20%20%20%20%20%20%20%20%0A%20%20%20%20%0A%20%20%20%20%20%20%20%20circle_1b2f8c3e5f0545b6a1304c0d59301ebf.bindTooltip%28%0A%20%20%20%20%20%20%20%20%20%20%20%20%60%3Cdiv%3E%60%0A%20%20%20%20%20%20%20%20%20%20%20%20%2B%20%60%3Cli%3E%3Cbold%3ECiudad%20%3A%20MADRID%3Cli%3E%3Cbold%3EPrecio%20medio%20%3A%2062.14141308531823%60%20%2B%20%60%3C/div%3E%60%2C%0A%20%20%20%20%20%20%20%20%20%20%20%20%7B%22sticky%22%3A%20true%7D%0A%20%20%20%20%20%20%20%20%29%3B%0A%20%20%20%20%20%20%20%20%0A%20%20%20%20%0A%0A%20%20%20%20%20%20%20%20%20%20%20%20var%20circle_0fad42af94b54e3aba3aae2d626eb275%20%3D%20L.circle%28%0A%20%20%20%20%20%20%20%20%20%20%20%20%20%20%20%20%5B42.5454124%2C%20-6.5938719%5D%2C%0A%20%20%20%20%20%20%20%20%20%20%20%20%20%20%20%20%7B%0A%20%20%22bubblingMouseEvents%22%3A%20true%2C%0A%20%20%22color%22%3A%20%22crimson%22%2C%0A%20%20%22dashArray%22%3A%20null%2C%0A%20%20%22dashOffset%22%3A%20null%2C%0A%20%20%22fill%22%3A%20false%2C%0A%20%20%22fillColor%22%3A%20%22crimson%22%2C%0A%20%20%22fillOpacity%22%3A%200.2%2C%0A%20%20%22fillRule%22%3A%20%22evenodd%22%2C%0A%20%20%22lineCap%22%3A%20%22round%22%2C%0A%20%20%22lineJoin%22%3A%20%22round%22%2C%0A%20%20%22opacity%22%3A%201.0%2C%0A%20%20%22radius%22%3A%2014351.410244293067%2C%0A%20%20%22stroke%22%3A%20true%2C%0A%20%20%22weight%22%3A%203%0A%7D%0A%20%20%20%20%20%20%20%20%20%20%20%20%20%20%20%20%29%0A%20%20%20%20%20%20%20%20%20%20%20%20%20%20%20%20.addTo%28map_d1434902b390486ea4e7ce6e0848fd01%29%3B%0A%20%20%20%20%20%20%20%20%20%20%20%20%0A%20%20%20%20%0A%20%20%20%20%20%20%20%20circle_0fad42af94b54e3aba3aae2d626eb275.bindTooltip%28%0A%20%20%20%20%20%20%20%20%20%20%20%20%60%3Cdiv%3E%60%0A%20%20%20%20%20%20%20%20%20%20%20%20%2B%20%60%3Cli%3E%3Cbold%3ECiudad%20%3A%20PONFERRADA%3Cli%3E%3Cbold%3EPrecio%20medio%20%3A%2046.73002723270185%60%20%2B%20%60%3C/div%3E%60%2C%0A%20%20%20%20%20%20%20%20%20%20%20%20%7B%22sticky%22%3A%20true%7D%0A%20%20%20%20%20%20%20%20%29%3B%0A%20%20%20%20%20%20%20%20%0A%20%20%20%20%0A%0A%20%20%20%20%20%20%20%20%20%20%20%20var%20circle_02adee64fcbe4ff49beab1d6488abccc%20%3D%20L.circle%28%0A%20%20%20%20%20%20%20%20%20%20%20%20%20%20%20%20%5B37.3886303%2C%20-5.9953403%5D%2C%0A%20%20%20%20%20%20%20%20%20%20%20%20%20%20%20%20%7B%0A%20%20%22bubblingMouseEvents%22%3A%20true%2C%0A%20%20%22color%22%3A%20%22crimson%22%2C%0A%20%20%22dashArray%22%3A%20null%2C%0A%20%20%22dashOffset%22%3A%20null%2C%0A%20%20%22fill%22%3A%20false%2C%0A%20%20%22fillColor%22%3A%20%22crimson%22%2C%0A%20%20%22fillOpacity%22%3A%200.2%2C%0A%20%20%22fillRule%22%3A%20%22evenodd%22%2C%0A%20%20%22lineCap%22%3A%20%22round%22%2C%0A%20%20%22lineJoin%22%3A%20%22round%22%2C%0A%20%20%22opacity%22%3A%201.0%2C%0A%20%20%22radius%22%3A%2024529.412080194666%2C%0A%20%20%22stroke%22%3A%20true%2C%0A%20%20%22weight%22%3A%203%0A%7D%0A%20%20%20%20%20%20%20%20%20%20%20%20%20%20%20%20%29%0A%20%20%20%20%20%20%20%20%20%20%20%20%20%20%20%20.addTo%28map_d1434902b390486ea4e7ce6e0848fd01%29%3B%0A%20%20%20%20%20%20%20%20%20%20%20%20%0A%20%20%20%20%0A%20%20%20%20%20%20%20%20circle_02adee64fcbe4ff49beab1d6488abccc.bindTooltip%28%0A%20%20%20%20%20%20%20%20%20%20%20%20%60%3Cdiv%3E%60%0A%20%20%20%20%20%20%20%20%20%20%20%20%2B%20%60%3Cli%3E%3Cbold%3ECiudad%20%3A%20SEVILLA%3Cli%3E%3Cbold%3EPrecio%20medio%20%3A%2057.46074204661843%60%20%2B%20%60%3C/div%3E%60%2C%0A%20%20%20%20%20%20%20%20%20%20%20%20%7B%22sticky%22%3A%20true%7D%0A%20%20%20%20%20%20%20%20%29%3B%0A%20%20%20%20%20%20%20%20%0A%20%20%20%20%0A%0A%20%20%20%20%20%20%20%20%20%20%20%20var%20circle_59ba00fc6ca24dbbae502f6779bbec43%20%3D%20L.circle%28%0A%20%20%20%20%20%20%20%20%20%20%20%20%20%20%20%20%5B39.4699014%2C%20-0.3759513%5D%2C%0A%20%20%20%20%20%20%20%20%20%20%20%20%20%20%20%20%7B%0A%20%20%22bubblingMouseEvents%22%3A%20true%2C%0A%20%20%22color%22%3A%20%22crimson%22%2C%0A%20%20%22dashArray%22%3A%20null%2C%0A%20%20%22dashOffset%22%3A%20null%2C%0A%20%20%22fill%22%3A%20false%2C%0A%20%20%22fillColor%22%3A%20%22crimson%22%2C%0A%20%20%22fillOpacity%22%3A%200.2%2C%0A%20%20%22fillRule%22%3A%20%22evenodd%22%2C%0A%20%20%22lineCap%22%3A%20%22round%22%2C%0A%20%20%22lineJoin%22%3A%20%22round%22%2C%0A%20%20%22opacity%22%3A%201.0%2C%0A%20%20%22radius%22%3A%2010119.288512538815%2C%0A%20%20%22stroke%22%3A%20true%2C%0A%20%20%22weight%22%3A%203%0A%7D%0A%20%20%20%20%20%20%20%20%20%20%20%20%20%20%20%20%29%0A%20%20%20%20%20%20%20%20%20%20%20%20%20%20%20%20.addTo%28map_d1434902b390486ea4e7ce6e0848fd01%29%3B%0A%20%20%20%20%20%20%20%20%20%20%20%20%0A%20%20%20%20%0A%20%20%20%20%20%20%20%20circle_59ba00fc6ca24dbbae502f6779bbec43.bindTooltip%28%0A%20%20%20%20%20%20%20%20%20%20%20%20%60%3Cdiv%3E%60%0A%20%20%20%20%20%20%20%20%20%20%20%20%2B%20%60%3Cli%3E%3Cbold%3ECiudad%20%3A%20VALENCIA%3Cli%3E%3Cbold%3EPrecio%20medio%20%3A%2040.56499963589863%60%20%2B%20%60%3C/div%3E%60%2C%0A%20%20%20%20%20%20%20%20%20%20%20%20%7B%22sticky%22%3A%20true%7D%0A%20%20%20%20%20%20%20%20%29%3B%0A%20%20%20%20%20%20%20%20%0A%3C/script%3E onload=\"this.contentDocument.open();this.contentDocument.write(    decodeURIComponent(this.getAttribute('data-html')));this.contentDocument.close();\" allowfullscreen webkitallowfullscreen mozallowfullscreen></iframe></div></div>"
            ]
          },
          "metadata": {},
          "execution_count": 47
        }
      ]
    },
    {
      "cell_type": "code",
      "metadata": {
        "id": "3QL0IACtndy9",
        "colab": {
          "base_uri": "https://localhost:8080/",
          "height": 35
        },
        "outputId": "8453ab95-9be3-4cea-9223-9076487fb904"
      },
      "source": [
        "'''PREGUNTA 13\n",
        "13. Mapa donde muestre las ciudades destino y su tiempo medio de viaje, \n",
        "¿Qué ciudad tiene el mayor tiempo medio?\n",
        "'''"
      ],
      "execution_count": 48,
      "outputs": [
        {
          "output_type": "execute_result",
          "data": {
            "text/plain": [
              "'PREGUNTA 13\\n13. Mapa donde muestre las ciudades destino y su tiempo medio de viaje, \\n¿Qué ciudad tiene el mayor tiempo medio?\\n'"
            ],
            "application/vnd.google.colaboratory.intrinsic+json": {
              "type": "string"
            }
          },
          "metadata": {},
          "execution_count": 48
        }
      ]
    },
    {
      "cell_type": "code",
      "metadata": {
        "id": "AU7E3aKandy9",
        "colab": {
          "base_uri": "https://localhost:8080/",
          "height": 1000
        },
        "outputId": "7d416c3f-322b-44ba-9ce1-846cd9daa11f"
      },
      "source": [
        "df_renfe_clean_2.info()\n",
        "mapa_datos = df_renfe_clean_2.groupby(['CIUDAD_DESTINO', 'LATITUD_DESTINO','LONGITUD_DESTINO'])[\"TIEMPO_VIAJE\"].mean().reset_index()\n",
        "\n",
        "mapa_global3 = folium.Map(location=[40.416705, -3.703582], tiles='cartodbpositron',\n",
        "               min_zoom=4, max_zoom=8, zoom_start=6)\n",
        "\n",
        "for i in range(0, len(mapa_datos)):\n",
        "    folium.Circle(\n",
        "        location=[mapa_datos.iloc[i]['LATITUD_DESTINO'], mapa_datos.iloc[i]['LONGITUD_DESTINO']],\n",
        "        color='crimson', \n",
        "        tooltip ='<li><bold>Ciudad : '+str(mapa_datos.iloc[i]['CIUDAD_DESTINO'])+\n",
        "                 '<li><bold>Tiempo viaje : '+str(mapa_datos.iloc[i]['TIEMPO_VIAJE']),\n",
        "        radius=int(mapa_datos.iloc[i]['TIEMPO_VIAJE'])**2).add_to(mapa_global2)\n",
        "\n",
        "mapa_global2"
      ],
      "execution_count": 49,
      "outputs": [
        {
          "output_type": "stream",
          "name": "stdout",
          "text": [
            "<class 'pandas.core.frame.DataFrame'>\n",
            "Int64Index: 382862 entries, 0 to 382861\n",
            "Data columns (total 20 columns):\n",
            " #   Column                  Non-Null Count   Dtype  \n",
            "---  ------                  --------------   -----  \n",
            " 0   CIUDAD_ORIGEN           382862 non-null  object \n",
            " 1   CIUDAD_DESTINO          382862 non-null  object \n",
            " 2   TIPO_TREN               382862 non-null  object \n",
            " 3   TIPO_TARIFA             381551 non-null  object \n",
            " 4   CLASE                   381551 non-null  object \n",
            " 5   PRECIO                  382862 non-null  float64\n",
            " 6   TIEMPO_VIAJE            382862 non-null  float64\n",
            " 7   DIF_INI_BUS             382862 non-null  float64\n",
            " 8   FECHA_INICIO_HORA       382862 non-null  int64  \n",
            " 9   FECHA_INICIO_NOMBREDIA  382862 non-null  object \n",
            " 10  FECHA_INICIO_DIA        382862 non-null  int64  \n",
            " 11  FECHA_INICIO_MES        382862 non-null  int64  \n",
            " 12  FECHA_FIN_HORA          382862 non-null  int64  \n",
            " 13  FECHA_FIN_NOMBREDIA     382862 non-null  object \n",
            " 14  FECHA_FIN_DIA           382862 non-null  int64  \n",
            " 15  FECHA_FIN_MES           382862 non-null  int64  \n",
            " 16  LATITUD_ORIGEN          382862 non-null  float64\n",
            " 17  LONGITUD_ORIGEN         382862 non-null  float64\n",
            " 18  LATITUD_DESTINO         382862 non-null  float64\n",
            " 19  LONGITUD_DESTINO        382862 non-null  float64\n",
            "dtypes: float64(7), int64(6), object(7)\n",
            "memory usage: 61.3+ MB\n"
          ]
        },
        {
          "output_type": "execute_result",
          "data": {
            "text/plain": [
              "<folium.folium.Map at 0x7f40cd4658d0>"
            ],
            "text/html": [
              "<div style=\"width:100%;\"><div style=\"position:relative;width:100%;height:0;padding-bottom:60%;\"><span style=\"color:#565656\">Make this Notebook Trusted to load map: File -> Trust Notebook</span><iframe src=\"about:blank\" style=\"position:absolute;width:100%;height:100%;left:0;top:0;border:none !important;\" data-html=%3C%21DOCTYPE%20html%3E%0A%3Chead%3E%20%20%20%20%0A%20%20%20%20%3Cmeta%20http-equiv%3D%22content-type%22%20content%3D%22text/html%3B%20charset%3DUTF-8%22%20/%3E%0A%20%20%20%20%3Cscript%3EL_PREFER_CANVAS%3Dfalse%3B%20L_NO_TOUCH%3Dfalse%3B%20L_DISABLE_3D%3Dfalse%3B%3C/script%3E%0A%20%20%20%20%3Cscript%20src%3D%22https%3A//cdn.jsdelivr.net/npm/leaflet%401.4.0/dist/leaflet.js%22%3E%3C/script%3E%0A%20%20%20%20%3Cscript%20src%3D%22https%3A//code.jquery.com/jquery-1.12.4.min.js%22%3E%3C/script%3E%0A%20%20%20%20%3Cscript%20src%3D%22https%3A//maxcdn.bootstrapcdn.com/bootstrap/3.2.0/js/bootstrap.min.js%22%3E%3C/script%3E%0A%20%20%20%20%3Cscript%20src%3D%22https%3A//cdnjs.cloudflare.com/ajax/libs/Leaflet.awesome-markers/2.0.2/leaflet.awesome-markers.js%22%3E%3C/script%3E%0A%20%20%20%20%3Clink%20rel%3D%22stylesheet%22%20href%3D%22https%3A//cdn.jsdelivr.net/npm/leaflet%401.4.0/dist/leaflet.css%22/%3E%0A%20%20%20%20%3Clink%20rel%3D%22stylesheet%22%20href%3D%22https%3A//maxcdn.bootstrapcdn.com/bootstrap/3.2.0/css/bootstrap.min.css%22/%3E%0A%20%20%20%20%3Clink%20rel%3D%22stylesheet%22%20href%3D%22https%3A//maxcdn.bootstrapcdn.com/bootstrap/3.2.0/css/bootstrap-theme.min.css%22/%3E%0A%20%20%20%20%3Clink%20rel%3D%22stylesheet%22%20href%3D%22https%3A//maxcdn.bootstrapcdn.com/font-awesome/4.6.3/css/font-awesome.min.css%22/%3E%0A%20%20%20%20%3Clink%20rel%3D%22stylesheet%22%20href%3D%22https%3A//cdnjs.cloudflare.com/ajax/libs/Leaflet.awesome-markers/2.0.2/leaflet.awesome-markers.css%22/%3E%0A%20%20%20%20%3Clink%20rel%3D%22stylesheet%22%20href%3D%22https%3A//rawcdn.githack.com/python-visualization/folium/master/folium/templates/leaflet.awesome.rotate.css%22/%3E%0A%20%20%20%20%3Cstyle%3Ehtml%2C%20body%20%7Bwidth%3A%20100%25%3Bheight%3A%20100%25%3Bmargin%3A%200%3Bpadding%3A%200%3B%7D%3C/style%3E%0A%20%20%20%20%3Cstyle%3E%23map%20%7Bposition%3Aabsolute%3Btop%3A0%3Bbottom%3A0%3Bright%3A0%3Bleft%3A0%3B%7D%3C/style%3E%0A%20%20%20%20%0A%20%20%20%20%3Cmeta%20name%3D%22viewport%22%20content%3D%22width%3Ddevice-width%2C%0A%20%20%20%20%20%20%20%20initial-scale%3D1.0%2C%20maximum-scale%3D1.0%2C%20user-scalable%3Dno%22%20/%3E%0A%20%20%20%20%3Cstyle%3E%23map_d1434902b390486ea4e7ce6e0848fd01%20%7B%0A%20%20%20%20%20%20%20%20position%3A%20relative%3B%0A%20%20%20%20%20%20%20%20width%3A%20100.0%25%3B%0A%20%20%20%20%20%20%20%20height%3A%20100.0%25%3B%0A%20%20%20%20%20%20%20%20left%3A%200.0%25%3B%0A%20%20%20%20%20%20%20%20top%3A%200.0%25%3B%0A%20%20%20%20%20%20%20%20%7D%0A%20%20%20%20%3C/style%3E%0A%3C/head%3E%0A%3Cbody%3E%20%20%20%20%0A%20%20%20%20%0A%20%20%20%20%3Cdiv%20class%3D%22folium-map%22%20id%3D%22map_d1434902b390486ea4e7ce6e0848fd01%22%20%3E%3C/div%3E%0A%3C/body%3E%0A%3Cscript%3E%20%20%20%20%0A%20%20%20%20%0A%20%20%20%20%0A%20%20%20%20%20%20%20%20var%20bounds%20%3D%20null%3B%0A%20%20%20%20%0A%0A%20%20%20%20var%20map_d1434902b390486ea4e7ce6e0848fd01%20%3D%20L.map%28%0A%20%20%20%20%20%20%20%20%27map_d1434902b390486ea4e7ce6e0848fd01%27%2C%20%7B%0A%20%20%20%20%20%20%20%20center%3A%20%5B40.416705%2C%20-3.703582%5D%2C%0A%20%20%20%20%20%20%20%20zoom%3A%206%2C%0A%20%20%20%20%20%20%20%20maxBounds%3A%20bounds%2C%0A%20%20%20%20%20%20%20%20layers%3A%20%5B%5D%2C%0A%20%20%20%20%20%20%20%20worldCopyJump%3A%20false%2C%0A%20%20%20%20%20%20%20%20crs%3A%20L.CRS.EPSG3857%2C%0A%20%20%20%20%20%20%20%20zoomControl%3A%20true%2C%0A%20%20%20%20%20%20%20%20%7D%29%3B%0A%0A%0A%20%20%20%20%0A%20%20%20%20var%20tile_layer_03d382b66bdd48b8b356fbe425a48c23%20%3D%20L.tileLayer%28%0A%20%20%20%20%20%20%20%20%27https%3A//cartodb-basemaps-%7Bs%7D.global.ssl.fastly.net/light_all/%7Bz%7D/%7Bx%7D/%7By%7D.png%27%2C%0A%20%20%20%20%20%20%20%20%7B%0A%20%20%20%20%20%20%20%20%22attribution%22%3A%20null%2C%0A%20%20%20%20%20%20%20%20%22detectRetina%22%3A%20false%2C%0A%20%20%20%20%20%20%20%20%22maxNativeZoom%22%3A%208%2C%0A%20%20%20%20%20%20%20%20%22maxZoom%22%3A%208%2C%0A%20%20%20%20%20%20%20%20%22minZoom%22%3A%204%2C%0A%20%20%20%20%20%20%20%20%22noWrap%22%3A%20false%2C%0A%20%20%20%20%20%20%20%20%22opacity%22%3A%201%2C%0A%20%20%20%20%20%20%20%20%22subdomains%22%3A%20%22abc%22%2C%0A%20%20%20%20%20%20%20%20%22tms%22%3A%20false%0A%7D%29.addTo%28map_d1434902b390486ea4e7ce6e0848fd01%29%3B%0A%20%20%20%20%0A%0A%20%20%20%20%20%20%20%20%20%20%20%20var%20circle_2ab0caca13b649568700036996798cce%20%3D%20L.circle%28%0A%20%20%20%20%20%20%20%20%20%20%20%20%20%20%20%20%5B41.3828939%2C%202.1774322%5D%2C%0A%20%20%20%20%20%20%20%20%20%20%20%20%20%20%20%20%7B%0A%20%20%22bubblingMouseEvents%22%3A%20true%2C%0A%20%20%22color%22%3A%20%22crimson%22%2C%0A%20%20%22dashArray%22%3A%20null%2C%0A%20%20%22dashOffset%22%3A%20null%2C%0A%20%20%22fill%22%3A%20false%2C%0A%20%20%22fillColor%22%3A%20%22crimson%22%2C%0A%20%20%22fillOpacity%22%3A%200.2%2C%0A%20%20%22fillRule%22%3A%20%22evenodd%22%2C%0A%20%20%22lineCap%22%3A%20%22round%22%2C%0A%20%20%22lineJoin%22%3A%20%22round%22%2C%0A%20%20%22opacity%22%3A%201.0%2C%0A%20%20%22radius%22%3A%2064669.30820721681%2C%0A%20%20%22stroke%22%3A%20true%2C%0A%20%20%22weight%22%3A%203%0A%7D%0A%20%20%20%20%20%20%20%20%20%20%20%20%20%20%20%20%29%0A%20%20%20%20%20%20%20%20%20%20%20%20%20%20%20%20.addTo%28map_d1434902b390486ea4e7ce6e0848fd01%29%3B%0A%20%20%20%20%20%20%20%20%20%20%20%20%0A%20%20%20%20%0A%20%20%20%20%20%20%20%20circle_2ab0caca13b649568700036996798cce.bindTooltip%28%0A%20%20%20%20%20%20%20%20%20%20%20%20%60%3Cdiv%3E%60%0A%20%20%20%20%20%20%20%20%20%20%20%20%2B%20%60%3Cli%3E%3Cbold%3ECiudad%20%3A%20BARCELONA%3Cli%3E%3Cbold%3EPrecio%20medio%20%3A%2084.90062301877707%60%20%2B%20%60%3C/div%3E%60%2C%0A%20%20%20%20%20%20%20%20%20%20%20%20%7B%22sticky%22%3A%20true%7D%0A%20%20%20%20%20%20%20%20%29%3B%0A%20%20%20%20%20%20%20%20%0A%20%20%20%20%0A%0A%20%20%20%20%20%20%20%20%20%20%20%20var%20circle_1b2f8c3e5f0545b6a1304c0d59301ebf%20%3D%20L.circle%28%0A%20%20%20%20%20%20%20%20%20%20%20%20%20%20%20%20%5B40.4167047%2C%20-3.7035825%5D%2C%0A%20%20%20%20%20%20%20%20%20%20%20%20%20%20%20%20%7B%0A%20%20%22bubblingMouseEvents%22%3A%20true%2C%0A%20%20%22color%22%3A%20%22crimson%22%2C%0A%20%20%22dashArray%22%3A%20null%2C%0A%20%20%22dashOffset%22%3A%20null%2C%0A%20%20%22fill%22%3A%20false%2C%0A%20%20%22fillColor%22%3A%20%22crimson%22%2C%0A%20%20%22fillOpacity%22%3A%200.2%2C%0A%20%20%22fillRule%22%3A%20%22evenodd%22%2C%0A%20%20%22lineCap%22%3A%20%22round%22%2C%0A%20%20%22lineJoin%22%3A%20%22round%22%2C%0A%20%20%22opacity%22%3A%201.0%2C%0A%20%20%22radius%22%3A%2030267.686267701403%2C%0A%20%20%22stroke%22%3A%20true%2C%0A%20%20%22weight%22%3A%203%0A%7D%0A%20%20%20%20%20%20%20%20%20%20%20%20%20%20%20%20%29%0A%20%20%20%20%20%20%20%20%20%20%20%20%20%20%20%20.addTo%28map_d1434902b390486ea4e7ce6e0848fd01%29%3B%0A%20%20%20%20%20%20%20%20%20%20%20%20%0A%20%20%20%20%0A%20%20%20%20%20%20%20%20circle_1b2f8c3e5f0545b6a1304c0d59301ebf.bindTooltip%28%0A%20%20%20%20%20%20%20%20%20%20%20%20%60%3Cdiv%3E%60%0A%20%20%20%20%20%20%20%20%20%20%20%20%2B%20%60%3Cli%3E%3Cbold%3ECiudad%20%3A%20MADRID%3Cli%3E%3Cbold%3EPrecio%20medio%20%3A%2062.14141308531823%60%20%2B%20%60%3C/div%3E%60%2C%0A%20%20%20%20%20%20%20%20%20%20%20%20%7B%22sticky%22%3A%20true%7D%0A%20%20%20%20%20%20%20%20%29%3B%0A%20%20%20%20%20%20%20%20%0A%20%20%20%20%0A%0A%20%20%20%20%20%20%20%20%20%20%20%20var%20circle_0fad42af94b54e3aba3aae2d626eb275%20%3D%20L.circle%28%0A%20%20%20%20%20%20%20%20%20%20%20%20%20%20%20%20%5B42.5454124%2C%20-6.5938719%5D%2C%0A%20%20%20%20%20%20%20%20%20%20%20%20%20%20%20%20%7B%0A%20%20%22bubblingMouseEvents%22%3A%20true%2C%0A%20%20%22color%22%3A%20%22crimson%22%2C%0A%20%20%22dashArray%22%3A%20null%2C%0A%20%20%22dashOffset%22%3A%20null%2C%0A%20%20%22fill%22%3A%20false%2C%0A%20%20%22fillColor%22%3A%20%22crimson%22%2C%0A%20%20%22fillOpacity%22%3A%200.2%2C%0A%20%20%22fillRule%22%3A%20%22evenodd%22%2C%0A%20%20%22lineCap%22%3A%20%22round%22%2C%0A%20%20%22lineJoin%22%3A%20%22round%22%2C%0A%20%20%22opacity%22%3A%201.0%2C%0A%20%20%22radius%22%3A%2014351.410244293067%2C%0A%20%20%22stroke%22%3A%20true%2C%0A%20%20%22weight%22%3A%203%0A%7D%0A%20%20%20%20%20%20%20%20%20%20%20%20%20%20%20%20%29%0A%20%20%20%20%20%20%20%20%20%20%20%20%20%20%20%20.addTo%28map_d1434902b390486ea4e7ce6e0848fd01%29%3B%0A%20%20%20%20%20%20%20%20%20%20%20%20%0A%20%20%20%20%0A%20%20%20%20%20%20%20%20circle_0fad42af94b54e3aba3aae2d626eb275.bindTooltip%28%0A%20%20%20%20%20%20%20%20%20%20%20%20%60%3Cdiv%3E%60%0A%20%20%20%20%20%20%20%20%20%20%20%20%2B%20%60%3Cli%3E%3Cbold%3ECiudad%20%3A%20PONFERRADA%3Cli%3E%3Cbold%3EPrecio%20medio%20%3A%2046.73002723270185%60%20%2B%20%60%3C/div%3E%60%2C%0A%20%20%20%20%20%20%20%20%20%20%20%20%7B%22sticky%22%3A%20true%7D%0A%20%20%20%20%20%20%20%20%29%3B%0A%20%20%20%20%20%20%20%20%0A%20%20%20%20%0A%0A%20%20%20%20%20%20%20%20%20%20%20%20var%20circle_02adee64fcbe4ff49beab1d6488abccc%20%3D%20L.circle%28%0A%20%20%20%20%20%20%20%20%20%20%20%20%20%20%20%20%5B37.3886303%2C%20-5.9953403%5D%2C%0A%20%20%20%20%20%20%20%20%20%20%20%20%20%20%20%20%7B%0A%20%20%22bubblingMouseEvents%22%3A%20true%2C%0A%20%20%22color%22%3A%20%22crimson%22%2C%0A%20%20%22dashArray%22%3A%20null%2C%0A%20%20%22dashOffset%22%3A%20null%2C%0A%20%20%22fill%22%3A%20false%2C%0A%20%20%22fillColor%22%3A%20%22crimson%22%2C%0A%20%20%22fillOpacity%22%3A%200.2%2C%0A%20%20%22fillRule%22%3A%20%22evenodd%22%2C%0A%20%20%22lineCap%22%3A%20%22round%22%2C%0A%20%20%22lineJoin%22%3A%20%22round%22%2C%0A%20%20%22opacity%22%3A%201.0%2C%0A%20%20%22radius%22%3A%2024529.412080194666%2C%0A%20%20%22stroke%22%3A%20true%2C%0A%20%20%22weight%22%3A%203%0A%7D%0A%20%20%20%20%20%20%20%20%20%20%20%20%20%20%20%20%29%0A%20%20%20%20%20%20%20%20%20%20%20%20%20%20%20%20.addTo%28map_d1434902b390486ea4e7ce6e0848fd01%29%3B%0A%20%20%20%20%20%20%20%20%20%20%20%20%0A%20%20%20%20%0A%20%20%20%20%20%20%20%20circle_02adee64fcbe4ff49beab1d6488abccc.bindTooltip%28%0A%20%20%20%20%20%20%20%20%20%20%20%20%60%3Cdiv%3E%60%0A%20%20%20%20%20%20%20%20%20%20%20%20%2B%20%60%3Cli%3E%3Cbold%3ECiudad%20%3A%20SEVILLA%3Cli%3E%3Cbold%3EPrecio%20medio%20%3A%2057.46074204661843%60%20%2B%20%60%3C/div%3E%60%2C%0A%20%20%20%20%20%20%20%20%20%20%20%20%7B%22sticky%22%3A%20true%7D%0A%20%20%20%20%20%20%20%20%29%3B%0A%20%20%20%20%20%20%20%20%0A%20%20%20%20%0A%0A%20%20%20%20%20%20%20%20%20%20%20%20var%20circle_59ba00fc6ca24dbbae502f6779bbec43%20%3D%20L.circle%28%0A%20%20%20%20%20%20%20%20%20%20%20%20%20%20%20%20%5B39.4699014%2C%20-0.3759513%5D%2C%0A%20%20%20%20%20%20%20%20%20%20%20%20%20%20%20%20%7B%0A%20%20%22bubblingMouseEvents%22%3A%20true%2C%0A%20%20%22color%22%3A%20%22crimson%22%2C%0A%20%20%22dashArray%22%3A%20null%2C%0A%20%20%22dashOffset%22%3A%20null%2C%0A%20%20%22fill%22%3A%20false%2C%0A%20%20%22fillColor%22%3A%20%22crimson%22%2C%0A%20%20%22fillOpacity%22%3A%200.2%2C%0A%20%20%22fillRule%22%3A%20%22evenodd%22%2C%0A%20%20%22lineCap%22%3A%20%22round%22%2C%0A%20%20%22lineJoin%22%3A%20%22round%22%2C%0A%20%20%22opacity%22%3A%201.0%2C%0A%20%20%22radius%22%3A%2010119.288512538815%2C%0A%20%20%22stroke%22%3A%20true%2C%0A%20%20%22weight%22%3A%203%0A%7D%0A%20%20%20%20%20%20%20%20%20%20%20%20%20%20%20%20%29%0A%20%20%20%20%20%20%20%20%20%20%20%20%20%20%20%20.addTo%28map_d1434902b390486ea4e7ce6e0848fd01%29%3B%0A%20%20%20%20%20%20%20%20%20%20%20%20%0A%20%20%20%20%0A%20%20%20%20%20%20%20%20circle_59ba00fc6ca24dbbae502f6779bbec43.bindTooltip%28%0A%20%20%20%20%20%20%20%20%20%20%20%20%60%3Cdiv%3E%60%0A%20%20%20%20%20%20%20%20%20%20%20%20%2B%20%60%3Cli%3E%3Cbold%3ECiudad%20%3A%20VALENCIA%3Cli%3E%3Cbold%3EPrecio%20medio%20%3A%2040.56499963589863%60%20%2B%20%60%3C/div%3E%60%2C%0A%20%20%20%20%20%20%20%20%20%20%20%20%7B%22sticky%22%3A%20true%7D%0A%20%20%20%20%20%20%20%20%29%3B%0A%20%20%20%20%20%20%20%20%0A%20%20%20%20%0A%0A%20%20%20%20%20%20%20%20%20%20%20%20var%20circle_eb346ada938a4591be915e62d11265b3%20%3D%20L.circle%28%0A%20%20%20%20%20%20%20%20%20%20%20%20%20%20%20%20%5B41.3828939%2C%202.1774322%5D%2C%0A%20%20%20%20%20%20%20%20%20%20%20%20%20%20%20%20%7B%0A%20%20%22bubblingMouseEvents%22%3A%20true%2C%0A%20%20%22color%22%3A%20%22crimson%22%2C%0A%20%20%22dashArray%22%3A%20null%2C%0A%20%20%22dashOffset%22%3A%20null%2C%0A%20%20%22fill%22%3A%20false%2C%0A%20%20%22fillColor%22%3A%20%22crimson%22%2C%0A%20%20%22fillOpacity%22%3A%200.2%2C%0A%20%20%22fillRule%22%3A%20%22evenodd%22%2C%0A%20%20%22lineCap%22%3A%20%22round%22%2C%0A%20%20%22lineJoin%22%3A%20%22round%22%2C%0A%20%20%22opacity%22%3A%201.0%2C%0A%20%20%22radius%22%3A%2033489%2C%0A%20%20%22stroke%22%3A%20true%2C%0A%20%20%22weight%22%3A%203%0A%7D%0A%20%20%20%20%20%20%20%20%20%20%20%20%20%20%20%20%29%0A%20%20%20%20%20%20%20%20%20%20%20%20%20%20%20%20.addTo%28map_d1434902b390486ea4e7ce6e0848fd01%29%3B%0A%20%20%20%20%20%20%20%20%20%20%20%20%0A%20%20%20%20%0A%20%20%20%20%20%20%20%20circle_eb346ada938a4591be915e62d11265b3.bindTooltip%28%0A%20%20%20%20%20%20%20%20%20%20%20%20%60%3Cdiv%3E%60%0A%20%20%20%20%20%20%20%20%20%20%20%20%2B%20%60%3Cli%3E%3Cbold%3ECiudad%20%3A%20BARCELONA%3Cli%3E%3Cbold%3ETiempo%20viaje%20%3A%20183.63169255314156%60%20%2B%20%60%3C/div%3E%60%2C%0A%20%20%20%20%20%20%20%20%20%20%20%20%7B%22sticky%22%3A%20true%7D%0A%20%20%20%20%20%20%20%20%29%3B%0A%20%20%20%20%20%20%20%20%0A%20%20%20%20%0A%0A%20%20%20%20%20%20%20%20%20%20%20%20var%20circle_d5eee4a807464712ac50aeecb4525cc6%20%3D%20L.circle%28%0A%20%20%20%20%20%20%20%20%20%20%20%20%20%20%20%20%5B40.4167047%2C%20-3.7035825%5D%2C%0A%20%20%20%20%20%20%20%20%20%20%20%20%20%20%20%20%7B%0A%20%20%22bubblingMouseEvents%22%3A%20true%2C%0A%20%20%22color%22%3A%20%22crimson%22%2C%0A%20%20%22dashArray%22%3A%20null%2C%0A%20%20%22dashOffset%22%3A%20null%2C%0A%20%20%22fill%22%3A%20false%2C%0A%20%20%22fillColor%22%3A%20%22crimson%22%2C%0A%20%20%22fillOpacity%22%3A%200.2%2C%0A%20%20%22fillRule%22%3A%20%22evenodd%22%2C%0A%20%20%22lineCap%22%3A%20%22round%22%2C%0A%20%20%22lineJoin%22%3A%20%22round%22%2C%0A%20%20%22opacity%22%3A%201.0%2C%0A%20%20%22radius%22%3A%2036864%2C%0A%20%20%22stroke%22%3A%20true%2C%0A%20%20%22weight%22%3A%203%0A%7D%0A%20%20%20%20%20%20%20%20%20%20%20%20%20%20%20%20%29%0A%20%20%20%20%20%20%20%20%20%20%20%20%20%20%20%20.addTo%28map_d1434902b390486ea4e7ce6e0848fd01%29%3B%0A%20%20%20%20%20%20%20%20%20%20%20%20%0A%20%20%20%20%0A%20%20%20%20%20%20%20%20circle_d5eee4a807464712ac50aeecb4525cc6.bindTooltip%28%0A%20%20%20%20%20%20%20%20%20%20%20%20%60%3Cdiv%3E%60%0A%20%20%20%20%20%20%20%20%20%20%20%20%2B%20%60%3Cli%3E%3Cbold%3ECiudad%20%3A%20MADRID%3Cli%3E%3Cbold%3ETiempo%20viaje%20%3A%20192.17449685452505%60%20%2B%20%60%3C/div%3E%60%2C%0A%20%20%20%20%20%20%20%20%20%20%20%20%7B%22sticky%22%3A%20true%7D%0A%20%20%20%20%20%20%20%20%29%3B%0A%20%20%20%20%20%20%20%20%0A%20%20%20%20%0A%0A%20%20%20%20%20%20%20%20%20%20%20%20var%20circle_5b8bd6645890464ba171a7382f27c3cc%20%3D%20L.circle%28%0A%20%20%20%20%20%20%20%20%20%20%20%20%20%20%20%20%5B42.5454124%2C%20-6.5938719%5D%2C%0A%20%20%20%20%20%20%20%20%20%20%20%20%20%20%20%20%7B%0A%20%20%22bubblingMouseEvents%22%3A%20true%2C%0A%20%20%22color%22%3A%20%22crimson%22%2C%0A%20%20%22dashArray%22%3A%20null%2C%0A%20%20%22dashOffset%22%3A%20null%2C%0A%20%20%22fill%22%3A%20false%2C%0A%20%20%22fillColor%22%3A%20%22crimson%22%2C%0A%20%20%22fillOpacity%22%3A%200.2%2C%0A%20%20%22fillRule%22%3A%20%22evenodd%22%2C%0A%20%20%22lineCap%22%3A%20%22round%22%2C%0A%20%20%22lineJoin%22%3A%20%22round%22%2C%0A%20%20%22opacity%22%3A%201.0%2C%0A%20%20%22radius%22%3A%2082944%2C%0A%20%20%22stroke%22%3A%20true%2C%0A%20%20%22weight%22%3A%203%0A%7D%0A%20%20%20%20%20%20%20%20%20%20%20%20%20%20%20%20%29%0A%20%20%20%20%20%20%20%20%20%20%20%20%20%20%20%20.addTo%28map_d1434902b390486ea4e7ce6e0848fd01%29%3B%0A%20%20%20%20%20%20%20%20%20%20%20%20%0A%20%20%20%20%0A%20%20%20%20%20%20%20%20circle_5b8bd6645890464ba171a7382f27c3cc.bindTooltip%28%0A%20%20%20%20%20%20%20%20%20%20%20%20%60%3Cdiv%3E%60%0A%20%20%20%20%20%20%20%20%20%20%20%20%2B%20%60%3Cli%3E%3Cbold%3ECiudad%20%3A%20PONFERRADA%3Cli%3E%3Cbold%3ETiempo%20viaje%20%3A%20288.8293918918919%60%20%2B%20%60%3C/div%3E%60%2C%0A%20%20%20%20%20%20%20%20%20%20%20%20%7B%22sticky%22%3A%20true%7D%0A%20%20%20%20%20%20%20%20%29%3B%0A%20%20%20%20%20%20%20%20%0A%20%20%20%20%0A%0A%20%20%20%20%20%20%20%20%20%20%20%20var%20circle_51464d6a07954ad5a1b938a0c3758e36%20%3D%20L.circle%28%0A%20%20%20%20%20%20%20%20%20%20%20%20%20%20%20%20%5B37.3886303%2C%20-5.9953403%5D%2C%0A%20%20%20%20%20%20%20%20%20%20%20%20%20%20%20%20%7B%0A%20%20%22bubblingMouseEvents%22%3A%20true%2C%0A%20%20%22color%22%3A%20%22crimson%22%2C%0A%20%20%22dashArray%22%3A%20null%2C%0A%20%20%22dashOffset%22%3A%20null%2C%0A%20%20%22fill%22%3A%20false%2C%0A%20%20%22fillColor%22%3A%20%22crimson%22%2C%0A%20%20%22fillOpacity%22%3A%200.2%2C%0A%20%20%22fillRule%22%3A%20%22evenodd%22%2C%0A%20%20%22lineCap%22%3A%20%22round%22%2C%0A%20%20%22lineJoin%22%3A%20%22round%22%2C%0A%20%20%22opacity%22%3A%201.0%2C%0A%20%20%22radius%22%3A%2026896%2C%0A%20%20%22stroke%22%3A%20true%2C%0A%20%20%22weight%22%3A%203%0A%7D%0A%20%20%20%20%20%20%20%20%20%20%20%20%20%20%20%20%29%0A%20%20%20%20%20%20%20%20%20%20%20%20%20%20%20%20.addTo%28map_d1434902b390486ea4e7ce6e0848fd01%29%3B%0A%20%20%20%20%20%20%20%20%20%20%20%20%0A%20%20%20%20%0A%20%20%20%20%20%20%20%20circle_51464d6a07954ad5a1b938a0c3758e36.bindTooltip%28%0A%20%20%20%20%20%20%20%20%20%20%20%20%60%3Cdiv%3E%60%0A%20%20%20%20%20%20%20%20%20%20%20%20%2B%20%60%3Cli%3E%3Cbold%3ECiudad%20%3A%20SEVILLA%3Cli%3E%3Cbold%3ETiempo%20viaje%20%3A%20164.83358947664138%60%20%2B%20%60%3C/div%3E%60%2C%0A%20%20%20%20%20%20%20%20%20%20%20%20%7B%22sticky%22%3A%20true%7D%0A%20%20%20%20%20%20%20%20%29%3B%0A%20%20%20%20%20%20%20%20%0A%20%20%20%20%0A%0A%20%20%20%20%20%20%20%20%20%20%20%20var%20circle_df49bc74362f4527b997cbac18b5e8c7%20%3D%20L.circle%28%0A%20%20%20%20%20%20%20%20%20%20%20%20%20%20%20%20%5B39.4699014%2C%20-0.3759513%5D%2C%0A%20%20%20%20%20%20%20%20%20%20%20%20%20%20%20%20%7B%0A%20%20%22bubblingMouseEvents%22%3A%20true%2C%0A%20%20%22color%22%3A%20%22crimson%22%2C%0A%20%20%22dashArray%22%3A%20null%2C%0A%20%20%22dashOffset%22%3A%20null%2C%0A%20%20%22fill%22%3A%20false%2C%0A%20%20%22fillColor%22%3A%20%22crimson%22%2C%0A%20%20%22fillOpacity%22%3A%200.2%2C%0A%20%20%22fillRule%22%3A%20%22evenodd%22%2C%0A%20%20%22lineCap%22%3A%20%22round%22%2C%0A%20%20%22lineJoin%22%3A%20%22round%22%2C%0A%20%20%22opacity%22%3A%201.0%2C%0A%20%20%22radius%22%3A%2032400%2C%0A%20%20%22stroke%22%3A%20true%2C%0A%20%20%22weight%22%3A%203%0A%7D%0A%20%20%20%20%20%20%20%20%20%20%20%20%20%20%20%20%29%0A%20%20%20%20%20%20%20%20%20%20%20%20%20%20%20%20.addTo%28map_d1434902b390486ea4e7ce6e0848fd01%29%3B%0A%20%20%20%20%20%20%20%20%20%20%20%20%0A%20%20%20%20%0A%20%20%20%20%20%20%20%20circle_df49bc74362f4527b997cbac18b5e8c7.bindTooltip%28%0A%20%20%20%20%20%20%20%20%20%20%20%20%60%3Cdiv%3E%60%0A%20%20%20%20%20%20%20%20%20%20%20%20%2B%20%60%3Cli%3E%3Cbold%3ECiudad%20%3A%20VALENCIA%3Cli%3E%3Cbold%3ETiempo%20viaje%20%3A%20180.6208032280871%60%20%2B%20%60%3C/div%3E%60%2C%0A%20%20%20%20%20%20%20%20%20%20%20%20%7B%22sticky%22%3A%20true%7D%0A%20%20%20%20%20%20%20%20%29%3B%0A%20%20%20%20%20%20%20%20%0A%3C/script%3E onload=\"this.contentDocument.open();this.contentDocument.write(    decodeURIComponent(this.getAttribute('data-html')));this.contentDocument.close();\" allowfullscreen webkitallowfullscreen mozallowfullscreen></iframe></div></div>"
            ]
          },
          "metadata": {},
          "execution_count": 49
        }
      ]
    },
    {
      "cell_type": "code",
      "metadata": {
        "colab": {
          "base_uri": "https://localhost:8080/",
          "height": 270
        },
        "id": "-EmLDiXahYA1",
        "outputId": "d3feeb8f-ad23-4db9-a9e0-8a94853e3a75"
      },
      "source": [
        "df_renfe_clean_2.head()"
      ],
      "execution_count": 50,
      "outputs": [
        {
          "output_type": "execute_result",
          "data": {
            "text/plain": [
              "  CIUDAD_ORIGEN CIUDAD_DESTINO TIPO_TREN TIPO_TARIFA    CLASE  PRECIO  \\\n",
              "0       SEVILLA         MADRID     ALVIA    Flexible  Turista   67.20   \n",
              "1     BARCELONA         MADRID       AVE    Flexible  Turista  107.70   \n",
              "2       SEVILLA         MADRID       AVE       Promo  Turista   47.30   \n",
              "3      VALENCIA         MADRID  REGIONAL  Adulto ida  Turista   28.35   \n",
              "4        MADRID      BARCELONA   AVE-TGV       Promo  Turista   66.75   \n",
              "\n",
              "   TIEMPO_VIAJE   DIF_INI_BUS  FECHA_INICIO_HORA FECHA_INICIO_NOMBREDIA  \\\n",
              "0         158.0  50092.950000                 20                 Friday   \n",
              "1         190.0  31494.816667                 10                 Sunday   \n",
              "2         150.0  52275.950000                 13               Thursday   \n",
              "3         460.0  26968.016667                 14              Wednesday   \n",
              "4         179.0  68741.383333                 13              Wednesday   \n",
              "\n",
              "   FECHA_INICIO_DIA  FECHA_INICIO_MES  FECHA_FIN_HORA FECHA_FIN_NOMBREDIA  \\\n",
              "0                28                 6              23              Friday   \n",
              "1                14                 7              13              Sunday   \n",
              "2                23                 5              16            Thursday   \n",
              "3                29                 5              22           Wednesday   \n",
              "4                26                 6              16           Wednesday   \n",
              "\n",
              "   FECHA_FIN_DIA  FECHA_FIN_MES  LATITUD_ORIGEN  LONGITUD_ORIGEN  \\\n",
              "0             28              6       37.388630        -5.995340   \n",
              "1             14              7       41.382894         2.177432   \n",
              "2             23              5       37.388630        -5.995340   \n",
              "3             29              5       39.469901        -0.375951   \n",
              "4             26              6       40.416705        -3.703582   \n",
              "\n",
              "   LATITUD_DESTINO  LONGITUD_DESTINO  \n",
              "0        40.416705         -3.703582  \n",
              "1        40.416705         -3.703582  \n",
              "2        40.416705         -3.703582  \n",
              "3        40.416705         -3.703582  \n",
              "4        41.382894          2.177432  "
            ],
            "text/html": [
              "\n",
              "  <div id=\"df-74be676a-2082-456a-a5ed-46af2e06d1aa\">\n",
              "    <div class=\"colab-df-container\">\n",
              "      <div>\n",
              "<style scoped>\n",
              "    .dataframe tbody tr th:only-of-type {\n",
              "        vertical-align: middle;\n",
              "    }\n",
              "\n",
              "    .dataframe tbody tr th {\n",
              "        vertical-align: top;\n",
              "    }\n",
              "\n",
              "    .dataframe thead th {\n",
              "        text-align: right;\n",
              "    }\n",
              "</style>\n",
              "<table border=\"1\" class=\"dataframe\">\n",
              "  <thead>\n",
              "    <tr style=\"text-align: right;\">\n",
              "      <th></th>\n",
              "      <th>CIUDAD_ORIGEN</th>\n",
              "      <th>CIUDAD_DESTINO</th>\n",
              "      <th>TIPO_TREN</th>\n",
              "      <th>TIPO_TARIFA</th>\n",
              "      <th>CLASE</th>\n",
              "      <th>PRECIO</th>\n",
              "      <th>TIEMPO_VIAJE</th>\n",
              "      <th>DIF_INI_BUS</th>\n",
              "      <th>FECHA_INICIO_HORA</th>\n",
              "      <th>FECHA_INICIO_NOMBREDIA</th>\n",
              "      <th>FECHA_INICIO_DIA</th>\n",
              "      <th>FECHA_INICIO_MES</th>\n",
              "      <th>FECHA_FIN_HORA</th>\n",
              "      <th>FECHA_FIN_NOMBREDIA</th>\n",
              "      <th>FECHA_FIN_DIA</th>\n",
              "      <th>FECHA_FIN_MES</th>\n",
              "      <th>LATITUD_ORIGEN</th>\n",
              "      <th>LONGITUD_ORIGEN</th>\n",
              "      <th>LATITUD_DESTINO</th>\n",
              "      <th>LONGITUD_DESTINO</th>\n",
              "    </tr>\n",
              "  </thead>\n",
              "  <tbody>\n",
              "    <tr>\n",
              "      <th>0</th>\n",
              "      <td>SEVILLA</td>\n",
              "      <td>MADRID</td>\n",
              "      <td>ALVIA</td>\n",
              "      <td>Flexible</td>\n",
              "      <td>Turista</td>\n",
              "      <td>67.20</td>\n",
              "      <td>158.0</td>\n",
              "      <td>50092.950000</td>\n",
              "      <td>20</td>\n",
              "      <td>Friday</td>\n",
              "      <td>28</td>\n",
              "      <td>6</td>\n",
              "      <td>23</td>\n",
              "      <td>Friday</td>\n",
              "      <td>28</td>\n",
              "      <td>6</td>\n",
              "      <td>37.388630</td>\n",
              "      <td>-5.995340</td>\n",
              "      <td>40.416705</td>\n",
              "      <td>-3.703582</td>\n",
              "    </tr>\n",
              "    <tr>\n",
              "      <th>1</th>\n",
              "      <td>BARCELONA</td>\n",
              "      <td>MADRID</td>\n",
              "      <td>AVE</td>\n",
              "      <td>Flexible</td>\n",
              "      <td>Turista</td>\n",
              "      <td>107.70</td>\n",
              "      <td>190.0</td>\n",
              "      <td>31494.816667</td>\n",
              "      <td>10</td>\n",
              "      <td>Sunday</td>\n",
              "      <td>14</td>\n",
              "      <td>7</td>\n",
              "      <td>13</td>\n",
              "      <td>Sunday</td>\n",
              "      <td>14</td>\n",
              "      <td>7</td>\n",
              "      <td>41.382894</td>\n",
              "      <td>2.177432</td>\n",
              "      <td>40.416705</td>\n",
              "      <td>-3.703582</td>\n",
              "    </tr>\n",
              "    <tr>\n",
              "      <th>2</th>\n",
              "      <td>SEVILLA</td>\n",
              "      <td>MADRID</td>\n",
              "      <td>AVE</td>\n",
              "      <td>Promo</td>\n",
              "      <td>Turista</td>\n",
              "      <td>47.30</td>\n",
              "      <td>150.0</td>\n",
              "      <td>52275.950000</td>\n",
              "      <td>13</td>\n",
              "      <td>Thursday</td>\n",
              "      <td>23</td>\n",
              "      <td>5</td>\n",
              "      <td>16</td>\n",
              "      <td>Thursday</td>\n",
              "      <td>23</td>\n",
              "      <td>5</td>\n",
              "      <td>37.388630</td>\n",
              "      <td>-5.995340</td>\n",
              "      <td>40.416705</td>\n",
              "      <td>-3.703582</td>\n",
              "    </tr>\n",
              "    <tr>\n",
              "      <th>3</th>\n",
              "      <td>VALENCIA</td>\n",
              "      <td>MADRID</td>\n",
              "      <td>REGIONAL</td>\n",
              "      <td>Adulto ida</td>\n",
              "      <td>Turista</td>\n",
              "      <td>28.35</td>\n",
              "      <td>460.0</td>\n",
              "      <td>26968.016667</td>\n",
              "      <td>14</td>\n",
              "      <td>Wednesday</td>\n",
              "      <td>29</td>\n",
              "      <td>5</td>\n",
              "      <td>22</td>\n",
              "      <td>Wednesday</td>\n",
              "      <td>29</td>\n",
              "      <td>5</td>\n",
              "      <td>39.469901</td>\n",
              "      <td>-0.375951</td>\n",
              "      <td>40.416705</td>\n",
              "      <td>-3.703582</td>\n",
              "    </tr>\n",
              "    <tr>\n",
              "      <th>4</th>\n",
              "      <td>MADRID</td>\n",
              "      <td>BARCELONA</td>\n",
              "      <td>AVE-TGV</td>\n",
              "      <td>Promo</td>\n",
              "      <td>Turista</td>\n",
              "      <td>66.75</td>\n",
              "      <td>179.0</td>\n",
              "      <td>68741.383333</td>\n",
              "      <td>13</td>\n",
              "      <td>Wednesday</td>\n",
              "      <td>26</td>\n",
              "      <td>6</td>\n",
              "      <td>16</td>\n",
              "      <td>Wednesday</td>\n",
              "      <td>26</td>\n",
              "      <td>6</td>\n",
              "      <td>40.416705</td>\n",
              "      <td>-3.703582</td>\n",
              "      <td>41.382894</td>\n",
              "      <td>2.177432</td>\n",
              "    </tr>\n",
              "  </tbody>\n",
              "</table>\n",
              "</div>\n",
              "      <button class=\"colab-df-convert\" onclick=\"convertToInteractive('df-74be676a-2082-456a-a5ed-46af2e06d1aa')\"\n",
              "              title=\"Convert this dataframe to an interactive table.\"\n",
              "              style=\"display:none;\">\n",
              "        \n",
              "  <svg xmlns=\"http://www.w3.org/2000/svg\" height=\"24px\"viewBox=\"0 0 24 24\"\n",
              "       width=\"24px\">\n",
              "    <path d=\"M0 0h24v24H0V0z\" fill=\"none\"/>\n",
              "    <path d=\"M18.56 5.44l.94 2.06.94-2.06 2.06-.94-2.06-.94-.94-2.06-.94 2.06-2.06.94zm-11 1L8.5 8.5l.94-2.06 2.06-.94-2.06-.94L8.5 2.5l-.94 2.06-2.06.94zm10 10l.94 2.06.94-2.06 2.06-.94-2.06-.94-.94-2.06-.94 2.06-2.06.94z\"/><path d=\"M17.41 7.96l-1.37-1.37c-.4-.4-.92-.59-1.43-.59-.52 0-1.04.2-1.43.59L10.3 9.45l-7.72 7.72c-.78.78-.78 2.05 0 2.83L4 21.41c.39.39.9.59 1.41.59.51 0 1.02-.2 1.41-.59l7.78-7.78 2.81-2.81c.8-.78.8-2.07 0-2.86zM5.41 20L4 18.59l7.72-7.72 1.47 1.35L5.41 20z\"/>\n",
              "  </svg>\n",
              "      </button>\n",
              "      \n",
              "  <style>\n",
              "    .colab-df-container {\n",
              "      display:flex;\n",
              "      flex-wrap:wrap;\n",
              "      gap: 12px;\n",
              "    }\n",
              "\n",
              "    .colab-df-convert {\n",
              "      background-color: #E8F0FE;\n",
              "      border: none;\n",
              "      border-radius: 50%;\n",
              "      cursor: pointer;\n",
              "      display: none;\n",
              "      fill: #1967D2;\n",
              "      height: 32px;\n",
              "      padding: 0 0 0 0;\n",
              "      width: 32px;\n",
              "    }\n",
              "\n",
              "    .colab-df-convert:hover {\n",
              "      background-color: #E2EBFA;\n",
              "      box-shadow: 0px 1px 2px rgba(60, 64, 67, 0.3), 0px 1px 3px 1px rgba(60, 64, 67, 0.15);\n",
              "      fill: #174EA6;\n",
              "    }\n",
              "\n",
              "    [theme=dark] .colab-df-convert {\n",
              "      background-color: #3B4455;\n",
              "      fill: #D2E3FC;\n",
              "    }\n",
              "\n",
              "    [theme=dark] .colab-df-convert:hover {\n",
              "      background-color: #434B5C;\n",
              "      box-shadow: 0px 1px 3px 1px rgba(0, 0, 0, 0.15);\n",
              "      filter: drop-shadow(0px 1px 2px rgba(0, 0, 0, 0.3));\n",
              "      fill: #FFFFFF;\n",
              "    }\n",
              "  </style>\n",
              "\n",
              "      <script>\n",
              "        const buttonEl =\n",
              "          document.querySelector('#df-74be676a-2082-456a-a5ed-46af2e06d1aa button.colab-df-convert');\n",
              "        buttonEl.style.display =\n",
              "          google.colab.kernel.accessAllowed ? 'block' : 'none';\n",
              "\n",
              "        async function convertToInteractive(key) {\n",
              "          const element = document.querySelector('#df-74be676a-2082-456a-a5ed-46af2e06d1aa');\n",
              "          const dataTable =\n",
              "            await google.colab.kernel.invokeFunction('convertToInteractive',\n",
              "                                                     [key], {});\n",
              "          if (!dataTable) return;\n",
              "\n",
              "          const docLinkHtml = 'Like what you see? Visit the ' +\n",
              "            '<a target=\"_blank\" href=https://colab.research.google.com/notebooks/data_table.ipynb>data table notebook</a>'\n",
              "            + ' to learn more about interactive tables.';\n",
              "          element.innerHTML = '';\n",
              "          dataTable['output_type'] = 'display_data';\n",
              "          await google.colab.output.renderOutput(dataTable, element);\n",
              "          const docLink = document.createElement('div');\n",
              "          docLink.innerHTML = docLinkHtml;\n",
              "          element.appendChild(docLink);\n",
              "        }\n",
              "      </script>\n",
              "    </div>\n",
              "  </div>\n",
              "  "
            ]
          },
          "metadata": {},
          "execution_count": 50
        }
      ]
    },
    {
      "cell_type": "code",
      "metadata": {
        "id": "nw47oiMxndy-"
      },
      "source": [
        "##########EJECUTAR DESPUES DE RESPONDER LA PREGUNTA 13############\n",
        "df_renfe_prep= df_renfe_clean_2.copy()\n",
        "df_renfe_prep.drop([\"LATITUD_DESTINO\",\"LONGITUD_DESTINO\",\"LATITUD_ORIGEN\",\"LONGITUD_ORIGEN\"],axis=1, inplace=True)\n",
        "##################################"
      ],
      "execution_count": 51,
      "outputs": []
    },
    {
      "cell_type": "code",
      "metadata": {
        "id": "g5FJZMSUndy-",
        "colab": {
          "base_uri": "https://localhost:8080/",
          "height": 35
        },
        "outputId": "a940de86-fd2c-40c6-a489-856f3cc967e8"
      },
      "source": [
        "'''PREGUNTA 14\n",
        "14. Mapa de correlación: ¿Existe alguna variable muy correlacionada?\n",
        "'''"
      ],
      "execution_count": 52,
      "outputs": [
        {
          "output_type": "execute_result",
          "data": {
            "text/plain": [
              "'PREGUNTA 14\\n14. Mapa de correlación: ¿Existe alguna variable muy correlacionada?\\n'"
            ],
            "application/vnd.google.colaboratory.intrinsic+json": {
              "type": "string"
            }
          },
          "metadata": {},
          "execution_count": 52
        }
      ]
    },
    {
      "cell_type": "code",
      "metadata": {
        "id": "nNk9rONgndy_"
      },
      "source": [
        "corr=df_renfe_prep.corr()"
      ],
      "execution_count": 53,
      "outputs": []
    },
    {
      "cell_type": "code",
      "metadata": {
        "colab": {
          "base_uri": "https://localhost:8080/",
          "height": 331
        },
        "id": "wsEilpUjjFTP",
        "outputId": "236c1cac-3727-43b8-c548-049f081934f4"
      },
      "source": [
        "corr.style.background_gradient(cmap=\"coolwarm\") #es  la 0.999818 // FECHA_FIN_MES VS FECHA_INICIO_MES"
      ],
      "execution_count": 54,
      "outputs": [
        {
          "output_type": "execute_result",
          "data": {
            "text/plain": [
              "<pandas.io.formats.style.Styler at 0x7f40c7a7c590>"
            ],
            "text/html": [
              "<style type=\"text/css\">\n",
              "#T_323fc_row0_col0, #T_323fc_row1_col1, #T_323fc_row2_col2, #T_323fc_row3_col3, #T_323fc_row4_col4, #T_323fc_row4_col7, #T_323fc_row5_col5, #T_323fc_row5_col8, #T_323fc_row6_col6, #T_323fc_row7_col4, #T_323fc_row7_col7, #T_323fc_row8_col5, #T_323fc_row8_col8 {\n",
              "  background-color: #b40426;\n",
              "  color: #f1f1f1;\n",
              "}\n",
              "#T_323fc_row0_col1, #T_323fc_row0_col2, #T_323fc_row0_col6, #T_323fc_row1_col3, #T_323fc_row2_col0, #T_323fc_row4_col5, #T_323fc_row4_col8, #T_323fc_row5_col4, #T_323fc_row5_col6, #T_323fc_row5_col7, #T_323fc_row7_col5, #T_323fc_row7_col8, #T_323fc_row8_col4, #T_323fc_row8_col6, #T_323fc_row8_col7 {\n",
              "  background-color: #3b4cc0;\n",
              "  color: #f1f1f1;\n",
              "}\n",
              "#T_323fc_row0_col3, #T_323fc_row1_col2 {\n",
              "  background-color: #7a9df8;\n",
              "  color: #f1f1f1;\n",
              "}\n",
              "#T_323fc_row0_col4, #T_323fc_row0_col7 {\n",
              "  background-color: #8db0fe;\n",
              "  color: #000000;\n",
              "}\n",
              "#T_323fc_row0_col5, #T_323fc_row0_col8 {\n",
              "  background-color: #5572df;\n",
              "  color: #f1f1f1;\n",
              "}\n",
              "#T_323fc_row1_col0 {\n",
              "  background-color: #3c4ec2;\n",
              "  color: #f1f1f1;\n",
              "}\n",
              "#T_323fc_row1_col4, #T_323fc_row1_col7, #T_323fc_row3_col5, #T_323fc_row6_col5 {\n",
              "  background-color: #82a6fb;\n",
              "  color: #f1f1f1;\n",
              "}\n",
              "#T_323fc_row1_col5, #T_323fc_row1_col8, #T_323fc_row3_col8 {\n",
              "  background-color: #84a7fc;\n",
              "  color: #f1f1f1;\n",
              "}\n",
              "#T_323fc_row1_col6 {\n",
              "  background-color: #5d7ce6;\n",
              "  color: #f1f1f1;\n",
              "}\n",
              "#T_323fc_row2_col1, #T_323fc_row6_col2 {\n",
              "  background-color: #799cf8;\n",
              "  color: #f1f1f1;\n",
              "}\n",
              "#T_323fc_row2_col3, #T_323fc_row4_col3, #T_323fc_row7_col3 {\n",
              "  background-color: #6c8ff1;\n",
              "  color: #f1f1f1;\n",
              "}\n",
              "#T_323fc_row2_col4, #T_323fc_row2_col7 {\n",
              "  background-color: #7da0f9;\n",
              "  color: #f1f1f1;\n",
              "}\n",
              "#T_323fc_row2_col5, #T_323fc_row2_col8 {\n",
              "  background-color: #eed0c0;\n",
              "  color: #000000;\n",
              "}\n",
              "#T_323fc_row2_col6 {\n",
              "  background-color: #3f53c6;\n",
              "  color: #f1f1f1;\n",
              "}\n",
              "#T_323fc_row3_col0, #T_323fc_row3_col4, #T_323fc_row3_col7, #T_323fc_row6_col4, #T_323fc_row6_col7 {\n",
              "  background-color: #85a8fc;\n",
              "  color: #f1f1f1;\n",
              "}\n",
              "#T_323fc_row3_col1 {\n",
              "  background-color: #445acc;\n",
              "  color: #f1f1f1;\n",
              "}\n",
              "#T_323fc_row3_col2 {\n",
              "  background-color: #779af7;\n",
              "  color: #f1f1f1;\n",
              "}\n",
              "#T_323fc_row3_col6 {\n",
              "  background-color: #f6a385;\n",
              "  color: #000000;\n",
              "}\n",
              "#T_323fc_row4_col0, #T_323fc_row7_col0 {\n",
              "  background-color: #80a3fa;\n",
              "  color: #f1f1f1;\n",
              "}\n",
              "#T_323fc_row4_col1, #T_323fc_row5_col1, #T_323fc_row7_col1, #T_323fc_row8_col1 {\n",
              "  background-color: #7597f6;\n",
              "  color: #f1f1f1;\n",
              "}\n",
              "#T_323fc_row4_col2, #T_323fc_row7_col2 {\n",
              "  background-color: #6f92f3;\n",
              "  color: #f1f1f1;\n",
              "}\n",
              "#T_323fc_row4_col6, #T_323fc_row7_col6 {\n",
              "  background-color: #3e51c5;\n",
              "  color: #f1f1f1;\n",
              "}\n",
              "#T_323fc_row5_col0, #T_323fc_row8_col0 {\n",
              "  background-color: #465ecf;\n",
              "  color: #f1f1f1;\n",
              "}\n",
              "#T_323fc_row5_col2, #T_323fc_row8_col2 {\n",
              "  background-color: #ead5c9;\n",
              "  color: #000000;\n",
              "}\n",
              "#T_323fc_row5_col3, #T_323fc_row8_col3 {\n",
              "  background-color: #6a8bef;\n",
              "  color: #f1f1f1;\n",
              "}\n",
              "#T_323fc_row6_col0 {\n",
              "  background-color: #7396f5;\n",
              "  color: #f1f1f1;\n",
              "}\n",
              "#T_323fc_row6_col1 {\n",
              "  background-color: #93b5fe;\n",
              "  color: #000000;\n",
              "}\n",
              "#T_323fc_row6_col3 {\n",
              "  background-color: #f39475;\n",
              "  color: #000000;\n",
              "}\n",
              "#T_323fc_row6_col8 {\n",
              "  background-color: #81a4fb;\n",
              "  color: #f1f1f1;\n",
              "}\n",
              "</style>\n",
              "<table id=\"T_323fc_\" class=\"dataframe\">\n",
              "  <thead>\n",
              "    <tr>\n",
              "      <th class=\"blank level0\" >&nbsp;</th>\n",
              "      <th class=\"col_heading level0 col0\" >PRECIO</th>\n",
              "      <th class=\"col_heading level0 col1\" >TIEMPO_VIAJE</th>\n",
              "      <th class=\"col_heading level0 col2\" >DIF_INI_BUS</th>\n",
              "      <th class=\"col_heading level0 col3\" >FECHA_INICIO_HORA</th>\n",
              "      <th class=\"col_heading level0 col4\" >FECHA_INICIO_DIA</th>\n",
              "      <th class=\"col_heading level0 col5\" >FECHA_INICIO_MES</th>\n",
              "      <th class=\"col_heading level0 col6\" >FECHA_FIN_HORA</th>\n",
              "      <th class=\"col_heading level0 col7\" >FECHA_FIN_DIA</th>\n",
              "      <th class=\"col_heading level0 col8\" >FECHA_FIN_MES</th>\n",
              "    </tr>\n",
              "  </thead>\n",
              "  <tbody>\n",
              "    <tr>\n",
              "      <th id=\"T_323fc_level0_row0\" class=\"row_heading level0 row0\" >PRECIO</th>\n",
              "      <td id=\"T_323fc_row0_col0\" class=\"data row0 col0\" >1.000000</td>\n",
              "      <td id=\"T_323fc_row0_col1\" class=\"data row0 col1\" >-0.226153</td>\n",
              "      <td id=\"T_323fc_row0_col2\" class=\"data row0 col2\" >-0.231297</td>\n",
              "      <td id=\"T_323fc_row0_col3\" class=\"data row0 col3\" >0.048624</td>\n",
              "      <td id=\"T_323fc_row0_col4\" class=\"data row0 col4\" >0.031263</td>\n",
              "      <td id=\"T_323fc_row0_col5\" class=\"data row0 col5\" >-0.178980</td>\n",
              "      <td id=\"T_323fc_row0_col6\" class=\"data row0 col6\" >-0.011206</td>\n",
              "      <td id=\"T_323fc_row0_col7\" class=\"data row0 col7\" >0.030801</td>\n",
              "      <td id=\"T_323fc_row0_col8\" class=\"data row0 col8\" >-0.179012</td>\n",
              "    </tr>\n",
              "    <tr>\n",
              "      <th id=\"T_323fc_level0_row1\" class=\"row_heading level0 row1\" >TIEMPO_VIAJE</th>\n",
              "      <td id=\"T_323fc_row1_col0\" class=\"data row1 col0\" >-0.226153</td>\n",
              "      <td id=\"T_323fc_row1_col1\" class=\"data row1 col1\" >1.000000</td>\n",
              "      <td id=\"T_323fc_row1_col2\" class=\"data row1 col2\" >0.010952</td>\n",
              "      <td id=\"T_323fc_row1_col3\" class=\"data row1 col3\" >-0.183316</td>\n",
              "      <td id=\"T_323fc_row1_col4\" class=\"data row1 col4\" >-0.005007</td>\n",
              "      <td id=\"T_323fc_row1_col5\" class=\"data row1 col5\" >-0.002674</td>\n",
              "      <td id=\"T_323fc_row1_col6\" class=\"data row1 col6\" >0.101488</td>\n",
              "      <td id=\"T_323fc_row1_col7\" class=\"data row1 col7\" >-0.005048</td>\n",
              "      <td id=\"T_323fc_row1_col8\" class=\"data row1 col8\" >-0.002441</td>\n",
              "    </tr>\n",
              "    <tr>\n",
              "      <th id=\"T_323fc_level0_row2\" class=\"row_heading level0 row2\" >DIF_INI_BUS</th>\n",
              "      <td id=\"T_323fc_row2_col0\" class=\"data row2 col0\" >-0.231297</td>\n",
              "      <td id=\"T_323fc_row2_col1\" class=\"data row2 col1\" >0.010952</td>\n",
              "      <td id=\"T_323fc_row2_col2\" class=\"data row2 col2\" >1.000000</td>\n",
              "      <td id=\"T_323fc_row2_col3\" class=\"data row2 col3\" >0.002212</td>\n",
              "      <td id=\"T_323fc_row2_col4\" class=\"data row2 col4\" >-0.027820</td>\n",
              "      <td id=\"T_323fc_row2_col5\" class=\"data row2 col5\" >0.450006</td>\n",
              "      <td id=\"T_323fc_row2_col6\" class=\"data row2 col6\" >0.004953</td>\n",
              "      <td id=\"T_323fc_row2_col7\" class=\"data row2 col7\" >-0.027947</td>\n",
              "      <td id=\"T_323fc_row2_col8\" class=\"data row2 col8\" >0.450042</td>\n",
              "    </tr>\n",
              "    <tr>\n",
              "      <th id=\"T_323fc_level0_row3\" class=\"row_heading level0 row3\" >FECHA_INICIO_HORA</th>\n",
              "      <td id=\"T_323fc_row3_col0\" class=\"data row3 col0\" >0.048624</td>\n",
              "      <td id=\"T_323fc_row3_col1\" class=\"data row3 col1\" >-0.183316</td>\n",
              "      <td id=\"T_323fc_row3_col2\" class=\"data row3 col2\" >0.002212</td>\n",
              "      <td id=\"T_323fc_row3_col3\" class=\"data row3 col3\" >1.000000</td>\n",
              "      <td id=\"T_323fc_row3_col4\" class=\"data row3 col4\" >0.002861</td>\n",
              "      <td id=\"T_323fc_row3_col5\" class=\"data row3 col5\" >-0.005502</td>\n",
              "      <td id=\"T_323fc_row3_col6\" class=\"data row3 col6\" >0.721561</td>\n",
              "      <td id=\"T_323fc_row3_col7\" class=\"data row3 col7\" >0.002399</td>\n",
              "      <td id=\"T_323fc_row3_col8\" class=\"data row3 col8\" >-0.004616</td>\n",
              "    </tr>\n",
              "    <tr>\n",
              "      <th id=\"T_323fc_level0_row4\" class=\"row_heading level0 row4\" >FECHA_INICIO_DIA</th>\n",
              "      <td id=\"T_323fc_row4_col0\" class=\"data row4 col0\" >0.031263</td>\n",
              "      <td id=\"T_323fc_row4_col1\" class=\"data row4 col1\" >-0.005007</td>\n",
              "      <td id=\"T_323fc_row4_col2\" class=\"data row4 col2\" >-0.027820</td>\n",
              "      <td id=\"T_323fc_row4_col3\" class=\"data row4 col3\" >0.002861</td>\n",
              "      <td id=\"T_323fc_row4_col4\" class=\"data row4 col4\" >1.000000</td>\n",
              "      <td id=\"T_323fc_row4_col5\" class=\"data row4 col5\" >-0.292583</td>\n",
              "      <td id=\"T_323fc_row4_col6\" class=\"data row4 col6\" >0.001792</td>\n",
              "      <td id=\"T_323fc_row4_col7\" class=\"data row4 col7\" >0.995906</td>\n",
              "      <td id=\"T_323fc_row4_col8\" class=\"data row4 col8\" >-0.291753</td>\n",
              "    </tr>\n",
              "    <tr>\n",
              "      <th id=\"T_323fc_level0_row5\" class=\"row_heading level0 row5\" >FECHA_INICIO_MES</th>\n",
              "      <td id=\"T_323fc_row5_col0\" class=\"data row5 col0\" >-0.178980</td>\n",
              "      <td id=\"T_323fc_row5_col1\" class=\"data row5 col1\" >-0.002674</td>\n",
              "      <td id=\"T_323fc_row5_col2\" class=\"data row5 col2\" >0.450006</td>\n",
              "      <td id=\"T_323fc_row5_col3\" class=\"data row5 col3\" >-0.005502</td>\n",
              "      <td id=\"T_323fc_row5_col4\" class=\"data row5 col4\" >-0.292583</td>\n",
              "      <td id=\"T_323fc_row5_col5\" class=\"data row5 col5\" >1.000000</td>\n",
              "      <td id=\"T_323fc_row5_col6\" class=\"data row5 col6\" >-0.008389</td>\n",
              "      <td id=\"T_323fc_row5_col7\" class=\"data row5 col7\" >-0.291529</td>\n",
              "      <td id=\"T_323fc_row5_col8\" class=\"data row5 col8\" >0.999816</td>\n",
              "    </tr>\n",
              "    <tr>\n",
              "      <th id=\"T_323fc_level0_row6\" class=\"row_heading level0 row6\" >FECHA_FIN_HORA</th>\n",
              "      <td id=\"T_323fc_row6_col0\" class=\"data row6 col0\" >-0.011206</td>\n",
              "      <td id=\"T_323fc_row6_col1\" class=\"data row6 col1\" >0.101488</td>\n",
              "      <td id=\"T_323fc_row6_col2\" class=\"data row6 col2\" >0.004953</td>\n",
              "      <td id=\"T_323fc_row6_col3\" class=\"data row6 col3\" >0.721561</td>\n",
              "      <td id=\"T_323fc_row6_col4\" class=\"data row6 col4\" >0.001792</td>\n",
              "      <td id=\"T_323fc_row6_col5\" class=\"data row6 col5\" >-0.008389</td>\n",
              "      <td id=\"T_323fc_row6_col6\" class=\"data row6 col6\" >1.000000</td>\n",
              "      <td id=\"T_323fc_row6_col7\" class=\"data row6 col7\" >0.002540</td>\n",
              "      <td id=\"T_323fc_row6_col8\" class=\"data row6 col8\" >-0.009909</td>\n",
              "    </tr>\n",
              "    <tr>\n",
              "      <th id=\"T_323fc_level0_row7\" class=\"row_heading level0 row7\" >FECHA_FIN_DIA</th>\n",
              "      <td id=\"T_323fc_row7_col0\" class=\"data row7 col0\" >0.030801</td>\n",
              "      <td id=\"T_323fc_row7_col1\" class=\"data row7 col1\" >-0.005048</td>\n",
              "      <td id=\"T_323fc_row7_col2\" class=\"data row7 col2\" >-0.027947</td>\n",
              "      <td id=\"T_323fc_row7_col3\" class=\"data row7 col3\" >0.002399</td>\n",
              "      <td id=\"T_323fc_row7_col4\" class=\"data row7 col4\" >0.995906</td>\n",
              "      <td id=\"T_323fc_row7_col5\" class=\"data row7 col5\" >-0.291529</td>\n",
              "      <td id=\"T_323fc_row7_col6\" class=\"data row7 col6\" >0.002540</td>\n",
              "      <td id=\"T_323fc_row7_col7\" class=\"data row7 col7\" >1.000000</td>\n",
              "      <td id=\"T_323fc_row7_col8\" class=\"data row7 col8\" >-0.292408</td>\n",
              "    </tr>\n",
              "    <tr>\n",
              "      <th id=\"T_323fc_level0_row8\" class=\"row_heading level0 row8\" >FECHA_FIN_MES</th>\n",
              "      <td id=\"T_323fc_row8_col0\" class=\"data row8 col0\" >-0.179012</td>\n",
              "      <td id=\"T_323fc_row8_col1\" class=\"data row8 col1\" >-0.002441</td>\n",
              "      <td id=\"T_323fc_row8_col2\" class=\"data row8 col2\" >0.450042</td>\n",
              "      <td id=\"T_323fc_row8_col3\" class=\"data row8 col3\" >-0.004616</td>\n",
              "      <td id=\"T_323fc_row8_col4\" class=\"data row8 col4\" >-0.291753</td>\n",
              "      <td id=\"T_323fc_row8_col5\" class=\"data row8 col5\" >0.999816</td>\n",
              "      <td id=\"T_323fc_row8_col6\" class=\"data row8 col6\" >-0.009909</td>\n",
              "      <td id=\"T_323fc_row8_col7\" class=\"data row8 col7\" >-0.292408</td>\n",
              "      <td id=\"T_323fc_row8_col8\" class=\"data row8 col8\" >1.000000</td>\n",
              "    </tr>\n",
              "  </tbody>\n",
              "</table>\n"
            ]
          },
          "metadata": {},
          "execution_count": 54
        }
      ]
    },
    {
      "cell_type": "code",
      "metadata": {
        "id": "eDDUjsMxndzA"
      },
      "source": [
        "#Si hay alguna correlación...borrarlo!\n"
      ],
      "execution_count": 55,
      "outputs": []
    },
    {
      "cell_type": "code",
      "metadata": {
        "id": "FPGarR10j_dN"
      },
      "source": [
        "del (df_renfe_prep[\"FECHA_FIN_DIA\"])"
      ],
      "execution_count": 56,
      "outputs": []
    },
    {
      "cell_type": "code",
      "metadata": {
        "id": "gKbi0YUkkTYz"
      },
      "source": [
        "del (df_renfe_prep[\"FECHA_FIN_MES\"])"
      ],
      "execution_count": 57,
      "outputs": []
    },
    {
      "cell_type": "code",
      "metadata": {
        "id": "ybB8Hk9CndzA",
        "colab": {
          "base_uri": "https://localhost:8080/",
          "height": 35
        },
        "outputId": "8743f1ca-b7d2-4183-dc5b-395fb961e757"
      },
      "source": [
        "'''PREGUNTA 15\n",
        "15. ¿Se puede hacer algo con la distribución del precio?\n",
        "'''"
      ],
      "execution_count": 58,
      "outputs": [
        {
          "output_type": "execute_result",
          "data": {
            "text/plain": [
              "'PREGUNTA 15\\n15. ¿Se puede hacer algo con la distribución del precio?\\n'"
            ],
            "application/vnd.google.colaboratory.intrinsic+json": {
              "type": "string"
            }
          },
          "metadata": {},
          "execution_count": 58
        }
      ]
    },
    {
      "cell_type": "code",
      "metadata": {
        "id": "yqfqRrphndzA"
      },
      "source": [
        "\n",
        "\n"
      ],
      "execution_count": 58,
      "outputs": []
    },
    {
      "cell_type": "code",
      "metadata": {
        "id": "d0GZ_IIkndzB",
        "colab": {
          "base_uri": "https://localhost:8080/",
          "height": 315
        },
        "outputId": "d9c351c9-75cb-4bab-b4d8-91fe9d0d8f5c"
      },
      "source": [
        "##########EJECUTAR DESPUES DE RESPONDER LA PREGUNTA 15############\n",
        "df_renfe_prep[\"LOG_PRECIO\"]=np.log10(df_renfe_prep[\"PRECIO\"])\n",
        "df_renfe_prep.hist(column=\"LOG_PRECIO\")\n"
      ],
      "execution_count": 59,
      "outputs": [
        {
          "output_type": "execute_result",
          "data": {
            "text/plain": [
              "array([[<matplotlib.axes._subplots.AxesSubplot object at 0x7f40c7a44310>]],\n",
              "      dtype=object)"
            ]
          },
          "metadata": {},
          "execution_count": 59
        },
        {
          "output_type": "display_data",
          "data": {
            "text/plain": [
              "<Figure size 432x288 with 1 Axes>"
            ],
            "image/png": "[encoded data removed]"
          },
          "metadata": {
            "needs_background": "light"
          }
        }
      ]
    },
    {
      "cell_type": "code",
      "metadata": {
        "id": "F4raBb09ndzB",
        "colab": {
          "base_uri": "https://localhost:8080/",
          "height": 280
        },
        "outputId": "5a234be9-c63c-412a-b308-6010164fba50"
      },
      "source": [
        "##########EJECUTAR DESPUES DE RESPONDER LA PREGUNTA 15############\n",
        "outliers_precio2 = sns.boxplot(x=df_renfe_prep[\"LOG_PRECIO\"])"
      ],
      "execution_count": 60,
      "outputs": [
        {
          "output_type": "display_data",
          "data": {
            "text/plain": [
              "<Figure size 432x288 with 1 Axes>"
            ],
            "image/png": "[encoded data removed]"
          },
          "metadata": {
            "needs_background": "light"
          }
        }
      ]
    },
    {
      "cell_type": "code",
      "metadata": {
        "id": "PIc3GTpLndzB"
      },
      "source": [
        "#A continuación vamos a analizar la variable que queremos predecir PRECIO como se comporta frente a las demás variables#"
      ],
      "execution_count": 61,
      "outputs": []
    },
    {
      "cell_type": "code",
      "metadata": {
        "id": "Z0IuHFPfndzC",
        "colab": {
          "base_uri": "https://localhost:8080/",
          "height": 623
        },
        "outputId": "0a9d0558-c431-46bf-a8e3-5e2b7c5264f0"
      },
      "source": [
        "##########EJECUTAR DESPUES DE RESPONDER LA PREGUNTA 15############\n",
        "#Relación CIUDAD_ORIGEN vs PRECIO\n",
        "muestra=pd.DataFrame(df_renfe_prep.sample(frac=0.01, random_state=1))\n",
        "muestra.shape\n",
        "\n",
        "plt.figure(figsize=(10,10))\n",
        "sns.violinplot(x=\"CIUDAD_ORIGEN\",y=\"PRECIO\", data=muestra, palette=\"Wistia\")"
      ],
      "execution_count": 62,
      "outputs": [
        {
          "output_type": "execute_result",
          "data": {
            "text/plain": [
              "<matplotlib.axes._subplots.AxesSubplot at 0x7f40c7b949d0>"
            ]
          },
          "metadata": {},
          "execution_count": 62
        },
        {
          "output_type": "display_data",
          "data": {
            "text/plain": [
              "<Figure size 720x720 with 1 Axes>"
            ],
            "image/png": "[encoded data removed]"
          },
          "metadata": {
            "needs_background": "light"
          }
        }
      ]
    },
    {
      "cell_type": "code",
      "metadata": {
        "id": "PH3N1LN4ndzC",
        "colab": {
          "base_uri": "https://localhost:8080/",
          "height": 35
        },
        "outputId": "8a356099-c23a-45b6-ddc9-71d225473498"
      },
      "source": [
        "'''PREGUNTA 16\n",
        "16. Relación del Día de inicio de viaje y el precio, \n",
        "¿Hay algún día que muestre mayor tendencia a un precio más barato?\n",
        "'''"
      ],
      "execution_count": 63,
      "outputs": [
        {
          "output_type": "execute_result",
          "data": {
            "text/plain": [
              "'PREGUNTA 16\\n16. Relación del Día de inicio de viaje y el precio, \\n¿Hay algún día que muestre mayor tendencia a un precio más barato?\\n'"
            ],
            "application/vnd.google.colaboratory.intrinsic+json": {
              "type": "string"
            }
          },
          "metadata": {},
          "execution_count": 63
        }
      ]
    },
    {
      "cell_type": "code",
      "metadata": {
        "id": "nA15maWkndzD",
        "colab": {
          "base_uri": "https://localhost:8080/",
          "height": 623
        },
        "outputId": "79c719fb-d7d0-4058-a9ae-b78ae6351a4f"
      },
      "source": [
        "muestra=pd.DataFrame(df_renfe_prep.sample(frac=0.01, random_state=1))\n",
        "muestra.shape\n",
        "\n",
        "plt.figure(figsize=(10,10))\n",
        "sns.violinplot(x=\"FECHA_INICIO_NOMBREDIA\",y=\"PRECIO\", data=muestra, palette=\"Wistia\")   #hem d'analitzar el nombre del dia, sino es imposible"
      ],
      "execution_count": 64,
      "outputs": [
        {
          "output_type": "execute_result",
          "data": {
            "text/plain": [
              "<matplotlib.axes._subplots.AxesSubplot at 0x7f40c59144d0>"
            ]
          },
          "metadata": {},
          "execution_count": 64
        },
        {
          "output_type": "display_data",
          "data": {
            "text/plain": [
              "<Figure size 720x720 with 1 Axes>"
            ],
            "image/png": "[encoded data removed]"
          },
          "metadata": {
            "needs_background": "light"
          }
        }
      ]
    },
    {
      "cell_type": "code",
      "metadata": {
        "id": "VoF3OldSndzD",
        "colab": {
          "base_uri": "https://localhost:8080/",
          "height": 623
        },
        "outputId": "5b3c923b-6e52-44e0-9ecf-016967b5e30e"
      },
      "source": [
        "##########EJECUTAR DESPUES DE RESPONDER LA PREGUNTA 16############\n",
        "##Scatterplot de precio vs fecha inicio\n",
        "plt.figure(figsize=(10,10))\n",
        "sns.scatterplot(x=\"FECHA_INICIO_DIA\", y=\"PRECIO\",data=muestra)\n",
        "####################################"
      ],
      "execution_count": 65,
      "outputs": [
        {
          "output_type": "execute_result",
          "data": {
            "text/plain": [
              "<matplotlib.axes._subplots.AxesSubplot at 0x7f40c58545d0>"
            ]
          },
          "metadata": {},
          "execution_count": 65
        },
        {
          "output_type": "display_data",
          "data": {
            "text/plain": [
              "<Figure size 720x720 with 1 Axes>"
            ],
            "image/png": "[encoded data removed]"
          },
          "metadata": {
            "needs_background": "light"
          }
        }
      ]
    },
    {
      "cell_type": "code",
      "metadata": {
        "id": "ZuAqp_TGndzD",
        "colab": {
          "base_uri": "https://localhost:8080/",
          "height": 35
        },
        "outputId": "49d1b5ea-01f3-48c3-c8df-a1af59728354"
      },
      "source": [
        "'''PREGUNTA 17\n",
        "17. Relación del tiempo de duración del viaje y el precio ¿Ves alguna relación?\n",
        "'''"
      ],
      "execution_count": 66,
      "outputs": [
        {
          "output_type": "execute_result",
          "data": {
            "text/plain": [
              "'PREGUNTA 17\\n17. Relación del tiempo de duración del viaje y el precio ¿Ves alguna relación?\\n'"
            ],
            "application/vnd.google.colaboratory.intrinsic+json": {
              "type": "string"
            }
          },
          "metadata": {},
          "execution_count": 66
        }
      ]
    },
    {
      "cell_type": "code",
      "metadata": {
        "id": "VN8hOwObndzE",
        "colab": {
          "base_uri": "https://localhost:8080/",
          "height": 623
        },
        "outputId": "47e26a04-5bd0-43ce-f4ae-90abf08ab86a"
      },
      "source": [
        "plt.figure(figsize=(10,10))\n",
        "sns.scatterplot(x=\"TIEMPO_VIAJE\", y=\"PRECIO\",data=muestra) #A MAYOR TIEMPO DE VIAJE MAS BARATO ES EL BILLETE"
      ],
      "execution_count": 67,
      "outputs": [
        {
          "output_type": "execute_result",
          "data": {
            "text/plain": [
              "<matplotlib.axes._subplots.AxesSubplot at 0x7f40c3f66950>"
            ]
          },
          "metadata": {},
          "execution_count": 67
        },
        {
          "output_type": "display_data",
          "data": {
            "text/plain": [
              "<Figure size 720x720 with 1 Axes>"
            ],
            "image/png": "[encoded data removed]"
          },
          "metadata": {
            "needs_background": "light"
          }
        }
      ]
    },
    {
      "cell_type": "code",
      "metadata": {
        "colab": {
          "base_uri": "https://localhost:8080/"
        },
        "id": "DtaY7SL4ndzE",
        "outputId": "f8796a8c-3a4e-4fd6-d724-f53fa51febee"
      },
      "source": [
        "##########EJECUTAR DESPUES DE RESPONDER LA PREGUNTA 17############\n",
        "df_renfe_prep.head()\n",
        "df_renfe_prep2=df_renfe_prep.copy(deep=True)\n",
        "\n",
        "target=[\"PRECIO\",\"LOG_PRECIO\"]\n",
        "\n",
        "def obtener_lista_variables(dataset):\n",
        "    lista_numericas=[]\n",
        "    lista_boolean=[]\n",
        "    lista_categoricas=[]\n",
        "\n",
        "    for i in dataset:\n",
        "        if    (dataset[i].dtype==\"float64\" or dataset[i].dtype==\"int64\" or dataset[i].dtype==\"uint8\") and len(dataset[i].unique())!= 2  and i not in target:\n",
        "              lista_numericas.append(i)\n",
        "        elif  (dataset[i].dtype==\"float64\" or dataset[i].dtype==\"int64\" or dataset[i].dtype==\"uint8\") and len(dataset[i].unique())== 2  and i not in target:\n",
        "              lista_boolean.append(i)\n",
        "        elif  (dataset[i].dtype==\"object\")  and i not in target:\n",
        "              lista_categoricas.append(i)\n",
        "                \n",
        "    return lista_numericas, lista_boolean, lista_categoricas\n",
        "\n",
        "lista_numericas,lista_boolean,lista_categoricas=obtener_lista_variables(df_renfe_prep2)\n",
        "\n",
        "lista_categoricas\n",
        "####################################"
      ],
      "execution_count": 68,
      "outputs": [
        {
          "output_type": "execute_result",
          "data": {
            "text/plain": [
              "['CIUDAD_ORIGEN',\n",
              " 'CIUDAD_DESTINO',\n",
              " 'TIPO_TREN',\n",
              " 'TIPO_TARIFA',\n",
              " 'CLASE',\n",
              " 'FECHA_INICIO_NOMBREDIA',\n",
              " 'FECHA_FIN_NOMBREDIA']"
            ]
          },
          "metadata": {},
          "execution_count": 68
        }
      ]
    },
    {
      "cell_type": "code",
      "metadata": {
        "id": "rrLF0w3hndzE",
        "colab": {
          "base_uri": "https://localhost:8080/",
          "height": 35
        },
        "outputId": "eedda50c-f2a0-4fb3-9c38-eff20bbfbced"
      },
      "source": [
        "'''PREGUNTA 18\n",
        "18. Para las variables categóricas vamos a realizar el OneHotEncoding, ¿Qué significa esto?\n",
        "'''"
      ],
      "execution_count": 69,
      "outputs": [
        {
          "output_type": "execute_result",
          "data": {
            "text/plain": [
              "'PREGUNTA 18\\n18. Para las variables categóricas vamos a realizar el OneHotEncoding, ¿Qué significa esto?\\n'"
            ],
            "application/vnd.google.colaboratory.intrinsic+json": {
              "type": "string"
            }
          },
          "metadata": {},
          "execution_count": 69
        }
      ]
    },
    {
      "cell_type": "code",
      "metadata": {
        "id": "yJgv7J3cndzF"
      },
      "source": [
        "##########EJECUTAR DESPUES DE RESPONDER LA PREGUNTA 18############\n",
        "df_renfe_prep3=pd.get_dummies(data=df_renfe_prep2,\n",
        "                               prefix=None, \n",
        "                               prefix_sep=\"_\",\n",
        "                               columns=lista_categoricas,\n",
        "                               drop_first=\"True\")\n",
        "\n",
        "\n",
        "df_renfe_prep3.head()\n",
        "\n",
        "corr = df_renfe_prep3.corr()\n",
        "\n",
        "\n",
        "df_renfe_prep3.drop([\"FECHA_FIN_NOMBREDIA_Monday\",\"FECHA_FIN_NOMBREDIA_Saturday\",\n",
        "                \"FECHA_FIN_NOMBREDIA_Sunday\",\"FECHA_FIN_NOMBREDIA_Wednesday\",\n",
        "                \"FECHA_FIN_NOMBREDIA_Tuesday\",\"FECHA_FIN_NOMBREDIA_Thursday\"],axis=1, inplace=True)\n"
      ],
      "execution_count": 70,
      "outputs": []
    },
    {
      "cell_type": "code",
      "metadata": {
        "id": "vP1XCSGJndzF"
      },
      "source": [
        "##########EJECUTAR DESPUES DE RESPONDER LA PREGUNTA 18############\n",
        "#Tuneando más las variables\n",
        "lista_numericas,lista_boolean,lista_categoricas=obtener_lista_variables(df_renfe_prep3)\n",
        "\n",
        "lista_numericas\n",
        "\n",
        "for i in lista_numericas:\n",
        "    temp=MinMaxScaler(copy=True)\n",
        "    df_renfe_prep3[i] = temp.fit_transform(df_renfe_prep3[i].values.reshape(-1,1))\n",
        "\n",
        "\n",
        "df_renfe_prep3.head()\n",
        "\n",
        "df_renfe_final=df_renfe_prep3.copy()\n",
        "\n",
        "df_renfe_final.drop(\"PRECIO\",axis=1,inplace=True)\n",
        "\n"
      ],
      "execution_count": 71,
      "outputs": []
    },
    {
      "cell_type": "code",
      "metadata": {
        "id": "QpgRusaFndzF",
        "colab": {
          "base_uri": "https://localhost:8080/",
          "height": 522
        },
        "outputId": "7170e7d3-e6b4-47e0-de01-5879551974a4"
      },
      "source": [
        "df_renfe_final"
      ],
      "execution_count": 72,
      "outputs": [
        {
          "output_type": "execute_result",
          "data": {
            "text/plain": [
              "        TIEMPO_VIAJE  DIF_INI_BUS  FECHA_INICIO_HORA  FECHA_INICIO_DIA  \\\n",
              "0           0.092736     0.581690               0.90          0.900000   \n",
              "1           0.142195     0.365667               0.40          0.433333   \n",
              "2           0.080371     0.607046               0.55          0.733333   \n",
              "3           0.559505     0.313087               0.60          0.933333   \n",
              "4           0.125193     0.798297               0.55          0.833333   \n",
              "...              ...          ...                ...               ...   \n",
              "382857      0.017002     0.076833               0.85          0.300000   \n",
              "382858      0.142195     0.784704               0.90          0.133333   \n",
              "382859      0.003091     0.078519               0.70          0.933333   \n",
              "382860      0.066461     0.681369               0.65          0.200000   \n",
              "382861      0.012365     0.336814               0.80          0.500000   \n",
              "\n",
              "        FECHA_INICIO_MES  FECHA_FIN_HORA  LOG_PRECIO  CIUDAD_ORIGEN_MADRID  \\\n",
              "0               0.333333        1.000000    1.827369                     0   \n",
              "1               0.500000        0.565217    2.032216                     0   \n",
              "2               0.166667        0.695652    1.674861                     0   \n",
              "3               0.166667        0.956522    1.452553                     0   \n",
              "4               0.333333        0.695652    1.824451                     1   \n",
              "...                  ...             ...         ...                   ...   \n",
              "382857          0.166667        0.913043    1.863917                     1   \n",
              "382858          0.666667        1.000000    1.735998                     0   \n",
              "382859          0.000000        0.739130    1.444045                     0   \n",
              "382860          0.500000        0.739130    1.674861                     1   \n",
              "382861          0.333333        0.869565    1.863917                     0   \n",
              "\n",
              "        CIUDAD_ORIGEN_PONFERRADA  CIUDAD_ORIGEN_SEVILLA  ...  \\\n",
              "0                              0                      1  ...   \n",
              "1                              0                      0  ...   \n",
              "2                              0                      1  ...   \n",
              "3                              0                      0  ...   \n",
              "4                              0                      0  ...   \n",
              "...                          ...                    ...  ...   \n",
              "382857                         0                      0  ...   \n",
              "382858                         0                      0  ...   \n",
              "382859                         0                      0  ...   \n",
              "382860                         0                      0  ...   \n",
              "382861                         0                      0  ...   \n",
              "\n",
              "        CLASE_Turista Plus  CLASE_Turista PlusSólo plaza H  \\\n",
              "0                        0                               0   \n",
              "1                        0                               0   \n",
              "2                        0                               0   \n",
              "3                        0                               0   \n",
              "4                        0                               0   \n",
              "...                    ...                             ...   \n",
              "382857                   0                               0   \n",
              "382858                   0                               0   \n",
              "382859                   0                               0   \n",
              "382860                   0                               0   \n",
              "382861                   0                               0   \n",
              "\n",
              "        CLASE_Turista con enlace  CLASE_TuristaSólo plaza H  \\\n",
              "0                              0                          0   \n",
              "1                              0                          0   \n",
              "2                              0                          0   \n",
              "3                              0                          0   \n",
              "4                              0                          0   \n",
              "...                          ...                        ...   \n",
              "382857                         0                          0   \n",
              "382858                         0                          0   \n",
              "382859                         0                          0   \n",
              "382860                         0                          0   \n",
              "382861                         0                          0   \n",
              "\n",
              "        FECHA_INICIO_NOMBREDIA_Monday  FECHA_INICIO_NOMBREDIA_Saturday  \\\n",
              "0                                   0                                0   \n",
              "1                                   0                                0   \n",
              "2                                   0                                0   \n",
              "3                                   0                                0   \n",
              "4                                   0                                0   \n",
              "...                               ...                              ...   \n",
              "382857                              0                                0   \n",
              "382858                              1                                0   \n",
              "382859                              1                                0   \n",
              "382860                              0                                0   \n",
              "382861                              0                                0   \n",
              "\n",
              "        FECHA_INICIO_NOMBREDIA_Sunday  FECHA_INICIO_NOMBREDIA_Thursday  \\\n",
              "0                                   0                                0   \n",
              "1                                   1                                0   \n",
              "2                                   0                                1   \n",
              "3                                   0                                0   \n",
              "4                                   0                                0   \n",
              "...                               ...                              ...   \n",
              "382857                              0                                0   \n",
              "382858                              0                                0   \n",
              "382859                              0                                0   \n",
              "382860                              1                                0   \n",
              "382861                              1                                0   \n",
              "\n",
              "        FECHA_INICIO_NOMBREDIA_Tuesday  FECHA_INICIO_NOMBREDIA_Wednesday  \n",
              "0                                    0                                 0  \n",
              "1                                    0                                 0  \n",
              "2                                    0                                 0  \n",
              "3                                    0                                 1  \n",
              "4                                    0                                 1  \n",
              "...                                ...                               ...  \n",
              "382857                               0                                 0  \n",
              "382858                               0                                 0  \n",
              "382859                               0                                 0  \n",
              "382860                               0                                 0  \n",
              "382861                               0                                 0  \n",
              "\n",
              "[382862 rows x 52 columns]"
            ],
            "text/html": [
              "\n",
              "  <div id=\"df-158d091a-ca22-4fc2-aaba-b51dcc38e03d\">\n",
              "    <div class=\"colab-df-container\">\n",
              "      <div>\n",
              "<style scoped>\n",
              "    .dataframe tbody tr th:only-of-type {\n",
              "        vertical-align: middle;\n",
              "    }\n",
              "\n",
              "    .dataframe tbody tr th {\n",
              "        vertical-align: top;\n",
              "    }\n",
              "\n",
              "    .dataframe thead th {\n",
              "        text-align: right;\n",
              "    }\n",
              "</style>\n",
              "<table border=\"1\" class=\"dataframe\">\n",
              "  <thead>\n",
              "    <tr style=\"text-align: right;\">\n",
              "      <th></th>\n",
              "      <th>TIEMPO_VIAJE</th>\n",
              "      <th>DIF_INI_BUS</th>\n",
              "      <th>FECHA_INICIO_HORA</th>\n",
              "      <th>FECHA_INICIO_DIA</th>\n",
              "      <th>FECHA_INICIO_MES</th>\n",
              "      <th>FECHA_FIN_HORA</th>\n",
              "      <th>LOG_PRECIO</th>\n",
              "      <th>CIUDAD_ORIGEN_MADRID</th>\n",
              "      <th>CIUDAD_ORIGEN_PONFERRADA</th>\n",
              "      <th>CIUDAD_ORIGEN_SEVILLA</th>\n",
              "      <th>...</th>\n",
              "      <th>CLASE_Turista Plus</th>\n",
              "      <th>CLASE_Turista PlusSólo plaza H</th>\n",
              "      <th>CLASE_Turista con enlace</th>\n",
              "      <th>CLASE_TuristaSólo plaza H</th>\n",
              "      <th>FECHA_INICIO_NOMBREDIA_Monday</th>\n",
              "      <th>FECHA_INICIO_NOMBREDIA_Saturday</th>\n",
              "      <th>FECHA_INICIO_NOMBREDIA_Sunday</th>\n",
              "      <th>FECHA_INICIO_NOMBREDIA_Thursday</th>\n",
              "      <th>FECHA_INICIO_NOMBREDIA_Tuesday</th>\n",
              "      <th>FECHA_INICIO_NOMBREDIA_Wednesday</th>\n",
              "    </tr>\n",
              "  </thead>\n",
              "  <tbody>\n",
              "    <tr>\n",
              "      <th>0</th>\n",
              "      <td>0.092736</td>\n",
              "      <td>0.581690</td>\n",
              "      <td>0.90</td>\n",
              "      <td>0.900000</td>\n",
              "      <td>0.333333</td>\n",
              "      <td>1.000000</td>\n",
              "      <td>1.827369</td>\n",
              "      <td>0</td>\n",
              "      <td>0</td>\n",
              "      <td>1</td>\n",
              "      <td>...</td>\n",
              "      <td>0</td>\n",
              "      <td>0</td>\n",
              "      <td>0</td>\n",
              "      <td>0</td>\n",
              "      <td>0</td>\n",
              "      <td>0</td>\n",
              "      <td>0</td>\n",
              "      <td>0</td>\n",
              "      <td>0</td>\n",
              "      <td>0</td>\n",
              "    </tr>\n",
              "    <tr>\n",
              "      <th>1</th>\n",
              "      <td>0.142195</td>\n",
              "      <td>0.365667</td>\n",
              "      <td>0.40</td>\n",
              "      <td>0.433333</td>\n",
              "      <td>0.500000</td>\n",
              "      <td>0.565217</td>\n",
              "      <td>2.032216</td>\n",
              "      <td>0</td>\n",
              "      <td>0</td>\n",
              "      <td>0</td>\n",
              "      <td>...</td>\n",
              "      <td>0</td>\n",
              "      <td>0</td>\n",
              "      <td>0</td>\n",
              "      <td>0</td>\n",
              "      <td>0</td>\n",
              "      <td>0</td>\n",
              "      <td>1</td>\n",
              "      <td>0</td>\n",
              "      <td>0</td>\n",
              "      <td>0</td>\n",
              "    </tr>\n",
              "    <tr>\n",
              "      <th>2</th>\n",
              "      <td>0.080371</td>\n",
              "      <td>0.607046</td>\n",
              "      <td>0.55</td>\n",
              "      <td>0.733333</td>\n",
              "      <td>0.166667</td>\n",
              "      <td>0.695652</td>\n",
              "      <td>1.674861</td>\n",
              "      <td>0</td>\n",
              "      <td>0</td>\n",
              "      <td>1</td>\n",
              "      <td>...</td>\n",
              "      <td>0</td>\n",
              "      <td>0</td>\n",
              "      <td>0</td>\n",
              "      <td>0</td>\n",
              "      <td>0</td>\n",
              "      <td>0</td>\n",
              "      <td>0</td>\n",
              "      <td>1</td>\n",
              "      <td>0</td>\n",
              "      <td>0</td>\n",
              "    </tr>\n",
              "    <tr>\n",
              "      <th>3</th>\n",
              "      <td>0.559505</td>\n",
              "      <td>0.313087</td>\n",
              "      <td>0.60</td>\n",
              "      <td>0.933333</td>\n",
              "      <td>0.166667</td>\n",
              "      <td>0.956522</td>\n",
              "      <td>1.452553</td>\n",
              "      <td>0</td>\n",
              "      <td>0</td>\n",
              "      <td>0</td>\n",
              "      <td>...</td>\n",
              "      <td>0</td>\n",
              "      <td>0</td>\n",
              "      <td>0</td>\n",
              "      <td>0</td>\n",
              "      <td>0</td>\n",
              "      <td>0</td>\n",
              "      <td>0</td>\n",
              "      <td>0</td>\n",
              "      <td>0</td>\n",
              "      <td>1</td>\n",
              "    </tr>\n",
              "    <tr>\n",
              "      <th>4</th>\n",
              "      <td>0.125193</td>\n",
              "      <td>0.798297</td>\n",
              "      <td>0.55</td>\n",
              "      <td>0.833333</td>\n",
              "      <td>0.333333</td>\n",
              "      <td>0.695652</td>\n",
              "      <td>1.824451</td>\n",
              "      <td>1</td>\n",
              "      <td>0</td>\n",
              "      <td>0</td>\n",
              "      <td>...</td>\n",
              "      <td>0</td>\n",
              "      <td>0</td>\n",
              "      <td>0</td>\n",
              "      <td>0</td>\n",
              "      <td>0</td>\n",
              "      <td>0</td>\n",
              "      <td>0</td>\n",
              "      <td>0</td>\n",
              "      <td>0</td>\n",
              "      <td>1</td>\n",
              "    </tr>\n",
              "    <tr>\n",
              "      <th>...</th>\n",
              "      <td>...</td>\n",
              "      <td>...</td>\n",
              "      <td>...</td>\n",
              "      <td>...</td>\n",
              "      <td>...</td>\n",
              "      <td>...</td>\n",
              "      <td>...</td>\n",
              "      <td>...</td>\n",
              "      <td>...</td>\n",
              "      <td>...</td>\n",
              "      <td>...</td>\n",
              "      <td>...</td>\n",
              "      <td>...</td>\n",
              "      <td>...</td>\n",
              "      <td>...</td>\n",
              "      <td>...</td>\n",
              "      <td>...</td>\n",
              "      <td>...</td>\n",
              "      <td>...</td>\n",
              "      <td>...</td>\n",
              "      <td>...</td>\n",
              "    </tr>\n",
              "    <tr>\n",
              "      <th>382857</th>\n",
              "      <td>0.017002</td>\n",
              "      <td>0.076833</td>\n",
              "      <td>0.85</td>\n",
              "      <td>0.300000</td>\n",
              "      <td>0.166667</td>\n",
              "      <td>0.913043</td>\n",
              "      <td>1.863917</td>\n",
              "      <td>1</td>\n",
              "      <td>0</td>\n",
              "      <td>0</td>\n",
              "      <td>...</td>\n",
              "      <td>0</td>\n",
              "      <td>0</td>\n",
              "      <td>0</td>\n",
              "      <td>0</td>\n",
              "      <td>0</td>\n",
              "      <td>0</td>\n",
              "      <td>0</td>\n",
              "      <td>0</td>\n",
              "      <td>0</td>\n",
              "      <td>0</td>\n",
              "    </tr>\n",
              "    <tr>\n",
              "      <th>382858</th>\n",
              "      <td>0.142195</td>\n",
              "      <td>0.784704</td>\n",
              "      <td>0.90</td>\n",
              "      <td>0.133333</td>\n",
              "      <td>0.666667</td>\n",
              "      <td>1.000000</td>\n",
              "      <td>1.735998</td>\n",
              "      <td>0</td>\n",
              "      <td>0</td>\n",
              "      <td>0</td>\n",
              "      <td>...</td>\n",
              "      <td>0</td>\n",
              "      <td>0</td>\n",
              "      <td>0</td>\n",
              "      <td>0</td>\n",
              "      <td>1</td>\n",
              "      <td>0</td>\n",
              "      <td>0</td>\n",
              "      <td>0</td>\n",
              "      <td>0</td>\n",
              "      <td>0</td>\n",
              "    </tr>\n",
              "    <tr>\n",
              "      <th>382859</th>\n",
              "      <td>0.003091</td>\n",
              "      <td>0.078519</td>\n",
              "      <td>0.70</td>\n",
              "      <td>0.933333</td>\n",
              "      <td>0.000000</td>\n",
              "      <td>0.739130</td>\n",
              "      <td>1.444045</td>\n",
              "      <td>0</td>\n",
              "      <td>0</td>\n",
              "      <td>0</td>\n",
              "      <td>...</td>\n",
              "      <td>0</td>\n",
              "      <td>0</td>\n",
              "      <td>0</td>\n",
              "      <td>0</td>\n",
              "      <td>1</td>\n",
              "      <td>0</td>\n",
              "      <td>0</td>\n",
              "      <td>0</td>\n",
              "      <td>0</td>\n",
              "      <td>0</td>\n",
              "    </tr>\n",
              "    <tr>\n",
              "      <th>382860</th>\n",
              "      <td>0.066461</td>\n",
              "      <td>0.681369</td>\n",
              "      <td>0.65</td>\n",
              "      <td>0.200000</td>\n",
              "      <td>0.500000</td>\n",
              "      <td>0.739130</td>\n",
              "      <td>1.674861</td>\n",
              "      <td>1</td>\n",
              "      <td>0</td>\n",
              "      <td>0</td>\n",
              "      <td>...</td>\n",
              "      <td>0</td>\n",
              "      <td>0</td>\n",
              "      <td>0</td>\n",
              "      <td>0</td>\n",
              "      <td>0</td>\n",
              "      <td>0</td>\n",
              "      <td>1</td>\n",
              "      <td>0</td>\n",
              "      <td>0</td>\n",
              "      <td>0</td>\n",
              "    </tr>\n",
              "    <tr>\n",
              "      <th>382861</th>\n",
              "      <td>0.012365</td>\n",
              "      <td>0.336814</td>\n",
              "      <td>0.80</td>\n",
              "      <td>0.500000</td>\n",
              "      <td>0.333333</td>\n",
              "      <td>0.869565</td>\n",
              "      <td>1.863917</td>\n",
              "      <td>0</td>\n",
              "      <td>0</td>\n",
              "      <td>0</td>\n",
              "      <td>...</td>\n",
              "      <td>0</td>\n",
              "      <td>0</td>\n",
              "      <td>0</td>\n",
              "      <td>0</td>\n",
              "      <td>0</td>\n",
              "      <td>0</td>\n",
              "      <td>1</td>\n",
              "      <td>0</td>\n",
              "      <td>0</td>\n",
              "      <td>0</td>\n",
              "    </tr>\n",
              "  </tbody>\n",
              "</table>\n",
              "<p>382862 rows × 52 columns</p>\n",
              "</div>\n",
              "      <button class=\"colab-df-convert\" onclick=\"convertToInteractive('df-158d091a-ca22-4fc2-aaba-b51dcc38e03d')\"\n",
              "              title=\"Convert this dataframe to an interactive table.\"\n",
              "              style=\"display:none;\">\n",
              "        \n",
              "  <svg xmlns=\"http://www.w3.org/2000/svg\" height=\"24px\"viewBox=\"0 0 24 24\"\n",
              "       width=\"24px\">\n",
              "    <path d=\"M0 0h24v24H0V0z\" fill=\"none\"/>\n",
              "    <path d=\"M18.56 5.44l.94 2.06.94-2.06 2.06-.94-2.06-.94-.94-2.06-.94 2.06-2.06.94zm-11 1L8.5 8.5l.94-2.06 2.06-.94-2.06-.94L8.5 2.5l-.94 2.06-2.06.94zm10 10l.94 2.06.94-2.06 2.06-.94-2.06-.94-.94-2.06-.94 2.06-2.06.94z\"/><path d=\"M17.41 7.96l-1.37-1.37c-.4-.4-.92-.59-1.43-.59-.52 0-1.04.2-1.43.59L10.3 9.45l-7.72 7.72c-.78.78-.78 2.05 0 2.83L4 21.41c.39.39.9.59 1.41.59.51 0 1.02-.2 1.41-.59l7.78-7.78 2.81-2.81c.8-.78.8-2.07 0-2.86zM5.41 20L4 18.59l7.72-7.72 1.47 1.35L5.41 20z\"/>\n",
              "  </svg>\n",
              "      </button>\n",
              "      \n",
              "  <style>\n",
              "    .colab-df-container {\n",
              "      display:flex;\n",
              "      flex-wrap:wrap;\n",
              "      gap: 12px;\n",
              "    }\n",
              "\n",
              "    .colab-df-convert {\n",
              "      background-color: #E8F0FE;\n",
              "      border: none;\n",
              "      border-radius: 50%;\n",
              "      cursor: pointer;\n",
              "      display: none;\n",
              "      fill: #1967D2;\n",
              "      height: 32px;\n",
              "      padding: 0 0 0 0;\n",
              "      width: 32px;\n",
              "    }\n",
              "\n",
              "    .colab-df-convert:hover {\n",
              "      background-color: #E2EBFA;\n",
              "      box-shadow: 0px 1px 2px rgba(60, 64, 67, 0.3), 0px 1px 3px 1px rgba(60, 64, 67, 0.15);\n",
              "      fill: #174EA6;\n",
              "    }\n",
              "\n",
              "    [theme=dark] .colab-df-convert {\n",
              "      background-color: #3B4455;\n",
              "      fill: #D2E3FC;\n",
              "    }\n",
              "\n",
              "    [theme=dark] .colab-df-convert:hover {\n",
              "      background-color: #434B5C;\n",
              "      box-shadow: 0px 1px 3px 1px rgba(0, 0, 0, 0.15);\n",
              "      filter: drop-shadow(0px 1px 2px rgba(0, 0, 0, 0.3));\n",
              "      fill: #FFFFFF;\n",
              "    }\n",
              "  </style>\n",
              "\n",
              "      <script>\n",
              "        const buttonEl =\n",
              "          document.querySelector('#df-158d091a-ca22-4fc2-aaba-b51dcc38e03d button.colab-df-convert');\n",
              "        buttonEl.style.display =\n",
              "          google.colab.kernel.accessAllowed ? 'block' : 'none';\n",
              "\n",
              "        async function convertToInteractive(key) {\n",
              "          const element = document.querySelector('#df-158d091a-ca22-4fc2-aaba-b51dcc38e03d');\n",
              "          const dataTable =\n",
              "            await google.colab.kernel.invokeFunction('convertToInteractive',\n",
              "                                                     [key], {});\n",
              "          if (!dataTable) return;\n",
              "\n",
              "          const docLinkHtml = 'Like what you see? Visit the ' +\n",
              "            '<a target=\"_blank\" href=https://colab.research.google.com/notebooks/data_table.ipynb>data table notebook</a>'\n",
              "            + ' to learn more about interactive tables.';\n",
              "          element.innerHTML = '';\n",
              "          dataTable['output_type'] = 'display_data';\n",
              "          await google.colab.output.renderOutput(dataTable, element);\n",
              "          const docLink = document.createElement('div');\n",
              "          docLink.innerHTML = docLinkHtml;\n",
              "          element.appendChild(docLink);\n",
              "        }\n",
              "      </script>\n",
              "    </div>\n",
              "  </div>\n",
              "  "
            ]
          },
          "metadata": {},
          "execution_count": 72
        }
      ]
    },
    {
      "cell_type": "code",
      "metadata": {
        "id": "otH0-dMkpw5_"
      },
      "source": [
        "#hacemos el modelo, nos quedamos con el PRECIO. vamos a predecir el precio"
      ],
      "execution_count": 73,
      "outputs": []
    },
    {
      "cell_type": "code",
      "metadata": {
        "id": "bXYufGlYp-YZ"
      },
      "source": [
        "#PASO 1\n",
        "\n",
        "from sklearn.model_selection import train_test_split"
      ],
      "execution_count": 74,
      "outputs": []
    },
    {
      "cell_type": "code",
      "metadata": {
        "id": "IPSafTW_qSXt",
        "colab": {
          "base_uri": "https://localhost:8080/",
          "height": 522
        },
        "outputId": "582de91b-899a-48c9-9008-0a2448912630"
      },
      "source": [
        "df_renfe_final"
      ],
      "execution_count": 76,
      "outputs": [
        {
          "output_type": "execute_result",
          "data": {
            "text/plain": [
              "        TIEMPO_VIAJE  DIF_INI_BUS  FECHA_INICIO_HORA  FECHA_INICIO_DIA  \\\n",
              "0           0.092736     0.581690               0.90          0.900000   \n",
              "1           0.142195     0.365667               0.40          0.433333   \n",
              "2           0.080371     0.607046               0.55          0.733333   \n",
              "3           0.559505     0.313087               0.60          0.933333   \n",
              "4           0.125193     0.798297               0.55          0.833333   \n",
              "...              ...          ...                ...               ...   \n",
              "382857      0.017002     0.076833               0.85          0.300000   \n",
              "382858      0.142195     0.784704               0.90          0.133333   \n",
              "382859      0.003091     0.078519               0.70          0.933333   \n",
              "382860      0.066461     0.681369               0.65          0.200000   \n",
              "382861      0.012365     0.336814               0.80          0.500000   \n",
              "\n",
              "        FECHA_INICIO_MES  FECHA_FIN_HORA  LOG_PRECIO  CIUDAD_ORIGEN_MADRID  \\\n",
              "0               0.333333        1.000000    1.827369                     0   \n",
              "1               0.500000        0.565217    2.032216                     0   \n",
              "2               0.166667        0.695652    1.674861                     0   \n",
              "3               0.166667        0.956522    1.452553                     0   \n",
              "4               0.333333        0.695652    1.824451                     1   \n",
              "...                  ...             ...         ...                   ...   \n",
              "382857          0.166667        0.913043    1.863917                     1   \n",
              "382858          0.666667        1.000000    1.735998                     0   \n",
              "382859          0.000000        0.739130    1.444045                     0   \n",
              "382860          0.500000        0.739130    1.674861                     1   \n",
              "382861          0.333333        0.869565    1.863917                     0   \n",
              "\n",
              "        CIUDAD_ORIGEN_PONFERRADA  CIUDAD_ORIGEN_SEVILLA  ...  \\\n",
              "0                              0                      1  ...   \n",
              "1                              0                      0  ...   \n",
              "2                              0                      1  ...   \n",
              "3                              0                      0  ...   \n",
              "4                              0                      0  ...   \n",
              "...                          ...                    ...  ...   \n",
              "382857                         0                      0  ...   \n",
              "382858                         0                      0  ...   \n",
              "382859                         0                      0  ...   \n",
              "382860                         0                      0  ...   \n",
              "382861                         0                      0  ...   \n",
              "\n",
              "        CLASE_Turista Plus  CLASE_Turista PlusSólo plaza H  \\\n",
              "0                        0                               0   \n",
              "1                        0                               0   \n",
              "2                        0                               0   \n",
              "3                        0                               0   \n",
              "4                        0                               0   \n",
              "...                    ...                             ...   \n",
              "382857                   0                               0   \n",
              "382858                   0                               0   \n",
              "382859                   0                               0   \n",
              "382860                   0                               0   \n",
              "382861                   0                               0   \n",
              "\n",
              "        CLASE_Turista con enlace  CLASE_TuristaSólo plaza H  \\\n",
              "0                              0                          0   \n",
              "1                              0                          0   \n",
              "2                              0                          0   \n",
              "3                              0                          0   \n",
              "4                              0                          0   \n",
              "...                          ...                        ...   \n",
              "382857                         0                          0   \n",
              "382858                         0                          0   \n",
              "382859                         0                          0   \n",
              "382860                         0                          0   \n",
              "382861                         0                          0   \n",
              "\n",
              "        FECHA_INICIO_NOMBREDIA_Monday  FECHA_INICIO_NOMBREDIA_Saturday  \\\n",
              "0                                   0                                0   \n",
              "1                                   0                                0   \n",
              "2                                   0                                0   \n",
              "3                                   0                                0   \n",
              "4                                   0                                0   \n",
              "...                               ...                              ...   \n",
              "382857                              0                                0   \n",
              "382858                              1                                0   \n",
              "382859                              1                                0   \n",
              "382860                              0                                0   \n",
              "382861                              0                                0   \n",
              "\n",
              "        FECHA_INICIO_NOMBREDIA_Sunday  FECHA_INICIO_NOMBREDIA_Thursday  \\\n",
              "0                                   0                                0   \n",
              "1                                   1                                0   \n",
              "2                                   0                                1   \n",
              "3                                   0                                0   \n",
              "4                                   0                                0   \n",
              "...                               ...                              ...   \n",
              "382857                              0                                0   \n",
              "382858                              0                                0   \n",
              "382859                              0                                0   \n",
              "382860                              1                                0   \n",
              "382861                              1                                0   \n",
              "\n",
              "        FECHA_INICIO_NOMBREDIA_Tuesday  FECHA_INICIO_NOMBREDIA_Wednesday  \n",
              "0                                    0                                 0  \n",
              "1                                    0                                 0  \n",
              "2                                    0                                 0  \n",
              "3                                    0                                 1  \n",
              "4                                    0                                 1  \n",
              "...                                ...                               ...  \n",
              "382857                               0                                 0  \n",
              "382858                               0                                 0  \n",
              "382859                               0                                 0  \n",
              "382860                               0                                 0  \n",
              "382861                               0                                 0  \n",
              "\n",
              "[382862 rows x 52 columns]"
            ],
            "text/html": [
              "\n",
              "  <div id=\"df-812df524-0d4f-4897-85a9-eb2a2ffb7f74\">\n",
              "    <div class=\"colab-df-container\">\n",
              "      <div>\n",
              "<style scoped>\n",
              "    .dataframe tbody tr th:only-of-type {\n",
              "        vertical-align: middle;\n",
              "    }\n",
              "\n",
              "    .dataframe tbody tr th {\n",
              "        vertical-align: top;\n",
              "    }\n",
              "\n",
              "    .dataframe thead th {\n",
              "        text-align: right;\n",
              "    }\n",
              "</style>\n",
              "<table border=\"1\" class=\"dataframe\">\n",
              "  <thead>\n",
              "    <tr style=\"text-align: right;\">\n",
              "      <th></th>\n",
              "      <th>TIEMPO_VIAJE</th>\n",
              "      <th>DIF_INI_BUS</th>\n",
              "      <th>FECHA_INICIO_HORA</th>\n",
              "      <th>FECHA_INICIO_DIA</th>\n",
              "      <th>FECHA_INICIO_MES</th>\n",
              "      <th>FECHA_FIN_HORA</th>\n",
              "      <th>LOG_PRECIO</th>\n",
              "      <th>CIUDAD_ORIGEN_MADRID</th>\n",
              "      <th>CIUDAD_ORIGEN_PONFERRADA</th>\n",
              "      <th>CIUDAD_ORIGEN_SEVILLA</th>\n",
              "      <th>...</th>\n",
              "      <th>CLASE_Turista Plus</th>\n",
              "      <th>CLASE_Turista PlusSólo plaza H</th>\n",
              "      <th>CLASE_Turista con enlace</th>\n",
              "      <th>CLASE_TuristaSólo plaza H</th>\n",
              "      <th>FECHA_INICIO_NOMBREDIA_Monday</th>\n",
              "      <th>FECHA_INICIO_NOMBREDIA_Saturday</th>\n",
              "      <th>FECHA_INICIO_NOMBREDIA_Sunday</th>\n",
              "      <th>FECHA_INICIO_NOMBREDIA_Thursday</th>\n",
              "      <th>FECHA_INICIO_NOMBREDIA_Tuesday</th>\n",
              "      <th>FECHA_INICIO_NOMBREDIA_Wednesday</th>\n",
              "    </tr>\n",
              "  </thead>\n",
              "  <tbody>\n",
              "    <tr>\n",
              "      <th>0</th>\n",
              "      <td>0.092736</td>\n",
              "      <td>0.581690</td>\n",
              "      <td>0.90</td>\n",
              "      <td>0.900000</td>\n",
              "      <td>0.333333</td>\n",
              "      <td>1.000000</td>\n",
              "      <td>1.827369</td>\n",
              "      <td>0</td>\n",
              "      <td>0</td>\n",
              "      <td>1</td>\n",
              "      <td>...</td>\n",
              "      <td>0</td>\n",
              "      <td>0</td>\n",
              "      <td>0</td>\n",
              "      <td>0</td>\n",
              "      <td>0</td>\n",
              "      <td>0</td>\n",
              "      <td>0</td>\n",
              "      <td>0</td>\n",
              "      <td>0</td>\n",
              "      <td>0</td>\n",
              "    </tr>\n",
              "    <tr>\n",
              "      <th>1</th>\n",
              "      <td>0.142195</td>\n",
              "      <td>0.365667</td>\n",
              "      <td>0.40</td>\n",
              "      <td>0.433333</td>\n",
              "      <td>0.500000</td>\n",
              "      <td>0.565217</td>\n",
              "      <td>2.032216</td>\n",
              "      <td>0</td>\n",
              "      <td>0</td>\n",
              "      <td>0</td>\n",
              "      <td>...</td>\n",
              "      <td>0</td>\n",
              "      <td>0</td>\n",
              "      <td>0</td>\n",
              "      <td>0</td>\n",
              "      <td>0</td>\n",
              "      <td>0</td>\n",
              "      <td>1</td>\n",
              "      <td>0</td>\n",
              "      <td>0</td>\n",
              "      <td>0</td>\n",
              "    </tr>\n",
              "    <tr>\n",
              "      <th>2</th>\n",
              "      <td>0.080371</td>\n",
              "      <td>0.607046</td>\n",
              "      <td>0.55</td>\n",
              "      <td>0.733333</td>\n",
              "      <td>0.166667</td>\n",
              "      <td>0.695652</td>\n",
              "      <td>1.674861</td>\n",
              "      <td>0</td>\n",
              "      <td>0</td>\n",
              "      <td>1</td>\n",
              "      <td>...</td>\n",
              "      <td>0</td>\n",
              "      <td>0</td>\n",
              "      <td>0</td>\n",
              "      <td>0</td>\n",
              "      <td>0</td>\n",
              "      <td>0</td>\n",
              "      <td>0</td>\n",
              "      <td>1</td>\n",
              "      <td>0</td>\n",
              "      <td>0</td>\n",
              "    </tr>\n",
              "    <tr>\n",
              "      <th>3</th>\n",
              "      <td>0.559505</td>\n",
              "      <td>0.313087</td>\n",
              "      <td>0.60</td>\n",
              "      <td>0.933333</td>\n",
              "      <td>0.166667</td>\n",
              "      <td>0.956522</td>\n",
              "      <td>1.452553</td>\n",
              "      <td>0</td>\n",
              "      <td>0</td>\n",
              "      <td>0</td>\n",
              "      <td>...</td>\n",
              "      <td>0</td>\n",
              "      <td>0</td>\n",
              "      <td>0</td>\n",
              "      <td>0</td>\n",
              "      <td>0</td>\n",
              "      <td>0</td>\n",
              "      <td>0</td>\n",
              "      <td>0</td>\n",
              "      <td>0</td>\n",
              "      <td>1</td>\n",
              "    </tr>\n",
              "    <tr>\n",
              "      <th>4</th>\n",
              "      <td>0.125193</td>\n",
              "      <td>0.798297</td>\n",
              "      <td>0.55</td>\n",
              "      <td>0.833333</td>\n",
              "      <td>0.333333</td>\n",
              "      <td>0.695652</td>\n",
              "      <td>1.824451</td>\n",
              "      <td>1</td>\n",
              "      <td>0</td>\n",
              "      <td>0</td>\n",
              "      <td>...</td>\n",
              "      <td>0</td>\n",
              "      <td>0</td>\n",
              "      <td>0</td>\n",
              "      <td>0</td>\n",
              "      <td>0</td>\n",
              "      <td>0</td>\n",
              "      <td>0</td>\n",
              "      <td>0</td>\n",
              "      <td>0</td>\n",
              "      <td>1</td>\n",
              "    </tr>\n",
              "    <tr>\n",
              "      <th>...</th>\n",
              "      <td>...</td>\n",
              "      <td>...</td>\n",
              "      <td>...</td>\n",
              "      <td>...</td>\n",
              "      <td>...</td>\n",
              "      <td>...</td>\n",
              "      <td>...</td>\n",
              "      <td>...</td>\n",
              "      <td>...</td>\n",
              "      <td>...</td>\n",
              "      <td>...</td>\n",
              "      <td>...</td>\n",
              "      <td>...</td>\n",
              "      <td>...</td>\n",
              "      <td>...</td>\n",
              "      <td>...</td>\n",
              "      <td>...</td>\n",
              "      <td>...</td>\n",
              "      <td>...</td>\n",
              "      <td>...</td>\n",
              "      <td>...</td>\n",
              "    </tr>\n",
              "    <tr>\n",
              "      <th>382857</th>\n",
              "      <td>0.017002</td>\n",
              "      <td>0.076833</td>\n",
              "      <td>0.85</td>\n",
              "      <td>0.300000</td>\n",
              "      <td>0.166667</td>\n",
              "      <td>0.913043</td>\n",
              "      <td>1.863917</td>\n",
              "      <td>1</td>\n",
              "      <td>0</td>\n",
              "      <td>0</td>\n",
              "      <td>...</td>\n",
              "      <td>0</td>\n",
              "      <td>0</td>\n",
              "      <td>0</td>\n",
              "      <td>0</td>\n",
              "      <td>0</td>\n",
              "      <td>0</td>\n",
              "      <td>0</td>\n",
              "      <td>0</td>\n",
              "      <td>0</td>\n",
              "      <td>0</td>\n",
              "    </tr>\n",
              "    <tr>\n",
              "      <th>382858</th>\n",
              "      <td>0.142195</td>\n",
              "      <td>0.784704</td>\n",
              "      <td>0.90</td>\n",
              "      <td>0.133333</td>\n",
              "      <td>0.666667</td>\n",
              "      <td>1.000000</td>\n",
              "      <td>1.735998</td>\n",
              "      <td>0</td>\n",
              "      <td>0</td>\n",
              "      <td>0</td>\n",
              "      <td>...</td>\n",
              "      <td>0</td>\n",
              "      <td>0</td>\n",
              "      <td>0</td>\n",
              "      <td>0</td>\n",
              "      <td>1</td>\n",
              "      <td>0</td>\n",
              "      <td>0</td>\n",
              "      <td>0</td>\n",
              "      <td>0</td>\n",
              "      <td>0</td>\n",
              "    </tr>\n",
              "    <tr>\n",
              "      <th>382859</th>\n",
              "      <td>0.003091</td>\n",
              "      <td>0.078519</td>\n",
              "      <td>0.70</td>\n",
              "      <td>0.933333</td>\n",
              "      <td>0.000000</td>\n",
              "      <td>0.739130</td>\n",
              "      <td>1.444045</td>\n",
              "      <td>0</td>\n",
              "      <td>0</td>\n",
              "      <td>0</td>\n",
              "      <td>...</td>\n",
              "      <td>0</td>\n",
              "      <td>0</td>\n",
              "      <td>0</td>\n",
              "      <td>0</td>\n",
              "      <td>1</td>\n",
              "      <td>0</td>\n",
              "      <td>0</td>\n",
              "      <td>0</td>\n",
              "      <td>0</td>\n",
              "      <td>0</td>\n",
              "    </tr>\n",
              "    <tr>\n",
              "      <th>382860</th>\n",
              "      <td>0.066461</td>\n",
              "      <td>0.681369</td>\n",
              "      <td>0.65</td>\n",
              "      <td>0.200000</td>\n",
              "      <td>0.500000</td>\n",
              "      <td>0.739130</td>\n",
              "      <td>1.674861</td>\n",
              "      <td>1</td>\n",
              "      <td>0</td>\n",
              "      <td>0</td>\n",
              "      <td>...</td>\n",
              "      <td>0</td>\n",
              "      <td>0</td>\n",
              "      <td>0</td>\n",
              "      <td>0</td>\n",
              "      <td>0</td>\n",
              "      <td>0</td>\n",
              "      <td>1</td>\n",
              "      <td>0</td>\n",
              "      <td>0</td>\n",
              "      <td>0</td>\n",
              "    </tr>\n",
              "    <tr>\n",
              "      <th>382861</th>\n",
              "      <td>0.012365</td>\n",
              "      <td>0.336814</td>\n",
              "      <td>0.80</td>\n",
              "      <td>0.500000</td>\n",
              "      <td>0.333333</td>\n",
              "      <td>0.869565</td>\n",
              "      <td>1.863917</td>\n",
              "      <td>0</td>\n",
              "      <td>0</td>\n",
              "      <td>0</td>\n",
              "      <td>...</td>\n",
              "      <td>0</td>\n",
              "      <td>0</td>\n",
              "      <td>0</td>\n",
              "      <td>0</td>\n",
              "      <td>0</td>\n",
              "      <td>0</td>\n",
              "      <td>1</td>\n",
              "      <td>0</td>\n",
              "      <td>0</td>\n",
              "      <td>0</td>\n",
              "    </tr>\n",
              "  </tbody>\n",
              "</table>\n",
              "<p>382862 rows × 52 columns</p>\n",
              "</div>\n",
              "      <button class=\"colab-df-convert\" onclick=\"convertToInteractive('df-812df524-0d4f-4897-85a9-eb2a2ffb7f74')\"\n",
              "              title=\"Convert this dataframe to an interactive table.\"\n",
              "              style=\"display:none;\">\n",
              "        \n",
              "  <svg xmlns=\"http://www.w3.org/2000/svg\" height=\"24px\"viewBox=\"0 0 24 24\"\n",
              "       width=\"24px\">\n",
              "    <path d=\"M0 0h24v24H0V0z\" fill=\"none\"/>\n",
              "    <path d=\"M18.56 5.44l.94 2.06.94-2.06 2.06-.94-2.06-.94-.94-2.06-.94 2.06-2.06.94zm-11 1L8.5 8.5l.94-2.06 2.06-.94-2.06-.94L8.5 2.5l-.94 2.06-2.06.94zm10 10l.94 2.06.94-2.06 2.06-.94-2.06-.94-.94-2.06-.94 2.06-2.06.94z\"/><path d=\"M17.41 7.96l-1.37-1.37c-.4-.4-.92-.59-1.43-.59-.52 0-1.04.2-1.43.59L10.3 9.45l-7.72 7.72c-.78.78-.78 2.05 0 2.83L4 21.41c.39.39.9.59 1.41.59.51 0 1.02-.2 1.41-.59l7.78-7.78 2.81-2.81c.8-.78.8-2.07 0-2.86zM5.41 20L4 18.59l7.72-7.72 1.47 1.35L5.41 20z\"/>\n",
              "  </svg>\n",
              "      </button>\n",
              "      \n",
              "  <style>\n",
              "    .colab-df-container {\n",
              "      display:flex;\n",
              "      flex-wrap:wrap;\n",
              "      gap: 12px;\n",
              "    }\n",
              "\n",
              "    .colab-df-convert {\n",
              "      background-color: #E8F0FE;\n",
              "      border: none;\n",
              "      border-radius: 50%;\n",
              "      cursor: pointer;\n",
              "      display: none;\n",
              "      fill: #1967D2;\n",
              "      height: 32px;\n",
              "      padding: 0 0 0 0;\n",
              "      width: 32px;\n",
              "    }\n",
              "\n",
              "    .colab-df-convert:hover {\n",
              "      background-color: #E2EBFA;\n",
              "      box-shadow: 0px 1px 2px rgba(60, 64, 67, 0.3), 0px 1px 3px 1px rgba(60, 64, 67, 0.15);\n",
              "      fill: #174EA6;\n",
              "    }\n",
              "\n",
              "    [theme=dark] .colab-df-convert {\n",
              "      background-color: #3B4455;\n",
              "      fill: #D2E3FC;\n",
              "    }\n",
              "\n",
              "    [theme=dark] .colab-df-convert:hover {\n",
              "      background-color: #434B5C;\n",
              "      box-shadow: 0px 1px 3px 1px rgba(0, 0, 0, 0.15);\n",
              "      filter: drop-shadow(0px 1px 2px rgba(0, 0, 0, 0.3));\n",
              "      fill: #FFFFFF;\n",
              "    }\n",
              "  </style>\n",
              "\n",
              "      <script>\n",
              "        const buttonEl =\n",
              "          document.querySelector('#df-812df524-0d4f-4897-85a9-eb2a2ffb7f74 button.colab-df-convert');\n",
              "        buttonEl.style.display =\n",
              "          google.colab.kernel.accessAllowed ? 'block' : 'none';\n",
              "\n",
              "        async function convertToInteractive(key) {\n",
              "          const element = document.querySelector('#df-812df524-0d4f-4897-85a9-eb2a2ffb7f74');\n",
              "          const dataTable =\n",
              "            await google.colab.kernel.invokeFunction('convertToInteractive',\n",
              "                                                     [key], {});\n",
              "          if (!dataTable) return;\n",
              "\n",
              "          const docLinkHtml = 'Like what you see? Visit the ' +\n",
              "            '<a target=\"_blank\" href=https://colab.research.google.com/notebooks/data_table.ipynb>data table notebook</a>'\n",
              "            + ' to learn more about interactive tables.';\n",
              "          element.innerHTML = '';\n",
              "          dataTable['output_type'] = 'display_data';\n",
              "          await google.colab.output.renderOutput(dataTable, element);\n",
              "          const docLink = document.createElement('div');\n",
              "          docLink.innerHTML = docLinkHtml;\n",
              "          element.appendChild(docLink);\n",
              "        }\n",
              "      </script>\n",
              "    </div>\n",
              "  </div>\n",
              "  "
            ]
          },
          "metadata": {},
          "execution_count": 76
        }
      ]
    },
    {
      "cell_type": "code",
      "metadata": {
        "id": "Zm4yqiRCpwy_"
      },
      "source": [
        "#x son las variables independientes y las variables y las dependientes\n",
        "X= df_renfe_final.drop(\"LOG_PRECIO\", axis=1)"
      ],
      "execution_count": 77,
      "outputs": []
    },
    {
      "cell_type": "code",
      "metadata": {
        "id": "sg8TXWo1pwnt"
      },
      "source": [
        "y= df_renfe_final[\"LOG_PRECIO\"]"
      ],
      "execution_count": 78,
      "outputs": []
    },
    {
      "cell_type": "code",
      "metadata": {
        "id": "XTgihq6cq02g"
      },
      "source": [
        "X_train, X_test, y_train, y_test= train_test_split(X,y,test_size=0.3, random_state=23) #el 30% para test i 70% para train"
      ],
      "execution_count": 79,
      "outputs": []
    },
    {
      "cell_type": "code",
      "metadata": {
        "id": "OiupGOX3rMnK"
      },
      "source": [
        "from sklearn.linear_model import LinearRegression"
      ],
      "execution_count": 80,
      "outputs": []
    },
    {
      "cell_type": "code",
      "metadata": {
        "id": "zaH_xI9UrWde"
      },
      "source": [
        "lin_reg= LinearRegression()"
      ],
      "execution_count": 81,
      "outputs": []
    },
    {
      "cell_type": "code",
      "metadata": {
        "colab": {
          "base_uri": "https://localhost:8080/"
        },
        "id": "A3aHW3-yrb7A",
        "outputId": "60d95a0a-e3ff-40a6-f5d8-80b5cb755bea"
      },
      "source": [
        "lin_reg.fit(X_train,y_train) #el modelo entrena con estos datos. el model"
      ],
      "execution_count": 82,
      "outputs": [
        {
          "output_type": "execute_result",
          "data": {
            "text/plain": [
              "LinearRegression()"
            ]
          },
          "metadata": {},
          "execution_count": 82
        }
      ]
    },
    {
      "cell_type": "code",
      "metadata": {
        "id": "2DCqVSnirlGd"
      },
      "source": [
        "y_pred= lin_reg.predict(X_test)"
      ],
      "execution_count": 83,
      "outputs": []
    },
    {
      "cell_type": "code",
      "metadata": {
        "colab": {
          "base_uri": "https://localhost:8080/"
        },
        "id": "ijoVtpbjsMZx",
        "outputId": "f060b5cc-fbce-4cf7-cc95-6dd19b2c58a1"
      },
      "source": [
        "y_pred"
      ],
      "execution_count": 84,
      "outputs": [
        {
          "output_type": "execute_result",
          "data": {
            "text/plain": [
              "array([1.64407249, 1.55672598, 1.87127517, ..., 1.58998403, 1.83139216,\n",
              "       1.67158918])"
            ]
          },
          "metadata": {},
          "execution_count": 84
        }
      ]
    },
    {
      "cell_type": "code",
      "metadata": {
        "colab": {
          "base_uri": "https://localhost:8080/"
        },
        "id": "OBIPWWG_sMpc",
        "outputId": "0291840c-c898-4ea0-d54b-026e6ef65852"
      },
      "source": [
        "y_test"
      ],
      "execution_count": 85,
      "outputs": [
        {
          "output_type": "execute_result",
          "data": {
            "text/plain": [
              "49240     1.614897\n",
              "225152    1.761552\n",
              "354161    1.896526\n",
              "86496     2.001734\n",
              "175792    1.462398\n",
              "            ...   \n",
              "87925     1.991226\n",
              "338341    1.788216\n",
              "203251    1.656098\n",
              "137768    1.841359\n",
              "294158    1.614897\n",
              "Name: LOG_PRECIO, Length: 114859, dtype: float64"
            ]
          },
          "metadata": {},
          "execution_count": 85
        }
      ]
    },
    {
      "cell_type": "code",
      "metadata": {
        "id": "mMNjMIENsMxT"
      },
      "source": [
        "df_resultados= pd.DataFrame({\"Actual\": y_test, \"Predicted\": y_pred}).apply(lambda x: 10**x) #como habiamos hecho la log10, revertimos el logaritmo"
      ],
      "execution_count": 86,
      "outputs": []
    },
    {
      "cell_type": "code",
      "metadata": {
        "colab": {
          "base_uri": "https://localhost:8080/",
          "height": 423
        },
        "id": "_EKZekoNsfHn",
        "outputId": "8301c721-fdae-422e-94ed-0cff12739e44"
      },
      "source": [
        "df_resultados"
      ],
      "execution_count": 87,
      "outputs": [
        {
          "output_type": "execute_result",
          "data": {
            "text/plain": [
              "            Actual   Predicted\n",
              "49240    41.200000   44.062840\n",
              "225152   57.750000   36.035120\n",
              "354161   78.800000   74.349007\n",
              "86496   100.400000   75.577205\n",
              "175792   29.000000   45.410015\n",
              "...            ...         ...\n",
              "87925    98.000000   99.962896\n",
              "338341   61.406744  116.591348\n",
              "203251   45.300000   38.903084\n",
              "137768   69.400000   67.825368\n",
              "294158   41.200000   46.944982\n",
              "\n",
              "[114859 rows x 2 columns]"
            ],
            "text/html": [
              "\n",
              "  <div id=\"df-2d0b708e-7a4c-4b69-8c55-da9c7bfbe680\">\n",
              "    <div class=\"colab-df-container\">\n",
              "      <div>\n",
              "<style scoped>\n",
              "    .dataframe tbody tr th:only-of-type {\n",
              "        vertical-align: middle;\n",
              "    }\n",
              "\n",
              "    .dataframe tbody tr th {\n",
              "        vertical-align: top;\n",
              "    }\n",
              "\n",
              "    .dataframe thead th {\n",
              "        text-align: right;\n",
              "    }\n",
              "</style>\n",
              "<table border=\"1\" class=\"dataframe\">\n",
              "  <thead>\n",
              "    <tr style=\"text-align: right;\">\n",
              "      <th></th>\n",
              "      <th>Actual</th>\n",
              "      <th>Predicted</th>\n",
              "    </tr>\n",
              "  </thead>\n",
              "  <tbody>\n",
              "    <tr>\n",
              "      <th>49240</th>\n",
              "      <td>41.200000</td>\n",
              "      <td>44.062840</td>\n",
              "    </tr>\n",
              "    <tr>\n",
              "      <th>225152</th>\n",
              "      <td>57.750000</td>\n",
              "      <td>36.035120</td>\n",
              "    </tr>\n",
              "    <tr>\n",
              "      <th>354161</th>\n",
              "      <td>78.800000</td>\n",
              "      <td>74.349007</td>\n",
              "    </tr>\n",
              "    <tr>\n",
              "      <th>86496</th>\n",
              "      <td>100.400000</td>\n",
              "      <td>75.577205</td>\n",
              "    </tr>\n",
              "    <tr>\n",
              "      <th>175792</th>\n",
              "      <td>29.000000</td>\n",
              "      <td>45.410015</td>\n",
              "    </tr>\n",
              "    <tr>\n",
              "      <th>...</th>\n",
              "      <td>...</td>\n",
              "      <td>...</td>\n",
              "    </tr>\n",
              "    <tr>\n",
              "      <th>87925</th>\n",
              "      <td>98.000000</td>\n",
              "      <td>99.962896</td>\n",
              "    </tr>\n",
              "    <tr>\n",
              "      <th>338341</th>\n",
              "      <td>61.406744</td>\n",
              "      <td>116.591348</td>\n",
              "    </tr>\n",
              "    <tr>\n",
              "      <th>203251</th>\n",
              "      <td>45.300000</td>\n",
              "      <td>38.903084</td>\n",
              "    </tr>\n",
              "    <tr>\n",
              "      <th>137768</th>\n",
              "      <td>69.400000</td>\n",
              "      <td>67.825368</td>\n",
              "    </tr>\n",
              "    <tr>\n",
              "      <th>294158</th>\n",
              "      <td>41.200000</td>\n",
              "      <td>46.944982</td>\n",
              "    </tr>\n",
              "  </tbody>\n",
              "</table>\n",
              "<p>114859 rows × 2 columns</p>\n",
              "</div>\n",
              "      <button class=\"colab-df-convert\" onclick=\"convertToInteractive('df-2d0b708e-7a4c-4b69-8c55-da9c7bfbe680')\"\n",
              "              title=\"Convert this dataframe to an interactive table.\"\n",
              "              style=\"display:none;\">\n",
              "        \n",
              "  <svg xmlns=\"http://www.w3.org/2000/svg\" height=\"24px\"viewBox=\"0 0 24 24\"\n",
              "       width=\"24px\">\n",
              "    <path d=\"M0 0h24v24H0V0z\" fill=\"none\"/>\n",
              "    <path d=\"M18.56 5.44l.94 2.06.94-2.06 2.06-.94-2.06-.94-.94-2.06-.94 2.06-2.06.94zm-11 1L8.5 8.5l.94-2.06 2.06-.94-2.06-.94L8.5 2.5l-.94 2.06-2.06.94zm10 10l.94 2.06.94-2.06 2.06-.94-2.06-.94-.94-2.06-.94 2.06-2.06.94z\"/><path d=\"M17.41 7.96l-1.37-1.37c-.4-.4-.92-.59-1.43-.59-.52 0-1.04.2-1.43.59L10.3 9.45l-7.72 7.72c-.78.78-.78 2.05 0 2.83L4 21.41c.39.39.9.59 1.41.59.51 0 1.02-.2 1.41-.59l7.78-7.78 2.81-2.81c.8-.78.8-2.07 0-2.86zM5.41 20L4 18.59l7.72-7.72 1.47 1.35L5.41 20z\"/>\n",
              "  </svg>\n",
              "      </button>\n",
              "      \n",
              "  <style>\n",
              "    .colab-df-container {\n",
              "      display:flex;\n",
              "      flex-wrap:wrap;\n",
              "      gap: 12px;\n",
              "    }\n",
              "\n",
              "    .colab-df-convert {\n",
              "      background-color: #E8F0FE;\n",
              "      border: none;\n",
              "      border-radius: 50%;\n",
              "      cursor: pointer;\n",
              "      display: none;\n",
              "      fill: #1967D2;\n",
              "      height: 32px;\n",
              "      padding: 0 0 0 0;\n",
              "      width: 32px;\n",
              "    }\n",
              "\n",
              "    .colab-df-convert:hover {\n",
              "      background-color: #E2EBFA;\n",
              "      box-shadow: 0px 1px 2px rgba(60, 64, 67, 0.3), 0px 1px 3px 1px rgba(60, 64, 67, 0.15);\n",
              "      fill: #174EA6;\n",
              "    }\n",
              "\n",
              "    [theme=dark] .colab-df-convert {\n",
              "      background-color: #3B4455;\n",
              "      fill: #D2E3FC;\n",
              "    }\n",
              "\n",
              "    [theme=dark] .colab-df-convert:hover {\n",
              "      background-color: #434B5C;\n",
              "      box-shadow: 0px 1px 3px 1px rgba(0, 0, 0, 0.15);\n",
              "      filter: drop-shadow(0px 1px 2px rgba(0, 0, 0, 0.3));\n",
              "      fill: #FFFFFF;\n",
              "    }\n",
              "  </style>\n",
              "\n",
              "      <script>\n",
              "        const buttonEl =\n",
              "          document.querySelector('#df-2d0b708e-7a4c-4b69-8c55-da9c7bfbe680 button.colab-df-convert');\n",
              "        buttonEl.style.display =\n",
              "          google.colab.kernel.accessAllowed ? 'block' : 'none';\n",
              "\n",
              "        async function convertToInteractive(key) {\n",
              "          const element = document.querySelector('#df-2d0b708e-7a4c-4b69-8c55-da9c7bfbe680');\n",
              "          const dataTable =\n",
              "            await google.colab.kernel.invokeFunction('convertToInteractive',\n",
              "                                                     [key], {});\n",
              "          if (!dataTable) return;\n",
              "\n",
              "          const docLinkHtml = 'Like what you see? Visit the ' +\n",
              "            '<a target=\"_blank\" href=https://colab.research.google.com/notebooks/data_table.ipynb>data table notebook</a>'\n",
              "            + ' to learn more about interactive tables.';\n",
              "          element.innerHTML = '';\n",
              "          dataTable['output_type'] = 'display_data';\n",
              "          await google.colab.output.renderOutput(dataTable, element);\n",
              "          const docLink = document.createElement('div');\n",
              "          docLink.innerHTML = docLinkHtml;\n",
              "          element.appendChild(docLink);\n",
              "        }\n",
              "      </script>\n",
              "    </div>\n",
              "  </div>\n",
              "  "
            ]
          },
          "metadata": {},
          "execution_count": 87
        }
      ]
    }
  ]
}